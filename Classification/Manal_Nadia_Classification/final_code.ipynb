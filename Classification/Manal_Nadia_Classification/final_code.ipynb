{
 "cells": [
  {
   "cell_type": "code",
   "execution_count": 1,
   "id": "0b577feb",
   "metadata": {},
   "outputs": [],
   "source": [
    "import pandas as pd\n",
    "import matplotlib.pyplot as plt\n",
    "import seaborn as sns\n",
    "from sklearn.model_selection import train_test_split\n",
    "from sklearn.neighbors import KNeighborsClassifier\n",
    "from sklearn.linear_model import LogisticRegression\n",
    "from sklearn.tree import DecisionTreeClassifier\n",
    "from sklearn.ensemble import RandomForestClassifier\n",
    "from sklearn.preprocessing import StandardScaler\n",
    "from sklearn import metrics\n",
    "from imblearn.over_sampling import SMOTE\n",
    "from imblearn.over_sampling import RandomOverSampler\n",
    "from sklearn.metrics import roc_auc_score, roc_curve\n",
    "from sklearn.metrics import classification_report"
   ]
  },
  {
   "cell_type": "markdown",
   "id": "b18d0fc7",
   "metadata": {},
   "source": [
    "# Importing Data "
   ]
  },
  {
   "cell_type": "code",
   "execution_count": 2,
   "id": "11f1453f",
   "metadata": {},
   "outputs": [],
   "source": [
    "#Read Datasets\n",
    "df_aisles = pd.read_csv('aisles.csv')\n",
    "df_dept = pd.read_csv('departments.csv')\n",
    "df_prod = pd.read_csv('products.csv')\n",
    "df_orders = pd.read_csv('orders.csv')\n",
    "df_order_prod_prior = pd.read_csv('order_products__prior.csv')\n",
    "df_order_prod_train = pd.read_csv('order_products__train.csv')"
   ]
  },
  {
   "cell_type": "code",
   "execution_count": 3,
   "id": "5dac6e0d",
   "metadata": {},
   "outputs": [
    {
     "data": {
      "text/html": [
       "<div>\n",
       "<style scoped>\n",
       "    .dataframe tbody tr th:only-of-type {\n",
       "        vertical-align: middle;\n",
       "    }\n",
       "\n",
       "    .dataframe tbody tr th {\n",
       "        vertical-align: top;\n",
       "    }\n",
       "\n",
       "    .dataframe thead th {\n",
       "        text-align: right;\n",
       "    }\n",
       "</style>\n",
       "<table border=\"1\" class=\"dataframe\">\n",
       "  <thead>\n",
       "    <tr style=\"text-align: right;\">\n",
       "      <th></th>\n",
       "      <th>aisle_id</th>\n",
       "      <th>aisle</th>\n",
       "    </tr>\n",
       "  </thead>\n",
       "  <tbody>\n",
       "    <tr>\n",
       "      <th>0</th>\n",
       "      <td>1</td>\n",
       "      <td>prepared soups salads</td>\n",
       "    </tr>\n",
       "    <tr>\n",
       "      <th>1</th>\n",
       "      <td>2</td>\n",
       "      <td>specialty cheeses</td>\n",
       "    </tr>\n",
       "    <tr>\n",
       "      <th>2</th>\n",
       "      <td>3</td>\n",
       "      <td>energy granola bars</td>\n",
       "    </tr>\n",
       "    <tr>\n",
       "      <th>3</th>\n",
       "      <td>4</td>\n",
       "      <td>instant foods</td>\n",
       "    </tr>\n",
       "    <tr>\n",
       "      <th>4</th>\n",
       "      <td>5</td>\n",
       "      <td>marinades meat preparation</td>\n",
       "    </tr>\n",
       "  </tbody>\n",
       "</table>\n",
       "</div>"
      ],
      "text/plain": [
       "   aisle_id                       aisle\n",
       "0         1       prepared soups salads\n",
       "1         2           specialty cheeses\n",
       "2         3         energy granola bars\n",
       "3         4               instant foods\n",
       "4         5  marinades meat preparation"
      ]
     },
     "execution_count": 3,
     "metadata": {},
     "output_type": "execute_result"
    }
   ],
   "source": [
    "df_aisles.head()"
   ]
  },
  {
   "cell_type": "code",
   "execution_count": 4,
   "id": "385b17e6",
   "metadata": {},
   "outputs": [
    {
     "data": {
      "text/html": [
       "<div>\n",
       "<style scoped>\n",
       "    .dataframe tbody tr th:only-of-type {\n",
       "        vertical-align: middle;\n",
       "    }\n",
       "\n",
       "    .dataframe tbody tr th {\n",
       "        vertical-align: top;\n",
       "    }\n",
       "\n",
       "    .dataframe thead th {\n",
       "        text-align: right;\n",
       "    }\n",
       "</style>\n",
       "<table border=\"1\" class=\"dataframe\">\n",
       "  <thead>\n",
       "    <tr style=\"text-align: right;\">\n",
       "      <th></th>\n",
       "      <th>department_id</th>\n",
       "      <th>department</th>\n",
       "    </tr>\n",
       "  </thead>\n",
       "  <tbody>\n",
       "    <tr>\n",
       "      <th>0</th>\n",
       "      <td>1</td>\n",
       "      <td>frozen</td>\n",
       "    </tr>\n",
       "    <tr>\n",
       "      <th>1</th>\n",
       "      <td>2</td>\n",
       "      <td>other</td>\n",
       "    </tr>\n",
       "    <tr>\n",
       "      <th>2</th>\n",
       "      <td>3</td>\n",
       "      <td>bakery</td>\n",
       "    </tr>\n",
       "    <tr>\n",
       "      <th>3</th>\n",
       "      <td>4</td>\n",
       "      <td>produce</td>\n",
       "    </tr>\n",
       "    <tr>\n",
       "      <th>4</th>\n",
       "      <td>5</td>\n",
       "      <td>alcohol</td>\n",
       "    </tr>\n",
       "  </tbody>\n",
       "</table>\n",
       "</div>"
      ],
      "text/plain": [
       "   department_id department\n",
       "0              1     frozen\n",
       "1              2      other\n",
       "2              3     bakery\n",
       "3              4    produce\n",
       "4              5    alcohol"
      ]
     },
     "execution_count": 4,
     "metadata": {},
     "output_type": "execute_result"
    }
   ],
   "source": [
    "df_dept.head()"
   ]
  },
  {
   "cell_type": "code",
   "execution_count": 5,
   "id": "c10c6312",
   "metadata": {},
   "outputs": [
    {
     "data": {
      "text/html": [
       "<div>\n",
       "<style scoped>\n",
       "    .dataframe tbody tr th:only-of-type {\n",
       "        vertical-align: middle;\n",
       "    }\n",
       "\n",
       "    .dataframe tbody tr th {\n",
       "        vertical-align: top;\n",
       "    }\n",
       "\n",
       "    .dataframe thead th {\n",
       "        text-align: right;\n",
       "    }\n",
       "</style>\n",
       "<table border=\"1\" class=\"dataframe\">\n",
       "  <thead>\n",
       "    <tr style=\"text-align: right;\">\n",
       "      <th></th>\n",
       "      <th>product_id</th>\n",
       "      <th>product_name</th>\n",
       "      <th>aisle_id</th>\n",
       "      <th>department_id</th>\n",
       "    </tr>\n",
       "  </thead>\n",
       "  <tbody>\n",
       "    <tr>\n",
       "      <th>0</th>\n",
       "      <td>1</td>\n",
       "      <td>Chocolate Sandwich Cookies</td>\n",
       "      <td>61</td>\n",
       "      <td>19</td>\n",
       "    </tr>\n",
       "    <tr>\n",
       "      <th>1</th>\n",
       "      <td>2</td>\n",
       "      <td>All-Seasons Salt</td>\n",
       "      <td>104</td>\n",
       "      <td>13</td>\n",
       "    </tr>\n",
       "    <tr>\n",
       "      <th>2</th>\n",
       "      <td>3</td>\n",
       "      <td>Robust Golden Unsweetened Oolong Tea</td>\n",
       "      <td>94</td>\n",
       "      <td>7</td>\n",
       "    </tr>\n",
       "    <tr>\n",
       "      <th>3</th>\n",
       "      <td>4</td>\n",
       "      <td>Smart Ones Classic Favorites Mini Rigatoni Wit...</td>\n",
       "      <td>38</td>\n",
       "      <td>1</td>\n",
       "    </tr>\n",
       "    <tr>\n",
       "      <th>4</th>\n",
       "      <td>5</td>\n",
       "      <td>Green Chile Anytime Sauce</td>\n",
       "      <td>5</td>\n",
       "      <td>13</td>\n",
       "    </tr>\n",
       "  </tbody>\n",
       "</table>\n",
       "</div>"
      ],
      "text/plain": [
       "   product_id                                       product_name  aisle_id  \\\n",
       "0           1                         Chocolate Sandwich Cookies        61   \n",
       "1           2                                   All-Seasons Salt       104   \n",
       "2           3               Robust Golden Unsweetened Oolong Tea        94   \n",
       "3           4  Smart Ones Classic Favorites Mini Rigatoni Wit...        38   \n",
       "4           5                          Green Chile Anytime Sauce         5   \n",
       "\n",
       "   department_id  \n",
       "0             19  \n",
       "1             13  \n",
       "2              7  \n",
       "3              1  \n",
       "4             13  "
      ]
     },
     "execution_count": 5,
     "metadata": {},
     "output_type": "execute_result"
    }
   ],
   "source": [
    "df_prod.head()"
   ]
  },
  {
   "cell_type": "code",
   "execution_count": 6,
   "id": "bc6ff56c",
   "metadata": {},
   "outputs": [
    {
     "data": {
      "text/html": [
       "<div>\n",
       "<style scoped>\n",
       "    .dataframe tbody tr th:only-of-type {\n",
       "        vertical-align: middle;\n",
       "    }\n",
       "\n",
       "    .dataframe tbody tr th {\n",
       "        vertical-align: top;\n",
       "    }\n",
       "\n",
       "    .dataframe thead th {\n",
       "        text-align: right;\n",
       "    }\n",
       "</style>\n",
       "<table border=\"1\" class=\"dataframe\">\n",
       "  <thead>\n",
       "    <tr style=\"text-align: right;\">\n",
       "      <th></th>\n",
       "      <th>order_id</th>\n",
       "      <th>user_id</th>\n",
       "      <th>eval_set</th>\n",
       "      <th>order_number</th>\n",
       "      <th>order_dow</th>\n",
       "      <th>order_hour_of_day</th>\n",
       "      <th>days_since_prior_order</th>\n",
       "    </tr>\n",
       "  </thead>\n",
       "  <tbody>\n",
       "    <tr>\n",
       "      <th>0</th>\n",
       "      <td>2539329</td>\n",
       "      <td>1</td>\n",
       "      <td>prior</td>\n",
       "      <td>1</td>\n",
       "      <td>2</td>\n",
       "      <td>8</td>\n",
       "      <td>NaN</td>\n",
       "    </tr>\n",
       "    <tr>\n",
       "      <th>1</th>\n",
       "      <td>2398795</td>\n",
       "      <td>1</td>\n",
       "      <td>prior</td>\n",
       "      <td>2</td>\n",
       "      <td>3</td>\n",
       "      <td>7</td>\n",
       "      <td>15.0</td>\n",
       "    </tr>\n",
       "    <tr>\n",
       "      <th>2</th>\n",
       "      <td>473747</td>\n",
       "      <td>1</td>\n",
       "      <td>prior</td>\n",
       "      <td>3</td>\n",
       "      <td>3</td>\n",
       "      <td>12</td>\n",
       "      <td>21.0</td>\n",
       "    </tr>\n",
       "    <tr>\n",
       "      <th>3</th>\n",
       "      <td>2254736</td>\n",
       "      <td>1</td>\n",
       "      <td>prior</td>\n",
       "      <td>4</td>\n",
       "      <td>4</td>\n",
       "      <td>7</td>\n",
       "      <td>29.0</td>\n",
       "    </tr>\n",
       "    <tr>\n",
       "      <th>4</th>\n",
       "      <td>431534</td>\n",
       "      <td>1</td>\n",
       "      <td>prior</td>\n",
       "      <td>5</td>\n",
       "      <td>4</td>\n",
       "      <td>15</td>\n",
       "      <td>28.0</td>\n",
       "    </tr>\n",
       "  </tbody>\n",
       "</table>\n",
       "</div>"
      ],
      "text/plain": [
       "   order_id  user_id eval_set  order_number  order_dow  order_hour_of_day  \\\n",
       "0   2539329        1    prior             1          2                  8   \n",
       "1   2398795        1    prior             2          3                  7   \n",
       "2    473747        1    prior             3          3                 12   \n",
       "3   2254736        1    prior             4          4                  7   \n",
       "4    431534        1    prior             5          4                 15   \n",
       "\n",
       "   days_since_prior_order  \n",
       "0                     NaN  \n",
       "1                    15.0  \n",
       "2                    21.0  \n",
       "3                    29.0  \n",
       "4                    28.0  "
      ]
     },
     "execution_count": 6,
     "metadata": {},
     "output_type": "execute_result"
    }
   ],
   "source": [
    "df_orders.head()"
   ]
  },
  {
   "cell_type": "code",
   "execution_count": 7,
   "id": "94e26068",
   "metadata": {},
   "outputs": [
    {
     "data": {
      "text/html": [
       "<div>\n",
       "<style scoped>\n",
       "    .dataframe tbody tr th:only-of-type {\n",
       "        vertical-align: middle;\n",
       "    }\n",
       "\n",
       "    .dataframe tbody tr th {\n",
       "        vertical-align: top;\n",
       "    }\n",
       "\n",
       "    .dataframe thead th {\n",
       "        text-align: right;\n",
       "    }\n",
       "</style>\n",
       "<table border=\"1\" class=\"dataframe\">\n",
       "  <thead>\n",
       "    <tr style=\"text-align: right;\">\n",
       "      <th></th>\n",
       "      <th>order_id</th>\n",
       "      <th>product_id</th>\n",
       "      <th>add_to_cart_order</th>\n",
       "      <th>reordered</th>\n",
       "    </tr>\n",
       "  </thead>\n",
       "  <tbody>\n",
       "    <tr>\n",
       "      <th>0</th>\n",
       "      <td>2</td>\n",
       "      <td>33120</td>\n",
       "      <td>1</td>\n",
       "      <td>1</td>\n",
       "    </tr>\n",
       "    <tr>\n",
       "      <th>1</th>\n",
       "      <td>2</td>\n",
       "      <td>28985</td>\n",
       "      <td>2</td>\n",
       "      <td>1</td>\n",
       "    </tr>\n",
       "    <tr>\n",
       "      <th>2</th>\n",
       "      <td>2</td>\n",
       "      <td>9327</td>\n",
       "      <td>3</td>\n",
       "      <td>0</td>\n",
       "    </tr>\n",
       "    <tr>\n",
       "      <th>3</th>\n",
       "      <td>2</td>\n",
       "      <td>45918</td>\n",
       "      <td>4</td>\n",
       "      <td>1</td>\n",
       "    </tr>\n",
       "    <tr>\n",
       "      <th>4</th>\n",
       "      <td>2</td>\n",
       "      <td>30035</td>\n",
       "      <td>5</td>\n",
       "      <td>0</td>\n",
       "    </tr>\n",
       "  </tbody>\n",
       "</table>\n",
       "</div>"
      ],
      "text/plain": [
       "   order_id  product_id  add_to_cart_order  reordered\n",
       "0         2       33120                  1          1\n",
       "1         2       28985                  2          1\n",
       "2         2        9327                  3          0\n",
       "3         2       45918                  4          1\n",
       "4         2       30035                  5          0"
      ]
     },
     "execution_count": 7,
     "metadata": {},
     "output_type": "execute_result"
    }
   ],
   "source": [
    "df_order_prod_prior.head()"
   ]
  },
  {
   "cell_type": "code",
   "execution_count": 8,
   "id": "ea062e82",
   "metadata": {},
   "outputs": [
    {
     "data": {
      "text/html": [
       "<div>\n",
       "<style scoped>\n",
       "    .dataframe tbody tr th:only-of-type {\n",
       "        vertical-align: middle;\n",
       "    }\n",
       "\n",
       "    .dataframe tbody tr th {\n",
       "        vertical-align: top;\n",
       "    }\n",
       "\n",
       "    .dataframe thead th {\n",
       "        text-align: right;\n",
       "    }\n",
       "</style>\n",
       "<table border=\"1\" class=\"dataframe\">\n",
       "  <thead>\n",
       "    <tr style=\"text-align: right;\">\n",
       "      <th></th>\n",
       "      <th>order_id</th>\n",
       "      <th>product_id</th>\n",
       "      <th>add_to_cart_order</th>\n",
       "      <th>reordered</th>\n",
       "    </tr>\n",
       "  </thead>\n",
       "  <tbody>\n",
       "    <tr>\n",
       "      <th>0</th>\n",
       "      <td>1</td>\n",
       "      <td>49302</td>\n",
       "      <td>1</td>\n",
       "      <td>1</td>\n",
       "    </tr>\n",
       "    <tr>\n",
       "      <th>1</th>\n",
       "      <td>1</td>\n",
       "      <td>11109</td>\n",
       "      <td>2</td>\n",
       "      <td>1</td>\n",
       "    </tr>\n",
       "    <tr>\n",
       "      <th>2</th>\n",
       "      <td>1</td>\n",
       "      <td>10246</td>\n",
       "      <td>3</td>\n",
       "      <td>0</td>\n",
       "    </tr>\n",
       "    <tr>\n",
       "      <th>3</th>\n",
       "      <td>1</td>\n",
       "      <td>49683</td>\n",
       "      <td>4</td>\n",
       "      <td>0</td>\n",
       "    </tr>\n",
       "    <tr>\n",
       "      <th>4</th>\n",
       "      <td>1</td>\n",
       "      <td>43633</td>\n",
       "      <td>5</td>\n",
       "      <td>1</td>\n",
       "    </tr>\n",
       "  </tbody>\n",
       "</table>\n",
       "</div>"
      ],
      "text/plain": [
       "   order_id  product_id  add_to_cart_order  reordered\n",
       "0         1       49302                  1          1\n",
       "1         1       11109                  2          1\n",
       "2         1       10246                  3          0\n",
       "3         1       49683                  4          0\n",
       "4         1       43633                  5          1"
      ]
     },
     "execution_count": 8,
     "metadata": {},
     "output_type": "execute_result"
    }
   ],
   "source": [
    "df_order_prod_train.head()"
   ]
  },
  {
   "cell_type": "code",
   "execution_count": 9,
   "id": "86b2c787",
   "metadata": {},
   "outputs": [
    {
     "data": {
      "text/plain": [
       "(134, 2)"
      ]
     },
     "execution_count": 9,
     "metadata": {},
     "output_type": "execute_result"
    }
   ],
   "source": [
    "df_aisles.shape"
   ]
  },
  {
   "cell_type": "code",
   "execution_count": 10,
   "id": "b6d6df27",
   "metadata": {},
   "outputs": [
    {
     "data": {
      "text/plain": [
       "(21, 2)"
      ]
     },
     "execution_count": 10,
     "metadata": {},
     "output_type": "execute_result"
    }
   ],
   "source": [
    "df_dept.shape"
   ]
  },
  {
   "cell_type": "code",
   "execution_count": 11,
   "id": "a40ca136",
   "metadata": {},
   "outputs": [
    {
     "data": {
      "text/plain": [
       "(49688, 4)"
      ]
     },
     "execution_count": 11,
     "metadata": {},
     "output_type": "execute_result"
    }
   ],
   "source": [
    "df_prod.shape"
   ]
  },
  {
   "cell_type": "code",
   "execution_count": 12,
   "id": "85d29bcc",
   "metadata": {},
   "outputs": [
    {
     "data": {
      "text/plain": [
       "(3421083, 7)"
      ]
     },
     "execution_count": 12,
     "metadata": {},
     "output_type": "execute_result"
    }
   ],
   "source": [
    "df_orders.shape"
   ]
  },
  {
   "cell_type": "code",
   "execution_count": 13,
   "id": "30249a1d",
   "metadata": {},
   "outputs": [
    {
     "data": {
      "text/plain": [
       "(32434489, 4)"
      ]
     },
     "execution_count": 13,
     "metadata": {},
     "output_type": "execute_result"
    }
   ],
   "source": [
    "df_order_prod_prior.shape"
   ]
  },
  {
   "cell_type": "code",
   "execution_count": 14,
   "id": "ec9bed5f",
   "metadata": {},
   "outputs": [
    {
     "data": {
      "text/plain": [
       "(1384617, 4)"
      ]
     },
     "execution_count": 14,
     "metadata": {},
     "output_type": "execute_result"
    }
   ],
   "source": [
    "df_order_prod_train.shape"
   ]
  },
  {
   "cell_type": "markdown",
   "id": "d1cbdf63",
   "metadata": {},
   "source": [
    "# Merging Data "
   ]
  },
  {
   "cell_type": "code",
   "execution_count": 15,
   "id": "d8a8ea9f",
   "metadata": {},
   "outputs": [
    {
     "data": {
      "text/html": [
       "<div>\n",
       "<style scoped>\n",
       "    .dataframe tbody tr th:only-of-type {\n",
       "        vertical-align: middle;\n",
       "    }\n",
       "\n",
       "    .dataframe tbody tr th {\n",
       "        vertical-align: top;\n",
       "    }\n",
       "\n",
       "    .dataframe thead th {\n",
       "        text-align: right;\n",
       "    }\n",
       "</style>\n",
       "<table border=\"1\" class=\"dataframe\">\n",
       "  <thead>\n",
       "    <tr style=\"text-align: right;\">\n",
       "      <th></th>\n",
       "      <th>product_id</th>\n",
       "      <th>product_name</th>\n",
       "      <th>department</th>\n",
       "      <th>aisle</th>\n",
       "    </tr>\n",
       "  </thead>\n",
       "  <tbody>\n",
       "    <tr>\n",
       "      <th>0</th>\n",
       "      <td>1</td>\n",
       "      <td>Chocolate Sandwich Cookies</td>\n",
       "      <td>snacks</td>\n",
       "      <td>cookies cakes</td>\n",
       "    </tr>\n",
       "    <tr>\n",
       "      <th>1</th>\n",
       "      <td>78</td>\n",
       "      <td>Nutter Butter Cookie Bites Go-Pak</td>\n",
       "      <td>snacks</td>\n",
       "      <td>cookies cakes</td>\n",
       "    </tr>\n",
       "    <tr>\n",
       "      <th>2</th>\n",
       "      <td>102</td>\n",
       "      <td>Danish Butter Cookies</td>\n",
       "      <td>snacks</td>\n",
       "      <td>cookies cakes</td>\n",
       "    </tr>\n",
       "    <tr>\n",
       "      <th>3</th>\n",
       "      <td>172</td>\n",
       "      <td>Gluten Free All Natural Chocolate Chip Cookies</td>\n",
       "      <td>snacks</td>\n",
       "      <td>cookies cakes</td>\n",
       "    </tr>\n",
       "    <tr>\n",
       "      <th>4</th>\n",
       "      <td>285</td>\n",
       "      <td>Mini Nilla Wafers Munch Pack</td>\n",
       "      <td>snacks</td>\n",
       "      <td>cookies cakes</td>\n",
       "    </tr>\n",
       "  </tbody>\n",
       "</table>\n",
       "</div>"
      ],
      "text/plain": [
       "   product_id                                    product_name department  \\\n",
       "0           1                      Chocolate Sandwich Cookies     snacks   \n",
       "1          78               Nutter Butter Cookie Bites Go-Pak     snacks   \n",
       "2         102                           Danish Butter Cookies     snacks   \n",
       "3         172  Gluten Free All Natural Chocolate Chip Cookies     snacks   \n",
       "4         285                    Mini Nilla Wafers Munch Pack     snacks   \n",
       "\n",
       "           aisle  \n",
       "0  cookies cakes  \n",
       "1  cookies cakes  \n",
       "2  cookies cakes  \n",
       "3  cookies cakes  \n",
       "4  cookies cakes  "
      ]
     },
     "execution_count": 15,
     "metadata": {},
     "output_type": "execute_result"
    }
   ],
   "source": [
    "product_aisle = df_prod.merge(df_aisles, left_on = 'aisle_id', right_on = 'aisle_id')\n",
    "product_all = product_aisle.merge(df_dept, left_on = 'department_id', right_on = 'department_id')\n",
    "product_all = product_all.drop(columns = ['aisle_id', 'department_id'])\n",
    "product_all = product_all[['product_id', 'product_name', 'department','aisle']]\n",
    "product_all.head()"
   ]
  },
  {
   "cell_type": "code",
   "execution_count": 16,
   "id": "b72fcc9f",
   "metadata": {},
   "outputs": [],
   "source": [
    "df_order_prod = pd.concat([df_order_prod_prior, df_order_prod_train], axis = 0)"
   ]
  },
  {
   "cell_type": "code",
   "execution_count": 17,
   "id": "53d079c9",
   "metadata": {},
   "outputs": [
    {
     "data": {
      "text/plain": [
       "(33819106, 4)"
      ]
     },
     "execution_count": 17,
     "metadata": {},
     "output_type": "execute_result"
    }
   ],
   "source": [
    "df_order_prod.shape"
   ]
  },
  {
   "cell_type": "code",
   "execution_count": 18,
   "id": "3ece2d1d",
   "metadata": {
    "scrolled": true
   },
   "outputs": [
    {
     "data": {
      "text/html": [
       "<div>\n",
       "<style scoped>\n",
       "    .dataframe tbody tr th:only-of-type {\n",
       "        vertical-align: middle;\n",
       "    }\n",
       "\n",
       "    .dataframe tbody tr th {\n",
       "        vertical-align: top;\n",
       "    }\n",
       "\n",
       "    .dataframe thead th {\n",
       "        text-align: right;\n",
       "    }\n",
       "</style>\n",
       "<table border=\"1\" class=\"dataframe\">\n",
       "  <thead>\n",
       "    <tr style=\"text-align: right;\">\n",
       "      <th></th>\n",
       "      <th>order_id</th>\n",
       "      <th>product_id</th>\n",
       "      <th>add_to_cart_order</th>\n",
       "      <th>reordered</th>\n",
       "      <th>product_name</th>\n",
       "      <th>department</th>\n",
       "      <th>aisle</th>\n",
       "    </tr>\n",
       "  </thead>\n",
       "  <tbody>\n",
       "    <tr>\n",
       "      <th>0</th>\n",
       "      <td>2</td>\n",
       "      <td>33120</td>\n",
       "      <td>1</td>\n",
       "      <td>1</td>\n",
       "      <td>Organic Egg Whites</td>\n",
       "      <td>dairy eggs</td>\n",
       "      <td>eggs</td>\n",
       "    </tr>\n",
       "    <tr>\n",
       "      <th>1</th>\n",
       "      <td>26</td>\n",
       "      <td>33120</td>\n",
       "      <td>5</td>\n",
       "      <td>0</td>\n",
       "      <td>Organic Egg Whites</td>\n",
       "      <td>dairy eggs</td>\n",
       "      <td>eggs</td>\n",
       "    </tr>\n",
       "    <tr>\n",
       "      <th>2</th>\n",
       "      <td>120</td>\n",
       "      <td>33120</td>\n",
       "      <td>13</td>\n",
       "      <td>0</td>\n",
       "      <td>Organic Egg Whites</td>\n",
       "      <td>dairy eggs</td>\n",
       "      <td>eggs</td>\n",
       "    </tr>\n",
       "    <tr>\n",
       "      <th>3</th>\n",
       "      <td>327</td>\n",
       "      <td>33120</td>\n",
       "      <td>5</td>\n",
       "      <td>1</td>\n",
       "      <td>Organic Egg Whites</td>\n",
       "      <td>dairy eggs</td>\n",
       "      <td>eggs</td>\n",
       "    </tr>\n",
       "    <tr>\n",
       "      <th>4</th>\n",
       "      <td>390</td>\n",
       "      <td>33120</td>\n",
       "      <td>28</td>\n",
       "      <td>1</td>\n",
       "      <td>Organic Egg Whites</td>\n",
       "      <td>dairy eggs</td>\n",
       "      <td>eggs</td>\n",
       "    </tr>\n",
       "  </tbody>\n",
       "</table>\n",
       "</div>"
      ],
      "text/plain": [
       "   order_id  product_id  add_to_cart_order  reordered        product_name  \\\n",
       "0         2       33120                  1          1  Organic Egg Whites   \n",
       "1        26       33120                  5          0  Organic Egg Whites   \n",
       "2       120       33120                 13          0  Organic Egg Whites   \n",
       "3       327       33120                  5          1  Organic Egg Whites   \n",
       "4       390       33120                 28          1  Organic Egg Whites   \n",
       "\n",
       "   department aisle  \n",
       "0  dairy eggs  eggs  \n",
       "1  dairy eggs  eggs  \n",
       "2  dairy eggs  eggs  \n",
       "3  dairy eggs  eggs  \n",
       "4  dairy eggs  eggs  "
      ]
     },
     "execution_count": 18,
     "metadata": {},
     "output_type": "execute_result"
    }
   ],
   "source": [
    "order_products = df_order_prod.merge(product_all, left_on = 'product_id', right_on = 'product_id')\n",
    "order_products.head()"
   ]
  },
  {
   "cell_type": "code",
   "execution_count": 19,
   "id": "a54b4674",
   "metadata": {},
   "outputs": [
    {
     "data": {
      "text/html": [
       "<div>\n",
       "<style scoped>\n",
       "    .dataframe tbody tr th:only-of-type {\n",
       "        vertical-align: middle;\n",
       "    }\n",
       "\n",
       "    .dataframe tbody tr th {\n",
       "        vertical-align: top;\n",
       "    }\n",
       "\n",
       "    .dataframe thead th {\n",
       "        text-align: right;\n",
       "    }\n",
       "</style>\n",
       "<table border=\"1\" class=\"dataframe\">\n",
       "  <thead>\n",
       "    <tr style=\"text-align: right;\">\n",
       "      <th></th>\n",
       "      <th>order_id</th>\n",
       "      <th>product_id</th>\n",
       "      <th>add_to_cart_order</th>\n",
       "      <th>reordered</th>\n",
       "      <th>product_name</th>\n",
       "      <th>department</th>\n",
       "      <th>aisle</th>\n",
       "      <th>user_id</th>\n",
       "      <th>eval_set</th>\n",
       "      <th>order_number</th>\n",
       "      <th>order_dow</th>\n",
       "      <th>order_hour_of_day</th>\n",
       "      <th>days_since_prior_order</th>\n",
       "    </tr>\n",
       "  </thead>\n",
       "  <tbody>\n",
       "    <tr>\n",
       "      <th>0</th>\n",
       "      <td>2</td>\n",
       "      <td>33120</td>\n",
       "      <td>1</td>\n",
       "      <td>1</td>\n",
       "      <td>Organic Egg Whites</td>\n",
       "      <td>dairy eggs</td>\n",
       "      <td>eggs</td>\n",
       "      <td>202279</td>\n",
       "      <td>prior</td>\n",
       "      <td>3</td>\n",
       "      <td>5</td>\n",
       "      <td>9</td>\n",
       "      <td>8.0</td>\n",
       "    </tr>\n",
       "    <tr>\n",
       "      <th>1</th>\n",
       "      <td>2</td>\n",
       "      <td>28985</td>\n",
       "      <td>2</td>\n",
       "      <td>1</td>\n",
       "      <td>Michigan Organic Kale</td>\n",
       "      <td>produce</td>\n",
       "      <td>fresh vegetables</td>\n",
       "      <td>202279</td>\n",
       "      <td>prior</td>\n",
       "      <td>3</td>\n",
       "      <td>5</td>\n",
       "      <td>9</td>\n",
       "      <td>8.0</td>\n",
       "    </tr>\n",
       "    <tr>\n",
       "      <th>2</th>\n",
       "      <td>2</td>\n",
       "      <td>9327</td>\n",
       "      <td>3</td>\n",
       "      <td>0</td>\n",
       "      <td>Garlic Powder</td>\n",
       "      <td>pantry</td>\n",
       "      <td>spices seasonings</td>\n",
       "      <td>202279</td>\n",
       "      <td>prior</td>\n",
       "      <td>3</td>\n",
       "      <td>5</td>\n",
       "      <td>9</td>\n",
       "      <td>8.0</td>\n",
       "    </tr>\n",
       "    <tr>\n",
       "      <th>3</th>\n",
       "      <td>2</td>\n",
       "      <td>45918</td>\n",
       "      <td>4</td>\n",
       "      <td>1</td>\n",
       "      <td>Coconut Butter</td>\n",
       "      <td>pantry</td>\n",
       "      <td>oils vinegars</td>\n",
       "      <td>202279</td>\n",
       "      <td>prior</td>\n",
       "      <td>3</td>\n",
       "      <td>5</td>\n",
       "      <td>9</td>\n",
       "      <td>8.0</td>\n",
       "    </tr>\n",
       "    <tr>\n",
       "      <th>4</th>\n",
       "      <td>2</td>\n",
       "      <td>30035</td>\n",
       "      <td>5</td>\n",
       "      <td>0</td>\n",
       "      <td>Natural Sweetener</td>\n",
       "      <td>pantry</td>\n",
       "      <td>baking ingredients</td>\n",
       "      <td>202279</td>\n",
       "      <td>prior</td>\n",
       "      <td>3</td>\n",
       "      <td>5</td>\n",
       "      <td>9</td>\n",
       "      <td>8.0</td>\n",
       "    </tr>\n",
       "  </tbody>\n",
       "</table>\n",
       "</div>"
      ],
      "text/plain": [
       "   order_id  product_id  add_to_cart_order  reordered           product_name  \\\n",
       "0         2       33120                  1          1     Organic Egg Whites   \n",
       "1         2       28985                  2          1  Michigan Organic Kale   \n",
       "2         2        9327                  3          0          Garlic Powder   \n",
       "3         2       45918                  4          1         Coconut Butter   \n",
       "4         2       30035                  5          0      Natural Sweetener   \n",
       "\n",
       "   department               aisle  user_id eval_set  order_number  order_dow  \\\n",
       "0  dairy eggs                eggs   202279    prior             3          5   \n",
       "1     produce    fresh vegetables   202279    prior             3          5   \n",
       "2      pantry   spices seasonings   202279    prior             3          5   \n",
       "3      pantry       oils vinegars   202279    prior             3          5   \n",
       "4      pantry  baking ingredients   202279    prior             3          5   \n",
       "\n",
       "   order_hour_of_day  days_since_prior_order  \n",
       "0                  9                     8.0  \n",
       "1                  9                     8.0  \n",
       "2                  9                     8.0  \n",
       "3                  9                     8.0  \n",
       "4                  9                     8.0  "
      ]
     },
     "execution_count": 19,
     "metadata": {},
     "output_type": "execute_result"
    }
   ],
   "source": [
    "df = order_products.merge(df_orders, left_on = 'order_id', right_on = 'order_id')\n",
    "df.head()"
   ]
  },
  {
   "cell_type": "markdown",
   "id": "04eec4f4",
   "metadata": {},
   "source": [
    "# EDA"
   ]
  },
  {
   "cell_type": "markdown",
   "id": "9ee46d62",
   "metadata": {},
   "source": [
    "### Cleaning Data"
   ]
  },
  {
   "cell_type": "code",
   "execution_count": 20,
   "id": "b86167df",
   "metadata": {},
   "outputs": [],
   "source": [
    "df = df[['user_id','order_id', 'order_number','order_dow', 'order_hour_of_day', 'days_since_prior_order',\n",
    "         'product_name', 'add_to_cart_order', 'reordered','department', 'aisle']]"
   ]
  },
  {
   "cell_type": "code",
   "execution_count": 21,
   "id": "3234c102",
   "metadata": {},
   "outputs": [
    {
     "data": {
      "text/html": [
       "<div>\n",
       "<style scoped>\n",
       "    .dataframe tbody tr th:only-of-type {\n",
       "        vertical-align: middle;\n",
       "    }\n",
       "\n",
       "    .dataframe tbody tr th {\n",
       "        vertical-align: top;\n",
       "    }\n",
       "\n",
       "    .dataframe thead th {\n",
       "        text-align: right;\n",
       "    }\n",
       "</style>\n",
       "<table border=\"1\" class=\"dataframe\">\n",
       "  <thead>\n",
       "    <tr style=\"text-align: right;\">\n",
       "      <th></th>\n",
       "      <th>user_id</th>\n",
       "      <th>order_id</th>\n",
       "      <th>order_number</th>\n",
       "      <th>order_dow</th>\n",
       "      <th>order_hour_of_day</th>\n",
       "      <th>days_since_prior_order</th>\n",
       "      <th>product_name</th>\n",
       "      <th>add_to_cart_order</th>\n",
       "      <th>reordered</th>\n",
       "      <th>department</th>\n",
       "      <th>aisle</th>\n",
       "    </tr>\n",
       "  </thead>\n",
       "  <tbody>\n",
       "    <tr>\n",
       "      <th>0</th>\n",
       "      <td>202279</td>\n",
       "      <td>2</td>\n",
       "      <td>3</td>\n",
       "      <td>5</td>\n",
       "      <td>9</td>\n",
       "      <td>8.0</td>\n",
       "      <td>Organic Egg Whites</td>\n",
       "      <td>1</td>\n",
       "      <td>1</td>\n",
       "      <td>dairy eggs</td>\n",
       "      <td>eggs</td>\n",
       "    </tr>\n",
       "    <tr>\n",
       "      <th>1</th>\n",
       "      <td>202279</td>\n",
       "      <td>2</td>\n",
       "      <td>3</td>\n",
       "      <td>5</td>\n",
       "      <td>9</td>\n",
       "      <td>8.0</td>\n",
       "      <td>Michigan Organic Kale</td>\n",
       "      <td>2</td>\n",
       "      <td>1</td>\n",
       "      <td>produce</td>\n",
       "      <td>fresh vegetables</td>\n",
       "    </tr>\n",
       "    <tr>\n",
       "      <th>2</th>\n",
       "      <td>202279</td>\n",
       "      <td>2</td>\n",
       "      <td>3</td>\n",
       "      <td>5</td>\n",
       "      <td>9</td>\n",
       "      <td>8.0</td>\n",
       "      <td>Garlic Powder</td>\n",
       "      <td>3</td>\n",
       "      <td>0</td>\n",
       "      <td>pantry</td>\n",
       "      <td>spices seasonings</td>\n",
       "    </tr>\n",
       "    <tr>\n",
       "      <th>3</th>\n",
       "      <td>202279</td>\n",
       "      <td>2</td>\n",
       "      <td>3</td>\n",
       "      <td>5</td>\n",
       "      <td>9</td>\n",
       "      <td>8.0</td>\n",
       "      <td>Coconut Butter</td>\n",
       "      <td>4</td>\n",
       "      <td>1</td>\n",
       "      <td>pantry</td>\n",
       "      <td>oils vinegars</td>\n",
       "    </tr>\n",
       "    <tr>\n",
       "      <th>4</th>\n",
       "      <td>202279</td>\n",
       "      <td>2</td>\n",
       "      <td>3</td>\n",
       "      <td>5</td>\n",
       "      <td>9</td>\n",
       "      <td>8.0</td>\n",
       "      <td>Natural Sweetener</td>\n",
       "      <td>5</td>\n",
       "      <td>0</td>\n",
       "      <td>pantry</td>\n",
       "      <td>baking ingredients</td>\n",
       "    </tr>\n",
       "  </tbody>\n",
       "</table>\n",
       "</div>"
      ],
      "text/plain": [
       "   user_id  order_id  order_number  order_dow  order_hour_of_day  \\\n",
       "0   202279         2             3          5                  9   \n",
       "1   202279         2             3          5                  9   \n",
       "2   202279         2             3          5                  9   \n",
       "3   202279         2             3          5                  9   \n",
       "4   202279         2             3          5                  9   \n",
       "\n",
       "   days_since_prior_order           product_name  add_to_cart_order  \\\n",
       "0                     8.0     Organic Egg Whites                  1   \n",
       "1                     8.0  Michigan Organic Kale                  2   \n",
       "2                     8.0          Garlic Powder                  3   \n",
       "3                     8.0         Coconut Butter                  4   \n",
       "4                     8.0      Natural Sweetener                  5   \n",
       "\n",
       "   reordered  department               aisle  \n",
       "0          1  dairy eggs                eggs  \n",
       "1          1     produce    fresh vegetables  \n",
       "2          0      pantry   spices seasonings  \n",
       "3          1      pantry       oils vinegars  \n",
       "4          0      pantry  baking ingredients  "
      ]
     },
     "execution_count": 21,
     "metadata": {},
     "output_type": "execute_result"
    }
   ],
   "source": [
    "df.head()"
   ]
  },
  {
   "cell_type": "code",
   "execution_count": 22,
   "id": "f44e3a29",
   "metadata": {},
   "outputs": [
    {
     "data": {
      "text/plain": [
       "Index(['user_id', 'order_id', 'order_number', 'order_dow', 'order_hour_of_day',\n",
       "       'days_since_prior_order', 'product_name', 'add_to_cart_order',\n",
       "       'reordered', 'department', 'aisle'],\n",
       "      dtype='object')"
      ]
     },
     "execution_count": 22,
     "metadata": {},
     "output_type": "execute_result"
    }
   ],
   "source": [
    "#Remove whitespacing \n",
    "df.columns = [column.strip() for column in df.columns]\n",
    "df.columns"
   ]
  },
  {
   "cell_type": "code",
   "execution_count": 23,
   "id": "4d8463a2",
   "metadata": {},
   "outputs": [
    {
     "data": {
      "text/plain": [
       "(33819106, 11)"
      ]
     },
     "execution_count": 23,
     "metadata": {},
     "output_type": "execute_result"
    }
   ],
   "source": [
    "df.shape"
   ]
  },
  {
   "cell_type": "code",
   "execution_count": 24,
   "id": "53bbaab7",
   "metadata": {},
   "outputs": [
    {
     "data": {
      "text/plain": [
       "user_id                         0\n",
       "order_id                        0\n",
       "order_number                    0\n",
       "order_dow                       0\n",
       "order_hour_of_day               0\n",
       "days_since_prior_order    2078068\n",
       "product_name                    0\n",
       "add_to_cart_order               0\n",
       "reordered                       0\n",
       "department                      0\n",
       "aisle                           0\n",
       "dtype: int64"
      ]
     },
     "execution_count": 24,
     "metadata": {},
     "output_type": "execute_result"
    }
   ],
   "source": [
    "df.isnull().sum()"
   ]
  },
  {
   "cell_type": "code",
   "execution_count": 25,
   "id": "e32a121c",
   "metadata": {},
   "outputs": [],
   "source": [
    "#Remove nulls \n",
    "df.dropna(inplace = True)"
   ]
  },
  {
   "cell_type": "code",
   "execution_count": 26,
   "id": "dd50ac88",
   "metadata": {},
   "outputs": [
    {
     "data": {
      "text/plain": [
       "user_id                   0\n",
       "order_id                  0\n",
       "order_number              0\n",
       "order_dow                 0\n",
       "order_hour_of_day         0\n",
       "days_since_prior_order    0\n",
       "product_name              0\n",
       "add_to_cart_order         0\n",
       "reordered                 0\n",
       "department                0\n",
       "aisle                     0\n",
       "dtype: int64"
      ]
     },
     "execution_count": 26,
     "metadata": {},
     "output_type": "execute_result"
    }
   ],
   "source": [
    "df.isnull().sum()"
   ]
  },
  {
   "cell_type": "code",
   "execution_count": 27,
   "id": "bb37067b",
   "metadata": {},
   "outputs": [
    {
     "data": {
      "text/plain": [
       "(31741038, 11)"
      ]
     },
     "execution_count": 27,
     "metadata": {},
     "output_type": "execute_result"
    }
   ],
   "source": [
    "df.shape"
   ]
  },
  {
   "cell_type": "code",
   "execution_count": 28,
   "id": "c2ec5887",
   "metadata": {},
   "outputs": [],
   "source": [
    "#Remove duplicates\n",
    "df.drop_duplicates(inplace = True)"
   ]
  },
  {
   "cell_type": "code",
   "execution_count": 29,
   "id": "22e5c3e6",
   "metadata": {},
   "outputs": [
    {
     "data": {
      "text/plain": [
       "(31741038, 11)"
      ]
     },
     "execution_count": 29,
     "metadata": {},
     "output_type": "execute_result"
    }
   ],
   "source": [
    "df.shape"
   ]
  },
  {
   "cell_type": "code",
   "execution_count": 30,
   "id": "167772d6",
   "metadata": {},
   "outputs": [
    {
     "name": "stdout",
     "output_type": "stream",
     "text": [
      "<class 'pandas.core.frame.DataFrame'>\n",
      "Int64Index: 31741038 entries, 0 to 33819105\n",
      "Data columns (total 11 columns):\n",
      " #   Column                  Dtype  \n",
      "---  ------                  -----  \n",
      " 0   user_id                 int64  \n",
      " 1   order_id                int64  \n",
      " 2   order_number            int64  \n",
      " 3   order_dow               int64  \n",
      " 4   order_hour_of_day       int64  \n",
      " 5   days_since_prior_order  float64\n",
      " 6   product_name            object \n",
      " 7   add_to_cart_order       int64  \n",
      " 8   reordered               int64  \n",
      " 9   department              object \n",
      " 10  aisle                   object \n",
      "dtypes: float64(1), int64(7), object(3)\n",
      "memory usage: 2.8+ GB\n"
     ]
    }
   ],
   "source": [
    "df.info()"
   ]
  },
  {
   "cell_type": "code",
   "execution_count": 31,
   "id": "494a75a5",
   "metadata": {},
   "outputs": [],
   "source": [
    "#Converting weekdays from numbers to labels\n",
    "df['order_dow'] = df['order_dow'].replace({0 :'Sunday', 1 : 'Monday', 2 : 'Tuesday', 3 : 'Wednesday',\n",
    "                                           4 : 'Thursday', 5 : 'Friday', 6 : 'Saturday'})"
   ]
  },
  {
   "cell_type": "markdown",
   "id": "324d6fc0",
   "metadata": {},
   "source": [
    "### Visualization"
   ]
  },
  {
   "cell_type": "code",
   "execution_count": 32,
   "id": "10682a56",
   "metadata": {},
   "outputs": [
    {
     "data": {
      "text/html": [
       "<div>\n",
       "<style scoped>\n",
       "    .dataframe tbody tr th:only-of-type {\n",
       "        vertical-align: middle;\n",
       "    }\n",
       "\n",
       "    .dataframe tbody tr th {\n",
       "        vertical-align: top;\n",
       "    }\n",
       "\n",
       "    .dataframe thead th {\n",
       "        text-align: right;\n",
       "    }\n",
       "</style>\n",
       "<table border=\"1\" class=\"dataframe\">\n",
       "  <thead>\n",
       "    <tr style=\"text-align: right;\">\n",
       "      <th></th>\n",
       "      <th>aisle</th>\n",
       "      <th>frequency_count</th>\n",
       "    </tr>\n",
       "  </thead>\n",
       "  <tbody>\n",
       "    <tr>\n",
       "      <th>0</th>\n",
       "      <td>fresh fruits</td>\n",
       "      <td>3576770</td>\n",
       "    </tr>\n",
       "    <tr>\n",
       "      <th>1</th>\n",
       "      <td>fresh vegetables</td>\n",
       "      <td>3353094</td>\n",
       "    </tr>\n",
       "    <tr>\n",
       "      <th>2</th>\n",
       "      <td>packaged vegetables fruits</td>\n",
       "      <td>1733391</td>\n",
       "    </tr>\n",
       "    <tr>\n",
       "      <th>3</th>\n",
       "      <td>yogurt</td>\n",
       "      <td>1417365</td>\n",
       "    </tr>\n",
       "    <tr>\n",
       "      <th>4</th>\n",
       "      <td>packaged cheese</td>\n",
       "      <td>958080</td>\n",
       "    </tr>\n",
       "    <tr>\n",
       "      <th>5</th>\n",
       "      <td>milk</td>\n",
       "      <td>873300</td>\n",
       "    </tr>\n",
       "    <tr>\n",
       "      <th>6</th>\n",
       "      <td>water seltzer sparkling water</td>\n",
       "      <td>828737</td>\n",
       "    </tr>\n",
       "    <tr>\n",
       "      <th>7</th>\n",
       "      <td>chips pretzels</td>\n",
       "      <td>706695</td>\n",
       "    </tr>\n",
       "    <tr>\n",
       "      <th>8</th>\n",
       "      <td>soy lactosefree</td>\n",
       "      <td>625431</td>\n",
       "    </tr>\n",
       "    <tr>\n",
       "      <th>9</th>\n",
       "      <td>bread</td>\n",
       "      <td>571400</td>\n",
       "    </tr>\n",
       "  </tbody>\n",
       "</table>\n",
       "</div>"
      ],
      "text/plain": [
       "                           aisle  frequency_count\n",
       "0                   fresh fruits          3576770\n",
       "1               fresh vegetables          3353094\n",
       "2     packaged vegetables fruits          1733391\n",
       "3                         yogurt          1417365\n",
       "4                packaged cheese           958080\n",
       "5                           milk           873300\n",
       "6  water seltzer sparkling water           828737\n",
       "7                 chips pretzels           706695\n",
       "8                soy lactosefree           625431\n",
       "9                          bread           571400"
      ]
     },
     "execution_count": 32,
     "metadata": {},
     "output_type": "execute_result"
    }
   ],
   "source": [
    "#Top 10 Aisles\n",
    "top_10_aisles = df['aisle'].value_counts().reset_index().head(10)\n",
    "top_10_aisles.columns = ['aisle', 'frequency_count']\n",
    "top_10_aisles"
   ]
  },
  {
   "cell_type": "code",
   "execution_count": 33,
   "id": "a78e81b1",
   "metadata": {},
   "outputs": [
    {
     "data": {
      "image/png": "[encoded data removed]",
      "text/plain": [
       "<Figure size 1440x720 with 1 Axes>"
      ]
     },
     "metadata": {
      "needs_background": "light"
     },
     "output_type": "display_data"
    }
   ],
   "source": [
    "plt.figure(figsize = (20, 10))\n",
    "\n",
    "sns.barplot(x = 'aisle', y = 'frequency_count', data = top_10_aisles, palette = 'Set3')\n",
    "\n",
    "plt.title('Top 10 aisles', fontsize = 15)\n",
    "plt.ylabel('Frequency count', fontsize = 15)\n",
    "plt.xlabel('Aisles', fontsize = 15)\n",
    "plt.xticks(rotation = 'vertical');"
   ]
  },
  {
   "cell_type": "code",
   "execution_count": 34,
   "id": "f7d45bb2",
   "metadata": {},
   "outputs": [
    {
     "data": {
      "text/html": [
       "<div>\n",
       "<style scoped>\n",
       "    .dataframe tbody tr th:only-of-type {\n",
       "        vertical-align: middle;\n",
       "    }\n",
       "\n",
       "    .dataframe tbody tr th {\n",
       "        vertical-align: top;\n",
       "    }\n",
       "\n",
       "    .dataframe thead th {\n",
       "        text-align: right;\n",
       "    }\n",
       "</style>\n",
       "<table border=\"1\" class=\"dataframe\">\n",
       "  <thead>\n",
       "    <tr style=\"text-align: right;\">\n",
       "      <th></th>\n",
       "      <th>product_name</th>\n",
       "      <th>frequency_count</th>\n",
       "    </tr>\n",
       "  </thead>\n",
       "  <tbody>\n",
       "    <tr>\n",
       "      <th>0</th>\n",
       "      <td>Banana</td>\n",
       "      <td>461757</td>\n",
       "    </tr>\n",
       "    <tr>\n",
       "      <th>1</th>\n",
       "      <td>Bag of Organic Bananas</td>\n",
       "      <td>375772</td>\n",
       "    </tr>\n",
       "    <tr>\n",
       "      <th>2</th>\n",
       "      <td>Organic Strawberries</td>\n",
       "      <td>259113</td>\n",
       "    </tr>\n",
       "    <tr>\n",
       "      <th>3</th>\n",
       "      <td>Organic Baby Spinach</td>\n",
       "      <td>236757</td>\n",
       "    </tr>\n",
       "    <tr>\n",
       "      <th>4</th>\n",
       "      <td>Organic Hass Avocado</td>\n",
       "      <td>209771</td>\n",
       "    </tr>\n",
       "    <tr>\n",
       "      <th>5</th>\n",
       "      <td>Organic Avocado</td>\n",
       "      <td>169037</td>\n",
       "    </tr>\n",
       "    <tr>\n",
       "      <th>6</th>\n",
       "      <td>Large Lemon</td>\n",
       "      <td>152432</td>\n",
       "    </tr>\n",
       "    <tr>\n",
       "      <th>7</th>\n",
       "      <td>Strawberries</td>\n",
       "      <td>140785</td>\n",
       "    </tr>\n",
       "    <tr>\n",
       "      <th>8</th>\n",
       "      <td>Limes</td>\n",
       "      <td>138062</td>\n",
       "    </tr>\n",
       "    <tr>\n",
       "      <th>9</th>\n",
       "      <td>Organic Raspberries</td>\n",
       "      <td>136224</td>\n",
       "    </tr>\n",
       "  </tbody>\n",
       "</table>\n",
       "</div>"
      ],
      "text/plain": [
       "             product_name  frequency_count\n",
       "0                  Banana           461757\n",
       "1  Bag of Organic Bananas           375772\n",
       "2    Organic Strawberries           259113\n",
       "3    Organic Baby Spinach           236757\n",
       "4    Organic Hass Avocado           209771\n",
       "5         Organic Avocado           169037\n",
       "6             Large Lemon           152432\n",
       "7            Strawberries           140785\n",
       "8                   Limes           138062\n",
       "9     Organic Raspberries           136224"
      ]
     },
     "execution_count": 34,
     "metadata": {},
     "output_type": "execute_result"
    }
   ],
   "source": [
    "#Top 10 Sold Products\n",
    "top_10_products = df['product_name'].value_counts().reset_index().head(10)\n",
    "top_10_products.columns = ['product_name', 'frequency_count']\n",
    "top_10_products"
   ]
  },
  {
   "cell_type": "code",
   "execution_count": 35,
   "id": "fecd8695",
   "metadata": {},
   "outputs": [
    {
     "data": {
      "image/png": "[encoded data removed]",
      "text/plain": [
       "<Figure size 1440x720 with 1 Axes>"
      ]
     },
     "metadata": {
      "needs_background": "light"
     },
     "output_type": "display_data"
    }
   ],
   "source": [
    "plt.figure(figsize = (20, 10))\n",
    "\n",
    "sns.barplot(x = 'product_name', y = 'frequency_count', data = top_10_products, palette = 'Set3')\n",
    "\n",
    "plt.title('Top 10 products', fontsize = 15)\n",
    "plt.ylabel('Frequency count', fontsize = 15)\n",
    "plt.xlabel('Product name', fontsize = 15)\n",
    "plt.xticks(rotation = 'vertical');"
   ]
  },
  {
   "cell_type": "code",
   "execution_count": 36,
   "id": "f626fab9",
   "metadata": {},
   "outputs": [
    {
     "data": {
      "text/html": [
       "<div>\n",
       "<style scoped>\n",
       "    .dataframe tbody tr th:only-of-type {\n",
       "        vertical-align: middle;\n",
       "    }\n",
       "\n",
       "    .dataframe tbody tr th {\n",
       "        vertical-align: top;\n",
       "    }\n",
       "\n",
       "    .dataframe thead th {\n",
       "        text-align: right;\n",
       "    }\n",
       "</style>\n",
       "<table border=\"1\" class=\"dataframe\">\n",
       "  <thead>\n",
       "    <tr style=\"text-align: right;\">\n",
       "      <th></th>\n",
       "      <th>department</th>\n",
       "      <th>frequency_count</th>\n",
       "    </tr>\n",
       "  </thead>\n",
       "  <tbody>\n",
       "    <tr>\n",
       "      <th>0</th>\n",
       "      <td>produce</td>\n",
       "      <td>9303994</td>\n",
       "    </tr>\n",
       "    <tr>\n",
       "      <th>1</th>\n",
       "      <td>dairy eggs</td>\n",
       "      <td>5298037</td>\n",
       "    </tr>\n",
       "    <tr>\n",
       "      <th>2</th>\n",
       "      <td>snacks</td>\n",
       "      <td>2825503</td>\n",
       "    </tr>\n",
       "    <tr>\n",
       "      <th>3</th>\n",
       "      <td>beverages</td>\n",
       "      <td>2636557</td>\n",
       "    </tr>\n",
       "    <tr>\n",
       "      <th>4</th>\n",
       "      <td>frozen</td>\n",
       "      <td>2178535</td>\n",
       "    </tr>\n",
       "    <tr>\n",
       "      <th>5</th>\n",
       "      <td>pantry</td>\n",
       "      <td>1828551</td>\n",
       "    </tr>\n",
       "    <tr>\n",
       "      <th>6</th>\n",
       "      <td>bakery</td>\n",
       "      <td>1149640</td>\n",
       "    </tr>\n",
       "    <tr>\n",
       "      <th>7</th>\n",
       "      <td>canned goods</td>\n",
       "      <td>1041091</td>\n",
       "    </tr>\n",
       "    <tr>\n",
       "      <th>8</th>\n",
       "      <td>deli</td>\n",
       "      <td>1025441</td>\n",
       "    </tr>\n",
       "    <tr>\n",
       "      <th>9</th>\n",
       "      <td>dry goods pasta</td>\n",
       "      <td>844358</td>\n",
       "    </tr>\n",
       "  </tbody>\n",
       "</table>\n",
       "</div>"
      ],
      "text/plain": [
       "        department  frequency_count\n",
       "0          produce          9303994\n",
       "1       dairy eggs          5298037\n",
       "2           snacks          2825503\n",
       "3        beverages          2636557\n",
       "4           frozen          2178535\n",
       "5           pantry          1828551\n",
       "6           bakery          1149640\n",
       "7     canned goods          1041091\n",
       "8             deli          1025441\n",
       "9  dry goods pasta           844358"
      ]
     },
     "execution_count": 36,
     "metadata": {},
     "output_type": "execute_result"
    }
   ],
   "source": [
    "#Top 10 Departments\n",
    "top_10_departments = df['department'].value_counts().reset_index().head(10)\n",
    "top_10_departments.columns = ['department', 'frequency_count']\n",
    "top_10_departments"
   ]
  },
  {
   "cell_type": "code",
   "execution_count": 37,
   "id": "6609852d",
   "metadata": {},
   "outputs": [
    {
     "data": {
      "text/plain": [
       "Text(0.5, 0, 'Departments')"
      ]
     },
     "execution_count": 37,
     "metadata": {},
     "output_type": "execute_result"
    },
    {
     "data": {
      "image/png": "[encoded data removed]",
      "text/plain": [
       "<Figure size 1440x720 with 1 Axes>"
      ]
     },
     "metadata": {
      "needs_background": "light"
     },
     "output_type": "display_data"
    }
   ],
   "source": [
    "plt.figure(figsize = (20, 10))\n",
    "\n",
    "sns.barplot(x = 'department', y = 'frequency_count', data = top_10_departments, palette = 'Set3')\n",
    "\n",
    "plt.title('Top 10 departments', fontsize = 15)\n",
    "plt.ylabel('Frequency count', fontsize = 15)\n",
    "plt.xlabel('Departments', fontsize = 15)"
   ]
  },
  {
   "cell_type": "code",
   "execution_count": 38,
   "id": "51f25d62",
   "metadata": {},
   "outputs": [
    {
     "data": {
      "text/plain": [
       "Text(0.5, 0, 'Day of week')"
      ]
     },
     "execution_count": 38,
     "metadata": {},
     "output_type": "execute_result"
    },
    {
     "data": {
      "image/png": "[encoded data removed]",
      "text/plain": [
       "<Figure size 1440x720 with 1 Axes>"
      ]
     },
     "metadata": {
      "needs_background": "light"
     },
     "output_type": "display_data"
    }
   ],
   "source": [
    "plt.figure(figsize = (20, 10))\n",
    "\n",
    "days = ['Monday','Tuesday','Wednesday','Thursday','Friday','Saturday','Sunday']\n",
    "\n",
    "sns.countplot(x = 'order_dow', data = df, order = days, palette = 'Set3')\n",
    "plt.title('Number of order per user per day', fontsize = 15)\n",
    "plt.ylabel('Frequency', fontsize = 15)\n",
    "plt.xlabel('Day of week', fontsize = 15)"
   ]
  },
  {
   "cell_type": "code",
   "execution_count": 39,
   "id": "ffbbe8fb",
   "metadata": {},
   "outputs": [
    {
     "name": "stderr",
     "output_type": "stream",
     "text": [
      "C:\\Users\\Manal\\anaconda3\\lib\\site-packages\\seaborn\\_decorators.py:36: FutureWarning: Pass the following variables as keyword args: x, y. From version 0.12, the only valid positional argument will be `data`, and passing other arguments without an explicit keyword will result in an error or misinterpretation.\n",
      "  warnings.warn(\n"
     ]
    },
    {
     "data": {
      "text/plain": [
       "Text(0.5, 0, 'Hours of Order')"
      ]
     },
     "execution_count": 39,
     "metadata": {},
     "output_type": "execute_result"
    },
    {
     "data": {
      "image/png": "[encoded data removed]",
      "text/plain": [
       "<Figure size 1440x720 with 1 Axes>"
      ]
     },
     "metadata": {
      "needs_background": "light"
     },
     "output_type": "display_data"
    }
   ],
   "source": [
    "plt.figure(figsize = (20, 10))\n",
    "\n",
    "hours = df_orders.groupby('order_id')['order_hour_of_day'].aggregate('sum').reset_index()\n",
    "hours = hours.order_hour_of_day.value_counts()\n",
    "\n",
    "sns.barplot(hours.index, hours.values, palette = 'Set3')\n",
    "plt.title('Number of Order per hour', fontsize = 15)\n",
    "plt.ylabel('Number of Orders', fontsize = 15)\n",
    "plt.xlabel('Hours of Order', fontsize = 15)"
   ]
  },
  {
   "cell_type": "code",
   "execution_count": 40,
   "id": "1266c822",
   "metadata": {},
   "outputs": [
    {
     "data": {
      "image/png": "[encoded data removed]",
      "text/plain": [
       "<Figure size 1440x720 with 1 Axes>"
      ]
     },
     "metadata": {
      "needs_background": "light"
     },
     "output_type": "display_data"
    }
   ],
   "source": [
    "plt.figure(figsize = (20, 10))\n",
    "sns.countplot(x = 'days_since_prior_order', data = df, palette = 'Set3')\n",
    "\n",
    "plt.title('Frequency distribution by days since prior order', fontsize=15)\n",
    "plt.ylabel('Count', fontsize = 15)\n",
    "plt.xlabel('Days since prior order', fontsize = 15)\n",
    "plt.xticks(rotation='vertical');"
   ]
  },
  {
   "cell_type": "code",
   "execution_count": 41,
   "id": "f585a027",
   "metadata": {},
   "outputs": [
    {
     "name": "stderr",
     "output_type": "stream",
     "text": [
      "C:\\Users\\Manal\\anaconda3\\lib\\site-packages\\seaborn\\_decorators.py:36: FutureWarning: Pass the following variables as keyword args: x, y. From version 0.12, the only valid positional argument will be `data`, and passing other arguments without an explicit keyword will result in an error or misinterpretation.\n",
      "  warnings.warn(\n"
     ]
    },
    {
     "data": {
      "image/png": "[encoded data removed]",
      "text/plain": [
       "<Figure size 1440x720 with 1 Axes>"
      ]
     },
     "metadata": {
      "needs_background": "light"
     },
     "output_type": "display_data"
    }
   ],
   "source": [
    "grouped_df = df.groupby(['department'])['reordered'].aggregate('mean').reset_index()\n",
    "\n",
    "plt.figure(figsize=(20, 10))\n",
    "\n",
    "sns.pointplot(grouped_df['department'].values, grouped_df['reordered'].values, color = '#2BC7B3')\n",
    "\n",
    "plt.title('Department reorder ratio', fontsize = 15)\n",
    "plt.ylabel('Reorder ratio', fontsize = 15)\n",
    "plt.xlabel('Department', fontsize = 15)\n",
    "plt.xticks(rotation = 45);"
   ]
  },
  {
   "cell_type": "markdown",
   "id": "141d51cb",
   "metadata": {},
   "source": [
    "### Feature Engineering"
   ]
  },
  {
   "cell_type": "code",
   "execution_count": 42,
   "id": "af788b22",
   "metadata": {},
   "outputs": [
    {
     "name": "stdout",
     "output_type": "stream",
     "text": [
      "There are 7 Numerical features\n"
     ]
    }
   ],
   "source": [
    "print('There are', len(list(df._get_numeric_data().columns)), 'Numerical features')"
   ]
  },
  {
   "cell_type": "code",
   "execution_count": 43,
   "id": "20924199",
   "metadata": {},
   "outputs": [
    {
     "name": "stdout",
     "output_type": "stream",
     "text": [
      "There are 4 Categorical features\n"
     ]
    }
   ],
   "source": [
    "print('There are', len(df.select_dtypes('object').columns), 'Categorical features')"
   ]
  },
  {
   "cell_type": "markdown",
   "id": "5dc0996a",
   "metadata": {},
   "source": [
    "### Encoding Categorical columns"
   ]
  },
  {
   "cell_type": "code",
   "execution_count": 44,
   "id": "aea7cd6a",
   "metadata": {},
   "outputs": [],
   "source": [
    "df['order_dow'] = df['order_dow'].astype('category').cat.codes\n",
    "df['product_name'] = df['product_name'].astype('category').cat.codes\n",
    "df['department'] = df['department'].astype('category').cat.codes\n",
    "df['aisle'] = df['aisle'].astype('category').cat.codes"
   ]
  },
  {
   "cell_type": "code",
   "execution_count": 45,
   "id": "d04bf782",
   "metadata": {},
   "outputs": [
    {
     "data": {
      "text/html": [
       "<div>\n",
       "<style scoped>\n",
       "    .dataframe tbody tr th:only-of-type {\n",
       "        vertical-align: middle;\n",
       "    }\n",
       "\n",
       "    .dataframe tbody tr th {\n",
       "        vertical-align: top;\n",
       "    }\n",
       "\n",
       "    .dataframe thead th {\n",
       "        text-align: right;\n",
       "    }\n",
       "</style>\n",
       "<table border=\"1\" class=\"dataframe\">\n",
       "  <thead>\n",
       "    <tr style=\"text-align: right;\">\n",
       "      <th></th>\n",
       "      <th>user_id</th>\n",
       "      <th>order_id</th>\n",
       "      <th>order_number</th>\n",
       "      <th>order_dow</th>\n",
       "      <th>order_hour_of_day</th>\n",
       "      <th>days_since_prior_order</th>\n",
       "      <th>product_name</th>\n",
       "      <th>add_to_cart_order</th>\n",
       "      <th>reordered</th>\n",
       "      <th>department</th>\n",
       "      <th>aisle</th>\n",
       "    </tr>\n",
       "  </thead>\n",
       "  <tbody>\n",
       "    <tr>\n",
       "      <th>0</th>\n",
       "      <td>202279</td>\n",
       "      <td>2</td>\n",
       "      <td>3</td>\n",
       "      <td>0</td>\n",
       "      <td>9</td>\n",
       "      <td>8.0</td>\n",
       "      <td>29745</td>\n",
       "      <td>1</td>\n",
       "      <td>1</td>\n",
       "      <td>7</td>\n",
       "      <td>41</td>\n",
       "    </tr>\n",
       "    <tr>\n",
       "      <th>1</th>\n",
       "      <td>202279</td>\n",
       "      <td>2</td>\n",
       "      <td>3</td>\n",
       "      <td>0</td>\n",
       "      <td>9</td>\n",
       "      <td>8.0</td>\n",
       "      <td>25219</td>\n",
       "      <td>2</td>\n",
       "      <td>1</td>\n",
       "      <td>19</td>\n",
       "      <td>53</td>\n",
       "    </tr>\n",
       "    <tr>\n",
       "      <th>2</th>\n",
       "      <td>202279</td>\n",
       "      <td>2</td>\n",
       "      <td>3</td>\n",
       "      <td>0</td>\n",
       "      <td>9</td>\n",
       "      <td>8.0</td>\n",
       "      <td>16729</td>\n",
       "      <td>3</td>\n",
       "      <td>0</td>\n",
       "      <td>16</td>\n",
       "      <td>122</td>\n",
       "    </tr>\n",
       "    <tr>\n",
       "      <th>3</th>\n",
       "      <td>202279</td>\n",
       "      <td>2</td>\n",
       "      <td>3</td>\n",
       "      <td>0</td>\n",
       "      <td>9</td>\n",
       "      <td>8.0</td>\n",
       "      <td>9811</td>\n",
       "      <td>4</td>\n",
       "      <td>1</td>\n",
       "      <td>16</td>\n",
       "      <td>89</td>\n",
       "    </tr>\n",
       "    <tr>\n",
       "      <th>4</th>\n",
       "      <td>202279</td>\n",
       "      <td>2</td>\n",
       "      <td>3</td>\n",
       "      <td>0</td>\n",
       "      <td>9</td>\n",
       "      <td>8.0</td>\n",
       "      <td>27087</td>\n",
       "      <td>5</td>\n",
       "      <td>0</td>\n",
       "      <td>16</td>\n",
       "      <td>6</td>\n",
       "    </tr>\n",
       "  </tbody>\n",
       "</table>\n",
       "</div>"
      ],
      "text/plain": [
       "   user_id  order_id  order_number  order_dow  order_hour_of_day  \\\n",
       "0   202279         2             3          0                  9   \n",
       "1   202279         2             3          0                  9   \n",
       "2   202279         2             3          0                  9   \n",
       "3   202279         2             3          0                  9   \n",
       "4   202279         2             3          0                  9   \n",
       "\n",
       "   days_since_prior_order  product_name  add_to_cart_order  reordered  \\\n",
       "0                     8.0         29745                  1          1   \n",
       "1                     8.0         25219                  2          1   \n",
       "2                     8.0         16729                  3          0   \n",
       "3                     8.0          9811                  4          1   \n",
       "4                     8.0         27087                  5          0   \n",
       "\n",
       "   department  aisle  \n",
       "0           7     41  \n",
       "1          19     53  \n",
       "2          16    122  \n",
       "3          16     89  \n",
       "4          16      6  "
      ]
     },
     "execution_count": 45,
     "metadata": {},
     "output_type": "execute_result"
    }
   ],
   "source": [
    "df.head()"
   ]
  },
  {
   "cell_type": "code",
   "execution_count": 46,
   "id": "1cd396c9",
   "metadata": {},
   "outputs": [],
   "source": [
    "#Due to time consumption, we've chose 1% of data\n",
    "data = df.sample(frac = 0.01, replace = True, random_state = 1)"
   ]
  },
  {
   "cell_type": "code",
   "execution_count": 47,
   "id": "f2bca858",
   "metadata": {},
   "outputs": [
    {
     "data": {
      "text/plain": [
       "(317410, 11)"
      ]
     },
     "execution_count": 47,
     "metadata": {},
     "output_type": "execute_result"
    }
   ],
   "source": [
    "#View the shape of the sample\n",
    "data.shape"
   ]
  },
  {
   "cell_type": "code",
   "execution_count": 48,
   "id": "15e3f7e4",
   "metadata": {},
   "outputs": [
    {
     "data": {
      "text/plain": [
       "1    199653\n",
       "0    117757\n",
       "Name: reordered, dtype: int64"
      ]
     },
     "execution_count": 48,
     "metadata": {},
     "output_type": "execute_result"
    }
   ],
   "source": [
    "#Check balancing of our target \n",
    "\n",
    "data['reordered'].value_counts()"
   ]
  },
  {
   "cell_type": "code",
   "execution_count": 49,
   "id": "345dc920",
   "metadata": {},
   "outputs": [
    {
     "name": "stdout",
     "output_type": "stream",
     "text": [
      "percentage of class 1 is : 63 %\n",
      "percentage of class 0 is : 37 %\n"
     ]
    }
   ],
   "source": [
    "print('percentage of class 1 is :', round((3989044 / 6348208 )* 100), '%')\n",
    "print('percentage of class 0 is :', round((2359164 / 6348208 )* 100), '%')"
   ]
  },
  {
   "cell_type": "code",
   "execution_count": 50,
   "id": "a150ca70",
   "metadata": {},
   "outputs": [
    {
     "data": {
      "image/png": "[encoded data removed]",
      "text/plain": [
       "<Figure size 720x432 with 1 Axes>"
      ]
     },
     "metadata": {
      "needs_background": "light"
     },
     "output_type": "display_data"
    }
   ],
   "source": [
    "plt.figure(figsize =(10,6))\n",
    "data['reordered'].value_counts().plot(kind = 'bar');"
   ]
  },
  {
   "cell_type": "markdown",
   "id": "29e8d699",
   "metadata": {},
   "source": [
    "## Model Building \n",
    " ### before sampling"
   ]
  },
  {
   "cell_type": "code",
   "execution_count": 51,
   "id": "c0d6b1a2",
   "metadata": {},
   "outputs": [],
   "source": [
    "#Defining Independent & Dependent variables\n",
    "x = data.drop('reordered',axis = 1)\n",
    "y = data.reordered"
   ]
  },
  {
   "cell_type": "code",
   "execution_count": 52,
   "id": "3bf60deb",
   "metadata": {},
   "outputs": [
    {
     "data": {
      "text/html": [
       "<div>\n",
       "<style scoped>\n",
       "    .dataframe tbody tr th:only-of-type {\n",
       "        vertical-align: middle;\n",
       "    }\n",
       "\n",
       "    .dataframe tbody tr th {\n",
       "        vertical-align: top;\n",
       "    }\n",
       "\n",
       "    .dataframe thead th {\n",
       "        text-align: right;\n",
       "    }\n",
       "</style>\n",
       "<table border=\"1\" class=\"dataframe\">\n",
       "  <thead>\n",
       "    <tr style=\"text-align: right;\">\n",
       "      <th></th>\n",
       "      <th>user_id</th>\n",
       "      <th>order_id</th>\n",
       "      <th>order_number</th>\n",
       "      <th>order_dow</th>\n",
       "      <th>order_hour_of_day</th>\n",
       "      <th>days_since_prior_order</th>\n",
       "      <th>product_name</th>\n",
       "      <th>add_to_cart_order</th>\n",
       "      <th>department</th>\n",
       "      <th>aisle</th>\n",
       "    </tr>\n",
       "  </thead>\n",
       "  <tbody>\n",
       "    <tr>\n",
       "      <th>13466137</th>\n",
       "      <td>195191</td>\n",
       "      <td>3206551</td>\n",
       "      <td>3</td>\n",
       "      <td>2</td>\n",
       "      <td>15</td>\n",
       "      <td>19.0</td>\n",
       "      <td>18081</td>\n",
       "      <td>3</td>\n",
       "      <td>7</td>\n",
       "      <td>41</td>\n",
       "    </tr>\n",
       "    <tr>\n",
       "      <th>22827705</th>\n",
       "      <td>158121</td>\n",
       "      <td>3017739</td>\n",
       "      <td>5</td>\n",
       "      <td>3</td>\n",
       "      <td>13</td>\n",
       "      <td>10.0</td>\n",
       "      <td>17614</td>\n",
       "      <td>1</td>\n",
       "      <td>2</td>\n",
       "      <td>11</td>\n",
       "    </tr>\n",
       "    <tr>\n",
       "      <th>7192957</th>\n",
       "      <td>199880</td>\n",
       "      <td>2397223</td>\n",
       "      <td>14</td>\n",
       "      <td>4</td>\n",
       "      <td>19</td>\n",
       "      <td>2.0</td>\n",
       "      <td>32453</td>\n",
       "      <td>2</td>\n",
       "      <td>7</td>\n",
       "      <td>83</td>\n",
       "    </tr>\n",
       "    <tr>\n",
       "      <th>13055757</th>\n",
       "      <td>28928</td>\n",
       "      <td>3395617</td>\n",
       "      <td>18</td>\n",
       "      <td>2</td>\n",
       "      <td>21</td>\n",
       "      <td>14.0</td>\n",
       "      <td>26508</td>\n",
       "      <td>7</td>\n",
       "      <td>20</td>\n",
       "      <td>32</td>\n",
       "    </tr>\n",
       "    <tr>\n",
       "      <th>524496</th>\n",
       "      <td>116552</td>\n",
       "      <td>745137</td>\n",
       "      <td>9</td>\n",
       "      <td>3</td>\n",
       "      <td>20</td>\n",
       "      <td>6.0</td>\n",
       "      <td>25184</td>\n",
       "      <td>5</td>\n",
       "      <td>12</td>\n",
       "      <td>78</td>\n",
       "    </tr>\n",
       "    <tr>\n",
       "      <th>...</th>\n",
       "      <td>...</td>\n",
       "      <td>...</td>\n",
       "      <td>...</td>\n",
       "      <td>...</td>\n",
       "      <td>...</td>\n",
       "      <td>...</td>\n",
       "      <td>...</td>\n",
       "      <td>...</td>\n",
       "      <td>...</td>\n",
       "      <td>...</td>\n",
       "    </tr>\n",
       "    <tr>\n",
       "      <th>18890520</th>\n",
       "      <td>42394</td>\n",
       "      <td>1600301</td>\n",
       "      <td>6</td>\n",
       "      <td>4</td>\n",
       "      <td>0</td>\n",
       "      <td>30.0</td>\n",
       "      <td>3012</td>\n",
       "      <td>11</td>\n",
       "      <td>19</td>\n",
       "      <td>53</td>\n",
       "    </tr>\n",
       "    <tr>\n",
       "      <th>19156281</th>\n",
       "      <td>113004</td>\n",
       "      <td>1876969</td>\n",
       "      <td>4</td>\n",
       "      <td>2</td>\n",
       "      <td>15</td>\n",
       "      <td>30.0</td>\n",
       "      <td>24033</td>\n",
       "      <td>7</td>\n",
       "      <td>9</td>\n",
       "      <td>74</td>\n",
       "    </tr>\n",
       "    <tr>\n",
       "      <th>29480737</th>\n",
       "      <td>204622</td>\n",
       "      <td>3073653</td>\n",
       "      <td>42</td>\n",
       "      <td>4</td>\n",
       "      <td>16</td>\n",
       "      <td>3.0</td>\n",
       "      <td>36695</td>\n",
       "      <td>2</td>\n",
       "      <td>3</td>\n",
       "      <td>131</td>\n",
       "    </tr>\n",
       "    <tr>\n",
       "      <th>20189377</th>\n",
       "      <td>54463</td>\n",
       "      <td>2940366</td>\n",
       "      <td>47</td>\n",
       "      <td>2</td>\n",
       "      <td>12</td>\n",
       "      <td>2.0</td>\n",
       "      <td>1930</td>\n",
       "      <td>1</td>\n",
       "      <td>3</td>\n",
       "      <td>110</td>\n",
       "    </tr>\n",
       "    <tr>\n",
       "      <th>28409145</th>\n",
       "      <td>4941</td>\n",
       "      <td>1023182</td>\n",
       "      <td>3</td>\n",
       "      <td>1</td>\n",
       "      <td>15</td>\n",
       "      <td>0.0</td>\n",
       "      <td>34372</td>\n",
       "      <td>15</td>\n",
       "      <td>9</td>\n",
       "      <td>40</td>\n",
       "    </tr>\n",
       "  </tbody>\n",
       "</table>\n",
       "<p>317410 rows × 10 columns</p>\n",
       "</div>"
      ],
      "text/plain": [
       "          user_id  order_id  order_number  order_dow  order_hour_of_day  \\\n",
       "13466137   195191   3206551             3          2                 15   \n",
       "22827705   158121   3017739             5          3                 13   \n",
       "7192957    199880   2397223            14          4                 19   \n",
       "13055757    28928   3395617            18          2                 21   \n",
       "524496     116552    745137             9          3                 20   \n",
       "...           ...       ...           ...        ...                ...   \n",
       "18890520    42394   1600301             6          4                  0   \n",
       "19156281   113004   1876969             4          2                 15   \n",
       "29480737   204622   3073653            42          4                 16   \n",
       "20189377    54463   2940366            47          2                 12   \n",
       "28409145     4941   1023182             3          1                 15   \n",
       "\n",
       "          days_since_prior_order  product_name  add_to_cart_order  department  \\\n",
       "13466137                    19.0         18081                  3           7   \n",
       "22827705                    10.0         17614                  1           2   \n",
       "7192957                      2.0         32453                  2           7   \n",
       "13055757                    14.0         26508                  7          20   \n",
       "524496                       6.0         25184                  5          12   \n",
       "...                          ...           ...                ...         ...   \n",
       "18890520                    30.0          3012                 11          19   \n",
       "19156281                    30.0         24033                  7           9   \n",
       "29480737                     3.0         36695                  2           3   \n",
       "20189377                     2.0          1930                  1           3   \n",
       "28409145                     0.0         34372                 15           9   \n",
       "\n",
       "          aisle  \n",
       "13466137     41  \n",
       "22827705     11  \n",
       "7192957      83  \n",
       "13055757     32  \n",
       "524496       78  \n",
       "...         ...  \n",
       "18890520     53  \n",
       "19156281     74  \n",
       "29480737    131  \n",
       "20189377    110  \n",
       "28409145     40  \n",
       "\n",
       "[317410 rows x 10 columns]"
      ]
     },
     "execution_count": 52,
     "metadata": {},
     "output_type": "execute_result"
    }
   ],
   "source": [
    "x"
   ]
  },
  {
   "cell_type": "code",
   "execution_count": 53,
   "id": "e2e93a5a",
   "metadata": {},
   "outputs": [
    {
     "data": {
      "text/plain": [
       "13466137    1\n",
       "22827705    0\n",
       "7192957     1\n",
       "13055757    1\n",
       "524496      0\n",
       "           ..\n",
       "18890520    0\n",
       "19156281    0\n",
       "29480737    1\n",
       "20189377    0\n",
       "28409145    0\n",
       "Name: reordered, Length: 317410, dtype: int64"
      ]
     },
     "execution_count": 53,
     "metadata": {},
     "output_type": "execute_result"
    }
   ],
   "source": [
    "y"
   ]
  },
  {
   "cell_type": "code",
   "execution_count": 54,
   "id": "8ec996b8",
   "metadata": {},
   "outputs": [],
   "source": [
    "#Feature scaling\n",
    "scaler = StandardScaler()\n",
    "x = scaler.fit_transform(x)"
   ]
  },
  {
   "cell_type": "code",
   "execution_count": 55,
   "id": "bdec0a57",
   "metadata": {},
   "outputs": [],
   "source": [
    "#Split dataset into train and test data\n",
    "x_train, x_test, y_train, y_test = train_test_split(x, y, test_size = 0.30, random_state = 123)"
   ]
  },
  {
   "cell_type": "code",
   "execution_count": 56,
   "id": "63e6dccb",
   "metadata": {},
   "outputs": [],
   "source": [
    "def accuracy(actuals, preds) :\n",
    "    acc = metrics.accuracy_score(actuals, preds)\n",
    "    acc *= 100\n",
    "    return acc\n",
    "\n",
    "def precision(actuals, preds) :\n",
    "    prec = metrics.precision_score(actuals, preds)\n",
    "    prec *= 100\n",
    "    return prec\n",
    "\n",
    "def recall(actuals, preds) :\n",
    "    rec = metrics.recall_score(actuals, preds)\n",
    "    rec *= 100\n",
    "    return rec\n",
    "\n",
    "def F1(actuals, preds) :\n",
    "    f1_score = metrics.f1_score(actuals, preds)\n",
    "    f1_score *= 100\n",
    "    return f1_score\n",
    "\n",
    "def confusion_matrix_ (actuals, preds) :\n",
    "    cf_matrix = metrics.confusion_matrix(actuals, preds)\n",
    "    return cf_matrix"
   ]
  },
  {
   "cell_type": "markdown",
   "id": "adef8a3f",
   "metadata": {},
   "source": [
    "### KNN Model"
   ]
  },
  {
   "cell_type": "code",
   "execution_count": 57,
   "id": "be47caed",
   "metadata": {},
   "outputs": [],
   "source": [
    "#Instantiate\n",
    "knn = KNeighborsClassifier(n_neighbors = 5)"
   ]
  },
  {
   "cell_type": "code",
   "execution_count": 58,
   "id": "6ce468a3",
   "metadata": {},
   "outputs": [
    {
     "data": {
      "text/plain": [
       "KNeighborsClassifier()"
      ]
     },
     "execution_count": 58,
     "metadata": {},
     "output_type": "execute_result"
    }
   ],
   "source": [
    "#Fit\n",
    "knn.fit(x_train,y_train)"
   ]
  },
  {
   "cell_type": "code",
   "execution_count": 59,
   "id": "37fd087d",
   "metadata": {},
   "outputs": [],
   "source": [
    "#Predict\n",
    "y_pred_k = knn.predict(x_test)"
   ]
  },
  {
   "cell_type": "code",
   "execution_count": 60,
   "id": "b3414755",
   "metadata": {
    "scrolled": true
   },
   "outputs": [
    {
     "name": "stdout",
     "output_type": "stream",
     "text": [
      "KNN Model : \n",
      "\n",
      "Accuracy =  64.22923033300778\n",
      "Precision =  68.84904636946037\n",
      "Recall =  78.56533449319973\n",
      "F1 =  73.38698335807484\n",
      "\n",
      "\n",
      "Confusion Matrix :\n",
      " [[14197 21249]\n",
      " [12813 46964]]\n"
     ]
    }
   ],
   "source": [
    "print('KNN Model : \\n')\n",
    "print('Accuracy = ', accuracy(y_test, y_pred_k))\n",
    "print('Precision = ', precision(y_test, y_pred_k))\n",
    "print('Recall = ', recall(y_test, y_pred_k))\n",
    "print('F1 = ', F1(y_test, y_pred_k))\n",
    "print('\\n')\n",
    "print('Confusion Matrix :\\n', confusion_matrix_(y_test, y_pred_k))"
   ]
  },
  {
   "cell_type": "code",
   "execution_count": 61,
   "id": "2de0fdf2",
   "metadata": {},
   "outputs": [],
   "source": [
    "knn_repo = classification_report(y_test, y_pred_k, output_dict = True)"
   ]
  },
  {
   "cell_type": "code",
   "execution_count": 62,
   "id": "449bdf14",
   "metadata": {},
   "outputs": [],
   "source": [
    "KNN = pd.DataFrame(knn_repo).transpose()"
   ]
  },
  {
   "cell_type": "code",
   "execution_count": 63,
   "id": "47149285",
   "metadata": {},
   "outputs": [
    {
     "data": {
      "text/html": [
       "<div>\n",
       "<style scoped>\n",
       "    .dataframe tbody tr th:only-of-type {\n",
       "        vertical-align: middle;\n",
       "    }\n",
       "\n",
       "    .dataframe tbody tr th {\n",
       "        vertical-align: top;\n",
       "    }\n",
       "\n",
       "    .dataframe thead th {\n",
       "        text-align: right;\n",
       "    }\n",
       "</style>\n",
       "<table border=\"1\" class=\"dataframe\">\n",
       "  <thead>\n",
       "    <tr style=\"text-align: right;\">\n",
       "      <th></th>\n",
       "      <th>precision</th>\n",
       "      <th>recall</th>\n",
       "      <th>f1-score</th>\n",
       "      <th>support</th>\n",
       "    </tr>\n",
       "  </thead>\n",
       "  <tbody>\n",
       "    <tr>\n",
       "      <th>0</th>\n",
       "      <td>0.525620</td>\n",
       "      <td>0.400525</td>\n",
       "      <td>0.454624</td>\n",
       "      <td>35446.000000</td>\n",
       "    </tr>\n",
       "    <tr>\n",
       "      <th>1</th>\n",
       "      <td>0.688490</td>\n",
       "      <td>0.785653</td>\n",
       "      <td>0.733870</td>\n",
       "      <td>59777.000000</td>\n",
       "    </tr>\n",
       "    <tr>\n",
       "      <th>accuracy</th>\n",
       "      <td>0.642292</td>\n",
       "      <td>0.642292</td>\n",
       "      <td>0.642292</td>\n",
       "      <td>0.642292</td>\n",
       "    </tr>\n",
       "    <tr>\n",
       "      <th>macro avg</th>\n",
       "      <td>0.607055</td>\n",
       "      <td>0.593089</td>\n",
       "      <td>0.594247</td>\n",
       "      <td>95223.000000</td>\n",
       "    </tr>\n",
       "    <tr>\n",
       "      <th>weighted avg</th>\n",
       "      <td>0.627863</td>\n",
       "      <td>0.642292</td>\n",
       "      <td>0.629923</td>\n",
       "      <td>95223.000000</td>\n",
       "    </tr>\n",
       "  </tbody>\n",
       "</table>\n",
       "</div>"
      ],
      "text/plain": [
       "              precision    recall  f1-score       support\n",
       "0              0.525620  0.400525  0.454624  35446.000000\n",
       "1              0.688490  0.785653  0.733870  59777.000000\n",
       "accuracy       0.642292  0.642292  0.642292      0.642292\n",
       "macro avg      0.607055  0.593089  0.594247  95223.000000\n",
       "weighted avg   0.627863  0.642292  0.629923  95223.000000"
      ]
     },
     "execution_count": 63,
     "metadata": {},
     "output_type": "execute_result"
    }
   ],
   "source": [
    "KNN"
   ]
  },
  {
   "cell_type": "markdown",
   "id": "72fb6f6f",
   "metadata": {},
   "source": [
    "### Logistic Regression Model"
   ]
  },
  {
   "cell_type": "code",
   "execution_count": 64,
   "id": "c5e5f1c5",
   "metadata": {},
   "outputs": [],
   "source": [
    "lr = LogisticRegression()"
   ]
  },
  {
   "cell_type": "code",
   "execution_count": 65,
   "id": "0639a499",
   "metadata": {},
   "outputs": [
    {
     "data": {
      "text/plain": [
       "LogisticRegression()"
      ]
     },
     "execution_count": 65,
     "metadata": {},
     "output_type": "execute_result"
    }
   ],
   "source": [
    "lr.fit(x_train, y_train)"
   ]
  },
  {
   "cell_type": "code",
   "execution_count": 66,
   "id": "af37c2e4",
   "metadata": {},
   "outputs": [],
   "source": [
    "y_pred_lr = lr.predict(x_test)"
   ]
  },
  {
   "cell_type": "code",
   "execution_count": 67,
   "id": "b446aec1",
   "metadata": {},
   "outputs": [
    {
     "name": "stdout",
     "output_type": "stream",
     "text": [
      "Logistic Regression Model : \n",
      "\n",
      "Accuracy =  67.29571637104482\n",
      "Precision =  67.95815721148419\n",
      "Recall =  90.63853990665307\n",
      "F1 =  77.67662575983483\n",
      "\n",
      "\n",
      "Confusion Matrix :\n",
      " [[ 9900 25546]\n",
      " [ 5596 54181]]\n"
     ]
    }
   ],
   "source": [
    "print('Logistic Regression Model : \\n')\n",
    "print('Accuracy = ', accuracy(y_test, y_pred_lr))\n",
    "print('Precision = ', precision(y_test, y_pred_lr))\n",
    "print('Recall = ', recall(y_test, y_pred_lr))\n",
    "print('F1 = ', F1(y_test, y_pred_lr))\n",
    "print('\\n')\n",
    "print('Confusion Matrix :\\n', confusion_matrix_(y_test, y_pred_lr))"
   ]
  },
  {
   "cell_type": "code",
   "execution_count": 68,
   "id": "df145032",
   "metadata": {},
   "outputs": [],
   "source": [
    "lr_repo = classification_report(y_test, y_pred_lr, output_dict = True)"
   ]
  },
  {
   "cell_type": "code",
   "execution_count": 69,
   "id": "48bd7ead",
   "metadata": {},
   "outputs": [],
   "source": [
    "LR = pd.DataFrame(lr_repo).transpose()"
   ]
  },
  {
   "cell_type": "code",
   "execution_count": 70,
   "id": "f502cdaf",
   "metadata": {},
   "outputs": [
    {
     "data": {
      "text/html": [
       "<div>\n",
       "<style scoped>\n",
       "    .dataframe tbody tr th:only-of-type {\n",
       "        vertical-align: middle;\n",
       "    }\n",
       "\n",
       "    .dataframe tbody tr th {\n",
       "        vertical-align: top;\n",
       "    }\n",
       "\n",
       "    .dataframe thead th {\n",
       "        text-align: right;\n",
       "    }\n",
       "</style>\n",
       "<table border=\"1\" class=\"dataframe\">\n",
       "  <thead>\n",
       "    <tr style=\"text-align: right;\">\n",
       "      <th></th>\n",
       "      <th>precision</th>\n",
       "      <th>recall</th>\n",
       "      <th>f1-score</th>\n",
       "      <th>support</th>\n",
       "    </tr>\n",
       "  </thead>\n",
       "  <tbody>\n",
       "    <tr>\n",
       "      <th>0</th>\n",
       "      <td>0.638875</td>\n",
       "      <td>0.279298</td>\n",
       "      <td>0.388677</td>\n",
       "      <td>35446.000000</td>\n",
       "    </tr>\n",
       "    <tr>\n",
       "      <th>1</th>\n",
       "      <td>0.679582</td>\n",
       "      <td>0.906385</td>\n",
       "      <td>0.776766</td>\n",
       "      <td>59777.000000</td>\n",
       "    </tr>\n",
       "    <tr>\n",
       "      <th>accuracy</th>\n",
       "      <td>0.672957</td>\n",
       "      <td>0.672957</td>\n",
       "      <td>0.672957</td>\n",
       "      <td>0.672957</td>\n",
       "    </tr>\n",
       "    <tr>\n",
       "      <th>macro avg</th>\n",
       "      <td>0.659228</td>\n",
       "      <td>0.592842</td>\n",
       "      <td>0.582722</td>\n",
       "      <td>95223.000000</td>\n",
       "    </tr>\n",
       "    <tr>\n",
       "      <th>weighted avg</th>\n",
       "      <td>0.664429</td>\n",
       "      <td>0.672957</td>\n",
       "      <td>0.632303</td>\n",
       "      <td>95223.000000</td>\n",
       "    </tr>\n",
       "  </tbody>\n",
       "</table>\n",
       "</div>"
      ],
      "text/plain": [
       "              precision    recall  f1-score       support\n",
       "0              0.638875  0.279298  0.388677  35446.000000\n",
       "1              0.679582  0.906385  0.776766  59777.000000\n",
       "accuracy       0.672957  0.672957  0.672957      0.672957\n",
       "macro avg      0.659228  0.592842  0.582722  95223.000000\n",
       "weighted avg   0.664429  0.672957  0.632303  95223.000000"
      ]
     },
     "execution_count": 70,
     "metadata": {},
     "output_type": "execute_result"
    }
   ],
   "source": [
    "LR"
   ]
  },
  {
   "cell_type": "markdown",
   "id": "0483ac08",
   "metadata": {},
   "source": [
    "### Decision Tree Model"
   ]
  },
  {
   "cell_type": "code",
   "execution_count": 71,
   "id": "f1a3aa4d",
   "metadata": {},
   "outputs": [],
   "source": [
    "dtree = DecisionTreeClassifier()"
   ]
  },
  {
   "cell_type": "code",
   "execution_count": 72,
   "id": "2e3bfe6e",
   "metadata": {},
   "outputs": [
    {
     "data": {
      "text/plain": [
       "DecisionTreeClassifier()"
      ]
     },
     "execution_count": 72,
     "metadata": {},
     "output_type": "execute_result"
    }
   ],
   "source": [
    "dtree.fit(x_train,y_train)"
   ]
  },
  {
   "cell_type": "code",
   "execution_count": 73,
   "id": "27ad9e00",
   "metadata": {},
   "outputs": [],
   "source": [
    "y_pred_t = dtree.predict(x_test)"
   ]
  },
  {
   "cell_type": "code",
   "execution_count": 74,
   "id": "041897c2",
   "metadata": {},
   "outputs": [
    {
     "name": "stdout",
     "output_type": "stream",
     "text": [
      "Decision Tree Model : \n",
      "\n",
      "Accuracy =  61.96402129737564\n",
      "Precision =  69.9820180498066\n",
      "Recall =  69.01149271458922\n",
      "F1 =  69.49336702463677\n",
      "\n",
      "\n",
      "Confusion Matrix :\n",
      " [[17751 17695]\n",
      " [18524 41253]]\n"
     ]
    }
   ],
   "source": [
    "print('Decision Tree Model : \\n')\n",
    "print('Accuracy = ', accuracy(y_test, y_pred_t))\n",
    "print('Precision = ', precision(y_test, y_pred_t))\n",
    "print('Recall = ', recall(y_test, y_pred_t))\n",
    "print('F1 = ', F1(y_test, y_pred_t))\n",
    "print('\\n')\n",
    "print('Confusion Matrix :\\n', confusion_matrix_(y_test,  y_pred_t))"
   ]
  },
  {
   "cell_type": "code",
   "execution_count": 75,
   "id": "6a343ca5",
   "metadata": {},
   "outputs": [],
   "source": [
    "dtree_repo = classification_report(y_test, y_pred_t, output_dict = True)"
   ]
  },
  {
   "cell_type": "code",
   "execution_count": 76,
   "id": "ad7ac550",
   "metadata": {},
   "outputs": [],
   "source": [
    "DTREE = pd.DataFrame(dtree_repo).transpose()"
   ]
  },
  {
   "cell_type": "code",
   "execution_count": 77,
   "id": "37621e3f",
   "metadata": {},
   "outputs": [
    {
     "data": {
      "text/html": [
       "<div>\n",
       "<style scoped>\n",
       "    .dataframe tbody tr th:only-of-type {\n",
       "        vertical-align: middle;\n",
       "    }\n",
       "\n",
       "    .dataframe tbody tr th {\n",
       "        vertical-align: top;\n",
       "    }\n",
       "\n",
       "    .dataframe thead th {\n",
       "        text-align: right;\n",
       "    }\n",
       "</style>\n",
       "<table border=\"1\" class=\"dataframe\">\n",
       "  <thead>\n",
       "    <tr style=\"text-align: right;\">\n",
       "      <th></th>\n",
       "      <th>precision</th>\n",
       "      <th>recall</th>\n",
       "      <th>f1-score</th>\n",
       "      <th>support</th>\n",
       "    </tr>\n",
       "  </thead>\n",
       "  <tbody>\n",
       "    <tr>\n",
       "      <th>0</th>\n",
       "      <td>0.489345</td>\n",
       "      <td>0.500790</td>\n",
       "      <td>0.495001</td>\n",
       "      <td>35446.00000</td>\n",
       "    </tr>\n",
       "    <tr>\n",
       "      <th>1</th>\n",
       "      <td>0.699820</td>\n",
       "      <td>0.690115</td>\n",
       "      <td>0.694934</td>\n",
       "      <td>59777.00000</td>\n",
       "    </tr>\n",
       "    <tr>\n",
       "      <th>accuracy</th>\n",
       "      <td>0.619640</td>\n",
       "      <td>0.619640</td>\n",
       "      <td>0.619640</td>\n",
       "      <td>0.61964</td>\n",
       "    </tr>\n",
       "    <tr>\n",
       "      <th>macro avg</th>\n",
       "      <td>0.594583</td>\n",
       "      <td>0.595452</td>\n",
       "      <td>0.594968</td>\n",
       "      <td>95223.00000</td>\n",
       "    </tr>\n",
       "    <tr>\n",
       "      <th>weighted avg</th>\n",
       "      <td>0.621473</td>\n",
       "      <td>0.619640</td>\n",
       "      <td>0.620511</td>\n",
       "      <td>95223.00000</td>\n",
       "    </tr>\n",
       "  </tbody>\n",
       "</table>\n",
       "</div>"
      ],
      "text/plain": [
       "              precision    recall  f1-score      support\n",
       "0              0.489345  0.500790  0.495001  35446.00000\n",
       "1              0.699820  0.690115  0.694934  59777.00000\n",
       "accuracy       0.619640  0.619640  0.619640      0.61964\n",
       "macro avg      0.594583  0.595452  0.594968  95223.00000\n",
       "weighted avg   0.621473  0.619640  0.620511  95223.00000"
      ]
     },
     "execution_count": 77,
     "metadata": {},
     "output_type": "execute_result"
    }
   ],
   "source": [
    "DTREE"
   ]
  },
  {
   "cell_type": "markdown",
   "id": "af9acfe1",
   "metadata": {},
   "source": [
    "### Random Forest Model "
   ]
  },
  {
   "cell_type": "code",
   "execution_count": 78,
   "id": "694a7a0d",
   "metadata": {},
   "outputs": [],
   "source": [
    "rf = RandomForestClassifier()"
   ]
  },
  {
   "cell_type": "code",
   "execution_count": 79,
   "id": "d754fc5e",
   "metadata": {},
   "outputs": [
    {
     "data": {
      "text/plain": [
       "RandomForestClassifier()"
      ]
     },
     "execution_count": 79,
     "metadata": {},
     "output_type": "execute_result"
    }
   ],
   "source": [
    "rf.fit(x_train,y_train)"
   ]
  },
  {
   "cell_type": "code",
   "execution_count": 80,
   "id": "adec1309",
   "metadata": {},
   "outputs": [],
   "source": [
    "y_pred_rf = rf.predict(x_test)"
   ]
  },
  {
   "cell_type": "code",
   "execution_count": 81,
   "id": "a8d4b8d4",
   "metadata": {
    "scrolled": true
   },
   "outputs": [
    {
     "name": "stdout",
     "output_type": "stream",
     "text": [
      "Random Forest Model : \n",
      "\n",
      "Accuracy =  70.91879062831458\n",
      "Precision =  73.30573109609936\n",
      "Recall =  84.41373772521203\n",
      "F1 =  78.46857213945822\n",
      "\n",
      "\n",
      "Confusion Matrix :\n",
      " [[17071 18375]\n",
      " [ 9317 50460]]\n"
     ]
    }
   ],
   "source": [
    "print('Random Forest Model : \\n')\n",
    "print('Accuracy = ', accuracy(y_test, y_pred_rf))\n",
    "print('Precision = ', precision(y_test, y_pred_rf))\n",
    "print('Recall = ', recall(y_test, y_pred_rf))\n",
    "print('F1 = ', F1(y_test, y_pred_rf))\n",
    "print('\\n')\n",
    "print('Confusion Matrix :\\n', confusion_matrix_(y_test, y_pred_rf))"
   ]
  },
  {
   "cell_type": "code",
   "execution_count": 82,
   "id": "ab739ccd",
   "metadata": {},
   "outputs": [],
   "source": [
    "rf_repo = classification_report(y_test, y_pred_rf, output_dict = True)"
   ]
  },
  {
   "cell_type": "code",
   "execution_count": 83,
   "id": "1a29a694",
   "metadata": {},
   "outputs": [],
   "source": [
    "RF = pd.DataFrame(rf_repo).transpose()"
   ]
  },
  {
   "cell_type": "code",
   "execution_count": 84,
   "id": "37a6d79e",
   "metadata": {},
   "outputs": [
    {
     "data": {
      "text/html": [
       "<div>\n",
       "<style scoped>\n",
       "    .dataframe tbody tr th:only-of-type {\n",
       "        vertical-align: middle;\n",
       "    }\n",
       "\n",
       "    .dataframe tbody tr th {\n",
       "        vertical-align: top;\n",
       "    }\n",
       "\n",
       "    .dataframe thead th {\n",
       "        text-align: right;\n",
       "    }\n",
       "</style>\n",
       "<table border=\"1\" class=\"dataframe\">\n",
       "  <thead>\n",
       "    <tr style=\"text-align: right;\">\n",
       "      <th></th>\n",
       "      <th>precision</th>\n",
       "      <th>recall</th>\n",
       "      <th>f1-score</th>\n",
       "      <th>support</th>\n",
       "    </tr>\n",
       "  </thead>\n",
       "  <tbody>\n",
       "    <tr>\n",
       "      <th>0</th>\n",
       "      <td>0.646923</td>\n",
       "      <td>0.481606</td>\n",
       "      <td>0.552156</td>\n",
       "      <td>35446.000000</td>\n",
       "    </tr>\n",
       "    <tr>\n",
       "      <th>1</th>\n",
       "      <td>0.733057</td>\n",
       "      <td>0.844137</td>\n",
       "      <td>0.784686</td>\n",
       "      <td>59777.000000</td>\n",
       "    </tr>\n",
       "    <tr>\n",
       "      <th>accuracy</th>\n",
       "      <td>0.709188</td>\n",
       "      <td>0.709188</td>\n",
       "      <td>0.709188</td>\n",
       "      <td>0.709188</td>\n",
       "    </tr>\n",
       "    <tr>\n",
       "      <th>macro avg</th>\n",
       "      <td>0.689990</td>\n",
       "      <td>0.662872</td>\n",
       "      <td>0.668421</td>\n",
       "      <td>95223.000000</td>\n",
       "    </tr>\n",
       "    <tr>\n",
       "      <th>weighted avg</th>\n",
       "      <td>0.700994</td>\n",
       "      <td>0.709188</td>\n",
       "      <td>0.698128</td>\n",
       "      <td>95223.000000</td>\n",
       "    </tr>\n",
       "  </tbody>\n",
       "</table>\n",
       "</div>"
      ],
      "text/plain": [
       "              precision    recall  f1-score       support\n",
       "0              0.646923  0.481606  0.552156  35446.000000\n",
       "1              0.733057  0.844137  0.784686  59777.000000\n",
       "accuracy       0.709188  0.709188  0.709188      0.709188\n",
       "macro avg      0.689990  0.662872  0.668421  95223.000000\n",
       "weighted avg   0.700994  0.709188  0.698128  95223.000000"
      ]
     },
     "execution_count": 84,
     "metadata": {},
     "output_type": "execute_result"
    }
   ],
   "source": [
    "RF"
   ]
  },
  {
   "cell_type": "markdown",
   "id": "6b718e29",
   "metadata": {},
   "source": [
    "## ROC & AUC"
   ]
  },
  {
   "cell_type": "code",
   "execution_count": 85,
   "id": "ed2ea70b",
   "metadata": {},
   "outputs": [],
   "source": [
    "ypred_prob_knn = knn.predict_proba(x_test)\n",
    "ypred_prob_lr = lr.predict_proba(x_test)\n",
    "ypred_prob_dtree = dtree.predict_proba(x_test)\n",
    "ypred_prob_rf = rf.predict_proba(x_test)"
   ]
  },
  {
   "cell_type": "code",
   "execution_count": 86,
   "id": "3bd18880",
   "metadata": {},
   "outputs": [],
   "source": [
    "class1_probs = ypred_prob_knn[:, 1]\n",
    "class2_probs = ypred_prob_lr[:, 1]\n",
    "class3_probs = ypred_prob_dtree[:, 1]\n",
    "class4_probs = ypred_prob_rf[:, 1]"
   ]
  },
  {
   "cell_type": "code",
   "execution_count": 87,
   "id": "cb5df391",
   "metadata": {},
   "outputs": [
    {
     "data": {
      "image/png": "[encoded data removed]",
      "text/plain": [
       "<Figure size 1440x720 with 1 Axes>"
      ]
     },
     "metadata": {
      "needs_background": "light"
     },
     "output_type": "display_data"
    }
   ],
   "source": [
    "plt.figure(figsize = (20, 10))\n",
    "plt.plot([0, 1], [0, 1], linestyle = '--', label = 'Baseline')\n",
    "\n",
    "fpr, tpr, _ = roc_curve(y_test, class1_probs)\n",
    "fpr1, tpr1, _ = roc_curve(y_test, class2_probs)\n",
    "fpr2, tpr2, _ = roc_curve(y_test, class3_probs)\n",
    "fpr3, tpr3, _ = roc_curve(y_test, class4_probs)\n",
    "\n",
    "auc1 = round(metrics.roc_auc_score(y_test, y_pred_k,average = None),3)\n",
    "plt.plot(fpr, tpr, marker='.', label=('KNN Model, auc ='+str(auc1)))\n",
    "\n",
    "auc2 = round(metrics.roc_auc_score(y_test, y_pred_lr,average = None),3)\n",
    "plt.plot(fpr1, tpr1, marker='.', label=('Logistic Regression Model, auc ='+str(auc2)))\n",
    "\n",
    "auc3 = round(metrics.roc_auc_score(y_test, y_pred_t,average = None),3)\n",
    "plt.plot(fpr2, tpr2, marker='.', label=('Decision Tree Model, auc ='+str(auc3)))\n",
    "\n",
    "auc4 = round(metrics.roc_auc_score(y_test, y_pred_rf,average = None),3)\n",
    "plt.plot(fpr3, tpr3, marker='.', label=('Random Forest Model, auc ='+str(auc4)))\n",
    "\n",
    "\n",
    "plt.xlabel('FPR')\n",
    "plt.ylabel('TPR')\n",
    "plt.legend();"
   ]
  },
  {
   "cell_type": "markdown",
   "id": "0f65054e",
   "metadata": {},
   "source": [
    "# Dealing with Imbalanced data"
   ]
  },
  {
   "cell_type": "markdown",
   "id": "388009f3",
   "metadata": {},
   "source": [
    "## 1- SMOTE Method"
   ]
  },
  {
   "cell_type": "code",
   "execution_count": 88,
   "id": "357a5dc4",
   "metadata": {},
   "outputs": [],
   "source": [
    "sm = SMOTE(random_state = 123)"
   ]
  },
  {
   "cell_type": "code",
   "execution_count": 89,
   "id": "4e11385d",
   "metadata": {},
   "outputs": [],
   "source": [
    "X_train_sm, y_train_sm = sm.fit_resample(x_train, y_train)"
   ]
  },
  {
   "cell_type": "code",
   "execution_count": 90,
   "id": "e85b4999",
   "metadata": {},
   "outputs": [
    {
     "data": {
      "text/plain": [
       "(279752, 279752)"
      ]
     },
     "execution_count": 90,
     "metadata": {},
     "output_type": "execute_result"
    }
   ],
   "source": [
    "len(X_train_sm), len(y_train_sm)"
   ]
  },
  {
   "cell_type": "code",
   "execution_count": 91,
   "id": "d7afad30",
   "metadata": {},
   "outputs": [
    {
     "data": {
      "image/png": "[encoded data removed]",
      "text/plain": [
       "<Figure size 432x288 with 1 Axes>"
      ]
     },
     "metadata": {
      "needs_background": "light"
     },
     "output_type": "display_data"
    }
   ],
   "source": [
    "pd.Series(y_train_sm).value_counts().plot.bar();"
   ]
  },
  {
   "cell_type": "markdown",
   "id": "c97e9e98",
   "metadata": {},
   "source": [
    "### 2- Oversampling method"
   ]
  },
  {
   "cell_type": "code",
   "execution_count": 92,
   "id": "4010717b",
   "metadata": {},
   "outputs": [],
   "source": [
    "os = RandomOverSampler(sampling_strategy = 'minority')"
   ]
  },
  {
   "cell_type": "code",
   "execution_count": 93,
   "id": "a9428d65",
   "metadata": {},
   "outputs": [],
   "source": [
    "X_train_os, y_train_os = os.fit_resample(x_train, y_train)"
   ]
  },
  {
   "cell_type": "code",
   "execution_count": 94,
   "id": "3a93797d",
   "metadata": {},
   "outputs": [
    {
     "data": {
      "text/plain": [
       "(279752, 279752)"
      ]
     },
     "execution_count": 94,
     "metadata": {},
     "output_type": "execute_result"
    }
   ],
   "source": [
    "len(X_train_os), len(y_train_os)"
   ]
  },
  {
   "cell_type": "code",
   "execution_count": 95,
   "id": "b59c2c3e",
   "metadata": {},
   "outputs": [
    {
     "data": {
      "image/png": "[encoded data removed]",
      "text/plain": [
       "<Figure size 432x288 with 1 Axes>"
      ]
     },
     "metadata": {
      "needs_background": "light"
     },
     "output_type": "display_data"
    }
   ],
   "source": [
    "pd.Series(y_train_os).value_counts().plot.bar();"
   ]
  },
  {
   "cell_type": "markdown",
   "id": "f98e9c80",
   "metadata": {},
   "source": [
    "### KNN Model - SMOTE"
   ]
  },
  {
   "cell_type": "code",
   "execution_count": 96,
   "id": "d4c9032a",
   "metadata": {},
   "outputs": [],
   "source": [
    "#Instantiate\n",
    "knn_sm = KNeighborsClassifier(n_neighbors = 5)"
   ]
  },
  {
   "cell_type": "code",
   "execution_count": 97,
   "id": "d435a3e9",
   "metadata": {},
   "outputs": [
    {
     "data": {
      "text/plain": [
       "KNeighborsClassifier()"
      ]
     },
     "execution_count": 97,
     "metadata": {},
     "output_type": "execute_result"
    }
   ],
   "source": [
    "#Fit\n",
    "knn_sm.fit(X_train_sm, y_train_sm)"
   ]
  },
  {
   "cell_type": "code",
   "execution_count": 98,
   "id": "0bddfd9d",
   "metadata": {},
   "outputs": [],
   "source": [
    "#Predict\n",
    "y_pred_k_sm = knn_sm.predict(x_test)"
   ]
  },
  {
   "cell_type": "code",
   "execution_count": 99,
   "id": "a5c3c24e",
   "metadata": {
    "scrolled": true
   },
   "outputs": [
    {
     "name": "stdout",
     "output_type": "stream",
     "text": [
      "KNN Model - SMOTE : \n",
      "\n",
      "Accuracy =  60.567299917036856\n",
      "Precision =  71.25210341135077\n",
      "Recall =  62.33501179383375\n",
      "F1 =  66.49594460753259\n",
      "\n",
      "\n",
      "Confusion Matrix :\n",
      " [[20412 15034]\n",
      " [22515 37262]]\n"
     ]
    }
   ],
   "source": [
    "print('KNN Model - SMOTE : \\n')\n",
    "print('Accuracy = ', accuracy(y_test, y_pred_k_sm))\n",
    "print('Precision = ', precision(y_test, y_pred_k_sm))\n",
    "print('Recall = ', recall(y_test, y_pred_k_sm))\n",
    "print('F1 = ', F1(y_test, y_pred_k_sm))\n",
    "print('\\n')\n",
    "print('Confusion Matrix :\\n', confusion_matrix_(y_test, y_pred_k_sm))"
   ]
  },
  {
   "cell_type": "code",
   "execution_count": 100,
   "id": "8e71eba7",
   "metadata": {},
   "outputs": [],
   "source": [
    "knn_sm_repo = classification_report(y_test, y_pred_k_sm, output_dict = True)"
   ]
  },
  {
   "cell_type": "code",
   "execution_count": 101,
   "id": "46fdb328",
   "metadata": {},
   "outputs": [],
   "source": [
    "KNN_SM = pd.DataFrame(knn_sm_repo).transpose()"
   ]
  },
  {
   "cell_type": "code",
   "execution_count": 102,
   "id": "2063f328",
   "metadata": {},
   "outputs": [
    {
     "data": {
      "text/html": [
       "<div>\n",
       "<style scoped>\n",
       "    .dataframe tbody tr th:only-of-type {\n",
       "        vertical-align: middle;\n",
       "    }\n",
       "\n",
       "    .dataframe tbody tr th {\n",
       "        vertical-align: top;\n",
       "    }\n",
       "\n",
       "    .dataframe thead th {\n",
       "        text-align: right;\n",
       "    }\n",
       "</style>\n",
       "<table border=\"1\" class=\"dataframe\">\n",
       "  <thead>\n",
       "    <tr style=\"text-align: right;\">\n",
       "      <th></th>\n",
       "      <th>precision</th>\n",
       "      <th>recall</th>\n",
       "      <th>f1-score</th>\n",
       "      <th>support</th>\n",
       "    </tr>\n",
       "  </thead>\n",
       "  <tbody>\n",
       "    <tr>\n",
       "      <th>0</th>\n",
       "      <td>0.475505</td>\n",
       "      <td>0.575862</td>\n",
       "      <td>0.520894</td>\n",
       "      <td>35446.000000</td>\n",
       "    </tr>\n",
       "    <tr>\n",
       "      <th>1</th>\n",
       "      <td>0.712521</td>\n",
       "      <td>0.623350</td>\n",
       "      <td>0.664959</td>\n",
       "      <td>59777.000000</td>\n",
       "    </tr>\n",
       "    <tr>\n",
       "      <th>accuracy</th>\n",
       "      <td>0.605673</td>\n",
       "      <td>0.605673</td>\n",
       "      <td>0.605673</td>\n",
       "      <td>0.605673</td>\n",
       "    </tr>\n",
       "    <tr>\n",
       "      <th>macro avg</th>\n",
       "      <td>0.594013</td>\n",
       "      <td>0.599606</td>\n",
       "      <td>0.592927</td>\n",
       "      <td>95223.000000</td>\n",
       "    </tr>\n",
       "    <tr>\n",
       "      <th>weighted avg</th>\n",
       "      <td>0.624294</td>\n",
       "      <td>0.605673</td>\n",
       "      <td>0.611332</td>\n",
       "      <td>95223.000000</td>\n",
       "    </tr>\n",
       "  </tbody>\n",
       "</table>\n",
       "</div>"
      ],
      "text/plain": [
       "              precision    recall  f1-score       support\n",
       "0              0.475505  0.575862  0.520894  35446.000000\n",
       "1              0.712521  0.623350  0.664959  59777.000000\n",
       "accuracy       0.605673  0.605673  0.605673      0.605673\n",
       "macro avg      0.594013  0.599606  0.592927  95223.000000\n",
       "weighted avg   0.624294  0.605673  0.611332  95223.000000"
      ]
     },
     "execution_count": 102,
     "metadata": {},
     "output_type": "execute_result"
    }
   ],
   "source": [
    "KNN_SM"
   ]
  },
  {
   "cell_type": "markdown",
   "id": "f7c91330",
   "metadata": {},
   "source": [
    "### Logistic Regression Model - SMOTE"
   ]
  },
  {
   "cell_type": "code",
   "execution_count": 103,
   "id": "e37ba6fc",
   "metadata": {},
   "outputs": [],
   "source": [
    "lr_sm = LogisticRegression(solver = 'lbfgs')"
   ]
  },
  {
   "cell_type": "code",
   "execution_count": 104,
   "id": "f5e67414",
   "metadata": {},
   "outputs": [
    {
     "data": {
      "text/plain": [
       "LogisticRegression()"
      ]
     },
     "execution_count": 104,
     "metadata": {},
     "output_type": "execute_result"
    }
   ],
   "source": [
    "lr_sm.fit(X_train_sm, y_train_sm)"
   ]
  },
  {
   "cell_type": "code",
   "execution_count": 105,
   "id": "2936973e",
   "metadata": {},
   "outputs": [],
   "source": [
    "y_pred_lr_sm = lr_sm.predict(x_test)"
   ]
  },
  {
   "cell_type": "code",
   "execution_count": 106,
   "id": "2b3c1ead",
   "metadata": {
    "scrolled": true
   },
   "outputs": [
    {
     "name": "stdout",
     "output_type": "stream",
     "text": [
      "Logistic Regression Model - SMOTE : \n",
      "\n",
      "Accuracy =  62.31162639278326\n",
      "Precision =  77.73082905764632\n",
      "Recall =  56.009836559211735\n",
      "F1 =  65.1064657267866\n",
      "\n",
      "\n",
      "Confusion Matrix :\n",
      " [[25854  9592]\n",
      " [26296 33481]]\n"
     ]
    }
   ],
   "source": [
    "print('Logistic Regression Model - SMOTE : \\n')\n",
    "print('Accuracy = ', accuracy(y_test, y_pred_lr_sm))\n",
    "print('Precision = ', precision(y_test, y_pred_lr_sm))\n",
    "print('Recall = ', recall(y_test, y_pred_lr_sm))\n",
    "print('F1 = ', F1(y_test, y_pred_lr_sm))\n",
    "print('\\n')\n",
    "print('Confusion Matrix :\\n', confusion_matrix_(y_test, y_pred_lr_sm))"
   ]
  },
  {
   "cell_type": "code",
   "execution_count": 107,
   "id": "703ed57c",
   "metadata": {},
   "outputs": [],
   "source": [
    "lr_sm_repo = classification_report(y_test, y_pred_lr_sm, output_dict = True)"
   ]
  },
  {
   "cell_type": "code",
   "execution_count": 108,
   "id": "b8af1684",
   "metadata": {},
   "outputs": [],
   "source": [
    "LR_SM = pd.DataFrame(lr_sm_repo).transpose()"
   ]
  },
  {
   "cell_type": "code",
   "execution_count": 109,
   "id": "5959efe2",
   "metadata": {},
   "outputs": [
    {
     "data": {
      "text/html": [
       "<div>\n",
       "<style scoped>\n",
       "    .dataframe tbody tr th:only-of-type {\n",
       "        vertical-align: middle;\n",
       "    }\n",
       "\n",
       "    .dataframe tbody tr th {\n",
       "        vertical-align: top;\n",
       "    }\n",
       "\n",
       "    .dataframe thead th {\n",
       "        text-align: right;\n",
       "    }\n",
       "</style>\n",
       "<table border=\"1\" class=\"dataframe\">\n",
       "  <thead>\n",
       "    <tr style=\"text-align: right;\">\n",
       "      <th></th>\n",
       "      <th>precision</th>\n",
       "      <th>recall</th>\n",
       "      <th>f1-score</th>\n",
       "      <th>support</th>\n",
       "    </tr>\n",
       "  </thead>\n",
       "  <tbody>\n",
       "    <tr>\n",
       "      <th>0</th>\n",
       "      <td>0.495762</td>\n",
       "      <td>0.729391</td>\n",
       "      <td>0.590301</td>\n",
       "      <td>35446.000000</td>\n",
       "    </tr>\n",
       "    <tr>\n",
       "      <th>1</th>\n",
       "      <td>0.777308</td>\n",
       "      <td>0.560098</td>\n",
       "      <td>0.651065</td>\n",
       "      <td>59777.000000</td>\n",
       "    </tr>\n",
       "    <tr>\n",
       "      <th>accuracy</th>\n",
       "      <td>0.623116</td>\n",
       "      <td>0.623116</td>\n",
       "      <td>0.623116</td>\n",
       "      <td>0.623116</td>\n",
       "    </tr>\n",
       "    <tr>\n",
       "      <th>macro avg</th>\n",
       "      <td>0.636535</td>\n",
       "      <td>0.644745</td>\n",
       "      <td>0.620683</td>\n",
       "      <td>95223.000000</td>\n",
       "    </tr>\n",
       "    <tr>\n",
       "      <th>weighted avg</th>\n",
       "      <td>0.672505</td>\n",
       "      <td>0.623116</td>\n",
       "      <td>0.628446</td>\n",
       "      <td>95223.000000</td>\n",
       "    </tr>\n",
       "  </tbody>\n",
       "</table>\n",
       "</div>"
      ],
      "text/plain": [
       "              precision    recall  f1-score       support\n",
       "0              0.495762  0.729391  0.590301  35446.000000\n",
       "1              0.777308  0.560098  0.651065  59777.000000\n",
       "accuracy       0.623116  0.623116  0.623116      0.623116\n",
       "macro avg      0.636535  0.644745  0.620683  95223.000000\n",
       "weighted avg   0.672505  0.623116  0.628446  95223.000000"
      ]
     },
     "execution_count": 109,
     "metadata": {},
     "output_type": "execute_result"
    }
   ],
   "source": [
    "LR_SM"
   ]
  },
  {
   "cell_type": "markdown",
   "id": "c253fcdf",
   "metadata": {},
   "source": [
    "### Decision Tree Model - SMOTE"
   ]
  },
  {
   "cell_type": "code",
   "execution_count": 110,
   "id": "6f28087c",
   "metadata": {},
   "outputs": [],
   "source": [
    "dtree_sm = DecisionTreeClassifier()"
   ]
  },
  {
   "cell_type": "code",
   "execution_count": 111,
   "id": "7e52b4d0",
   "metadata": {},
   "outputs": [
    {
     "data": {
      "text/plain": [
       "DecisionTreeClassifier()"
      ]
     },
     "execution_count": 111,
     "metadata": {},
     "output_type": "execute_result"
    }
   ],
   "source": [
    "dtree_sm.fit(X_train_sm, y_train_sm)"
   ]
  },
  {
   "cell_type": "code",
   "execution_count": 112,
   "id": "7c020cdb",
   "metadata": {},
   "outputs": [],
   "source": [
    "y_pred_t_sm = dtree_sm.predict(x_test)"
   ]
  },
  {
   "cell_type": "code",
   "execution_count": 113,
   "id": "68d2a6ca",
   "metadata": {
    "scrolled": true
   },
   "outputs": [
    {
     "name": "stdout",
     "output_type": "stream",
     "text": [
      "Decision Tree Model - SMOTE : \n",
      "\n",
      "Accuracy =  61.441038404587125\n",
      "Precision =  69.58020582141765\n",
      "Recall =  68.54308513307794\n",
      "F1 =  69.05775178446525\n",
      "\n",
      "\n",
      "Confusion Matrix :\n",
      " [[17533 17913]\n",
      " [18804 40973]]\n"
     ]
    }
   ],
   "source": [
    "print('Decision Tree Model - SMOTE : \\n')\n",
    "print('Accuracy = ', accuracy(y_test, y_pred_t_sm))\n",
    "print('Precision = ', precision(y_test, y_pred_t_sm))\n",
    "print('Recall = ', recall(y_test, y_pred_t_sm))\n",
    "print('F1 = ', F1(y_test, y_pred_t_sm))\n",
    "print('\\n')\n",
    "print('Confusion Matrix :\\n', confusion_matrix_(y_test,  y_pred_t_sm))"
   ]
  },
  {
   "cell_type": "code",
   "execution_count": 114,
   "id": "6c2dbaa7",
   "metadata": {},
   "outputs": [],
   "source": [
    "dtree_sm_repo = classification_report(y_test, y_pred_t_sm, output_dict = True)"
   ]
  },
  {
   "cell_type": "code",
   "execution_count": 115,
   "id": "0af7cc3f",
   "metadata": {},
   "outputs": [],
   "source": [
    "DTREE_SM = pd.DataFrame(dtree_sm_repo).transpose()"
   ]
  },
  {
   "cell_type": "code",
   "execution_count": 116,
   "id": "3c215613",
   "metadata": {},
   "outputs": [
    {
     "data": {
      "text/html": [
       "<div>\n",
       "<style scoped>\n",
       "    .dataframe tbody tr th:only-of-type {\n",
       "        vertical-align: middle;\n",
       "    }\n",
       "\n",
       "    .dataframe tbody tr th {\n",
       "        vertical-align: top;\n",
       "    }\n",
       "\n",
       "    .dataframe thead th {\n",
       "        text-align: right;\n",
       "    }\n",
       "</style>\n",
       "<table border=\"1\" class=\"dataframe\">\n",
       "  <thead>\n",
       "    <tr style=\"text-align: right;\">\n",
       "      <th></th>\n",
       "      <th>precision</th>\n",
       "      <th>recall</th>\n",
       "      <th>f1-score</th>\n",
       "      <th>support</th>\n",
       "    </tr>\n",
       "  </thead>\n",
       "  <tbody>\n",
       "    <tr>\n",
       "      <th>0</th>\n",
       "      <td>0.482511</td>\n",
       "      <td>0.494640</td>\n",
       "      <td>0.488500</td>\n",
       "      <td>35446.00000</td>\n",
       "    </tr>\n",
       "    <tr>\n",
       "      <th>1</th>\n",
       "      <td>0.695802</td>\n",
       "      <td>0.685431</td>\n",
       "      <td>0.690578</td>\n",
       "      <td>59777.00000</td>\n",
       "    </tr>\n",
       "    <tr>\n",
       "      <th>accuracy</th>\n",
       "      <td>0.614410</td>\n",
       "      <td>0.614410</td>\n",
       "      <td>0.614410</td>\n",
       "      <td>0.61441</td>\n",
       "    </tr>\n",
       "    <tr>\n",
       "      <th>macro avg</th>\n",
       "      <td>0.589156</td>\n",
       "      <td>0.590035</td>\n",
       "      <td>0.589539</td>\n",
       "      <td>95223.00000</td>\n",
       "    </tr>\n",
       "    <tr>\n",
       "      <th>weighted avg</th>\n",
       "      <td>0.616406</td>\n",
       "      <td>0.614410</td>\n",
       "      <td>0.615356</td>\n",
       "      <td>95223.00000</td>\n",
       "    </tr>\n",
       "  </tbody>\n",
       "</table>\n",
       "</div>"
      ],
      "text/plain": [
       "              precision    recall  f1-score      support\n",
       "0              0.482511  0.494640  0.488500  35446.00000\n",
       "1              0.695802  0.685431  0.690578  59777.00000\n",
       "accuracy       0.614410  0.614410  0.614410      0.61441\n",
       "macro avg      0.589156  0.590035  0.589539  95223.00000\n",
       "weighted avg   0.616406  0.614410  0.615356  95223.00000"
      ]
     },
     "execution_count": 116,
     "metadata": {},
     "output_type": "execute_result"
    }
   ],
   "source": [
    "DTREE_SM"
   ]
  },
  {
   "cell_type": "markdown",
   "id": "9fef27fe",
   "metadata": {},
   "source": [
    "### Random Forest Model - SMOTE"
   ]
  },
  {
   "cell_type": "code",
   "execution_count": 117,
   "id": "c5e2a988",
   "metadata": {},
   "outputs": [],
   "source": [
    "rf_sm = RandomForestClassifier()"
   ]
  },
  {
   "cell_type": "code",
   "execution_count": 118,
   "id": "3de0b222",
   "metadata": {},
   "outputs": [
    {
     "data": {
      "text/plain": [
       "RandomForestClassifier()"
      ]
     },
     "execution_count": 118,
     "metadata": {},
     "output_type": "execute_result"
    }
   ],
   "source": [
    "rf_sm.fit(X_train_sm, y_train_sm)"
   ]
  },
  {
   "cell_type": "code",
   "execution_count": 119,
   "id": "af031e51",
   "metadata": {},
   "outputs": [],
   "source": [
    "y_pred_rf_sm = rf_sm.predict(x_test)"
   ]
  },
  {
   "cell_type": "code",
   "execution_count": 120,
   "id": "e6e2b076",
   "metadata": {
    "scrolled": true
   },
   "outputs": [
    {
     "name": "stdout",
     "output_type": "stream",
     "text": [
      "Random Forest Model - SMOTE : \n",
      "\n",
      "Accuracy =  70.49032271615052\n",
      "Precision =  74.16652680083614\n",
      "Recall =  81.31555615035883\n",
      "F1 =  77.57668613744455\n",
      "\n",
      "\n",
      "Confusion Matrix :\n",
      " [[18515 16931]\n",
      " [11169 48608]]\n"
     ]
    }
   ],
   "source": [
    "print('Random Forest Model - SMOTE : \\n')\n",
    "print('Accuracy = ', accuracy(y_test, y_pred_rf_sm))\n",
    "print('Precision = ', precision(y_test, y_pred_rf_sm))\n",
    "print('Recall = ', recall(y_test, y_pred_rf_sm))\n",
    "print('F1 = ', F1(y_test, y_pred_rf_sm))\n",
    "print('\\n')\n",
    "print('Confusion Matrix :\\n', confusion_matrix_(y_test, y_pred_rf_sm))"
   ]
  },
  {
   "cell_type": "code",
   "execution_count": 121,
   "id": "2af63881",
   "metadata": {},
   "outputs": [],
   "source": [
    "rf_sm_repo = classification_report(y_test, y_pred_rf_sm, output_dict = True)"
   ]
  },
  {
   "cell_type": "code",
   "execution_count": 122,
   "id": "9a266eb1",
   "metadata": {},
   "outputs": [],
   "source": [
    "RF_SM = pd.DataFrame(rf_sm_repo).transpose()"
   ]
  },
  {
   "cell_type": "code",
   "execution_count": 123,
   "id": "ec2e62dd",
   "metadata": {},
   "outputs": [
    {
     "data": {
      "text/html": [
       "<div>\n",
       "<style scoped>\n",
       "    .dataframe tbody tr th:only-of-type {\n",
       "        vertical-align: middle;\n",
       "    }\n",
       "\n",
       "    .dataframe tbody tr th {\n",
       "        vertical-align: top;\n",
       "    }\n",
       "\n",
       "    .dataframe thead th {\n",
       "        text-align: right;\n",
       "    }\n",
       "</style>\n",
       "<table border=\"1\" class=\"dataframe\">\n",
       "  <thead>\n",
       "    <tr style=\"text-align: right;\">\n",
       "      <th></th>\n",
       "      <th>precision</th>\n",
       "      <th>recall</th>\n",
       "      <th>f1-score</th>\n",
       "      <th>support</th>\n",
       "    </tr>\n",
       "  </thead>\n",
       "  <tbody>\n",
       "    <tr>\n",
       "      <th>0</th>\n",
       "      <td>0.623737</td>\n",
       "      <td>0.522344</td>\n",
       "      <td>0.568555</td>\n",
       "      <td>35446.000000</td>\n",
       "    </tr>\n",
       "    <tr>\n",
       "      <th>1</th>\n",
       "      <td>0.741665</td>\n",
       "      <td>0.813156</td>\n",
       "      <td>0.775767</td>\n",
       "      <td>59777.000000</td>\n",
       "    </tr>\n",
       "    <tr>\n",
       "      <th>accuracy</th>\n",
       "      <td>0.704903</td>\n",
       "      <td>0.704903</td>\n",
       "      <td>0.704903</td>\n",
       "      <td>0.704903</td>\n",
       "    </tr>\n",
       "    <tr>\n",
       "      <th>macro avg</th>\n",
       "      <td>0.682701</td>\n",
       "      <td>0.667750</td>\n",
       "      <td>0.672161</td>\n",
       "      <td>95223.000000</td>\n",
       "    </tr>\n",
       "    <tr>\n",
       "      <th>weighted avg</th>\n",
       "      <td>0.697767</td>\n",
       "      <td>0.704903</td>\n",
       "      <td>0.698634</td>\n",
       "      <td>95223.000000</td>\n",
       "    </tr>\n",
       "  </tbody>\n",
       "</table>\n",
       "</div>"
      ],
      "text/plain": [
       "              precision    recall  f1-score       support\n",
       "0              0.623737  0.522344  0.568555  35446.000000\n",
       "1              0.741665  0.813156  0.775767  59777.000000\n",
       "accuracy       0.704903  0.704903  0.704903      0.704903\n",
       "macro avg      0.682701  0.667750  0.672161  95223.000000\n",
       "weighted avg   0.697767  0.704903  0.698634  95223.000000"
      ]
     },
     "execution_count": 123,
     "metadata": {},
     "output_type": "execute_result"
    }
   ],
   "source": [
    "RF_SM"
   ]
  },
  {
   "cell_type": "markdown",
   "id": "65d461b3",
   "metadata": {},
   "source": [
    "## ROC & AUC - SMOTE"
   ]
  },
  {
   "cell_type": "code",
   "execution_count": 124,
   "id": "6636b30a",
   "metadata": {},
   "outputs": [],
   "source": [
    "ypred_prob_knn_sm = knn_sm.predict_proba(x_test)\n",
    "ypred_prob_lr_sm = lr_sm.predict_proba(x_test)\n",
    "ypred_prob_dtree_sm = dtree_sm.predict_proba(x_test)\n",
    "ypred_prob_rf_sm = rf_sm.predict_proba(x_test)"
   ]
  },
  {
   "cell_type": "code",
   "execution_count": 125,
   "id": "37d9eccd",
   "metadata": {},
   "outputs": [],
   "source": [
    "class1_probs_sm = ypred_prob_knn_sm[:, 1]\n",
    "class2_probs_sm = ypred_prob_lr_sm[:, 1]\n",
    "class3_probs_sm = ypred_prob_dtree_sm[:, 1]\n",
    "class4_probs_sm = ypred_prob_rf_sm[:, 1]"
   ]
  },
  {
   "cell_type": "code",
   "execution_count": 126,
   "id": "9e7e1b7a",
   "metadata": {},
   "outputs": [
    {
     "data": {
      "image/png": "[encoded data removed]",
      "text/plain": [
       "<Figure size 1440x720 with 1 Axes>"
      ]
     },
     "metadata": {
      "needs_background": "light"
     },
     "output_type": "display_data"
    }
   ],
   "source": [
    "plt.figure(figsize = (20, 10))\n",
    "plt.plot([0, 1], [0, 1], linestyle = '--', label = 'Baseline')\n",
    "\n",
    "fpr, tpr, _ = roc_curve(y_test, class1_probs_sm)\n",
    "fpr1, tpr1, _ = roc_curve(y_test, class2_probs_sm)\n",
    "fpr2, tpr2, _ = roc_curve(y_test, class3_probs_sm)\n",
    "fpr3, tpr3, _ = roc_curve(y_test, class4_probs_sm)\n",
    "\n",
    "\n",
    "auc1 = round(metrics.roc_auc_score(y_test, y_pred_k_sm,average = None),3)\n",
    "plt.plot(fpr, tpr, marker='.', label=('KNN Model - SMOTE, auc ='+str(auc1)))\n",
    "\n",
    "auc2 = round(metrics.roc_auc_score(y_test, y_pred_lr_sm,average = None),3)\n",
    "plt.plot(fpr1, tpr1, marker='.', label=('Logistic Regression Model - SMOTE, auc ='+str(auc2)))\n",
    "\n",
    "auc3 = round(metrics.roc_auc_score(y_test, y_pred_t_sm,average = None),3)\n",
    "plt.plot(fpr2, tpr2, marker='.', label=('Decision Tree Model - SMOTE, auc ='+str(auc3)))\n",
    "\n",
    "auc4 = round(metrics.roc_auc_score(y_test, y_pred_rf_sm,average = None),3)\n",
    "plt.plot(fpr3, tpr3, marker='.', label=('Random Forest Model - SMOTE, auc ='+str(auc4)))\n",
    "\n",
    "\n",
    "\n",
    "plt.xlabel('FPR')\n",
    "plt.ylabel('TPR')\n",
    "plt.legend();"
   ]
  },
  {
   "cell_type": "markdown",
   "id": "6909977d",
   "metadata": {},
   "source": [
    "### KNN Model - Oversampling"
   ]
  },
  {
   "cell_type": "code",
   "execution_count": 127,
   "id": "fe8bd1ae",
   "metadata": {},
   "outputs": [],
   "source": [
    "#Instantiate\n",
    "knn_os = KNeighborsClassifier(n_neighbors = 5)"
   ]
  },
  {
   "cell_type": "code",
   "execution_count": 128,
   "id": "f2295875",
   "metadata": {},
   "outputs": [
    {
     "data": {
      "text/plain": [
       "KNeighborsClassifier()"
      ]
     },
     "execution_count": 128,
     "metadata": {},
     "output_type": "execute_result"
    }
   ],
   "source": [
    "#Fit\n",
    "knn_os.fit(X_train_os, y_train_os)"
   ]
  },
  {
   "cell_type": "code",
   "execution_count": 129,
   "id": "06be93c4",
   "metadata": {},
   "outputs": [],
   "source": [
    "#Predict\n",
    "y_pred_k_os = knn_os.predict(x_test)"
   ]
  },
  {
   "cell_type": "code",
   "execution_count": 130,
   "id": "229940b8",
   "metadata": {
    "scrolled": true
   },
   "outputs": [
    {
     "name": "stdout",
     "output_type": "stream",
     "text": [
      "KNN Model - Oversampling : \n",
      "\n",
      "Accuracy =  60.47278493641242\n",
      "Precision =  70.71915244085055\n",
      "Recall =  63.20323870384931\n",
      "F1 =  66.75029372532045\n",
      "\n",
      "\n",
      "Confusion Matrix :\n",
      " [[19803 15643]\n",
      " [21996 37781]]\n"
     ]
    }
   ],
   "source": [
    "print('KNN Model - Oversampling : \\n')\n",
    "print('Accuracy = ', accuracy(y_test, y_pred_k_os))\n",
    "print('Precision = ', precision(y_test, y_pred_k_os))\n",
    "print('Recall = ', recall(y_test, y_pred_k_os))\n",
    "print('F1 = ', F1(y_test, y_pred_k_os))\n",
    "print('\\n')\n",
    "print('Confusion Matrix :\\n', confusion_matrix_(y_test, y_pred_k_os))"
   ]
  },
  {
   "cell_type": "code",
   "execution_count": 131,
   "id": "d112d9ef",
   "metadata": {},
   "outputs": [],
   "source": [
    "knn_os_repo = classification_report(y_test, y_pred_k_os, output_dict = True)"
   ]
  },
  {
   "cell_type": "code",
   "execution_count": 132,
   "id": "6e9d530e",
   "metadata": {},
   "outputs": [],
   "source": [
    "KNN_OS = pd.DataFrame(knn_os_repo).transpose()"
   ]
  },
  {
   "cell_type": "code",
   "execution_count": 133,
   "id": "8b0fc72d",
   "metadata": {},
   "outputs": [
    {
     "data": {
      "text/html": [
       "<div>\n",
       "<style scoped>\n",
       "    .dataframe tbody tr th:only-of-type {\n",
       "        vertical-align: middle;\n",
       "    }\n",
       "\n",
       "    .dataframe tbody tr th {\n",
       "        vertical-align: top;\n",
       "    }\n",
       "\n",
       "    .dataframe thead th {\n",
       "        text-align: right;\n",
       "    }\n",
       "</style>\n",
       "<table border=\"1\" class=\"dataframe\">\n",
       "  <thead>\n",
       "    <tr style=\"text-align: right;\">\n",
       "      <th></th>\n",
       "      <th>precision</th>\n",
       "      <th>recall</th>\n",
       "      <th>f1-score</th>\n",
       "      <th>support</th>\n",
       "    </tr>\n",
       "  </thead>\n",
       "  <tbody>\n",
       "    <tr>\n",
       "      <th>0</th>\n",
       "      <td>0.473767</td>\n",
       "      <td>0.558681</td>\n",
       "      <td>0.512732</td>\n",
       "      <td>35446.000000</td>\n",
       "    </tr>\n",
       "    <tr>\n",
       "      <th>1</th>\n",
       "      <td>0.707192</td>\n",
       "      <td>0.632032</td>\n",
       "      <td>0.667503</td>\n",
       "      <td>59777.000000</td>\n",
       "    </tr>\n",
       "    <tr>\n",
       "      <th>accuracy</th>\n",
       "      <td>0.604728</td>\n",
       "      <td>0.604728</td>\n",
       "      <td>0.604728</td>\n",
       "      <td>0.604728</td>\n",
       "    </tr>\n",
       "    <tr>\n",
       "      <th>macro avg</th>\n",
       "      <td>0.590479</td>\n",
       "      <td>0.595357</td>\n",
       "      <td>0.590118</td>\n",
       "      <td>95223.000000</td>\n",
       "    </tr>\n",
       "    <tr>\n",
       "      <th>weighted avg</th>\n",
       "      <td>0.620301</td>\n",
       "      <td>0.604728</td>\n",
       "      <td>0.609891</td>\n",
       "      <td>95223.000000</td>\n",
       "    </tr>\n",
       "  </tbody>\n",
       "</table>\n",
       "</div>"
      ],
      "text/plain": [
       "              precision    recall  f1-score       support\n",
       "0              0.473767  0.558681  0.512732  35446.000000\n",
       "1              0.707192  0.632032  0.667503  59777.000000\n",
       "accuracy       0.604728  0.604728  0.604728      0.604728\n",
       "macro avg      0.590479  0.595357  0.590118  95223.000000\n",
       "weighted avg   0.620301  0.604728  0.609891  95223.000000"
      ]
     },
     "execution_count": 133,
     "metadata": {},
     "output_type": "execute_result"
    }
   ],
   "source": [
    "KNN_OS"
   ]
  },
  {
   "cell_type": "markdown",
   "id": "91f5f809",
   "metadata": {},
   "source": [
    "### Logistic Regression Model - Oversampling"
   ]
  },
  {
   "cell_type": "code",
   "execution_count": 134,
   "id": "903bf5b3",
   "metadata": {},
   "outputs": [],
   "source": [
    "lr_os = LogisticRegression(solver = 'lbfgs')"
   ]
  },
  {
   "cell_type": "code",
   "execution_count": 135,
   "id": "5f7eaf67",
   "metadata": {},
   "outputs": [
    {
     "data": {
      "text/plain": [
       "LogisticRegression()"
      ]
     },
     "execution_count": 135,
     "metadata": {},
     "output_type": "execute_result"
    }
   ],
   "source": [
    "lr_os.fit(X_train_os, y_train_os)"
   ]
  },
  {
   "cell_type": "code",
   "execution_count": 136,
   "id": "d3c8bc9e",
   "metadata": {},
   "outputs": [],
   "source": [
    "y_pred_lr_os = lr_os.predict(x_test)"
   ]
  },
  {
   "cell_type": "code",
   "execution_count": 137,
   "id": "663bc375",
   "metadata": {},
   "outputs": [
    {
     "name": "stdout",
     "output_type": "stream",
     "text": [
      "Logistic Regression Model - Oversampling : \n",
      "\n",
      "Accuracy =  62.39984037469939\n",
      "Precision =  77.63713080168776\n",
      "Recall =  56.329357445171226\n",
      "F1 =  65.28871136619227\n",
      "\n",
      "\n",
      "Confusion Matrix :\n",
      " [[25747  9699]\n",
      " [26105 33672]]\n"
     ]
    }
   ],
   "source": [
    "print('Logistic Regression Model - Oversampling : \\n')\n",
    "print('Accuracy = ', accuracy(y_test, y_pred_lr_os))\n",
    "print('Precision = ', precision(y_test, y_pred_lr_os))\n",
    "print('Recall = ', recall(y_test, y_pred_lr_os))\n",
    "print('F1 = ', F1(y_test, y_pred_lr_os))\n",
    "print('\\n')\n",
    "print('Confusion Matrix :\\n', confusion_matrix_(y_test, y_pred_lr_os))"
   ]
  },
  {
   "cell_type": "code",
   "execution_count": 138,
   "id": "11a5589b",
   "metadata": {},
   "outputs": [],
   "source": [
    "lr_os_repo = classification_report(y_test, y_pred_lr_os, output_dict = True)"
   ]
  },
  {
   "cell_type": "code",
   "execution_count": 139,
   "id": "80b5d99a",
   "metadata": {},
   "outputs": [],
   "source": [
    "LR_OS = pd.DataFrame(lr_os_repo).transpose()"
   ]
  },
  {
   "cell_type": "code",
   "execution_count": 140,
   "id": "8168e789",
   "metadata": {},
   "outputs": [
    {
     "data": {
      "text/html": [
       "<div>\n",
       "<style scoped>\n",
       "    .dataframe tbody tr th:only-of-type {\n",
       "        vertical-align: middle;\n",
       "    }\n",
       "\n",
       "    .dataframe tbody tr th {\n",
       "        vertical-align: top;\n",
       "    }\n",
       "\n",
       "    .dataframe thead th {\n",
       "        text-align: right;\n",
       "    }\n",
       "</style>\n",
       "<table border=\"1\" class=\"dataframe\">\n",
       "  <thead>\n",
       "    <tr style=\"text-align: right;\">\n",
       "      <th></th>\n",
       "      <th>precision</th>\n",
       "      <th>recall</th>\n",
       "      <th>f1-score</th>\n",
       "      <th>support</th>\n",
       "    </tr>\n",
       "  </thead>\n",
       "  <tbody>\n",
       "    <tr>\n",
       "      <th>0</th>\n",
       "      <td>0.496548</td>\n",
       "      <td>0.726373</td>\n",
       "      <td>0.589865</td>\n",
       "      <td>35446.000000</td>\n",
       "    </tr>\n",
       "    <tr>\n",
       "      <th>1</th>\n",
       "      <td>0.776371</td>\n",
       "      <td>0.563294</td>\n",
       "      <td>0.652887</td>\n",
       "      <td>59777.000000</td>\n",
       "    </tr>\n",
       "    <tr>\n",
       "      <th>accuracy</th>\n",
       "      <td>0.623998</td>\n",
       "      <td>0.623998</td>\n",
       "      <td>0.623998</td>\n",
       "      <td>0.623998</td>\n",
       "    </tr>\n",
       "    <tr>\n",
       "      <th>macro avg</th>\n",
       "      <td>0.636460</td>\n",
       "      <td>0.644833</td>\n",
       "      <td>0.621376</td>\n",
       "      <td>95223.000000</td>\n",
       "    </tr>\n",
       "    <tr>\n",
       "      <th>weighted avg</th>\n",
       "      <td>0.672209</td>\n",
       "      <td>0.623998</td>\n",
       "      <td>0.629427</td>\n",
       "      <td>95223.000000</td>\n",
       "    </tr>\n",
       "  </tbody>\n",
       "</table>\n",
       "</div>"
      ],
      "text/plain": [
       "              precision    recall  f1-score       support\n",
       "0              0.496548  0.726373  0.589865  35446.000000\n",
       "1              0.776371  0.563294  0.652887  59777.000000\n",
       "accuracy       0.623998  0.623998  0.623998      0.623998\n",
       "macro avg      0.636460  0.644833  0.621376  95223.000000\n",
       "weighted avg   0.672209  0.623998  0.629427  95223.000000"
      ]
     },
     "execution_count": 140,
     "metadata": {},
     "output_type": "execute_result"
    }
   ],
   "source": [
    "LR_OS"
   ]
  },
  {
   "cell_type": "markdown",
   "id": "af474c6a",
   "metadata": {},
   "source": [
    "### Decision Tree Model - Oversampling"
   ]
  },
  {
   "cell_type": "code",
   "execution_count": 141,
   "id": "9257caa7",
   "metadata": {},
   "outputs": [],
   "source": [
    "dtree_os = DecisionTreeClassifier()"
   ]
  },
  {
   "cell_type": "code",
   "execution_count": 142,
   "id": "8b47abb5",
   "metadata": {},
   "outputs": [
    {
     "data": {
      "text/plain": [
       "DecisionTreeClassifier()"
      ]
     },
     "execution_count": 142,
     "metadata": {},
     "output_type": "execute_result"
    }
   ],
   "source": [
    "dtree_os.fit(X_train_os, y_train_os)"
   ]
  },
  {
   "cell_type": "code",
   "execution_count": 143,
   "id": "49910795",
   "metadata": {},
   "outputs": [],
   "source": [
    "y_pred_t_os = dtree_os.predict(x_test) "
   ]
  },
  {
   "cell_type": "code",
   "execution_count": 144,
   "id": "6dccecfb",
   "metadata": {
    "scrolled": true
   },
   "outputs": [
    {
     "name": "stdout",
     "output_type": "stream",
     "text": [
      "Decision Tree Model - Oversampling : \n",
      "\n",
      "Accuracy =  61.87475714900812\n",
      "Precision =  69.63380564431135\n",
      "Recall =  69.63380564431135\n",
      "F1 =  69.63380564431135\n",
      "\n",
      "\n",
      "Confusion Matrix :\n",
      " [[17294 18152]\n",
      " [18152 41625]]\n"
     ]
    }
   ],
   "source": [
    "print('Decision Tree Model - Oversampling : \\n')\n",
    "print('Accuracy = ', accuracy(y_test, y_pred_t_os))\n",
    "print('Precision = ', precision(y_test, y_pred_t_os))\n",
    "print('Recall = ', recall(y_test, y_pred_t_os))\n",
    "print('F1 = ', F1(y_test, y_pred_t_os))\n",
    "print('\\n')\n",
    "print('Confusion Matrix :\\n', confusion_matrix_(y_test,  y_pred_t_os))"
   ]
  },
  {
   "cell_type": "code",
   "execution_count": 145,
   "id": "15526487",
   "metadata": {},
   "outputs": [],
   "source": [
    "dtree_os_repo = classification_report(y_test, y_pred_t_os, output_dict = True)"
   ]
  },
  {
   "cell_type": "code",
   "execution_count": 146,
   "id": "ca09ea8d",
   "metadata": {},
   "outputs": [],
   "source": [
    "DTREE_OS = pd.DataFrame(dtree_os_repo).transpose()"
   ]
  },
  {
   "cell_type": "code",
   "execution_count": 147,
   "id": "29f8ab4a",
   "metadata": {},
   "outputs": [
    {
     "data": {
      "text/html": [
       "<div>\n",
       "<style scoped>\n",
       "    .dataframe tbody tr th:only-of-type {\n",
       "        vertical-align: middle;\n",
       "    }\n",
       "\n",
       "    .dataframe tbody tr th {\n",
       "        vertical-align: top;\n",
       "    }\n",
       "\n",
       "    .dataframe thead th {\n",
       "        text-align: right;\n",
       "    }\n",
       "</style>\n",
       "<table border=\"1\" class=\"dataframe\">\n",
       "  <thead>\n",
       "    <tr style=\"text-align: right;\">\n",
       "      <th></th>\n",
       "      <th>precision</th>\n",
       "      <th>recall</th>\n",
       "      <th>f1-score</th>\n",
       "      <th>support</th>\n",
       "    </tr>\n",
       "  </thead>\n",
       "  <tbody>\n",
       "    <tr>\n",
       "      <th>0</th>\n",
       "      <td>0.487897</td>\n",
       "      <td>0.487897</td>\n",
       "      <td>0.487897</td>\n",
       "      <td>35446.000000</td>\n",
       "    </tr>\n",
       "    <tr>\n",
       "      <th>1</th>\n",
       "      <td>0.696338</td>\n",
       "      <td>0.696338</td>\n",
       "      <td>0.696338</td>\n",
       "      <td>59777.000000</td>\n",
       "    </tr>\n",
       "    <tr>\n",
       "      <th>accuracy</th>\n",
       "      <td>0.618748</td>\n",
       "      <td>0.618748</td>\n",
       "      <td>0.618748</td>\n",
       "      <td>0.618748</td>\n",
       "    </tr>\n",
       "    <tr>\n",
       "      <th>macro avg</th>\n",
       "      <td>0.592118</td>\n",
       "      <td>0.592118</td>\n",
       "      <td>0.592118</td>\n",
       "      <td>95223.000000</td>\n",
       "    </tr>\n",
       "    <tr>\n",
       "      <th>weighted avg</th>\n",
       "      <td>0.618748</td>\n",
       "      <td>0.618748</td>\n",
       "      <td>0.618748</td>\n",
       "      <td>95223.000000</td>\n",
       "    </tr>\n",
       "  </tbody>\n",
       "</table>\n",
       "</div>"
      ],
      "text/plain": [
       "              precision    recall  f1-score       support\n",
       "0              0.487897  0.487897  0.487897  35446.000000\n",
       "1              0.696338  0.696338  0.696338  59777.000000\n",
       "accuracy       0.618748  0.618748  0.618748      0.618748\n",
       "macro avg      0.592118  0.592118  0.592118  95223.000000\n",
       "weighted avg   0.618748  0.618748  0.618748  95223.000000"
      ]
     },
     "execution_count": 147,
     "metadata": {},
     "output_type": "execute_result"
    }
   ],
   "source": [
    "DTREE_OS"
   ]
  },
  {
   "cell_type": "markdown",
   "id": "37994f12",
   "metadata": {},
   "source": [
    "### Random Forest Model - Oversampling"
   ]
  },
  {
   "cell_type": "code",
   "execution_count": 148,
   "id": "7c2824a4",
   "metadata": {},
   "outputs": [],
   "source": [
    "rf_os = RandomForestClassifier()"
   ]
  },
  {
   "cell_type": "code",
   "execution_count": 149,
   "id": "62a65671",
   "metadata": {},
   "outputs": [
    {
     "data": {
      "text/plain": [
       "RandomForestClassifier()"
      ]
     },
     "execution_count": 149,
     "metadata": {},
     "output_type": "execute_result"
    }
   ],
   "source": [
    "rf_os.fit(X_train_os, y_train_os)"
   ]
  },
  {
   "cell_type": "code",
   "execution_count": 150,
   "id": "b046716a",
   "metadata": {},
   "outputs": [],
   "source": [
    "y_pred_rf_os = rf_os.predict(x_test)"
   ]
  },
  {
   "cell_type": "code",
   "execution_count": 151,
   "id": "15ff8705",
   "metadata": {
    "scrolled": true
   },
   "outputs": [
    {
     "name": "stdout",
     "output_type": "stream",
     "text": [
      "Random Forest Model - Oversampling : \n",
      "\n",
      "Accuracy =  70.53127920775442\n",
      "Precision =  74.67940737051792\n",
      "Recall =  80.27502216571591\n",
      "F1 =  77.3761821450743\n",
      "\n",
      "\n",
      "Confusion Matrix :\n",
      " [[19176 16270]\n",
      " [11791 47986]]\n"
     ]
    }
   ],
   "source": [
    "print('Random Forest Model - Oversampling : \\n')\n",
    "print('Accuracy = ', accuracy(y_test, y_pred_rf_os))\n",
    "print('Precision = ', precision(y_test, y_pred_rf_os))\n",
    "print('Recall = ', recall(y_test, y_pred_rf_os))\n",
    "print('F1 = ', F1(y_test, y_pred_rf_os))\n",
    "print('\\n')\n",
    "print('Confusion Matrix :\\n', confusion_matrix_(y_test, y_pred_rf_os))"
   ]
  },
  {
   "cell_type": "code",
   "execution_count": 152,
   "id": "d561bac0",
   "metadata": {},
   "outputs": [],
   "source": [
    "rf_os_repo = classification_report(y_test, y_pred_rf_os, output_dict = True)"
   ]
  },
  {
   "cell_type": "code",
   "execution_count": 153,
   "id": "760f24a7",
   "metadata": {},
   "outputs": [],
   "source": [
    "RF_OS = pd.DataFrame(rf_os_repo).transpose()"
   ]
  },
  {
   "cell_type": "code",
   "execution_count": 154,
   "id": "72dceef4",
   "metadata": {},
   "outputs": [
    {
     "data": {
      "text/html": [
       "<div>\n",
       "<style scoped>\n",
       "    .dataframe tbody tr th:only-of-type {\n",
       "        vertical-align: middle;\n",
       "    }\n",
       "\n",
       "    .dataframe tbody tr th {\n",
       "        vertical-align: top;\n",
       "    }\n",
       "\n",
       "    .dataframe thead th {\n",
       "        text-align: right;\n",
       "    }\n",
       "</style>\n",
       "<table border=\"1\" class=\"dataframe\">\n",
       "  <thead>\n",
       "    <tr style=\"text-align: right;\">\n",
       "      <th></th>\n",
       "      <th>precision</th>\n",
       "      <th>recall</th>\n",
       "      <th>f1-score</th>\n",
       "      <th>support</th>\n",
       "    </tr>\n",
       "  </thead>\n",
       "  <tbody>\n",
       "    <tr>\n",
       "      <th>0</th>\n",
       "      <td>0.619240</td>\n",
       "      <td>0.540992</td>\n",
       "      <td>0.577477</td>\n",
       "      <td>35446.000000</td>\n",
       "    </tr>\n",
       "    <tr>\n",
       "      <th>1</th>\n",
       "      <td>0.746794</td>\n",
       "      <td>0.802750</td>\n",
       "      <td>0.773762</td>\n",
       "      <td>59777.000000</td>\n",
       "    </tr>\n",
       "    <tr>\n",
       "      <th>accuracy</th>\n",
       "      <td>0.705313</td>\n",
       "      <td>0.705313</td>\n",
       "      <td>0.705313</td>\n",
       "      <td>0.705313</td>\n",
       "    </tr>\n",
       "    <tr>\n",
       "      <th>macro avg</th>\n",
       "      <td>0.683017</td>\n",
       "      <td>0.671871</td>\n",
       "      <td>0.675620</td>\n",
       "      <td>95223.000000</td>\n",
       "    </tr>\n",
       "    <tr>\n",
       "      <th>weighted avg</th>\n",
       "      <td>0.699313</td>\n",
       "      <td>0.705313</td>\n",
       "      <td>0.700696</td>\n",
       "      <td>95223.000000</td>\n",
       "    </tr>\n",
       "  </tbody>\n",
       "</table>\n",
       "</div>"
      ],
      "text/plain": [
       "              precision    recall  f1-score       support\n",
       "0              0.619240  0.540992  0.577477  35446.000000\n",
       "1              0.746794  0.802750  0.773762  59777.000000\n",
       "accuracy       0.705313  0.705313  0.705313      0.705313\n",
       "macro avg      0.683017  0.671871  0.675620  95223.000000\n",
       "weighted avg   0.699313  0.705313  0.700696  95223.000000"
      ]
     },
     "execution_count": 154,
     "metadata": {},
     "output_type": "execute_result"
    }
   ],
   "source": [
    "RF_OS"
   ]
  },
  {
   "cell_type": "markdown",
   "id": "0af07f30",
   "metadata": {},
   "source": [
    "## ROC & AUC - Oversampling"
   ]
  },
  {
   "cell_type": "code",
   "execution_count": 155,
   "id": "dc83a132",
   "metadata": {},
   "outputs": [],
   "source": [
    "ypred_prob_knn_os = knn_os.predict_proba(x_test)\n",
    "ypred_prob_lr_os = lr_os.predict_proba(x_test)\n",
    "ypred_prob_dtree_os = dtree_os.predict_proba(x_test)\n",
    "ypred_prob_rf_os = rf_os.predict_proba(x_test)"
   ]
  },
  {
   "cell_type": "code",
   "execution_count": 156,
   "id": "865ebe46",
   "metadata": {},
   "outputs": [],
   "source": [
    "class1_probs_os = ypred_prob_knn_os[:, 1]\n",
    "class2_probs_os = ypred_prob_lr_os[:, 1]\n",
    "class3_probs_os = ypred_prob_dtree_os[:, 1]\n",
    "class4_probs_os = ypred_prob_rf_os[:, 1]"
   ]
  },
  {
   "cell_type": "code",
   "execution_count": 157,
   "id": "d43f415e",
   "metadata": {},
   "outputs": [
    {
     "data": {
      "image/png": "[encoded data removed]",
      "text/plain": [
       "<Figure size 1440x720 with 1 Axes>"
      ]
     },
     "metadata": {
      "needs_background": "light"
     },
     "output_type": "display_data"
    }
   ],
   "source": [
    "plt.figure(figsize = (20, 10))\n",
    "plt.plot([0, 1], [0, 1], linestyle = '--', label = 'Baseline')\n",
    "\n",
    "fpr, tpr, _ = roc_curve(y_test, class1_probs_os)\n",
    "fpr1, tpr1, _ = roc_curve(y_test, class2_probs_os)\n",
    "fpr2, tpr2, _ = roc_curve(y_test, class3_probs_os)\n",
    "fpr3, tpr3, _ = roc_curve(y_test, class4_probs_os)\n",
    "\n",
    "\n",
    "auc1 = round(metrics.roc_auc_score(y_test, y_pred_k_os,average = None),3)\n",
    "plt.plot(fpr, tpr, marker='.', label=('KNN Model - Oversampling, auc ='+str(auc1)))\n",
    "\n",
    "auc2 = round(metrics.roc_auc_score(y_test, y_pred_lr_os,average = None),3)\n",
    "plt.plot(fpr1, tpr1, marker='.', label=('Logistic Regression Model - Oversampling, auc ='+str(auc2)))\n",
    "\n",
    "auc3 = round(metrics.roc_auc_score(y_test, y_pred_t_os,average = None),3)\n",
    "plt.plot(fpr2, tpr2, marker='.', label=('Decision Tree Model - Oversampling, auc ='+str(auc3)))\n",
    "\n",
    "auc4 = round(metrics.roc_auc_score(y_test, y_pred_rf_os,average = None),3)\n",
    "plt.plot(fpr3, tpr3, marker='.', label=('Random Forest Model - Oversampling, auc ='+str(auc4)))\n",
    "\n",
    "\n",
    "\n",
    "plt.xlabel('FPR')\n",
    "plt.ylabel('TPR')\n",
    "plt.legend();"
   ]
  },
  {
   "cell_type": "code",
   "execution_count": null,
   "id": "8ac8779c",
   "metadata": {},
   "outputs": [],
   "source": []
  }
 ],
 "metadata": {
  "kernelspec": {
   "display_name": "Python 3",
   "language": "python",
   "name": "python3"
  },
  "language_info": {
   "codemirror_mode": {
    "name": "ipython",
    "version": 3
   },
   "file_extension": ".py",
   "mimetype": "text/x-python",
   "name": "python",
   "nbconvert_exporter": "python",
   "pygments_lexer": "ipython3",
   "version": "3.8.8"
  }
 },
 "nbformat": 4,
 "nbformat_minor": 5
}
