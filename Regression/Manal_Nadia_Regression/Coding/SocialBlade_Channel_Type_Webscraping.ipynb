{
 "cells": [
  {
   "cell_type": "code",
   "execution_count": 35,
   "id": "6f022791",
   "metadata": {},
   "outputs": [],
   "source": [
    "import time\n",
    "import requests as req\n",
    "import re\n",
    "from selenium import webdriver\n",
    "from bs4 import BeautifulSoup\n",
    "import pandas as pd"
   ]
  },
  {
   "cell_type": "code",
   "execution_count": 36,
   "id": "ad226b6d",
   "metadata": {},
   "outputs": [
    {
     "name": "stderr",
     "output_type": "stream",
     "text": [
      "<ipython-input-36-412fcf5427c8>:2: DeprecationWarning: executable_path has been deprecated, please pass in a Service object\n",
      "  driver = webdriver.Chrome(location_webdriver)\n"
     ]
    }
   ],
   "source": [
    "location_webdriver = r\"C:\\Users\\Manal\\Downloads\\chromedriver_win32\\chromedriver.exe\"\n",
    "driver = webdriver.Chrome(location_webdriver)"
   ]
  },
  {
   "cell_type": "code",
   "execution_count": 37,
   "id": "4e195ef5",
   "metadata": {},
   "outputs": [],
   "source": [
    "def get_page_info(soup, channel_title):\n",
    "                        \n",
    "    CHANNEL_TYPE = []\n",
    "\n",
    "    for i in (soup.find_all('div', {'id': 'YouTubeUserTopInfoBlockTop'})) :\n",
    "        rows = i.find_all('div', {'class': 'YouTubeUserTopInfo' })\n",
    "        for j in rows :\n",
    "            cols = j.find_all('a', {'id' : 'youtube-user-page-channeltype', 'style' : \"color:#555;\"})\n",
    "            for index, row in enumerate(cols) :\n",
    "                if index == 0 :\n",
    "                    CHANNEL_TYPE.append(row.text.strip())\n",
    "                else :\n",
    "                    continue\n",
    "    \n",
    "    \n",
    "    headers = ['Channel', 'CHANNEL_TYPE']\n",
    "    \n",
    "    return dict(zip(headers, [channel_title,\n",
    "                                    CHANNEL_TYPE,\n",
    "                                    ]))\n",
    "    \n"
   ]
  },
  {
   "cell_type": "code",
   "execution_count": 38,
   "id": "b1492b6a",
   "metadata": {},
   "outputs": [
    {
     "name": "stderr",
     "output_type": "stream",
     "text": [
      "<ipython-input-38-17672ea67177>:2: DeprecationWarning: find_element_by_* commands are deprecated. Please use find_element() instead\n",
      "  search = driver.find_element_by_xpath('//*[@id=\"SearchInput\"]')\n"
     ]
    }
   ],
   "source": [
    "driver.get(\"https://socialblade.com/youtube/\")\n",
    "search = driver.find_element_by_xpath('//*[@id=\"SearchInput\"]')\n",
    "search.send_keys('T-Series')"
   ]
  },
  {
   "cell_type": "code",
   "execution_count": 39,
   "id": "4ac1a193",
   "metadata": {},
   "outputs": [
    {
     "name": "stderr",
     "output_type": "stream",
     "text": [
      "<ipython-input-39-7ef0726e10a2>:1: DeprecationWarning: find_element_by_* commands are deprecated. Please use find_element() instead\n",
      "  driver.find_element_by_xpath('/html/body/div[7]/div/div[2]/form/div[1]/button/i').click()\n"
     ]
    }
   ],
   "source": [
    "driver.find_element_by_xpath('/html/body/div[7]/div/div[2]/form/div[1]/button/i').click()\n",
    "time.sleep(5)\n",
    "driver.get(driver.current_url)\n",
    "soup = BeautifulSoup(driver.page_source)"
   ]
  },
  {
   "cell_type": "code",
   "execution_count": 40,
   "id": "e513184e",
   "metadata": {},
   "outputs": [
    {
     "data": {
      "text/html": [
       "<div>\n",
       "<style scoped>\n",
       "    .dataframe tbody tr th:only-of-type {\n",
       "        vertical-align: middle;\n",
       "    }\n",
       "\n",
       "    .dataframe tbody tr th {\n",
       "        vertical-align: top;\n",
       "    }\n",
       "\n",
       "    .dataframe thead th {\n",
       "        text-align: right;\n",
       "    }\n",
       "</style>\n",
       "<table border=\"1\" class=\"dataframe\">\n",
       "  <thead>\n",
       "    <tr style=\"text-align: right;\">\n",
       "      <th></th>\n",
       "      <th>Channel</th>\n",
       "      <th>CHANNEL_TYPE</th>\n",
       "    </tr>\n",
       "  </thead>\n",
       "  <tbody>\n",
       "    <tr>\n",
       "      <th>0</th>\n",
       "      <td>T-Series</td>\n",
       "      <td>Music</td>\n",
       "    </tr>\n",
       "  </tbody>\n",
       "</table>\n",
       "</div>"
      ],
      "text/plain": [
       "    Channel CHANNEL_TYPE\n",
       "0  T-Series        Music"
      ]
     },
     "execution_count": 40,
     "metadata": {},
     "output_type": "execute_result"
    }
   ],
   "source": [
    "pd.DataFrame(get_page_info(soup, 'T-Series'))"
   ]
  },
  {
   "cell_type": "code",
   "execution_count": 41,
   "id": "a120a8cd",
   "metadata": {},
   "outputs": [
    {
     "data": {
      "text/html": [
       "<div>\n",
       "<style scoped>\n",
       "    .dataframe tbody tr th:only-of-type {\n",
       "        vertical-align: middle;\n",
       "    }\n",
       "\n",
       "    .dataframe tbody tr th {\n",
       "        vertical-align: top;\n",
       "    }\n",
       "\n",
       "    .dataframe thead th {\n",
       "        text-align: right;\n",
       "    }\n",
       "</style>\n",
       "<table border=\"1\" class=\"dataframe\">\n",
       "  <thead>\n",
       "    <tr style=\"text-align: right;\">\n",
       "      <th></th>\n",
       "      <th>Pos</th>\n",
       "      <th>Channel</th>\n",
       "      <th>Views</th>\n",
       "      <th>Subscriber</th>\n",
       "      <th>Vidoes</th>\n",
       "      <th>Published</th>\n",
       "    </tr>\n",
       "  </thead>\n",
       "  <tbody>\n",
       "    <tr>\n",
       "      <th>0</th>\n",
       "      <td>1</td>\n",
       "      <td>T-Series</td>\n",
       "      <td>157,452,055,214</td>\n",
       "      <td>185,000,000</td>\n",
       "      <td>15,528</td>\n",
       "      <td>2006-03-13</td>\n",
       "    </tr>\n",
       "    <tr>\n",
       "      <th>1</th>\n",
       "      <td>2</td>\n",
       "      <td>Cocomelon - Nursery Rhymes</td>\n",
       "      <td>103,803,532,922</td>\n",
       "      <td>113,000,000</td>\n",
       "      <td>654</td>\n",
       "      <td>2006-09-01</td>\n",
       "    </tr>\n",
       "    <tr>\n",
       "      <th>2</th>\n",
       "      <td>3</td>\n",
       "      <td>SET India</td>\n",
       "      <td>90,768,285,232</td>\n",
       "      <td>107,000,000</td>\n",
       "      <td>59,421</td>\n",
       "      <td>2006-09-20</td>\n",
       "    </tr>\n",
       "    <tr>\n",
       "      <th>3</th>\n",
       "      <td>4</td>\n",
       "      <td>WWE</td>\n",
       "      <td>59,710,652,499</td>\n",
       "      <td>78,500,000</td>\n",
       "      <td>55,466</td>\n",
       "      <td>2007-05-11</td>\n",
       "    </tr>\n",
       "    <tr>\n",
       "      <th>4</th>\n",
       "      <td>5</td>\n",
       "      <td>Like Nastya</td>\n",
       "      <td>58,866,363,302</td>\n",
       "      <td>74,700,000</td>\n",
       "      <td>589</td>\n",
       "      <td>2016-12-06</td>\n",
       "    </tr>\n",
       "  </tbody>\n",
       "</table>\n",
       "</div>"
      ],
      "text/plain": [
       "   Pos                     Channel            Views   Subscriber   Vidoes  \\\n",
       "0    1                    T-Series  157,452,055,214  185,000,000   15,528   \n",
       "1    2  Cocomelon - Nursery Rhymes  103,803,532,922  113,000,000      654   \n",
       "2    3                   SET India   90,768,285,232  107,000,000   59,421   \n",
       "3    4                         WWE   59,710,652,499   78,500,000   55,466   \n",
       "4    5                 Like Nastya   58,866,363,302   74,700,000      589   \n",
       "\n",
       "    Published  \n",
       "0  2006-03-13  \n",
       "1  2006-09-01  \n",
       "2  2006-09-20  \n",
       "3  2007-05-11  \n",
       "4  2016-12-06  "
      ]
     },
     "execution_count": 41,
     "metadata": {},
     "output_type": "execute_result"
    }
   ],
   "source": [
    "df = pd.read_csv(\"Top_1000_Youtube_Channels.csv\")\n",
    "df.head()"
   ]
  },
  {
   "cell_type": "code",
   "execution_count": 42,
   "id": "32afb643",
   "metadata": {},
   "outputs": [
    {
     "name": "stderr",
     "output_type": "stream",
     "text": [
      "<ipython-input-42-21b566c89813>:5: DeprecationWarning: find_element_by_* commands are deprecated. Please use find_element() instead\n",
      "  search = driver.find_element_by_xpath('//*[@id=\"SearchInput\"]')\n",
      "<ipython-input-42-21b566c89813>:7: DeprecationWarning: find_element_by_* commands are deprecated. Please use find_element() instead\n",
      "  driver.find_element_by_xpath('/html/body/div[7]/div/div[2]/form/div[1]/button/i').click()\n"
     ]
    }
   ],
   "source": [
    "df_list = []\n",
    "counter = 0\n",
    "\n",
    "for channel in df.Channel.values:\n",
    "    search = driver.find_element_by_xpath('//*[@id=\"SearchInput\"]')\n",
    "    search.send_keys(channel)\n",
    "    driver.find_element_by_xpath('/html/body/div[7]/div/div[2]/form/div[1]/button/i').click()\n",
    "    time.sleep(10)\n",
    "    driver.get(driver.current_url)\n",
    "    soup = BeautifulSoup(driver.page_source)\n",
    "    df_list.append(pd.DataFrame(get_page_info(soup, channel)) )"
   ]
  },
  {
   "cell_type": "code",
   "execution_count": 43,
   "id": "9cf8d987",
   "metadata": {},
   "outputs": [
    {
     "data": {
      "text/html": [
       "<div>\n",
       "<style scoped>\n",
       "    .dataframe tbody tr th:only-of-type {\n",
       "        vertical-align: middle;\n",
       "    }\n",
       "\n",
       "    .dataframe tbody tr th {\n",
       "        vertical-align: top;\n",
       "    }\n",
       "\n",
       "    .dataframe thead th {\n",
       "        text-align: right;\n",
       "    }\n",
       "</style>\n",
       "<table border=\"1\" class=\"dataframe\">\n",
       "  <thead>\n",
       "    <tr style=\"text-align: right;\">\n",
       "      <th></th>\n",
       "      <th>Channel</th>\n",
       "      <th>CHANNEL_TYPE</th>\n",
       "    </tr>\n",
       "  </thead>\n",
       "  <tbody>\n",
       "    <tr>\n",
       "      <th>0</th>\n",
       "      <td>T-Series</td>\n",
       "      <td>Music</td>\n",
       "    </tr>\n",
       "    <tr>\n",
       "      <th>0</th>\n",
       "      <td>Cocomelon - Nursery Rhymes</td>\n",
       "      <td>Education</td>\n",
       "    </tr>\n",
       "    <tr>\n",
       "      <th>0</th>\n",
       "      <td>SET India</td>\n",
       "      <td>Entertainment</td>\n",
       "    </tr>\n",
       "    <tr>\n",
       "      <th>0</th>\n",
       "      <td>WWE</td>\n",
       "      <td>Sports</td>\n",
       "    </tr>\n",
       "    <tr>\n",
       "      <th>0</th>\n",
       "      <td>Like Nastya</td>\n",
       "      <td>Entertainment</td>\n",
       "    </tr>\n",
       "    <tr>\n",
       "      <th>...</th>\n",
       "      <td>...</td>\n",
       "      <td>...</td>\n",
       "    </tr>\n",
       "    <tr>\n",
       "      <th>0</th>\n",
       "      <td>또봇 V · 메탈리온 [Tobot V · Metalions]</td>\n",
       "      <td>Film</td>\n",
       "    </tr>\n",
       "    <tr>\n",
       "      <th>0</th>\n",
       "      <td>planbVEVO</td>\n",
       "      <td>Music</td>\n",
       "    </tr>\n",
       "    <tr>\n",
       "      <th>0</th>\n",
       "      <td>TheSoundYouNeed</td>\n",
       "      <td>Music</td>\n",
       "    </tr>\n",
       "    <tr>\n",
       "      <th>0</th>\n",
       "      <td>Ch3Thailand Music</td>\n",
       "      <td>Music</td>\n",
       "    </tr>\n",
       "    <tr>\n",
       "      <th>0</th>\n",
       "      <td>kougeisha</td>\n",
       "      <td>Games</td>\n",
       "    </tr>\n",
       "  </tbody>\n",
       "</table>\n",
       "<p>996 rows × 2 columns</p>\n",
       "</div>"
      ],
      "text/plain": [
       "                              Channel   CHANNEL_TYPE\n",
       "0                            T-Series          Music\n",
       "0          Cocomelon - Nursery Rhymes      Education\n",
       "0                           SET India  Entertainment\n",
       "0                                 WWE         Sports\n",
       "0                         Like Nastya  Entertainment\n",
       "..                                ...            ...\n",
       "0   또봇 V · 메탈리온 [Tobot V · Metalions]           Film\n",
       "0                           planbVEVO          Music\n",
       "0                     TheSoundYouNeed          Music\n",
       "0                   Ch3Thailand Music          Music\n",
       "0                           kougeisha          Games\n",
       "\n",
       "[996 rows x 2 columns]"
      ]
     },
     "execution_count": 43,
     "metadata": {},
     "output_type": "execute_result"
    }
   ],
   "source": [
    "df_new = pd.concat(df_list)\n",
    "df_new"
   ]
  },
  {
   "cell_type": "code",
   "execution_count": 45,
   "id": "597af04c",
   "metadata": {},
   "outputs": [],
   "source": [
    "df_new.to_csv(\"SocialBlade_type.csv\", index = False)"
   ]
  },
  {
   "cell_type": "code",
   "execution_count": null,
   "id": "eb6cfb89",
   "metadata": {},
   "outputs": [],
   "source": []
  }
 ],
 "metadata": {
  "kernelspec": {
   "display_name": "Python 3",
   "language": "python",
   "name": "python3"
  },
  "language_info": {
   "codemirror_mode": {
    "name": "ipython",
    "version": 3
   },
   "file_extension": ".py",
   "mimetype": "text/x-python",
   "name": "python",
   "nbconvert_exporter": "python",
   "pygments_lexer": "ipython3",
   "version": "3.8.8"
  }
 },
 "nbformat": 4,
 "nbformat_minor": 5
}
