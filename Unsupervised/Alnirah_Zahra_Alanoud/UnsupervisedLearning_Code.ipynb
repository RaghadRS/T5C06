{
 "cells": [
  {
   "cell_type": "markdown",
   "id": "ad6bde00",
   "metadata": {},
   "source": [
    "# Import libraries"
   ]
  },
  {
   "cell_type": "code",
   "execution_count": 258,
   "id": "b334dce7",
   "metadata": {},
   "outputs": [],
   "source": [
    "%matplotlib inline\n",
    "import matplotlib.pyplot as plt\n",
    "import pandas as pd\n",
    "import pandas as pd\n",
    "import numpy as np\n",
    "import seaborn as sns\n",
    "from plotly import graph_objs as go\n",
    "import plotly.express as px\n",
    "import plotly.figure_factory as ff\n",
    "from collections import Counter\n",
    "\n",
    "from PIL import Image\n",
    "from wordcloud import WordCloud, STOPWORDS, ImageColorGenerator\n",
    "\n",
    "\n",
    "import nltk\n",
    "from nltk.corpus import stopwords\n",
    "from nltk.tokenize import word_tokenize\n",
    "\n",
    "from tqdm import tqdm\n",
    "import os\n",
    "import nltk\n",
    "import spacy\n",
    "import random\n",
    "from spacy.util import compounding\n",
    "from spacy.util import minibatch\n",
    "\n",
    "from collections import defaultdict\n",
    "from collections import Counter\n",
    "\n",
    "import keras\n",
    "from keras.models import Sequential\n",
    "from keras.initializers import Constant\n",
    "from keras.layers import (LSTM, \n",
    "                          Embedding, \n",
    "                          BatchNormalization,\n",
    "                          Dense, \n",
    "                          TimeDistributed, \n",
    "                          Dropout, \n",
    "                          Bidirectional,\n",
    "                          Flatten, \n",
    "                          GlobalMaxPool1D)\n",
    "from keras.preprocessing.text import Tokenizer\n",
    "from keras.preprocessing.sequence import pad_sequences\n",
    "from keras.layers.embeddings import Embedding\n",
    "from keras.callbacks import ModelCheckpoint, ReduceLROnPlateau"
   ]
  },
  {
   "cell_type": "code",
   "execution_count": 259,
   "id": "e06a7297",
   "metadata": {
    "scrolled": false
   },
   "outputs": [
    {
     "data": {
      "text/html": [
       "<div>\n",
       "<style scoped>\n",
       "    .dataframe tbody tr th:only-of-type {\n",
       "        vertical-align: middle;\n",
       "    }\n",
       "\n",
       "    .dataframe tbody tr th {\n",
       "        vertical-align: top;\n",
       "    }\n",
       "\n",
       "    .dataframe thead th {\n",
       "        text-align: right;\n",
       "    }\n",
       "</style>\n",
       "<table border=\"1\" class=\"dataframe\">\n",
       "  <thead>\n",
       "    <tr style=\"text-align: right;\">\n",
       "      <th></th>\n",
       "      <th>Date</th>\n",
       "      <th>Time</th>\n",
       "      <th>Location</th>\n",
       "      <th>Operator</th>\n",
       "      <th>Flight #</th>\n",
       "      <th>Route</th>\n",
       "      <th>Type</th>\n",
       "      <th>Registration</th>\n",
       "      <th>cn/In</th>\n",
       "      <th>Aboard</th>\n",
       "      <th>Fatalities</th>\n",
       "      <th>Ground</th>\n",
       "      <th>Summary</th>\n",
       "    </tr>\n",
       "  </thead>\n",
       "  <tbody>\n",
       "    <tr>\n",
       "      <th>0</th>\n",
       "      <td>09/17/1908</td>\n",
       "      <td>17:18</td>\n",
       "      <td>Fort Myer, Virginia</td>\n",
       "      <td>Military - U.S. Army</td>\n",
       "      <td>NaN</td>\n",
       "      <td>Demonstration</td>\n",
       "      <td>Wright Flyer III</td>\n",
       "      <td>NaN</td>\n",
       "      <td>1</td>\n",
       "      <td>2.0</td>\n",
       "      <td>1.0</td>\n",
       "      <td>0.0</td>\n",
       "      <td>During a demonstration flight, a U.S. Army flyer flown by Orville Wright nose-dived into the ground from a height of approximately 75 feet, killing Lt. Thomas E. Selfridge who was a passenger. This was the first recorded airplane fatality in history.  One of two propellers separated in flight, tearing loose the wires bracing the rudder and causing the loss of control of the aircraft.  Orville Wright suffered broken ribs, pelvis and a leg.  Selfridge suffered a crushed skull and died a short time later.</td>\n",
       "    </tr>\n",
       "    <tr>\n",
       "      <th>1</th>\n",
       "      <td>07/12/1912</td>\n",
       "      <td>06:30</td>\n",
       "      <td>AtlantiCity, New Jersey</td>\n",
       "      <td>Military - U.S. Navy</td>\n",
       "      <td>NaN</td>\n",
       "      <td>Test flight</td>\n",
       "      <td>Dirigible</td>\n",
       "      <td>NaN</td>\n",
       "      <td>NaN</td>\n",
       "      <td>5.0</td>\n",
       "      <td>5.0</td>\n",
       "      <td>0.0</td>\n",
       "      <td>First U.S. dirigible Akron exploded just offshore at an altitude of 1,000 ft. during a test flight.</td>\n",
       "    </tr>\n",
       "    <tr>\n",
       "      <th>2</th>\n",
       "      <td>08/06/1913</td>\n",
       "      <td>NaN</td>\n",
       "      <td>Victoria, British Columbia, Canada</td>\n",
       "      <td>Private</td>\n",
       "      <td>-</td>\n",
       "      <td>NaN</td>\n",
       "      <td>Curtiss seaplane</td>\n",
       "      <td>NaN</td>\n",
       "      <td>NaN</td>\n",
       "      <td>1.0</td>\n",
       "      <td>1.0</td>\n",
       "      <td>0.0</td>\n",
       "      <td>The first fatal airplane accident in Canada occurred when American barnstormer, John M. Bryant, California aviator was killed.</td>\n",
       "    </tr>\n",
       "    <tr>\n",
       "      <th>3</th>\n",
       "      <td>09/09/1913</td>\n",
       "      <td>18:30</td>\n",
       "      <td>Over the North Sea</td>\n",
       "      <td>Military - German Navy</td>\n",
       "      <td>NaN</td>\n",
       "      <td>NaN</td>\n",
       "      <td>Zeppelin L-1 (airship)</td>\n",
       "      <td>NaN</td>\n",
       "      <td>NaN</td>\n",
       "      <td>20.0</td>\n",
       "      <td>14.0</td>\n",
       "      <td>0.0</td>\n",
       "      <td>The airship flew into a thunderstorm and encountered a severe downdraft crashing 20 miles north of Helgoland Island into the sea. The ship broke in two and the control car immediately sank drowning its occupants.</td>\n",
       "    </tr>\n",
       "    <tr>\n",
       "      <th>4</th>\n",
       "      <td>10/17/1913</td>\n",
       "      <td>10:30</td>\n",
       "      <td>Near Johannisthal, Germany</td>\n",
       "      <td>Military - German Navy</td>\n",
       "      <td>NaN</td>\n",
       "      <td>NaN</td>\n",
       "      <td>Zeppelin L-2 (airship)</td>\n",
       "      <td>NaN</td>\n",
       "      <td>NaN</td>\n",
       "      <td>30.0</td>\n",
       "      <td>30.0</td>\n",
       "      <td>0.0</td>\n",
       "      <td>Hydrogen gas which was being vented was sucked into the forward engine and ignited causing the airship to explode and burn at 3,000 ft..</td>\n",
       "    </tr>\n",
       "  </tbody>\n",
       "</table>\n",
       "</div>"
      ],
      "text/plain": [
       "         Date   Time                            Location  \\\n",
       "0  09/17/1908  17:18  Fort Myer, Virginia                  \n",
       "1  07/12/1912  06:30  AtlantiCity, New Jersey              \n",
       "2  08/06/1913  NaN    Victoria, British Columbia, Canada   \n",
       "3  09/09/1913  18:30  Over the North Sea                   \n",
       "4  10/17/1913  10:30  Near Johannisthal, Germany           \n",
       "\n",
       "                 Operator Flight #          Route                    Type  \\\n",
       "0  Military - U.S. Army    NaN      Demonstration  Wright Flyer III         \n",
       "1  Military - U.S. Navy    NaN      Test flight    Dirigible                \n",
       "2  Private                 -        NaN            Curtiss seaplane         \n",
       "3  Military - German Navy  NaN      NaN            Zeppelin L-1 (airship)   \n",
       "4  Military - German Navy  NaN      NaN            Zeppelin L-2 (airship)   \n",
       "\n",
       "  Registration cn/In  Aboard  Fatalities  Ground  \\\n",
       "0  NaN          1     2.0     1.0         0.0      \n",
       "1  NaN          NaN   5.0     5.0         0.0      \n",
       "2  NaN          NaN   1.0     1.0         0.0      \n",
       "3  NaN          NaN   20.0    14.0        0.0      \n",
       "4  NaN          NaN   30.0    30.0        0.0      \n",
       "\n",
       "                                                                                                                                                                                                                                                                                                                                                                                                                                                                                                                       Summary  \n",
       "0  During a demonstration flight, a U.S. Army flyer flown by Orville Wright nose-dived into the ground from a height of approximately 75 feet, killing Lt. Thomas E. Selfridge who was a passenger. This was the first recorded airplane fatality in history.  One of two propellers separated in flight, tearing loose the wires bracing the rudder and causing the loss of control of the aircraft.  Orville Wright suffered broken ribs, pelvis and a leg.  Selfridge suffered a crushed skull and died a short time later.  \n",
       "1  First U.S. dirigible Akron exploded just offshore at an altitude of 1,000 ft. during a test flight.                                                                                                                                                                                                                                                                                                                                                                                                                          \n",
       "2  The first fatal airplane accident in Canada occurred when American barnstormer, John M. Bryant, California aviator was killed.                                                                                                                                                                                                                                                                                                                                                                                               \n",
       "3  The airship flew into a thunderstorm and encountered a severe downdraft crashing 20 miles north of Helgoland Island into the sea. The ship broke in two and the control car immediately sank drowning its occupants.                                                                                                                                                                                                                                                                                                         \n",
       "4  Hydrogen gas which was being vented was sucked into the forward engine and ignited causing the airship to explode and burn at 3,000 ft..                                                                                                                                                                                                                                                                                                                                                                                     "
      ]
     },
     "execution_count": 259,
     "metadata": {},
     "output_type": "execute_result"
    }
   ],
   "source": [
    "df=pd.read_csv('Airplane_Crashes_and_Fatalities_Since_1908.csv')\n",
    "df.head()"
   ]
  },
  {
   "cell_type": "code",
   "execution_count": 260,
   "id": "7e502884",
   "metadata": {},
   "outputs": [
    {
     "data": {
      "text/plain": [
       "0    1908\n",
       "1    1912\n",
       "2    1913\n",
       "3    1913\n",
       "4    1913\n",
       "Name: Year, dtype: int64"
      ]
     },
     "execution_count": 260,
     "metadata": {},
     "output_type": "execute_result"
    }
   ],
   "source": [
    "df['Year'] = pd.DatetimeIndex(df['Date']).year\n",
    "df['Year'].head(5)"
   ]
  },
  {
   "cell_type": "markdown",
   "id": "107b14da",
   "metadata": {},
   "source": [
    "# Data Cleaning"
   ]
  },
  {
   "cell_type": "code",
   "execution_count": 261,
   "id": "308c7235",
   "metadata": {},
   "outputs": [
    {
     "name": "stdout",
     "output_type": "stream",
     "text": [
      "<class 'pandas.core.frame.DataFrame'>\n",
      "RangeIndex: 5268 entries, 0 to 5267\n",
      "Data columns (total 14 columns):\n",
      " #   Column        Non-Null Count  Dtype  \n",
      "---  ------        --------------  -----  \n",
      " 0   Date          5268 non-null   object \n",
      " 1   Time          3049 non-null   object \n",
      " 2   Location      5248 non-null   object \n",
      " 3   Operator      5250 non-null   object \n",
      " 4   Flight #      1069 non-null   object \n",
      " 5   Route         3562 non-null   object \n",
      " 6   Type          5241 non-null   object \n",
      " 7   Registration  4933 non-null   object \n",
      " 8   cn/In         4040 non-null   object \n",
      " 9   Aboard        5246 non-null   float64\n",
      " 10  Fatalities    5256 non-null   float64\n",
      " 11  Ground        5246 non-null   float64\n",
      " 12  Summary       4878 non-null   object \n",
      " 13  Year          5268 non-null   int64  \n",
      "dtypes: float64(3), int64(1), object(10)\n",
      "memory usage: 576.3+ KB\n"
     ]
    }
   ],
   "source": [
    "df.info()"
   ]
  },
  {
   "cell_type": "code",
   "execution_count": 262,
   "id": "8e78c25e",
   "metadata": {},
   "outputs": [
    {
     "data": {
      "text/plain": [
       "Index(['Date', 'Time', 'Location', 'Operator', 'Flight #', 'Route', 'Type',\n",
       "       'Registration', 'cn/In', 'Aboard', 'Fatalities', 'Ground', 'Summary',\n",
       "       'Year'],\n",
       "      dtype='object')"
      ]
     },
     "execution_count": 262,
     "metadata": {},
     "output_type": "execute_result"
    }
   ],
   "source": [
    "df.columns"
   ]
  },
  {
   "cell_type": "code",
   "execution_count": 263,
   "id": "7f00e1a5",
   "metadata": {},
   "outputs": [
    {
     "data": {
      "text/plain": [
       "Date            0   \n",
       "Time            2219\n",
       "Location        20  \n",
       "Operator        18  \n",
       "Flight #        4199\n",
       "Route           1706\n",
       "Type            27  \n",
       "Registration    335 \n",
       "cn/In           1228\n",
       "Aboard          22  \n",
       "Fatalities      12  \n",
       "Ground          22  \n",
       "Summary         390 \n",
       "Year            0   \n",
       "dtype: int64"
      ]
     },
     "execution_count": 263,
     "metadata": {},
     "output_type": "execute_result"
    }
   ],
   "source": [
    "df.isna().sum()"
   ]
  },
  {
   "cell_type": "code",
   "execution_count": 264,
   "id": "a7248538",
   "metadata": {},
   "outputs": [
    {
     "data": {
      "text/html": [
       "<div>\n",
       "<style scoped>\n",
       "    .dataframe tbody tr th:only-of-type {\n",
       "        vertical-align: middle;\n",
       "    }\n",
       "\n",
       "    .dataframe tbody tr th {\n",
       "        vertical-align: top;\n",
       "    }\n",
       "\n",
       "    .dataframe thead th {\n",
       "        text-align: right;\n",
       "    }\n",
       "</style>\n",
       "<table border=\"1\" class=\"dataframe\">\n",
       "  <thead>\n",
       "    <tr style=\"text-align: right;\">\n",
       "      <th></th>\n",
       "      <th>Date</th>\n",
       "      <th>Time</th>\n",
       "      <th>Location</th>\n",
       "      <th>Operator</th>\n",
       "      <th>Flight #</th>\n",
       "      <th>Route</th>\n",
       "      <th>Type</th>\n",
       "      <th>Registration</th>\n",
       "      <th>cn/In</th>\n",
       "      <th>Aboard</th>\n",
       "      <th>Fatalities</th>\n",
       "      <th>Ground</th>\n",
       "      <th>Summary</th>\n",
       "      <th>Year</th>\n",
       "    </tr>\n",
       "  </thead>\n",
       "  <tbody>\n",
       "    <tr>\n",
       "      <th>208</th>\n",
       "      <td>01/19/1930</td>\n",
       "      <td>18:23</td>\n",
       "      <td>Oceanside, California</td>\n",
       "      <td>Maddux Airlines</td>\n",
       "      <td>7</td>\n",
       "      <td>Aqua Caliente, Mexico - Los Angeles</td>\n",
       "      <td>Ford 5-AT-C Tri Motor</td>\n",
       "      <td>NC9689</td>\n",
       "      <td>5-AT-046</td>\n",
       "      <td>16.0</td>\n",
       "      <td>16.0</td>\n",
       "      <td>0.0</td>\n",
       "      <td>While en route to Los Angeles, the pilot, flying a low altitude due to poor weather conditions tried to turn back. While in a left turn his left wing struck a hill, crashed and burned. Adverse weather conditions. The plane flew into a sudden squall which cause the pilot to lose control.</td>\n",
       "      <td>1930</td>\n",
       "    </tr>\n",
       "    <tr>\n",
       "      <th>236</th>\n",
       "      <td>03/31/1931</td>\n",
       "      <td>10:45</td>\n",
       "      <td>Bazaar, Kansas</td>\n",
       "      <td>Trans Continental and Western Air</td>\n",
       "      <td>599</td>\n",
       "      <td>Kansas City - Wichita -  Los Angeles</td>\n",
       "      <td>Fokker F10A Trimotor</td>\n",
       "      <td>NC-999</td>\n",
       "      <td>1063</td>\n",
       "      <td>8.0</td>\n",
       "      <td>8.0</td>\n",
       "      <td>0.0</td>\n",
       "      <td>Shortly after taking off from Kansas City, one of the aircraft's wing's separated in flight after penetrating a thunderstorm and experiencing strong turbulence and icing. The plane crashed into a wheat field. Wing-aileron flutter, brought about by moisture leaking into the wing's interior, weakening the glue that bonded the wooden spars. Notre Dame football coach, Knute Rockne, 43, killed.</td>\n",
       "      <td>1931</td>\n",
       "    </tr>\n",
       "    <tr>\n",
       "      <th>334</th>\n",
       "      <td>08/31/1934</td>\n",
       "      <td>23:42</td>\n",
       "      <td>Amazonia, Missouri</td>\n",
       "      <td>Rapid Air Transport</td>\n",
       "      <td>6</td>\n",
       "      <td>Omaha - St. Joseph</td>\n",
       "      <td>Stinson  SM-6000B</td>\n",
       "      <td>NC10809</td>\n",
       "      <td>5004</td>\n",
       "      <td>5.0</td>\n",
       "      <td>5.0</td>\n",
       "      <td>0.0</td>\n",
       "      <td>The plane crashed about 11 miles from St. Joseph in heavy fog. Pilot error in taking off in dangerous weather conditions and turning too close the the ground in a fog-bound area. Inaccurate weather conditions reported to the pilot.</td>\n",
       "      <td>1934</td>\n",
       "    </tr>\n",
       "  </tbody>\n",
       "</table>\n",
       "</div>"
      ],
      "text/plain": [
       "           Date   Time               Location  \\\n",
       "208  01/19/1930  18:23  Oceanside, California   \n",
       "236  03/31/1931  10:45  Bazaar, Kansas          \n",
       "334  08/31/1934  23:42  Amazonia, Missouri      \n",
       "\n",
       "                              Operator Flight #  \\\n",
       "208  Maddux Airlines                    7         \n",
       "236  Trans Continental and Western Air  599       \n",
       "334  Rapid Air Transport                6         \n",
       "\n",
       "                                    Route                   Type Registration  \\\n",
       "208  Aqua Caliente, Mexico - Los Angeles   Ford 5-AT-C Tri Motor  NC9689        \n",
       "236  Kansas City - Wichita -  Los Angeles  Fokker F10A Trimotor   NC-999        \n",
       "334  Omaha - St. Joseph                    Stinson  SM-6000B      NC10809       \n",
       "\n",
       "        cn/In  Aboard  Fatalities  Ground  \\\n",
       "208  5-AT-046  16.0    16.0        0.0      \n",
       "236  1063      8.0     8.0         0.0      \n",
       "334  5004      5.0     5.0         0.0      \n",
       "\n",
       "                                                                                                                                                                                                                                                                                                                                                                                                      Summary  \\\n",
       "208  While en route to Los Angeles, the pilot, flying a low altitude due to poor weather conditions tried to turn back. While in a left turn his left wing struck a hill, crashed and burned. Adverse weather conditions. The plane flew into a sudden squall which cause the pilot to lose control.                                                                                                            \n",
       "236  Shortly after taking off from Kansas City, one of the aircraft's wing's separated in flight after penetrating a thunderstorm and experiencing strong turbulence and icing. The plane crashed into a wheat field. Wing-aileron flutter, brought about by moisture leaking into the wing's interior, weakening the glue that bonded the wooden spars. Notre Dame football coach, Knute Rockne, 43, killed.   \n",
       "334  The plane crashed about 11 miles from St. Joseph in heavy fog. Pilot error in taking off in dangerous weather conditions and turning too close the the ground in a fog-bound area. Inaccurate weather conditions reported to the pilot.                                                                                                                                                                    \n",
       "\n",
       "     Year  \n",
       "208  1930  \n",
       "236  1931  \n",
       "334  1934  "
      ]
     },
     "execution_count": 264,
     "metadata": {},
     "output_type": "execute_result"
    }
   ],
   "source": [
    "data = df.dropna()\n",
    "data.head(3)"
   ]
  },
  {
   "cell_type": "code",
   "execution_count": 265,
   "id": "32b6393f",
   "metadata": {},
   "outputs": [
    {
     "name": "stdout",
     "output_type": "stream",
     "text": [
      "number of rows  before discarding duplicates = 944\n",
      "number of rows after discarding duplicates = 944\n"
     ]
    }
   ],
   "source": [
    "print('number of rows  before discarding duplicates = %d' % (data.shape[0]))\n",
    "airplane= data.drop_duplicates()\n",
    "print(\"number of rows after discarding duplicates = %d\" % (data.shape[0]))"
   ]
  },
  {
   "cell_type": "code",
   "execution_count": 266,
   "id": "b4b47fe2",
   "metadata": {},
   "outputs": [
    {
     "data": {
      "text/plain": [
       "False"
      ]
     },
     "execution_count": 266,
     "metadata": {},
     "output_type": "execute_result"
    }
   ],
   "source": [
    "airplane.isnull().values.any()"
   ]
  },
  {
   "cell_type": "markdown",
   "id": "99435fae",
   "metadata": {},
   "source": [
    "# EDA"
   ]
  },
  {
   "cell_type": "code",
   "execution_count": 267,
   "id": "576cac0e",
   "metadata": {},
   "outputs": [
    {
     "data": {
      "image/png": "[encoded data removed]",
      "text/plain": [
       "<Figure size 1080x360 with 1 Axes>"
      ]
     },
     "metadata": {
      "needs_background": "light"
     },
     "output_type": "display_data"
    }
   ],
   "source": [
    "Crshs=pd.DataFrame(airplane.Year.value_counts())\n",
    "\n",
    "plt.figure(figsize=(15, 5))\n",
    "plt.bar(x=Crshs.index, height=Crshs[\"Year\"])\n",
    "plt.title(\"Number of Crashes each Year\")\n",
    "plt.show()"
   ]
  },
  {
   "cell_type": "code",
   "execution_count": 268,
   "id": "4ef8506d",
   "metadata": {},
   "outputs": [
    {
     "data": {
      "text/plain": [
       "<AxesSubplot:title={'center':'Top 15 countries by crash locations'}>"
      ]
     },
     "execution_count": 268,
     "metadata": {},
     "output_type": "execute_result"
    },
    {
     "data": {
      "image/png": "[encoded data removed]",
      "text/plain": [
       "<Figure size 1440x720 with 1 Axes>"
      ]
     },
     "metadata": {
      "needs_background": "light"
     },
     "output_type": "display_data"
    }
   ],
   "source": [
    "airplane['Location'].value_counts()[:10].plot(kind='barh'\n",
    "                                        ,  figsize=(20,10), rot=20, fontsize=22, title=\"Top 15 countries by crash locations\")"
   ]
  },
  {
   "cell_type": "code",
   "execution_count": 269,
   "id": "ea1b0d10",
   "metadata": {},
   "outputs": [
    {
     "data": {
      "image/png": "[encoded data removed]",
      "text/plain": [
       "<Figure size 720x720 with 1 Axes>"
      ]
     },
     "metadata": {
      "needs_background": "light"
     },
     "output_type": "display_data"
    }
   ],
   "source": [
    "fatals=pd.DataFrame(airplane.Fatalities.groupby(airplane.Year).sum())\n",
    "\n",
    "plt.figure(figsize=(10, 10))\n",
    "plt.bar(x=fatals.index, height=fatals[\"Fatalities\"])\n",
    "plt.title(\"Number of People died in Plane each Year\")\n",
    "plt.show()"
   ]
  },
  {
   "cell_type": "code",
   "execution_count": 270,
   "id": "e8b169fe",
   "metadata": {},
   "outputs": [
    {
     "data": {
      "text/html": [
       "<div>\n",
       "<style scoped>\n",
       "    .dataframe tbody tr th:only-of-type {\n",
       "        vertical-align: middle;\n",
       "    }\n",
       "\n",
       "    .dataframe tbody tr th {\n",
       "        vertical-align: top;\n",
       "    }\n",
       "\n",
       "    .dataframe thead th {\n",
       "        text-align: right;\n",
       "    }\n",
       "</style>\n",
       "<table border=\"1\" class=\"dataframe\">\n",
       "  <thead>\n",
       "    <tr style=\"text-align: right;\">\n",
       "      <th></th>\n",
       "      <th>Date</th>\n",
       "      <th>Time</th>\n",
       "      <th>Location</th>\n",
       "      <th>Operator</th>\n",
       "      <th>Flight #</th>\n",
       "      <th>Route</th>\n",
       "      <th>Type</th>\n",
       "      <th>Registration</th>\n",
       "      <th>cn/In</th>\n",
       "      <th>Aboard</th>\n",
       "      <th>Fatalities</th>\n",
       "      <th>Ground</th>\n",
       "      <th>Summary</th>\n",
       "      <th>Year</th>\n",
       "      <th>Survivor</th>\n",
       "    </tr>\n",
       "  </thead>\n",
       "  <tbody>\n",
       "    <tr>\n",
       "      <th>208</th>\n",
       "      <td>01/19/1930</td>\n",
       "      <td>18:23</td>\n",
       "      <td>Oceanside, California</td>\n",
       "      <td>Maddux Airlines</td>\n",
       "      <td>7</td>\n",
       "      <td>Aqua Caliente, Mexico - Los Angeles</td>\n",
       "      <td>Ford 5-AT-C Tri Motor</td>\n",
       "      <td>NC9689</td>\n",
       "      <td>5-AT-046</td>\n",
       "      <td>16.0</td>\n",
       "      <td>16.0</td>\n",
       "      <td>0.0</td>\n",
       "      <td>While en route to Los Angeles, the pilot, flying a low altitude due to poor weather conditions tried to turn back. While in a left turn his left wing struck a hill, crashed and burned. Adverse weather conditions. The plane flew into a sudden squall which cause the pilot to lose control.</td>\n",
       "      <td>1930</td>\n",
       "      <td>0.0</td>\n",
       "    </tr>\n",
       "    <tr>\n",
       "      <th>236</th>\n",
       "      <td>03/31/1931</td>\n",
       "      <td>10:45</td>\n",
       "      <td>Bazaar, Kansas</td>\n",
       "      <td>Trans Continental and Western Air</td>\n",
       "      <td>599</td>\n",
       "      <td>Kansas City - Wichita -  Los Angeles</td>\n",
       "      <td>Fokker F10A Trimotor</td>\n",
       "      <td>NC-999</td>\n",
       "      <td>1063</td>\n",
       "      <td>8.0</td>\n",
       "      <td>8.0</td>\n",
       "      <td>0.0</td>\n",
       "      <td>Shortly after taking off from Kansas City, one of the aircraft's wing's separated in flight after penetrating a thunderstorm and experiencing strong turbulence and icing. The plane crashed into a wheat field. Wing-aileron flutter, brought about by moisture leaking into the wing's interior, weakening the glue that bonded the wooden spars. Notre Dame football coach, Knute Rockne, 43, killed.</td>\n",
       "      <td>1931</td>\n",
       "      <td>0.0</td>\n",
       "    </tr>\n",
       "  </tbody>\n",
       "</table>\n",
       "</div>"
      ],
      "text/plain": [
       "           Date   Time               Location  \\\n",
       "208  01/19/1930  18:23  Oceanside, California   \n",
       "236  03/31/1931  10:45  Bazaar, Kansas          \n",
       "\n",
       "                              Operator Flight #  \\\n",
       "208  Maddux Airlines                    7         \n",
       "236  Trans Continental and Western Air  599       \n",
       "\n",
       "                                    Route                   Type Registration  \\\n",
       "208  Aqua Caliente, Mexico - Los Angeles   Ford 5-AT-C Tri Motor  NC9689        \n",
       "236  Kansas City - Wichita -  Los Angeles  Fokker F10A Trimotor   NC-999        \n",
       "\n",
       "        cn/In  Aboard  Fatalities  Ground  \\\n",
       "208  5-AT-046  16.0    16.0        0.0      \n",
       "236  1063      8.0     8.0         0.0      \n",
       "\n",
       "                                                                                                                                                                                                                                                                                                                                                                                                      Summary  \\\n",
       "208  While en route to Los Angeles, the pilot, flying a low altitude due to poor weather conditions tried to turn back. While in a left turn his left wing struck a hill, crashed and burned. Adverse weather conditions. The plane flew into a sudden squall which cause the pilot to lose control.                                                                                                            \n",
       "236  Shortly after taking off from Kansas City, one of the aircraft's wing's separated in flight after penetrating a thunderstorm and experiencing strong turbulence and icing. The plane crashed into a wheat field. Wing-aileron flutter, brought about by moisture leaking into the wing's interior, weakening the glue that bonded the wooden spars. Notre Dame football coach, Knute Rockne, 43, killed.   \n",
       "\n",
       "     Year  Survivor  \n",
       "208  1930  0.0       \n",
       "236  1931  0.0       "
      ]
     },
     "execution_count": 270,
     "metadata": {},
     "output_type": "execute_result"
    }
   ],
   "source": [
    "airplane['Survivor']=airplane['Aboard']-airplane['Fatalities']\n",
    "airplane.head(2)"
   ]
  },
  {
   "cell_type": "code",
   "execution_count": 271,
   "id": "e9dcf080",
   "metadata": {},
   "outputs": [],
   "source": [
    "FSG_per_year = airplane[['Year', 'Fatalities', 'Survivor', 'Ground']].groupby('Year').sum()\n",
    "FSG_per_year = FSG_per_year.reset_index()"
   ]
  },
  {
   "cell_type": "code",
   "execution_count": 272,
   "id": "422f527a",
   "metadata": {},
   "outputs": [
    {
     "data": {
      "text/plain": [
       "Text(0, 0.5, 'Count')"
      ]
     },
     "execution_count": 272,
     "metadata": {},
     "output_type": "execute_result"
    },
    {
     "data": {
      "image/png": "[encoded data removed]",
      "text/plain": [
       "<Figure size 432x288 with 1 Axes>"
      ]
     },
     "metadata": {
      "needs_background": "light"
     },
     "output_type": "display_data"
    }
   ],
   "source": [
    "sns.lineplot(x = 'Year', y = 'Fatalities', data = FSG_per_year, color = 'green')\n",
    "sns.lineplot(x = 'Year', y = 'Survivor', data = FSG_per_year, color = 'blue')\n",
    "sns.lineplot(x = 'Year', y = 'Ground', data = FSG_per_year, color = 'red')\n",
    "plt.legend(['Fatalities', 'Survival', 'Ground'])\n",
    "plt.xlabel('Years')\n",
    "plt.ylabel('Count')"
   ]
  },
  {
   "cell_type": "code",
   "execution_count": 273,
   "id": "6dde6016",
   "metadata": {},
   "outputs": [],
   "source": [
    "Locations = airplane.groupby('Location', as_index=False).agg({'Year':'mean'}).sort_values('Year', ascending=False)"
   ]
  },
  {
   "cell_type": "code",
   "execution_count": 274,
   "id": "aee9d39f",
   "metadata": {},
   "outputs": [
    {
     "data": {
      "application/vnd.plotly.v1+json": {
       "config": {
        "plotlyServerURL": "https://plot.ly"
       },
       "data": [
        {
         "coloraxis": "coloraxis",
         "customdata": [
          [
           2009
          ],
          [
           2009
          ],
          [
           2009
          ],
          [
           2008
          ],
          [
           2008
          ],
          [
           2008
          ],
          [
           2008
          ],
          [
           2008
          ],
          [
           2008
          ],
          [
           2008
          ],
          [
           2008
          ],
          [
           2008
          ],
          [
           2007
          ],
          [
           2007
          ],
          [
           2007
          ],
          [
           2007
          ],
          [
           2007
          ],
          [
           2007
          ],
          [
           2007
          ],
          [
           2007
          ],
          [
           2007
          ],
          [
           2006
          ],
          [
           2006
          ],
          [
           2006
          ],
          [
           2006
          ],
          [
           2006
          ],
          [
           2006
          ],
          [
           2006
          ],
          [
           2006
          ],
          [
           2006
          ],
          [
           2006
          ],
          [
           2006
          ],
          [
           2005
          ],
          [
           2005
          ],
          [
           2005
          ],
          [
           2005
          ],
          [
           2005
          ],
          [
           2005
          ],
          [
           2005
          ],
          [
           2005
          ],
          [
           2005
          ],
          [
           2005
          ],
          [
           2005
          ],
          [
           2004
          ],
          [
           2004
          ],
          [
           2004
          ],
          [
           2004
          ],
          [
           2004
          ],
          [
           2004
          ],
          [
           2004
          ],
          [
           2004
          ],
          [
           2004
          ],
          [
           2004
          ],
          [
           2004
          ],
          [
           2004
          ],
          [
           2004
          ],
          [
           2004
          ],
          [
           2004
          ],
          [
           2003
          ],
          [
           2003
          ],
          [
           2003
          ],
          [
           2003
          ],
          [
           2003
          ],
          [
           2003
          ],
          [
           2003
          ],
          [
           2003
          ],
          [
           2003
          ],
          [
           2003
          ],
          [
           2003
          ],
          [
           2003
          ],
          [
           2003
          ],
          [
           2003
          ],
          [
           2003
          ],
          [
           2003
          ],
          [
           2003
          ],
          [
           2003
          ],
          [
           2002
          ],
          [
           2002
          ],
          [
           2002
          ],
          [
           2002
          ],
          [
           2002
          ],
          [
           2002
          ],
          [
           2002
          ],
          [
           2002
          ],
          [
           2002
          ],
          [
           2002
          ],
          [
           2002
          ],
          [
           2002
          ],
          [
           2002
          ],
          [
           2002
          ],
          [
           2002
          ],
          [
           2002
          ],
          [
           2002
          ],
          [
           2002
          ],
          [
           2002
          ],
          [
           2002
          ],
          [
           2002
          ],
          [
           2002
          ],
          [
           2002
          ],
          [
           2001
          ],
          [
           2001
          ],
          [
           2001
          ],
          [
           2001
          ],
          [
           2001
          ],
          [
           2001
          ],
          [
           2001
          ],
          [
           2001
          ],
          [
           2001
          ],
          [
           2001
          ],
          [
           2001
          ],
          [
           2001
          ],
          [
           2001
          ],
          [
           2001
          ],
          [
           2001
          ],
          [
           2001
          ],
          [
           2001
          ],
          [
           2001
          ],
          [
           2001
          ],
          [
           2001
          ],
          [
           2000.5
          ],
          [
           2000
          ],
          [
           2000
          ],
          [
           2000
          ],
          [
           2000
          ],
          [
           2000
          ],
          [
           2000
          ],
          [
           2000
          ],
          [
           2000
          ],
          [
           2000
          ],
          [
           2000
          ],
          [
           2000
          ],
          [
           2000
          ],
          [
           2000
          ],
          [
           2000
          ],
          [
           2000
          ],
          [
           2000
          ],
          [
           2000
          ],
          [
           2000
          ],
          [
           2000
          ],
          [
           2000
          ],
          [
           2000
          ],
          [
           2000
          ],
          [
           2000
          ],
          [
           2000
          ],
          [
           1999
          ],
          [
           1999
          ],
          [
           1999
          ],
          [
           1999
          ],
          [
           1999
          ],
          [
           1999
          ],
          [
           1999
          ],
          [
           1999
          ],
          [
           1999
          ],
          [
           1999
          ],
          [
           1999
          ],
          [
           1999
          ],
          [
           1999
          ],
          [
           1999
          ],
          [
           1999
          ],
          [
           1999
          ],
          [
           1999
          ],
          [
           1999
          ],
          [
           1999
          ],
          [
           1999
          ],
          [
           1999
          ],
          [
           1999
          ],
          [
           1999
          ],
          [
           1999
          ],
          [
           1999
          ],
          [
           1999
          ],
          [
           1998.5
          ],
          [
           1998.3333333333333
          ],
          [
           1998
          ],
          [
           1998
          ],
          [
           1998
          ],
          [
           1998
          ],
          [
           1998
          ],
          [
           1998
          ],
          [
           1998
          ],
          [
           1998
          ],
          [
           1998
          ],
          [
           1998
          ],
          [
           1998
          ],
          [
           1998
          ],
          [
           1998
          ],
          [
           1998
          ],
          [
           1998
          ],
          [
           1998
          ],
          [
           1998
          ],
          [
           1997
          ],
          [
           1997
          ],
          [
           1997
          ],
          [
           1997
          ],
          [
           1997
          ],
          [
           1997
          ],
          [
           1997
          ],
          [
           1997
          ],
          [
           1997
          ],
          [
           1997
          ],
          [
           1997
          ],
          [
           1997
          ],
          [
           1997
          ],
          [
           1997
          ],
          [
           1997
          ],
          [
           1997
          ],
          [
           1997
          ],
          [
           1997
          ],
          [
           1997
          ],
          [
           1997
          ],
          [
           1997
          ],
          [
           1997
          ],
          [
           1996.6666666666667
          ],
          [
           1996.5
          ],
          [
           1996
          ],
          [
           1996
          ],
          [
           1996
          ],
          [
           1996
          ],
          [
           1996
          ],
          [
           1996
          ],
          [
           1996
          ],
          [
           1996
          ],
          [
           1996
          ],
          [
           1996
          ],
          [
           1996
          ],
          [
           1996
          ],
          [
           1996
          ],
          [
           1996
          ],
          [
           1996
          ],
          [
           1996
          ],
          [
           1996
          ],
          [
           1996
          ],
          [
           1996
          ],
          [
           1996
          ],
          [
           1995
          ],
          [
           1995
          ],
          [
           1995
          ],
          [
           1995
          ],
          [
           1995
          ],
          [
           1995
          ],
          [
           1995
          ],
          [
           1995
          ],
          [
           1995
          ],
          [
           1995
          ],
          [
           1995
          ],
          [
           1995
          ],
          [
           1995
          ],
          [
           1995
          ],
          [
           1995
          ],
          [
           1995
          ],
          [
           1995
          ],
          [
           1994.5
          ],
          [
           1994
          ],
          [
           1994
          ],
          [
           1994
          ],
          [
           1994
          ],
          [
           1994
          ],
          [
           1994
          ],
          [
           1994
          ],
          [
           1994
          ],
          [
           1994
          ],
          [
           1994
          ],
          [
           1994
          ],
          [
           1994
          ],
          [
           1994
          ],
          [
           1994
          ],
          [
           1994
          ],
          [
           1994
          ],
          [
           1994
          ],
          [
           1994
          ],
          [
           1993
          ],
          [
           1993
          ],
          [
           1993
          ],
          [
           1993
          ],
          [
           1993
          ],
          [
           1993
          ],
          [
           1993
          ],
          [
           1993
          ],
          [
           1993
          ],
          [
           1993
          ],
          [
           1993
          ],
          [
           1993
          ],
          [
           1993
          ],
          [
           1992
          ],
          [
           1992
          ],
          [
           1992
          ],
          [
           1992
          ],
          [
           1992
          ],
          [
           1992
          ],
          [
           1992
          ],
          [
           1992
          ],
          [
           1992
          ],
          [
           1992
          ],
          [
           1992
          ],
          [
           1992
          ],
          [
           1991.5
          ],
          [
           1991
          ],
          [
           1991
          ],
          [
           1991
          ],
          [
           1991
          ],
          [
           1991
          ],
          [
           1991
          ],
          [
           1991
          ],
          [
           1991
          ],
          [
           1991
          ],
          [
           1991
          ],
          [
           1991
          ],
          [
           1990.5
          ],
          [
           1990.5
          ],
          [
           1990
          ],
          [
           1990
          ],
          [
           1990
          ],
          [
           1990
          ],
          [
           1990
          ],
          [
           1990
          ],
          [
           1990
          ],
          [
           1990
          ],
          [
           1990
          ],
          [
           1990
          ],
          [
           1990
          ],
          [
           1990
          ],
          [
           1989
          ],
          [
           1989
          ],
          [
           1989
          ],
          [
           1989
          ],
          [
           1989
          ],
          [
           1989
          ],
          [
           1989
          ],
          [
           1989
          ],
          [
           1989
          ],
          [
           1989
          ],
          [
           1989
          ],
          [
           1989
          ],
          [
           1989
          ],
          [
           1989
          ],
          [
           1989
          ],
          [
           1989
          ],
          [
           1988.5
          ],
          [
           1988
          ],
          [
           1988
          ],
          [
           1988
          ],
          [
           1988
          ],
          [
           1988
          ],
          [
           1988
          ],
          [
           1988
          ],
          [
           1988
          ],
          [
           1988
          ],
          [
           1988
          ],
          [
           1988
          ],
          [
           1988
          ],
          [
           1988
          ],
          [
           1988
          ],
          [
           1988
          ],
          [
           1987
          ],
          [
           1987
          ],
          [
           1987
          ],
          [
           1987
          ],
          [
           1987
          ],
          [
           1987
          ],
          [
           1987
          ],
          [
           1986.5
          ],
          [
           1986
          ],
          [
           1986
          ],
          [
           1986
          ],
          [
           1986
          ],
          [
           1986
          ],
          [
           1986
          ],
          [
           1986
          ],
          [
           1986
          ],
          [
           1985.5
          ],
          [
           1985.5
          ],
          [
           1985
          ],
          [
           1985
          ],
          [
           1985
          ],
          [
           1985
          ],
          [
           1985
          ],
          [
           1985
          ],
          [
           1985
          ],
          [
           1985
          ],
          [
           1985
          ],
          [
           1985
          ],
          [
           1985
          ],
          [
           1985
          ],
          [
           1985
          ],
          [
           1985
          ],
          [
           1985
          ],
          [
           1985
          ],
          [
           1985
          ],
          [
           1984.5
          ],
          [
           1984.3333333333333
          ],
          [
           1984
          ],
          [
           1983.6666666666667
          ],
          [
           1983
          ],
          [
           1983
          ],
          [
           1983
          ],
          [
           1983
          ],
          [
           1983
          ],
          [
           1983
          ],
          [
           1983
          ],
          [
           1983
          ],
          [
           1983
          ],
          [
           1982.5
          ],
          [
           1982.5
          ],
          [
           1982
          ],
          [
           1982
          ],
          [
           1982
          ],
          [
           1982
          ],
          [
           1982
          ],
          [
           1982
          ],
          [
           1982
          ],
          [
           1982
          ],
          [
           1982
          ],
          [
           1981
          ],
          [
           1981
          ],
          [
           1981
          ],
          [
           1981
          ],
          [
           1981
          ],
          [
           1980
          ],
          [
           1980
          ],
          [
           1980
          ],
          [
           1980
          ],
          [
           1980
          ],
          [
           1980
          ],
          [
           1980
          ],
          [
           1980
          ],
          [
           1979
          ],
          [
           1979
          ],
          [
           1979
          ],
          [
           1979
          ],
          [
           1979
          ],
          [
           1979
          ],
          [
           1979
          ],
          [
           1979
          ],
          [
           1979
          ],
          [
           1979
          ],
          [
           1979
          ],
          [
           1979
          ],
          [
           1979
          ],
          [
           1978.5
          ],
          [
           1978
          ],
          [
           1978
          ],
          [
           1978
          ],
          [
           1978
          ],
          [
           1978
          ],
          [
           1978
          ],
          [
           1978
          ],
          [
           1977
          ],
          [
           1977
          ],
          [
           1977
          ],
          [
           1977
          ],
          [
           1977
          ],
          [
           1977
          ],
          [
           1976.5
          ],
          [
           1976
          ],
          [
           1976
          ],
          [
           1976
          ],
          [
           1976
          ],
          [
           1976
          ],
          [
           1976
          ],
          [
           1976
          ],
          [
           1975.5
          ],
          [
           1975.5
          ],
          [
           1975
          ],
          [
           1975
          ],
          [
           1975
          ],
          [
           1975
          ],
          [
           1975
          ],
          [
           1975
          ],
          [
           1974.5
          ],
          [
           1974.3333333333333
          ],
          [
           1974.3333333333333
          ],
          [
           1974
          ],
          [
           1974
          ],
          [
           1974
          ],
          [
           1974
          ],
          [
           1974
          ],
          [
           1974
          ],
          [
           1974
          ],
          [
           1974
          ],
          [
           1974
          ],
          [
           1974
          ],
          [
           1974
          ],
          [
           1973
          ],
          [
           1973
          ],
          [
           1973
          ],
          [
           1973
          ],
          [
           1973
          ],
          [
           1973
          ],
          [
           1973
          ],
          [
           1973
          ],
          [
           1973
          ],
          [
           1973
          ],
          [
           1973
          ],
          [
           1973
          ],
          [
           1973
          ],
          [
           1972
          ],
          [
           1972
          ],
          [
           1972
          ],
          [
           1972
          ],
          [
           1972
          ],
          [
           1972
          ],
          [
           1972
          ],
          [
           1972
          ],
          [
           1972
          ],
          [
           1972
          ],
          [
           1972
          ],
          [
           1972
          ],
          [
           1972
          ],
          [
           1972
          ],
          [
           1971
          ],
          [
           1971
          ],
          [
           1971
          ],
          [
           1971
          ],
          [
           1971
          ],
          [
           1971
          ],
          [
           1971
          ],
          [
           1971
          ],
          [
           1971
          ],
          [
           1971
          ],
          [
           1971
          ],
          [
           1970.5
          ],
          [
           1970.5
          ],
          [
           1970
          ],
          [
           1970
          ],
          [
           1970
          ],
          [
           1970
          ],
          [
           1970
          ],
          [
           1970
          ],
          [
           1970
          ],
          [
           1970
          ],
          [
           1969.5
          ],
          [
           1969.5
          ],
          [
           1969
          ],
          [
           1969
          ],
          [
           1969
          ],
          [
           1969
          ],
          [
           1969
          ],
          [
           1969
          ],
          [
           1969
          ],
          [
           1969
          ],
          [
           1969
          ],
          [
           1969
          ],
          [
           1969
          ],
          [
           1969
          ],
          [
           1969
          ],
          [
           1969
          ],
          [
           1968.5
          ],
          [
           1968.5
          ],
          [
           1968
          ],
          [
           1968
          ],
          [
           1968
          ],
          [
           1968
          ],
          [
           1968
          ],
          [
           1968
          ],
          [
           1968
          ],
          [
           1968
          ],
          [
           1968
          ],
          [
           1968
          ],
          [
           1968
          ],
          [
           1968
          ],
          [
           1968
          ],
          [
           1968
          ],
          [
           1968
          ],
          [
           1967
          ],
          [
           1967
          ],
          [
           1967
          ],
          [
           1967
          ],
          [
           1967
          ],
          [
           1967
          ],
          [
           1967
          ],
          [
           1967
          ],
          [
           1967
          ],
          [
           1967
          ],
          [
           1967
          ],
          [
           1967
          ],
          [
           1967
          ],
          [
           1967
          ],
          [
           1966.5
          ],
          [
           1966
          ],
          [
           1966
          ],
          [
           1966
          ],
          [
           1966
          ],
          [
           1966
          ],
          [
           1966
          ],
          [
           1966
          ],
          [
           1966
          ],
          [
           1966
          ],
          [
           1966
          ],
          [
           1966
          ],
          [
           1966
          ],
          [
           1966
          ],
          [
           1966
          ],
          [
           1966
          ],
          [
           1966
          ],
          [
           1966
          ],
          [
           1966
          ],
          [
           1965.5
          ],
          [
           1965
          ],
          [
           1965
          ],
          [
           1965
          ],
          [
           1965
          ],
          [
           1965
          ],
          [
           1965
          ],
          [
           1965
          ],
          [
           1965
          ],
          [
           1965
          ],
          [
           1965
          ],
          [
           1965
          ],
          [
           1965
          ],
          [
           1965
          ],
          [
           1965
          ],
          [
           1964.6666666666667
          ],
          [
           1964.5
          ],
          [
           1964
          ],
          [
           1964
          ],
          [
           1964
          ],
          [
           1964
          ],
          [
           1964
          ],
          [
           1964
          ],
          [
           1964
          ],
          [
           1964
          ],
          [
           1964
          ],
          [
           1964
          ],
          [
           1964
          ],
          [
           1964
          ],
          [
           1964
          ],
          [
           1964
          ],
          [
           1963.5
          ],
          [
           1963.5
          ],
          [
           1963
          ],
          [
           1963
          ],
          [
           1963
          ],
          [
           1963
          ],
          [
           1963
          ],
          [
           1963
          ],
          [
           1963
          ],
          [
           1963
          ],
          [
           1963
          ],
          [
           1963
          ],
          [
           1963
          ],
          [
           1963
          ],
          [
           1963
          ],
          [
           1963
          ],
          [
           1962.5
          ],
          [
           1962
          ],
          [
           1962
          ],
          [
           1962
          ],
          [
           1962
          ],
          [
           1962
          ],
          [
           1962
          ],
          [
           1962
          ],
          [
           1962
          ],
          [
           1962
          ],
          [
           1962
          ],
          [
           1962
          ],
          [
           1962
          ],
          [
           1962
          ],
          [
           1961.5
          ],
          [
           1961
          ],
          [
           1961
          ],
          [
           1961
          ],
          [
           1961
          ],
          [
           1961
          ],
          [
           1961
          ],
          [
           1961
          ],
          [
           1961
          ],
          [
           1961
          ],
          [
           1961
          ],
          [
           1961
          ],
          [
           1960
          ],
          [
           1960
          ],
          [
           1960
          ],
          [
           1960
          ],
          [
           1960
          ],
          [
           1960
          ],
          [
           1960
          ],
          [
           1960
          ],
          [
           1960
          ],
          [
           1960
          ],
          [
           1960
          ],
          [
           1960
          ],
          [
           1959
          ],
          [
           1959
          ],
          [
           1959
          ],
          [
           1959
          ],
          [
           1959
          ],
          [
           1959
          ],
          [
           1959
          ],
          [
           1959
          ],
          [
           1959
          ],
          [
           1959
          ],
          [
           1959
          ],
          [
           1959
          ],
          [
           1959
          ],
          [
           1959
          ],
          [
           1959
          ],
          [
           1958.3333333333333
          ],
          [
           1958
          ],
          [
           1958
          ],
          [
           1958
          ],
          [
           1958
          ],
          [
           1958
          ],
          [
           1958
          ],
          [
           1958
          ],
          [
           1958
          ],
          [
           1958
          ],
          [
           1957
          ],
          [
           1957
          ],
          [
           1957
          ],
          [
           1957
          ],
          [
           1957
          ],
          [
           1957
          ],
          [
           1957
          ],
          [
           1957
          ],
          [
           1957
          ],
          [
           1956
          ],
          [
           1956
          ],
          [
           1956
          ],
          [
           1956
          ],
          [
           1956
          ],
          [
           1955
          ],
          [
           1955
          ],
          [
           1955
          ],
          [
           1955
          ],
          [
           1955
          ],
          [
           1955
          ],
          [
           1955
          ],
          [
           1955
          ],
          [
           1955
          ],
          [
           1955
          ],
          [
           1954
          ],
          [
           1954
          ],
          [
           1954
          ],
          [
           1954
          ],
          [
           1954
          ],
          [
           1953.5
          ],
          [
           1953
          ],
          [
           1953
          ],
          [
           1953
          ],
          [
           1953
          ],
          [
           1953
          ],
          [
           1953
          ],
          [
           1953
          ],
          [
           1953
          ],
          [
           1953
          ],
          [
           1952
          ],
          [
           1952
          ],
          [
           1952
          ],
          [
           1952
          ],
          [
           1952
          ],
          [
           1952
          ],
          [
           1952
          ],
          [
           1951.5
          ],
          [
           1951
          ],
          [
           1951
          ],
          [
           1951
          ],
          [
           1951
          ],
          [
           1951
          ],
          [
           1951
          ],
          [
           1951
          ],
          [
           1951
          ],
          [
           1951
          ],
          [
           1951
          ],
          [
           1951
          ],
          [
           1950
          ],
          [
           1950
          ],
          [
           1950
          ],
          [
           1950
          ],
          [
           1950
          ],
          [
           1950
          ],
          [
           1950
          ],
          [
           1949
          ],
          [
           1949
          ],
          [
           1949
          ],
          [
           1948.3333333333333
          ],
          [
           1948
          ],
          [
           1948
          ],
          [
           1948
          ],
          [
           1948
          ],
          [
           1948
          ],
          [
           1948
          ],
          [
           1947
          ],
          [
           1947
          ],
          [
           1947
          ],
          [
           1947
          ],
          [
           1947
          ],
          [
           1947
          ],
          [
           1947
          ],
          [
           1947
          ],
          [
           1947
          ],
          [
           1947
          ],
          [
           1946
          ],
          [
           1946
          ],
          [
           1946
          ],
          [
           1946
          ],
          [
           1946
          ],
          [
           1946
          ],
          [
           1946
          ],
          [
           1946
          ],
          [
           1946
          ],
          [
           1946
          ],
          [
           1945
          ],
          [
           1945
          ],
          [
           1945
          ],
          [
           1945
          ],
          [
           1945
          ],
          [
           1945
          ],
          [
           1945
          ],
          [
           1944
          ],
          [
           1944
          ],
          [
           1944
          ],
          [
           1944
          ],
          [
           1943
          ],
          [
           1943
          ],
          [
           1943
          ],
          [
           1943
          ],
          [
           1943
          ],
          [
           1943
          ],
          [
           1942
          ],
          [
           1942
          ],
          [
           1942
          ],
          [
           1942
          ],
          [
           1941
          ],
          [
           1941
          ],
          [
           1941
          ],
          [
           1941
          ],
          [
           1940
          ],
          [
           1940
          ],
          [
           1939
          ],
          [
           1938
          ],
          [
           1938
          ],
          [
           1938
          ],
          [
           1938
          ],
          [
           1938
          ],
          [
           1937
          ],
          [
           1937
          ],
          [
           1937
          ],
          [
           1937
          ],
          [
           1937
          ],
          [
           1937
          ],
          [
           1936
          ],
          [
           1936
          ],
          [
           1936
          ],
          [
           1936
          ],
          [
           1936
          ],
          [
           1935
          ],
          [
           1935
          ],
          [
           1935
          ],
          [
           1934
          ],
          [
           1931
          ],
          [
           1930
          ]
         ],
         "geo": "geo",
         "hovertemplate": "Location=%{location}<br>Year=%{z}<extra></extra>",
         "locationmode": "country names",
         "locations": [
          "Mount Gergaji, Indonesia",
          "Clarence Center, New York",
          "AtlantiOcean, 570 miles northeast of Natal, Brazil",
          "Madrid, Spain",
          "Billings, Montana",
          "Bishkek, Kyrgyzstan",
          "Merida, Venezuela",
          "Owatonna, Minnesota",
          "Khartoum, Sudan",
          "Saltillo, Mexico",
          "Tegucigalpa, Honduras",
          "Perm, Russia",
          "Sao Paulo, Brazil",
          "Near Isparta, Turkey",
          "Samara, Russia",
          "Phuket, Thailand",
          "Pau, France",
          "Yogyakarta, Indonesia",
          "Off Moorea, French Polynesia",
          "Off Parepare, Indonesia",
          "Near Sihanoukville, Cambodia",
          "Rio Bonito, Brazil",
          "Lexington, Kentucky",
          "Off Sochi, Russia",
          "Near Sao Felix do Araguaia , Brazil",
          "Stord, Norway",
          "Near Abuja, Nigeria",
          "Near Piacenza, Italy",
          "Multan, Pakistan",
          "Near Pownal, Vermont",
          "Irkutsk, Russia",
          "Near Donetsk, Ukraine",
          "Near Pucallpa, Peru",
          "Near Peshawar, Pakistan",
          "Near Port Harcourt, Nigeria",
          "Off Palermo, Italy",
          "Near Grammatikos, Greece",
          "Off Miami Beach, Florida",
          "Lisa, Nigeria",
          "Nardaran, Azerbaijan",
          "Winnipeg, Canada",
          "Khartoom, Sudan",
          "Medan, Indonesia",
          "Lake Erie, off Pelee Island, Ontario, Canada",
          "Near Kirksville, Missouri",
          "Tashkent, Uzbekistan",
          "Montrose, Colorado",
          "Near Rostov-on-Don, Russia",
          "Great Falls, Montana",
          "Near Manaus, Brazil",
          "Near Lukla, Nepal",
          "Near Bagram, Afghanstan",
          "Near Toula, Russia",
          "Solo, Indonesia",
          "Off Sharm el Sheikh, Egypt",
          "Halifax, Nova Scotia, Canada",
          "Off Libreville, Gabon",
          "Jefferson City, Missouri",
          "Port Sudan, Sudan",
          "Diyarbakir, Turkey",
          "Off Waikanae, New Zealand",
          "Del Rio, Texas",
          "Near Summer Beaver, Canada",
          "New Vienna, Iowa",
          "Cotonou, Benin",
          "Cap Haitien, Haiti",
          "Cody, Wyoming",
          "Mount Kenya, Kenya",
          "Christchurch, New Zealand",
          "Tamanrasset, Algeria",
          "Near Chachapoyas, Peru",
          "Tallinn, Estonia",
          "Near Macka, Turkey",
          "Near Brest, France",
          "Near Barki, Russia",
          "Near Kohat, Pakistan",
          "Near Niederanven, Luxembourg",
          "Near Tunis, Tunisia",
          "Busan, South Korea",
          "Kano, Nigeria",
          "Masai Mara Game Reserve, Kenya",
          "Near Ipiales, Colombia",
          "Off Penghu Island, Taiwan",
          "Off Dumaguete, Philippines",
          "Off Dalian, China",
          "Off Cromer, Norfork, England",
          "Near Isfanan, Iran",
          "Near Milford Sound, New Zealand",
          "Near Khorramabed, Iran",
          "Bilbao, Spain",
          "Uberlingen, Germany",
          "Near Solo, Indonesia",
          "Lakhta, Russia",
          "Eveleth, Minnesota",
          "Rockford, Illinois",
          "Palma de Mallorca, Spain",
          "Monte Rotondo, Italy",
          "Spanish Fort, Alabama",
          "Caguas, Puerto Rico",
          "Near Chichen Itza, Mexico",
          "Ciudad Bolivar, Venezuela",
          "Near Irkutsk, Russia",
          "Dillingham, Alaska",
          "Near Granton Harbour, Scotland",
          "Near Aspen, Colorado",
          "Gustavia, St. Barthélémy, French West Indies",
          "Kalyazin, Russia",
          "Marsh Harbour, Bahamas",
          "Milan, Italy",
          "Near Novaya Inya , Russia",
          "110 miles SW of Sochi, Russia",
          "Terceira, Azores",
          "Sierra Blanca, Texas",
          "Belle Harbor, Queens, New York",
          "Birchwil, Switzerland",
          "San Jerónimo de Moravia , Costa Rica",
          "Arlington, Virginia.",
          "Off Valencia, Spain",
          "Shanksville, Pennsylvania",
          "Sharjah, United Arab Emirates",
          "Linneus, Maine",
          "Accra, Ghana",
          "Off Whyalla, Australia",
          "Near Sam Neua, Laos",
          "Patna, India",
          "Burbank, Calilfornia",
          "Sacramento, California",
          "Puerto Montt, Chile",
          "Gonesse, France",
          "Reynosa, Mexico",
          "Guatemala City, Guatemala",
          "Near La Fortuna, Costa Rica",
          "Samal Island, Philippines",
          "Hilo Bay, Hawaii",
          "Shitai, China",
          "Lummi Island, Washington",
          "Near Villahermosa, Mexico",
          "Off Abidjan, Ivory Coast",
          "Near Wilkes-Barre, Pennsylvania",
          "Nuiqsut, Alaska",
          "Niederhasli, Switzerland",
          "Off Point Mugu, California",
          "Liverpool, England",
          "Off Manama, Bahrain",
          "Buenos Aires, Argentina",
          "Near Pristina, Kosovo",
          "Glasgow, Scotland",
          "Santo Antao, Cape Verde Islands",
          "Near Bluefields, Nicaragua",
          "Hualian, Taiwan",
          "Seraing, Belgium",
          "Davis Inlet, Newfoundland, Canada",
          "Sept-Îles, Canada",
          "Off Nantucket Island, Massachusetts",
          "Genoa, Italy",
          "Bejuma, Venezuela",
          "Little Rock, Arkansas",
          "Mt. Mauna Loa, Hawaii",
          "Taipei, Taiwan",
          "Shanghi, China",
          "Great Hallingbury, United Kingdom",
          "Rui'an, China",
          "Nasevou Village, Fiji",
          "Near Sundsvall, Sweden",
          "Marine City, Michigan",
          "Off Martha's Vineyard, Massachusetts",
          "Near Ceyhan, Turkey",
          "Johannesburg, South Africa",
          "Near Uruapan, Mexico",
          "Sao Jorge, Azores (Portugal)",
          "Charlotte, North Carolina",
          "Amsterdam, Netherlands",
          "Near Nador, Morroco",
          "Off Mannar, Sri Lanka",
          "Yangon (Rangoon), Myanmar",
          "Near Surat Thani, Thailand",
          "Vila Nova, Angola",
          "Off Hsinchu, Taiwan",
          "Kochi, India",
          "Pagalungan, Philippines",
          "Manibagi, Myanmar",
          "Near Clarksville, Tennesee",
          "Victoria, British Columbia",
          "Near Quiberon, France",
          "Kincolith, British Columbia, Canada",
          "Near Bogota, Colombia",
          "Piura, Peru",
          "Montreal, Canada",
          "Off Peggy's Cove, Nova Scotia, Canada",
          "Near Barrow, Alaska",
          "Bandung, Indonesia",
          "Huangtian, China",
          "Near Miri, Malaysia",
          "Nuevo Berlin, Uruguay",
          "Fotina, Greece",
          "Matsu Island, Taiwan",
          "Carajas, Brazil",
          "Off Santiago de Cuba, Cuba",
          "Little Grand Rapids, Canada",
          "Miami, Florida",
          "Phnom Penh, Cambodia",
          "Florence, Italy",
          "Buah Nabar, Indonesia",
          "Near Palembang, Indonesia",
          "Near Montrose, Colorado",
          "Near Monroe, Michigan",
          "Near Moamoa, Samoa",
          "Near Wainwright, Alaska",
          "Tanjung Pandan, Indonesia",
          "Cherkessk, Russia",
          "Suzano, Brazil",
          "Near Kathmandu, Nepal",
          "Paris, France",
          "Spitsbergen, Norway",
          "Lagos, Nigeria",
          "Manila, Philippines",
          "Narrows, Virginia",
          "Medellin, Colombia",
          "Markham Bay, Canada",
          "Arequipa, Peru",
          "Off Moroni, Comoros",
          "San Francesco al Campo, Italy",
          "Near Dubrovnik, Croatia",
          "Fukuoka, Japan",
          "Everglades, Miami, Florida",
          "Russian Mission, Alaska",
          "Sao Paolo, Brazil",
          "Eel River Crossing, New Brunswick, Canada",
          "Off Puerto Plata, Domincan Republic",
          "Off East Moriches, New York",
          "Near Charkhidadri, India",
          "Off Pasamayo, Peru",
          "Quincy, Illinois",
          "Near Tusayan, Arizona",
          "Cartagena, Colombia",
          "Campbell River, British Columbia, Canada",
          "Verona  - Villafranca, Italy",
          "Near Palmerston North, New Zealand",
          "Near Carrollton, GA",
          "Tawau,  Malaysia",
          "Near Buga, Valle del Cauca, Colombia",
          "Near Leeds, England",
          "Gunung Antara, Indonesia",
          "Kaduna, Nigeria",
          "Near Douala, Cameroon",
          "Kathmandu, Nepal",
          "Sioux Falls, Ontario, Canada",
          "Near Balotesti, Romania",
          "Near Grossevichi, Russia",
          "Mt. Chichontepec, San Vincente, El Salvador",
          "Bangkok, Thailand",
          "PacifiOcean",
          "Krakas Mountains, near Natanz , Iran",
          "Near Xi'an, China",
          "Coventry, England",
          "Near Van, Turkey",
          "Abidjan, Ivory Coast",
          "Near Nag",
          "Morrisville, North Carolina",
          "East Midlands, England",
          "Near Aliquippa, Pennsylvania",
          "Cheju, South Korea",
          "Near Komaki, Aichi, Japan",
          "Near Irrupts, Siberia, Russia",
          "Columbus, Ohio",
          "Roselawn, Indiana",
          "Algiers Airport, Algeria",
          "Toulouse-Blagnac, France",
          "Near Mezhdurechensk, Russia",
          "Near Ohrid, Macedonia",
          "Yinchuan, China",
          "Near Medellin, Colombia",
          "Urumqi, China",
          "Sandy Lake, Canada",
          "Skopje, Macedonia",
          "Zwingle, Iowa",
          "Fuzhou, China",
          "950 nm S of  Shemya, Alaska",
          "Hibbing, Minnesota",
          "Leeward Point Airfield, Guantanamo Bay, Cuba",
          "Haenam, South Korea",
          "Aurangabad, India",
          "Faro, Algarve, Portugal",
          "Nanjing, Jiangsu, China",
          "Near  Kathmandu, Nepal",
          "Near Ivanovo, Russia",
          "Near Liutang, Guangxi, China",
          "Gabriels, New York",
          "Near Nha Trang, Vietnam",
          "Mt. Haleakala, Hawaii",
          "Mt. Saint-Odile, near Strasbourg, France",
          "Anniston, Alabama",
          "Spokane, Washington",
          "Toledo, Ohio",
          "Near Malaga, Spain",
          "Stockholm, Sweden",
          "La Puerta, Venezuela",
          "Wanli, Taiwan",
          "Near Ban Nong Rong, Thailand",
          "Jeddah, Saudi Arabia",
          "Near Colorado Springs, Colorado",
          "Imphal, India",
          "Near Eagle Lake, Texas",
          "Brunswick, Georgia",
          "Quito, Ecuador",
          "Off Matthewtown, Great Inagua",
          "Tripoli, Libya",
          "La Guardia Airport, New York, New York",
          "Near Leadville, Colorado",
          "Guangzhou, China",
          "Oxfordshire, England",
          "Stadelberg, Switzerland",
          "Santiago de Cuba, Cuba",
          "Near Bangalore, India",
          "Cove Neck, New York",
          "Koh Samui, Thailand",
          "Warsaw, Poland",
          "Off Vaeroy, Norway",
          "Pico Blanco, Costa Rica",
          "Elkhorn, Wisconsin",
          "Marseille, France",
          "Near Bilma, Niger",
          "Halawa Point, Molokai, Hawaii",
          "Dryden, Ontario, Canada",
          "Near Sao Jose do Xingu, Brazil",
          "Pasco, Washington",
          "Col de Tourniol, France",
          "Near Paramaribo, Surinam",
          "Skagerrak, Denmark",
          "Hualein, China",
          "Leicestershire, England",
          "Grand Canyon National Park Airport, Tusayan, Arizona",
          "Waipio Valley, Hawaii",
          "Santa Maria, Azores, Portugal",
          "Near Tegucigalpa, Honduras",
          "Auckland, New Zealand",
          "Romulus, Michigan",
          "Near Ahmedabad, India",
          "Near Johannesburg, South Africa",
          "Bahar Dar, Ethiopia",
          "Izmir, Turkey",
          "Lockerbie, Scotland",
          "Near Chungking, Sichuan, China",
          "Kowloon Bay, Hong Kong",
          "Habsheim, France",
          "Near Cucuta, N of  Santander, Colombia",
          "Near Fontainebleau, France",
          "Bayfield, Colorado",
          "Over the Persian Gulf, near Bandar Abbas, Iran",
          "Cary, North Carolina",
          "Near Mulheim, Germany",
          "Maui, Hawaii",
          "Off Mauritius, Indian Ocean",
          "Medan-Polonia, Indonesia",
          "Over the Andaman Sea",
          "Tokyo, Japan",
          "Mayaguez, Puerto Rico",
          "Off Ko Phuket, Thiland",
          "Pensacola, Florida",
          "Agana, Guam",
          "Manhattan, New York",
          "Cerritos, California",
          "Karachi, Pakistan",
          "Tullamarine, VIC, Australia",
          "Port Ellen, Islay Island",
          "Maravatio, Mexico",
          "Alpena, Michigan",
          "San Antonio, Texas",
          "Cincinnati, Ohio",
          "San Luis Obispo, California",
          "AtlantiOcean, 110 miles West of Ireland",
          "Grottoes Grove, Virginia",
          "Near Durango, Vizcaya, Spain",
          "Auburn, Maine",
          "Mt. Osutaka, near Ueno Village, Japan",
          "Gander, Newfoundland, Canada",
          "Near La Paz, Bolivia",
          "Near Uchuduk, Uzbekistan, USSR",
          "Soldotna, Alaska",
          "Reno, Nevada",
          "Ft. Worth-Dallas, Texas",
          "Nashville, Tennessee",
          "Manchester, England",
          "300 nm NW of San Francisco, California",
          "Milwaukee, Wisconsin",
          "Detroit, Michigan",
          "Luqa, Malta",
          "LAX, Los Angeles, California",
          "Toronto, Canada",
          "Near Omsk, Russia",
          "JFK Airport, New York, New York",
          "Pinckneyville, Illinois",
          "Near Madrid, Spain",
          "Guayaquil, Ecuador",
          "Gimli, Manitoba, Canada",
          "Selawik, Alaska",
          "Near Mina Jebel Ali, UAE",
          "En route Miami, FL - Nassau, Bahamas",
          "Near Sakhalin Island, Russia",
          "Madrid-Barajas, Spain",
          "Anchorage, Alaska",
          "Bacolod, Philippines",
          "Mehamn, Norway",
          "Providence, Rhode Island",
          "Near Pacatuba, Brazil",
          "Southern Belarus, USSR",
          "Kenner, Louisiana",
          "La Serena, Chile",
          "Mount Galunggung, Indonesia",
          "Near Yangshuo, Guangxi, China",
          "Logan Airport,  Boston, Massachusett",
          "Mt. San Pietro, near Ajaccio, Corsica, France",
          "Loveland, Colorado",
          "Rio de la Plata, Argentina",
          "Moerdijk, Netherlands",
          "Near Sanyi, Miao-li, Taiwan",
          "Nar Alma-Ata, Kasakastan, USSR",
          "Tyrrhenian Sea,  off Ustica, Italy",
          "Valley, Nebraska",
          "Caracas, Venezuela",
          "Don Muang, Thailand",
          "Near Riyadh, Saudi Arabia",
          "Moscow, Russia",
          "Near Warsaw, Poland",
          "St. Croix, Virgin Islands",
          "Off Marina del Rey, California",
          "Clarksburg, West Virginia",
          "Dneprodzerzhinsk, Ukraine, USSR",
          "Near Klamath Falls, Oregon",
          "Near Probolinggo, Indonesia",
          "Rockland, Maine",
          "Near Mt. Erebus, Ross Ice Shelf, Antarctica",
          "Near Caracas, Venezuela",
          "Hyannis, Massachusetts",
          "Mexico City, Mexico",
          "Near At Ta'if, Jeddah, Saudi Arabia",
          "Chicago O'Hare, Illinois",
          "Tenerife, Canary Islands",
          "Portland, Oregon",
          "Near Cinisi, Sicily, Italy",
          "Richland, Washington",
          "Near Steamboat Springs, Coloado",
          "Cranbrook, British Columbia, Canada",
          "Near Kariba, Rhodesia (Zimbabwe)",
          "San Diego, California",
          "Mt. Iliamna, Alaska",
          "Straits of Johore, near Kampung Ladang, Malaysia",
          "Evansville, Indiana",
          "New Hope, Georgia",
          "Near Alma Ata,  Kazakastan, USSR",
          "Near Funchal, Island of Madeira, Portugal",
          "Over the PacifiOcean",
          "Near Cuneca, Spain",
          "Near Gaj, Hrvatska, Yugoslavia",
          "Cape May, New Jersey",
          "Off Bridgetown, Barbados",
          "Near Al Qaysumah, Saudi Arabia",
          "Off Adler, Russia",
          "Ketchikan, Alaska",
          "Honolulu, Hawaii",
          "Lebec, California",
          "Whittier, California",
          "Rome, Italy",
          "Near Gambell, Alaska",
          "New York City, New York",
          "Near Damascus, Syria",
          "Cincinnati International Airport, Covington/Hebron, Kentucky",
          "Bogota, Colombia",
          "New York, New York",
          "Denver, Colorado",
          "Pago Pago, American Samoa",
          "Phan Rang, Vietnam",
          "Bear Mountain,  Thiells, New York",
          "Monte San Isidro,  Colombia",
          "Near Charlotte, North Carolina",
          "Near Berryville, Virginia",
          "Ionian Sea , off Kefallinia, Greece",
          "Bishop, California",
          "Near Ermenonville, France",
          "Grogak, Bali, Indonesia",
          "Near Nairobi, Kenya",
          "Off Papeete, Tahiti",
          "Logan Airport, Boston, Massachusett",
          "Near Albuquerque,  New Mexico",
          "Rich Mountain, Arkansas",
          "Near  Domodedovo, Russia",
          "St. Louis, Missouri",
          "Paris, Orly, France",
          "Thirty-five miles west of Los Angeles, California",
          "St. Thomas, Virgin Islands",
          "Near Isma'iliya, Egypt",
          "Near Nantes, France",
          "Near La  Corunda, Spain",
          "Natchitoches, Louisiana",
          "Near Pleiku, Vietnam",
          "Near Noiretable, Loire, France",
          "Everglades National Park, Florida",
          "Chicago, Midway Airport, Illinois",
          "Dallas/Ft. Worth, Texas",
          "Near New Delhi, India",
          "London Heathrow,  Staines, Surrey, England",
          "Near Hermsdorf, Czechoslovakia",
          "Addis Ababa, Ethiopia",
          "Appleton, Wisconsin",
          "Ponce, Puerto Rico",
          "Near Al Fujayrah, United Arab Emirates",
          "Sierra de Atalayasa, Spain",
          "Near Carini, Sicily, Italy",
          "Hokkaido, Japan",
          "Near Rijeka, Yugoslavia",
          "Grand Canyon, Arizona",
          "Ontario, California",
          "Near Puerto Inca, Huanuco, Peru",
          "Edison, New Jersey",
          "Near Morioko, Japan",
          "Near Juneau, Alaska",
          "New Haven, Connecticut",
          "Near Duarte, California",
          "Near Aarsele, West Vlaanderen, Belgium",
          "Zurich, Switzerland",
          "Off Bandra, Maharashtra, India",
          "Sioux City, Iowa",
          "Mt. Trelease, near Silver Plume, Colorado",
          "Faleolo, Western Samoa",
          "Near Huntington, West Virginia",
          "Near St. Croix, US Virgin Islands",
          "Chamblee, Georgia",
          "Long Island Sound, Connecticut",
          "Pellston, Michigan",
          "San Francisco, California",
          "Jacksonville, Florida",
          "Near Lone Pine, California",
          "Near Bradford, Pennsylvania",
          "Near Monroe, Georgia",
          "Gatwick Airport, Horley, Surrey,  England",
          "Near Bangkok, Thailand",
          "Newton, Iowa",
          "Mt. Pilot Knob, Glen Falls, New York",
          "Off Los Angeles, California",
          "Campbell River, Canada",
          "Mt. Paku, Taiwan",
          "Near Ikeja, Nigeria",
          "Near Fairland, Indiana",
          "Maracaibo, Zulia, Venezuela",
          "Near Salinas Victoria, Nuevo Leon, Mexico",
          "Birmingham, Alabama",
          "Dallas, Texas",
          "Atlanta, Georgia",
          "Near Windhoek, South Africa (Namibia)",
          "Homer, Alaska",
          "Basse-Terre, Guadeloupe, West Indies",
          "Hanover, New Hampshire",
          "Santa Ana, California",
          "Off Panay Island, Philippines",
          "Near Dawson, Texas",
          "Off Cap d'Antibes, France",
          "Off Wexford Harbor, Ireland",
          "Pedro Bay, Alaska",
          "Bradford, Pennsylvania",
          "Port Hedland, WA, Australia",
          "Heathrow Airport, London, England",
          "Linkuo, Taiwan",
          "Urbana, Ohio",
          "Mactan, Philippines",
          "New Orleans, Louisiana",
          "Off East London, South Africa",
          "Blossburg, Pennsylvania",
          "Off Rhodes, Greece",
          "Chiang Mai, Thailand",
          "Monrovia, Liberia",
          "Near Madison, Wisconsin",
          "Near Gander, Newfoundland, Canada",
          "Hong Kong, China",
          "Near Hendersonville, North Carolina",
          "Near Marseille, Ohio",
          "Menado, Indonesia",
          "Boston, Massachusett",
          "Bremen, Germany",
          "Tokyo Bay, Japan",
          "Off Cartagena, Colombia",
          "Off Chatham, Massachusetts",
          "Off Matsuyama, Japan",
          "Off Nantucket, Massachusetts",
          "Near Ardmore, Oklahoma",
          "Near Bratislava, Czechoslovakia",
          "Cascubel River, Colombia",
          "Near Ljubljana, Slovenia, Yugoslavia",
          "Tomas, Peru",
          "Mont Blanc, French Alps, Switzerland",
          "Near Gotemba City, Mt. Fuji, Japan",
          "Near Tokyo, Japan",
          "Near Falls City, Nebraska",
          "Near Wemme, Oregon",
          "Winton, Australia",
          "Sagalyan, Philippines",
          "Washington, D.C.",
          "Off Jones Beach, New York, New York",
          "Sugar Loaf Mountain, Colombia",
          "Libmanan, Philippines",
          "Cincinnati Airport, near Covington, Kentucky",
          "Lake Michigan, near Chicago, Illinois",
          "Near Manila, Philippines",
          "San Jose Volcano, Chile",
          "Near La Carlota, Phillipines",
          "Carmel, New York",
          "Salt Lake City , Utah",
          "Musquodoboit, Canada",
          "Montserrat, Antigua",
          "Dog Creek, British Columbia, Canada",
          "Near Seattle, Washington",
          "Salt Lake City, Utah",
          "Near Moscow, Russia",
          "Near Innsbruck, Austria",
          "Cairo, Egypt",
          "Oita, Japan",
          "Marawi, Philippines",
          "Near Zephyr Cove, Nevada",
          "Gainsville, Florida",
          "San Ramon, California",
          "Mt. Vesuvius, Italy",
          "Lake Pontchartrain, New Orleans, Louisiana",
          "Las Vegas, Nevada",
          "Parrottsville, Tennesee",
          "Kansas City, Missouri",
          "North PacifiOcean",
          "Boston, Massachutes",
          "Charleston, West Virginia",
          "Chicago, Illinois",
          "Ste. Therese de Blainville, Canada",
          "Mariehamn, Aaland Island, Finland",
          "Great Salt Lake, Utah",
          "Jamaica, New York",
          "Durrenasch, Aargau, Switzerland",
          "Near Miami, Florida",
          "Rochester, New York",
          "PacifiOcean, 116 miles WSW of Annette Island, Alaska",
          "Near Davao City, Philippines",
          "Mt. Ngatamahinerua, New Zealand",
          "Lyon, France",
          "Near Charana, Bolivia",
          "Elkton, Maryland",
          "Camden, Tennesee",
          "Albany, New York",
          "Lima, Peru",
          "Near Junnar, Maharashtra, India",
          "Douala, Cameroon",
          "Windsor Locks, Connecticut",
          "Western PacifiOcean, Philippine Sea",
          "Le Bourget, France",
          "North AtlantiOcean",
          "Near Unionville, Missouri",
          "Barranca Bermeja, Colombia",
          "Adak, Alaska",
          "Basse-Terre, Guadaloupe, West Indies",
          "Jamaica Bay, New York, New York",
          "Ellicott, Maryland",
          "Ankara, Turkey",
          "Llico, Chile",
          "Near Hinsdale, Illinois",
          "Near Lisbon, Portugal",
          "Near Rabat, Morrocco",
          "Off Surabaya, Indonesia",
          "Near Brussels, Belgium",
          "Mt. Burangrang, Indonesia",
          "Koivulahti, Finland",
          "Near Richmond, Virginia",
          "New York, New York (Idlewild)",
          "Stah, Algeria",
          "Charles City, Virginia",
          "Near Missoula, Montana",
          "Mt. Gilbert, Alaska",
          "Off Dakar, Senegal",
          "Near Jima, Ethiopia",
          "Cordoba, Colombia",
          "Wilmington/Bolivia, North Carolina",
          "Staten Island / Brooklyn, New York",
          "Agana, Guam, Mariana Islands",
          "Off Manila, Philippines",
          "Cebu City, Philippines",
          "Near Cannelton, 10 mile SE of Tell City, Indiana",
          "St. Cleophas, Quebec, Canada",
          "Santa Maria, California",
          "Calverton, New York",
          "Mt. Holston, Tennessee",
          "La Guardia Airport, New York, NY",
          "Athens, Greece",
          "Willamsport, Pennsylvania",
          "Near Varese, Lombardia, 20 miles NW of Milan, Italy",
          "Gulf of Mexico",
          "Buffalo, Texas",
          "Great Sitkin Island, Alaska",
          "Dabouk, Jordan",
          "Mason City, Iowa",
          "Waynesborough, Virginia",
          "Chase, Maryland",
          "Cleveland, Ohio",
          "Freeland, Michigan",
          "Anzio, Italy",
          "Salisbury, Zimbabwe",
          "Nipe Bay, Cuba",
          "Brunswick, Maryland",
          "Munich, Germany",
          "North AtlantiOcean, 100 miles W of Galway Bay, Ireland",
          "Mt. Illiniza, Ecuador",
          "Near Sloan, 10 miles SW of Las Vegas, Nevada",
          "900 miles E of Honolulu, Hawaii, PacifiOcean",
          "Near Biak, Indonesia",
          "Daggett, California",
          "Off Elba, Italy",
          "Blyn, Washington",
          "Anchieta Island, Brazil",
          "Barajas, Madrid, Spain",
          "Owasso, Oklahoma",
          "New Bedford, Massachusett",
          "Skilak Lake, Alaska",
          "Cold Bay, Alaska",
          "Near Chilliwack, British Columbia, Canada",
          "Near Nome, Alaska",
          "Near Flat Rock, Michigan",
          "Salisbury,  Zimbabwe",
          "Longmont, Colorado",
          "Near Centennial, Wyoming",
          "Springfield, Mississippi",
          "Seattle, Washingon",
          "Albuquerque, New Mexico",
          "Des Moines, Iowa",
          "Near Petrich, Bulgaria",
          "Off the Oregon coast",
          "Pittsburgh, Pennsylvania",
          "Berlin, New Hampshire",
          "Wright, Wyoming",
          "Foynes, Ireland",
          "Off Stromboli, Italy",
          "Near Mason City, Iowa",
          "Burbank, California",
          "Near Marshall, Texas",
          "Near Jalalogori, West Bengal, India",
          "Alvarado, California",
          "Issaquah, Washington",
          "PacifiOcean, 325 miles east of Wake Island",
          "San Francisco Bay, California",
          "Fish Haven, Idaho",
          "Near Half Moon Bay, California",
          "Off Mobile, Alabama",
          "Near Whittier, California",
          "Near Carolina, Brazil",
          "Off Sandspit, BC, Canada",
          "Elizabeth, New Jersey",
          "Near Atar, Mauritania",
          "North of San Juan, Puerto Rico",
          "Off Rio de Janeiro, Brazil",
          "Seattle, Washington",
          "Near Reardon, Washington",
          "Key West, Florida",
          "Fort Wayne, Indiana",
          "Near Tucumcari, Arazona",
          "Near Little Valley, New York",
          "Rocky Mountain Nat. Park, near Ft. Collins, Colorado",
          "Refugio Pass, near Santa Barbara, California",
          "Philadelphia, Pennsylvania",
          "Near Fairbanks, Alaska",
          "Decoto, California",
          "Near Sanoyea, Liberia",
          "Lake Michigan, 18 NNW of Benton Harbor, Michigan",
          "Utica, New York",
          "Penticton, British Columbia, Canada",
          "Butte, Montana",
          "Near Wadi Natrun, Egypt",
          "Minneapolis, Minnesota",
          "Mont Blanc, France",
          "Arlington, Virginia",
          "Chatsworth, California",
          "Chesterfield, New Jersey",
          "Miles City, Montana",
          "Near Winona, Minnesota",
          "Shannon, Ireland",
          "Oxon Hill, Maryland",
          "Mt. Sanford, Alaska",
          "Mount Carmel, Pennsylvania",
          "Near Edmonton, Alberta, Canada",
          "Annette Island, Alaska",
          "Near Mt. Hymettus, Greece",
          "Al Mayadin, Syria",
          "La Guardia Airport, Queens, New York",
          "Near Vancouver, British Columbia, Canada",
          "Near Galax, Virginia",
          "Bryce Canyon, Utah",
          "Near El Paso, Texas",
          "Port Deposit, Maryland",
          "Leesburg, Virginia",
          "Cheshire, Connecticut",
          "Live Oak Springs, California",
          "Mt. Elk, Wyoming",
          "Moline, Illinois",
          "Near San Diego, California",
          "Laramie, Wyoming",
          "Cheyenne, Wyoming",
          "Near Shannon, Ireland",
          "Michigan City, Indiana",
          "Elko, Nevada",
          "Florence, South Carolina",
          "Port of Spain, Trinidad",
          "Near Florence, South Carolina",
          "Lakeland, Florida",
          "Fort de France, Martinique",
          "Morgantown, West Virginia",
          "Marion, Virginia",
          "Off Antilla, Cuba",
          "Van Nuys, California",
          "Hanford, California",
          "Memphis, Tennessee",
          "Near Centerville, Tennessee",
          "Off the coast of France",
          "Ukiah, California",
          "Lisbon, Portugal",
          "Near Chaparra, Peru",
          "Trammel, Kentucky",
          "Botwood, Newfoundland",
          "Near Las Vegas, Nevada",
          "Palm Springs, California",
          "Fairfield, Utah",
          "Near Robertson, Missouri",
          "St. Thomas, Ontario, Canada",
          "San Juan, Puerto Rico",
          "Near Moorhead, Minnesota",
          "Near Centerville, Utah",
          "Near Lovettsville, Virginia",
          "Oklahoma City, Oklahoma",
          "Pago Pago, U.S. Samoa",
          "PacifiOcean between Manila and Guam",
          "Near Wawona, Cailifornia",
          "Off Point Reyes, California",
          "Bozeman, Montana",
          "Haydens Peak, Wyoming",
          "Lakehurst, New Jersey",
          "Daytona Beach, Florida",
          "Clifton, Pennsylvania",
          "Near Newhall, California",
          "Off San Francisco, California",
          "Goodwin, Arkansas",
          "Near Milford, Pennsylvania",
          "Near Salt Lake City, Utah",
          "Newhall, California",
          "Uniontown, Pennsylvania",
          "Atlanta, Missouri",
          "Near Cheyenne, Wyoming",
          "Near Gilmer, Texas",
          "Amazonia, Missouri",
          "Bazaar, Kansas",
          "Oceanside, California"
         ],
         "name": "",
         "type": "choropleth",
         "z": [
          2009,
          2009,
          2009,
          2008,
          2008,
          2008,
          2008,
          2008,
          2008,
          2008,
          2008,
          2008,
          2007,
          2007,
          2007,
          2007,
          2007,
          2007,
          2007,
          2007,
          2007,
          2006,
          2006,
          2006,
          2006,
          2006,
          2006,
          2006,
          2006,
          2006,
          2006,
          2006,
          2005,
          2005,
          2005,
          2005,
          2005,
          2005,
          2005,
          2005,
          2005,
          2005,
          2005,
          2004,
          2004,
          2004,
          2004,
          2004,
          2004,
          2004,
          2004,
          2004,
          2004,
          2004,
          2004,
          2004,
          2004,
          2004,
          2003,
          2003,
          2003,
          2003,
          2003,
          2003,
          2003,
          2003,
          2003,
          2003,
          2003,
          2003,
          2003,
          2003,
          2003,
          2003,
          2003,
          2003,
          2002,
          2002,
          2002,
          2002,
          2002,
          2002,
          2002,
          2002,
          2002,
          2002,
          2002,
          2002,
          2002,
          2002,
          2002,
          2002,
          2002,
          2002,
          2002,
          2002,
          2002,
          2002,
          2002,
          2001,
          2001,
          2001,
          2001,
          2001,
          2001,
          2001,
          2001,
          2001,
          2001,
          2001,
          2001,
          2001,
          2001,
          2001,
          2001,
          2001,
          2001,
          2001,
          2001,
          2000.5,
          2000,
          2000,
          2000,
          2000,
          2000,
          2000,
          2000,
          2000,
          2000,
          2000,
          2000,
          2000,
          2000,
          2000,
          2000,
          2000,
          2000,
          2000,
          2000,
          2000,
          2000,
          2000,
          2000,
          2000,
          1999,
          1999,
          1999,
          1999,
          1999,
          1999,
          1999,
          1999,
          1999,
          1999,
          1999,
          1999,
          1999,
          1999,
          1999,
          1999,
          1999,
          1999,
          1999,
          1999,
          1999,
          1999,
          1999,
          1999,
          1999,
          1999,
          1998.5,
          1998.3333333333333,
          1998,
          1998,
          1998,
          1998,
          1998,
          1998,
          1998,
          1998,
          1998,
          1998,
          1998,
          1998,
          1998,
          1998,
          1998,
          1998,
          1998,
          1997,
          1997,
          1997,
          1997,
          1997,
          1997,
          1997,
          1997,
          1997,
          1997,
          1997,
          1997,
          1997,
          1997,
          1997,
          1997,
          1997,
          1997,
          1997,
          1997,
          1997,
          1997,
          1996.6666666666667,
          1996.5,
          1996,
          1996,
          1996,
          1996,
          1996,
          1996,
          1996,
          1996,
          1996,
          1996,
          1996,
          1996,
          1996,
          1996,
          1996,
          1996,
          1996,
          1996,
          1996,
          1996,
          1995,
          1995,
          1995,
          1995,
          1995,
          1995,
          1995,
          1995,
          1995,
          1995,
          1995,
          1995,
          1995,
          1995,
          1995,
          1995,
          1995,
          1994.5,
          1994,
          1994,
          1994,
          1994,
          1994,
          1994,
          1994,
          1994,
          1994,
          1994,
          1994,
          1994,
          1994,
          1994,
          1994,
          1994,
          1994,
          1994,
          1993,
          1993,
          1993,
          1993,
          1993,
          1993,
          1993,
          1993,
          1993,
          1993,
          1993,
          1993,
          1993,
          1992,
          1992,
          1992,
          1992,
          1992,
          1992,
          1992,
          1992,
          1992,
          1992,
          1992,
          1992,
          1991.5,
          1991,
          1991,
          1991,
          1991,
          1991,
          1991,
          1991,
          1991,
          1991,
          1991,
          1991,
          1990.5,
          1990.5,
          1990,
          1990,
          1990,
          1990,
          1990,
          1990,
          1990,
          1990,
          1990,
          1990,
          1990,
          1990,
          1989,
          1989,
          1989,
          1989,
          1989,
          1989,
          1989,
          1989,
          1989,
          1989,
          1989,
          1989,
          1989,
          1989,
          1989,
          1989,
          1988.5,
          1988,
          1988,
          1988,
          1988,
          1988,
          1988,
          1988,
          1988,
          1988,
          1988,
          1988,
          1988,
          1988,
          1988,
          1988,
          1987,
          1987,
          1987,
          1987,
          1987,
          1987,
          1987,
          1986.5,
          1986,
          1986,
          1986,
          1986,
          1986,
          1986,
          1986,
          1986,
          1985.5,
          1985.5,
          1985,
          1985,
          1985,
          1985,
          1985,
          1985,
          1985,
          1985,
          1985,
          1985,
          1985,
          1985,
          1985,
          1985,
          1985,
          1985,
          1985,
          1984.5,
          1984.3333333333333,
          1984,
          1983.6666666666667,
          1983,
          1983,
          1983,
          1983,
          1983,
          1983,
          1983,
          1983,
          1983,
          1982.5,
          1982.5,
          1982,
          1982,
          1982,
          1982,
          1982,
          1982,
          1982,
          1982,
          1982,
          1981,
          1981,
          1981,
          1981,
          1981,
          1980,
          1980,
          1980,
          1980,
          1980,
          1980,
          1980,
          1980,
          1979,
          1979,
          1979,
          1979,
          1979,
          1979,
          1979,
          1979,
          1979,
          1979,
          1979,
          1979,
          1979,
          1978.5,
          1978,
          1978,
          1978,
          1978,
          1978,
          1978,
          1978,
          1977,
          1977,
          1977,
          1977,
          1977,
          1977,
          1976.5,
          1976,
          1976,
          1976,
          1976,
          1976,
          1976,
          1976,
          1975.5,
          1975.5,
          1975,
          1975,
          1975,
          1975,
          1975,
          1975,
          1974.5,
          1974.3333333333333,
          1974.3333333333333,
          1974,
          1974,
          1974,
          1974,
          1974,
          1974,
          1974,
          1974,
          1974,
          1974,
          1974,
          1973,
          1973,
          1973,
          1973,
          1973,
          1973,
          1973,
          1973,
          1973,
          1973,
          1973,
          1973,
          1973,
          1972,
          1972,
          1972,
          1972,
          1972,
          1972,
          1972,
          1972,
          1972,
          1972,
          1972,
          1972,
          1972,
          1972,
          1971,
          1971,
          1971,
          1971,
          1971,
          1971,
          1971,
          1971,
          1971,
          1971,
          1971,
          1970.5,
          1970.5,
          1970,
          1970,
          1970,
          1970,
          1970,
          1970,
          1970,
          1970,
          1969.5,
          1969.5,
          1969,
          1969,
          1969,
          1969,
          1969,
          1969,
          1969,
          1969,
          1969,
          1969,
          1969,
          1969,
          1969,
          1969,
          1968.5,
          1968.5,
          1968,
          1968,
          1968,
          1968,
          1968,
          1968,
          1968,
          1968,
          1968,
          1968,
          1968,
          1968,
          1968,
          1968,
          1968,
          1967,
          1967,
          1967,
          1967,
          1967,
          1967,
          1967,
          1967,
          1967,
          1967,
          1967,
          1967,
          1967,
          1967,
          1966.5,
          1966,
          1966,
          1966,
          1966,
          1966,
          1966,
          1966,
          1966,
          1966,
          1966,
          1966,
          1966,
          1966,
          1966,
          1966,
          1966,
          1966,
          1966,
          1965.5,
          1965,
          1965,
          1965,
          1965,
          1965,
          1965,
          1965,
          1965,
          1965,
          1965,
          1965,
          1965,
          1965,
          1965,
          1964.6666666666667,
          1964.5,
          1964,
          1964,
          1964,
          1964,
          1964,
          1964,
          1964,
          1964,
          1964,
          1964,
          1964,
          1964,
          1964,
          1964,
          1963.5,
          1963.5,
          1963,
          1963,
          1963,
          1963,
          1963,
          1963,
          1963,
          1963,
          1963,
          1963,
          1963,
          1963,
          1963,
          1963,
          1962.5,
          1962,
          1962,
          1962,
          1962,
          1962,
          1962,
          1962,
          1962,
          1962,
          1962,
          1962,
          1962,
          1962,
          1961.5,
          1961,
          1961,
          1961,
          1961,
          1961,
          1961,
          1961,
          1961,
          1961,
          1961,
          1961,
          1960,
          1960,
          1960,
          1960,
          1960,
          1960,
          1960,
          1960,
          1960,
          1960,
          1960,
          1960,
          1959,
          1959,
          1959,
          1959,
          1959,
          1959,
          1959,
          1959,
          1959,
          1959,
          1959,
          1959,
          1959,
          1959,
          1959,
          1958.3333333333333,
          1958,
          1958,
          1958,
          1958,
          1958,
          1958,
          1958,
          1958,
          1958,
          1957,
          1957,
          1957,
          1957,
          1957,
          1957,
          1957,
          1957,
          1957,
          1956,
          1956,
          1956,
          1956,
          1956,
          1955,
          1955,
          1955,
          1955,
          1955,
          1955,
          1955,
          1955,
          1955,
          1955,
          1954,
          1954,
          1954,
          1954,
          1954,
          1953.5,
          1953,
          1953,
          1953,
          1953,
          1953,
          1953,
          1953,
          1953,
          1953,
          1952,
          1952,
          1952,
          1952,
          1952,
          1952,
          1952,
          1951.5,
          1951,
          1951,
          1951,
          1951,
          1951,
          1951,
          1951,
          1951,
          1951,
          1951,
          1951,
          1950,
          1950,
          1950,
          1950,
          1950,
          1950,
          1950,
          1949,
          1949,
          1949,
          1948.3333333333333,
          1948,
          1948,
          1948,
          1948,
          1948,
          1948,
          1947,
          1947,
          1947,
          1947,
          1947,
          1947,
          1947,
          1947,
          1947,
          1947,
          1946,
          1946,
          1946,
          1946,
          1946,
          1946,
          1946,
          1946,
          1946,
          1946,
          1945,
          1945,
          1945,
          1945,
          1945,
          1945,
          1945,
          1944,
          1944,
          1944,
          1944,
          1943,
          1943,
          1943,
          1943,
          1943,
          1943,
          1942,
          1942,
          1942,
          1942,
          1941,
          1941,
          1941,
          1941,
          1940,
          1940,
          1939,
          1938,
          1938,
          1938,
          1938,
          1938,
          1937,
          1937,
          1937,
          1937,
          1937,
          1937,
          1936,
          1936,
          1936,
          1936,
          1936,
          1935,
          1935,
          1935,
          1934,
          1931,
          1930
         ]
        }
       ],
       "layout": {
        "coloraxis": {
         "colorbar": {
          "title": {
           "text": "Year"
          }
         },
         "colorscale": [
          [
           0,
           "#0d0887"
          ],
          [
           0.1111111111111111,
           "#46039f"
          ],
          [
           0.2222222222222222,
           "#7201a8"
          ],
          [
           0.3333333333333333,
           "#9c179e"
          ],
          [
           0.4444444444444444,
           "#bd3786"
          ],
          [
           0.5555555555555556,
           "#d8576b"
          ],
          [
           0.6666666666666666,
           "#ed7953"
          ],
          [
           0.7777777777777778,
           "#fb9f3a"
          ],
          [
           0.8888888888888888,
           "#fdca26"
          ],
          [
           1,
           "#f0f921"
          ]
         ]
        },
        "geo": {
         "center": {},
         "domain": {
          "x": [
           0,
           1
          ],
          "y": [
           0,
           1
          ]
         }
        },
        "legend": {
         "tracegroupgap": 0
        },
        "template": {
         "data": {
          "bar": [
           {
            "error_x": {
             "color": "#2a3f5f"
            },
            "error_y": {
             "color": "#2a3f5f"
            },
            "marker": {
             "line": {
              "color": "#E5ECF6",
              "width": 0.5
             },
             "pattern": {
              "fillmode": "overlay",
              "size": 10,
              "solidity": 0.2
             }
            },
            "type": "bar"
           }
          ],
          "barpolar": [
           {
            "marker": {
             "line": {
              "color": "#E5ECF6",
              "width": 0.5
             },
             "pattern": {
              "fillmode": "overlay",
              "size": 10,
              "solidity": 0.2
             }
            },
            "type": "barpolar"
           }
          ],
          "carpet": [
           {
            "aaxis": {
             "endlinecolor": "#2a3f5f",
             "gridcolor": "white",
             "linecolor": "white",
             "minorgridcolor": "white",
             "startlinecolor": "#2a3f5f"
            },
            "baxis": {
             "endlinecolor": "#2a3f5f",
             "gridcolor": "white",
             "linecolor": "white",
             "minorgridcolor": "white",
             "startlinecolor": "#2a3f5f"
            },
            "type": "carpet"
           }
          ],
          "choropleth": [
           {
            "colorbar": {
             "outlinewidth": 0,
             "ticks": ""
            },
            "type": "choropleth"
           }
          ],
          "contour": [
           {
            "colorbar": {
             "outlinewidth": 0,
             "ticks": ""
            },
            "colorscale": [
             [
              0,
              "#0d0887"
             ],
             [
              0.1111111111111111,
              "#46039f"
             ],
             [
              0.2222222222222222,
              "#7201a8"
             ],
             [
              0.3333333333333333,
              "#9c179e"
             ],
             [
              0.4444444444444444,
              "#bd3786"
             ],
             [
              0.5555555555555556,
              "#d8576b"
             ],
             [
              0.6666666666666666,
              "#ed7953"
             ],
             [
              0.7777777777777778,
              "#fb9f3a"
             ],
             [
              0.8888888888888888,
              "#fdca26"
             ],
             [
              1,
              "#f0f921"
             ]
            ],
            "type": "contour"
           }
          ],
          "contourcarpet": [
           {
            "colorbar": {
             "outlinewidth": 0,
             "ticks": ""
            },
            "type": "contourcarpet"
           }
          ],
          "heatmap": [
           {
            "colorbar": {
             "outlinewidth": 0,
             "ticks": ""
            },
            "colorscale": [
             [
              0,
              "#0d0887"
             ],
             [
              0.1111111111111111,
              "#46039f"
             ],
             [
              0.2222222222222222,
              "#7201a8"
             ],
             [
              0.3333333333333333,
              "#9c179e"
             ],
             [
              0.4444444444444444,
              "#bd3786"
             ],
             [
              0.5555555555555556,
              "#d8576b"
             ],
             [
              0.6666666666666666,
              "#ed7953"
             ],
             [
              0.7777777777777778,
              "#fb9f3a"
             ],
             [
              0.8888888888888888,
              "#fdca26"
             ],
             [
              1,
              "#f0f921"
             ]
            ],
            "type": "heatmap"
           }
          ],
          "heatmapgl": [
           {
            "colorbar": {
             "outlinewidth": 0,
             "ticks": ""
            },
            "colorscale": [
             [
              0,
              "#0d0887"
             ],
             [
              0.1111111111111111,
              "#46039f"
             ],
             [
              0.2222222222222222,
              "#7201a8"
             ],
             [
              0.3333333333333333,
              "#9c179e"
             ],
             [
              0.4444444444444444,
              "#bd3786"
             ],
             [
              0.5555555555555556,
              "#d8576b"
             ],
             [
              0.6666666666666666,
              "#ed7953"
             ],
             [
              0.7777777777777778,
              "#fb9f3a"
             ],
             [
              0.8888888888888888,
              "#fdca26"
             ],
             [
              1,
              "#f0f921"
             ]
            ],
            "type": "heatmapgl"
           }
          ],
          "histogram": [
           {
            "marker": {
             "pattern": {
              "fillmode": "overlay",
              "size": 10,
              "solidity": 0.2
             }
            },
            "type": "histogram"
           }
          ],
          "histogram2d": [
           {
            "colorbar": {
             "outlinewidth": 0,
             "ticks": ""
            },
            "colorscale": [
             [
              0,
              "#0d0887"
             ],
             [
              0.1111111111111111,
              "#46039f"
             ],
             [
              0.2222222222222222,
              "#7201a8"
             ],
             [
              0.3333333333333333,
              "#9c179e"
             ],
             [
              0.4444444444444444,
              "#bd3786"
             ],
             [
              0.5555555555555556,
              "#d8576b"
             ],
             [
              0.6666666666666666,
              "#ed7953"
             ],
             [
              0.7777777777777778,
              "#fb9f3a"
             ],
             [
              0.8888888888888888,
              "#fdca26"
             ],
             [
              1,
              "#f0f921"
             ]
            ],
            "type": "histogram2d"
           }
          ],
          "histogram2dcontour": [
           {
            "colorbar": {
             "outlinewidth": 0,
             "ticks": ""
            },
            "colorscale": [
             [
              0,
              "#0d0887"
             ],
             [
              0.1111111111111111,
              "#46039f"
             ],
             [
              0.2222222222222222,
              "#7201a8"
             ],
             [
              0.3333333333333333,
              "#9c179e"
             ],
             [
              0.4444444444444444,
              "#bd3786"
             ],
             [
              0.5555555555555556,
              "#d8576b"
             ],
             [
              0.6666666666666666,
              "#ed7953"
             ],
             [
              0.7777777777777778,
              "#fb9f3a"
             ],
             [
              0.8888888888888888,
              "#fdca26"
             ],
             [
              1,
              "#f0f921"
             ]
            ],
            "type": "histogram2dcontour"
           }
          ],
          "mesh3d": [
           {
            "colorbar": {
             "outlinewidth": 0,
             "ticks": ""
            },
            "type": "mesh3d"
           }
          ],
          "parcoords": [
           {
            "line": {
             "colorbar": {
              "outlinewidth": 0,
              "ticks": ""
             }
            },
            "type": "parcoords"
           }
          ],
          "pie": [
           {
            "automargin": true,
            "type": "pie"
           }
          ],
          "scatter": [
           {
            "marker": {
             "colorbar": {
              "outlinewidth": 0,
              "ticks": ""
             }
            },
            "type": "scatter"
           }
          ],
          "scatter3d": [
           {
            "line": {
             "colorbar": {
              "outlinewidth": 0,
              "ticks": ""
             }
            },
            "marker": {
             "colorbar": {
              "outlinewidth": 0,
              "ticks": ""
             }
            },
            "type": "scatter3d"
           }
          ],
          "scattercarpet": [
           {
            "marker": {
             "colorbar": {
              "outlinewidth": 0,
              "ticks": ""
             }
            },
            "type": "scattercarpet"
           }
          ],
          "scattergeo": [
           {
            "marker": {
             "colorbar": {
              "outlinewidth": 0,
              "ticks": ""
             }
            },
            "type": "scattergeo"
           }
          ],
          "scattergl": [
           {
            "marker": {
             "colorbar": {
              "outlinewidth": 0,
              "ticks": ""
             }
            },
            "type": "scattergl"
           }
          ],
          "scattermapbox": [
           {
            "marker": {
             "colorbar": {
              "outlinewidth": 0,
              "ticks": ""
             }
            },
            "type": "scattermapbox"
           }
          ],
          "scatterpolar": [
           {
            "marker": {
             "colorbar": {
              "outlinewidth": 0,
              "ticks": ""
             }
            },
            "type": "scatterpolar"
           }
          ],
          "scatterpolargl": [
           {
            "marker": {
             "colorbar": {
              "outlinewidth": 0,
              "ticks": ""
             }
            },
            "type": "scatterpolargl"
           }
          ],
          "scatterternary": [
           {
            "marker": {
             "colorbar": {
              "outlinewidth": 0,
              "ticks": ""
             }
            },
            "type": "scatterternary"
           }
          ],
          "surface": [
           {
            "colorbar": {
             "outlinewidth": 0,
             "ticks": ""
            },
            "colorscale": [
             [
              0,
              "#0d0887"
             ],
             [
              0.1111111111111111,
              "#46039f"
             ],
             [
              0.2222222222222222,
              "#7201a8"
             ],
             [
              0.3333333333333333,
              "#9c179e"
             ],
             [
              0.4444444444444444,
              "#bd3786"
             ],
             [
              0.5555555555555556,
              "#d8576b"
             ],
             [
              0.6666666666666666,
              "#ed7953"
             ],
             [
              0.7777777777777778,
              "#fb9f3a"
             ],
             [
              0.8888888888888888,
              "#fdca26"
             ],
             [
              1,
              "#f0f921"
             ]
            ],
            "type": "surface"
           }
          ],
          "table": [
           {
            "cells": {
             "fill": {
              "color": "#EBF0F8"
             },
             "line": {
              "color": "white"
             }
            },
            "header": {
             "fill": {
              "color": "#C8D4E3"
             },
             "line": {
              "color": "white"
             }
            },
            "type": "table"
           }
          ]
         },
         "layout": {
          "annotationdefaults": {
           "arrowcolor": "#2a3f5f",
           "arrowhead": 0,
           "arrowwidth": 1
          },
          "autotypenumbers": "strict",
          "coloraxis": {
           "colorbar": {
            "outlinewidth": 0,
            "ticks": ""
           }
          },
          "colorscale": {
           "diverging": [
            [
             0,
             "#8e0152"
            ],
            [
             0.1,
             "#c51b7d"
            ],
            [
             0.2,
             "#de77ae"
            ],
            [
             0.3,
             "#f1b6da"
            ],
            [
             0.4,
             "#fde0ef"
            ],
            [
             0.5,
             "#f7f7f7"
            ],
            [
             0.6,
             "#e6f5d0"
            ],
            [
             0.7,
             "#b8e186"
            ],
            [
             0.8,
             "#7fbc41"
            ],
            [
             0.9,
             "#4d9221"
            ],
            [
             1,
             "#276419"
            ]
           ],
           "sequential": [
            [
             0,
             "#0d0887"
            ],
            [
             0.1111111111111111,
             "#46039f"
            ],
            [
             0.2222222222222222,
             "#7201a8"
            ],
            [
             0.3333333333333333,
             "#9c179e"
            ],
            [
             0.4444444444444444,
             "#bd3786"
            ],
            [
             0.5555555555555556,
             "#d8576b"
            ],
            [
             0.6666666666666666,
             "#ed7953"
            ],
            [
             0.7777777777777778,
             "#fb9f3a"
            ],
            [
             0.8888888888888888,
             "#fdca26"
            ],
            [
             1,
             "#f0f921"
            ]
           ],
           "sequentialminus": [
            [
             0,
             "#0d0887"
            ],
            [
             0.1111111111111111,
             "#46039f"
            ],
            [
             0.2222222222222222,
             "#7201a8"
            ],
            [
             0.3333333333333333,
             "#9c179e"
            ],
            [
             0.4444444444444444,
             "#bd3786"
            ],
            [
             0.5555555555555556,
             "#d8576b"
            ],
            [
             0.6666666666666666,
             "#ed7953"
            ],
            [
             0.7777777777777778,
             "#fb9f3a"
            ],
            [
             0.8888888888888888,
             "#fdca26"
            ],
            [
             1,
             "#f0f921"
            ]
           ]
          },
          "colorway": [
           "#636efa",
           "#EF553B",
           "#00cc96",
           "#ab63fa",
           "#FFA15A",
           "#19d3f3",
           "#FF6692",
           "#B6E880",
           "#FF97FF",
           "#FECB52"
          ],
          "font": {
           "color": "#2a3f5f"
          },
          "geo": {
           "bgcolor": "white",
           "lakecolor": "white",
           "landcolor": "#E5ECF6",
           "showlakes": true,
           "showland": true,
           "subunitcolor": "white"
          },
          "hoverlabel": {
           "align": "left"
          },
          "hovermode": "closest",
          "mapbox": {
           "style": "light"
          },
          "paper_bgcolor": "white",
          "plot_bgcolor": "#E5ECF6",
          "polar": {
           "angularaxis": {
            "gridcolor": "white",
            "linecolor": "white",
            "ticks": ""
           },
           "bgcolor": "#E5ECF6",
           "radialaxis": {
            "gridcolor": "white",
            "linecolor": "white",
            "ticks": ""
           }
          },
          "scene": {
           "xaxis": {
            "backgroundcolor": "#E5ECF6",
            "gridcolor": "white",
            "gridwidth": 2,
            "linecolor": "white",
            "showbackground": true,
            "ticks": "",
            "zerolinecolor": "white"
           },
           "yaxis": {
            "backgroundcolor": "#E5ECF6",
            "gridcolor": "white",
            "gridwidth": 2,
            "linecolor": "white",
            "showbackground": true,
            "ticks": "",
            "zerolinecolor": "white"
           },
           "zaxis": {
            "backgroundcolor": "#E5ECF6",
            "gridcolor": "white",
            "gridwidth": 2,
            "linecolor": "white",
            "showbackground": true,
            "ticks": "",
            "zerolinecolor": "white"
           }
          },
          "shapedefaults": {
           "line": {
            "color": "#2a3f5f"
           }
          },
          "ternary": {
           "aaxis": {
            "gridcolor": "white",
            "linecolor": "white",
            "ticks": ""
           },
           "baxis": {
            "gridcolor": "white",
            "linecolor": "white",
            "ticks": ""
           },
           "bgcolor": "#E5ECF6",
           "caxis": {
            "gridcolor": "white",
            "linecolor": "white",
            "ticks": ""
           }
          },
          "title": {
           "x": 0.05
          },
          "xaxis": {
           "automargin": true,
           "gridcolor": "white",
           "linecolor": "white",
           "ticks": "",
           "title": {
            "standoff": 15
           },
           "zerolinecolor": "white",
           "zerolinewidth": 2
          },
          "yaxis": {
           "automargin": true,
           "gridcolor": "white",
           "linecolor": "white",
           "ticks": "",
           "title": {
            "standoff": 15
           },
           "zerolinecolor": "white",
           "zerolinewidth": 2
          }
         }
        },
        "title": {
         "text": "Most Dangerous Locations per years"
        }
       }
      },
      "text/html": [
       "<div>                            <div id=\"ff36cc02-b194-4e22-80a6-430d6f6ce439\" class=\"plotly-graph-div\" style=\"height:525px; width:100%;\"></div>            <script type=\"text/javascript\">                require([\"plotly\"], function(Plotly) {                    window.PLOTLYENV=window.PLOTLYENV || {};                                    if (document.getElementById(\"ff36cc02-b194-4e22-80a6-430d6f6ce439\")) {                    Plotly.newPlot(                        \"ff36cc02-b194-4e22-80a6-430d6f6ce439\",                        [{\"coloraxis\":\"coloraxis\",\"customdata\":[[2009.0],[2009.0],[2009.0],[2008.0],[2008.0],[2008.0],[2008.0],[2008.0],[2008.0],[2008.0],[2008.0],[2008.0],[2007.0],[2007.0],[2007.0],[2007.0],[2007.0],[2007.0],[2007.0],[2007.0],[2007.0],[2006.0],[2006.0],[2006.0],[2006.0],[2006.0],[2006.0],[2006.0],[2006.0],[2006.0],[2006.0],[2006.0],[2005.0],[2005.0],[2005.0],[2005.0],[2005.0],[2005.0],[2005.0],[2005.0],[2005.0],[2005.0],[2005.0],[2004.0],[2004.0],[2004.0],[2004.0],[2004.0],[2004.0],[2004.0],[2004.0],[2004.0],[2004.0],[2004.0],[2004.0],[2004.0],[2004.0],[2004.0],[2003.0],[2003.0],[2003.0],[2003.0],[2003.0],[2003.0],[2003.0],[2003.0],[2003.0],[2003.0],[2003.0],[2003.0],[2003.0],[2003.0],[2003.0],[2003.0],[2003.0],[2003.0],[2002.0],[2002.0],[2002.0],[2002.0],[2002.0],[2002.0],[2002.0],[2002.0],[2002.0],[2002.0],[2002.0],[2002.0],[2002.0],[2002.0],[2002.0],[2002.0],[2002.0],[2002.0],[2002.0],[2002.0],[2002.0],[2002.0],[2002.0],[2001.0],[2001.0],[2001.0],[2001.0],[2001.0],[2001.0],[2001.0],[2001.0],[2001.0],[2001.0],[2001.0],[2001.0],[2001.0],[2001.0],[2001.0],[2001.0],[2001.0],[2001.0],[2001.0],[2001.0],[2000.5],[2000.0],[2000.0],[2000.0],[2000.0],[2000.0],[2000.0],[2000.0],[2000.0],[2000.0],[2000.0],[2000.0],[2000.0],[2000.0],[2000.0],[2000.0],[2000.0],[2000.0],[2000.0],[2000.0],[2000.0],[2000.0],[2000.0],[2000.0],[2000.0],[1999.0],[1999.0],[1999.0],[1999.0],[1999.0],[1999.0],[1999.0],[1999.0],[1999.0],[1999.0],[1999.0],[1999.0],[1999.0],[1999.0],[1999.0],[1999.0],[1999.0],[1999.0],[1999.0],[1999.0],[1999.0],[1999.0],[1999.0],[1999.0],[1999.0],[1999.0],[1998.5],[1998.3333333333333],[1998.0],[1998.0],[1998.0],[1998.0],[1998.0],[1998.0],[1998.0],[1998.0],[1998.0],[1998.0],[1998.0],[1998.0],[1998.0],[1998.0],[1998.0],[1998.0],[1998.0],[1997.0],[1997.0],[1997.0],[1997.0],[1997.0],[1997.0],[1997.0],[1997.0],[1997.0],[1997.0],[1997.0],[1997.0],[1997.0],[1997.0],[1997.0],[1997.0],[1997.0],[1997.0],[1997.0],[1997.0],[1997.0],[1997.0],[1996.6666666666667],[1996.5],[1996.0],[1996.0],[1996.0],[1996.0],[1996.0],[1996.0],[1996.0],[1996.0],[1996.0],[1996.0],[1996.0],[1996.0],[1996.0],[1996.0],[1996.0],[1996.0],[1996.0],[1996.0],[1996.0],[1996.0],[1995.0],[1995.0],[1995.0],[1995.0],[1995.0],[1995.0],[1995.0],[1995.0],[1995.0],[1995.0],[1995.0],[1995.0],[1995.0],[1995.0],[1995.0],[1995.0],[1995.0],[1994.5],[1994.0],[1994.0],[1994.0],[1994.0],[1994.0],[1994.0],[1994.0],[1994.0],[1994.0],[1994.0],[1994.0],[1994.0],[1994.0],[1994.0],[1994.0],[1994.0],[1994.0],[1994.0],[1993.0],[1993.0],[1993.0],[1993.0],[1993.0],[1993.0],[1993.0],[1993.0],[1993.0],[1993.0],[1993.0],[1993.0],[1993.0],[1992.0],[1992.0],[1992.0],[1992.0],[1992.0],[1992.0],[1992.0],[1992.0],[1992.0],[1992.0],[1992.0],[1992.0],[1991.5],[1991.0],[1991.0],[1991.0],[1991.0],[1991.0],[1991.0],[1991.0],[1991.0],[1991.0],[1991.0],[1991.0],[1990.5],[1990.5],[1990.0],[1990.0],[1990.0],[1990.0],[1990.0],[1990.0],[1990.0],[1990.0],[1990.0],[1990.0],[1990.0],[1990.0],[1989.0],[1989.0],[1989.0],[1989.0],[1989.0],[1989.0],[1989.0],[1989.0],[1989.0],[1989.0],[1989.0],[1989.0],[1989.0],[1989.0],[1989.0],[1989.0],[1988.5],[1988.0],[1988.0],[1988.0],[1988.0],[1988.0],[1988.0],[1988.0],[1988.0],[1988.0],[1988.0],[1988.0],[1988.0],[1988.0],[1988.0],[1988.0],[1987.0],[1987.0],[1987.0],[1987.0],[1987.0],[1987.0],[1987.0],[1986.5],[1986.0],[1986.0],[1986.0],[1986.0],[1986.0],[1986.0],[1986.0],[1986.0],[1985.5],[1985.5],[1985.0],[1985.0],[1985.0],[1985.0],[1985.0],[1985.0],[1985.0],[1985.0],[1985.0],[1985.0],[1985.0],[1985.0],[1985.0],[1985.0],[1985.0],[1985.0],[1985.0],[1984.5],[1984.3333333333333],[1984.0],[1983.6666666666667],[1983.0],[1983.0],[1983.0],[1983.0],[1983.0],[1983.0],[1983.0],[1983.0],[1983.0],[1982.5],[1982.5],[1982.0],[1982.0],[1982.0],[1982.0],[1982.0],[1982.0],[1982.0],[1982.0],[1982.0],[1981.0],[1981.0],[1981.0],[1981.0],[1981.0],[1980.0],[1980.0],[1980.0],[1980.0],[1980.0],[1980.0],[1980.0],[1980.0],[1979.0],[1979.0],[1979.0],[1979.0],[1979.0],[1979.0],[1979.0],[1979.0],[1979.0],[1979.0],[1979.0],[1979.0],[1979.0],[1978.5],[1978.0],[1978.0],[1978.0],[1978.0],[1978.0],[1978.0],[1978.0],[1977.0],[1977.0],[1977.0],[1977.0],[1977.0],[1977.0],[1976.5],[1976.0],[1976.0],[1976.0],[1976.0],[1976.0],[1976.0],[1976.0],[1975.5],[1975.5],[1975.0],[1975.0],[1975.0],[1975.0],[1975.0],[1975.0],[1974.5],[1974.3333333333333],[1974.3333333333333],[1974.0],[1974.0],[1974.0],[1974.0],[1974.0],[1974.0],[1974.0],[1974.0],[1974.0],[1974.0],[1974.0],[1973.0],[1973.0],[1973.0],[1973.0],[1973.0],[1973.0],[1973.0],[1973.0],[1973.0],[1973.0],[1973.0],[1973.0],[1973.0],[1972.0],[1972.0],[1972.0],[1972.0],[1972.0],[1972.0],[1972.0],[1972.0],[1972.0],[1972.0],[1972.0],[1972.0],[1972.0],[1972.0],[1971.0],[1971.0],[1971.0],[1971.0],[1971.0],[1971.0],[1971.0],[1971.0],[1971.0],[1971.0],[1971.0],[1970.5],[1970.5],[1970.0],[1970.0],[1970.0],[1970.0],[1970.0],[1970.0],[1970.0],[1970.0],[1969.5],[1969.5],[1969.0],[1969.0],[1969.0],[1969.0],[1969.0],[1969.0],[1969.0],[1969.0],[1969.0],[1969.0],[1969.0],[1969.0],[1969.0],[1969.0],[1968.5],[1968.5],[1968.0],[1968.0],[1968.0],[1968.0],[1968.0],[1968.0],[1968.0],[1968.0],[1968.0],[1968.0],[1968.0],[1968.0],[1968.0],[1968.0],[1968.0],[1967.0],[1967.0],[1967.0],[1967.0],[1967.0],[1967.0],[1967.0],[1967.0],[1967.0],[1967.0],[1967.0],[1967.0],[1967.0],[1967.0],[1966.5],[1966.0],[1966.0],[1966.0],[1966.0],[1966.0],[1966.0],[1966.0],[1966.0],[1966.0],[1966.0],[1966.0],[1966.0],[1966.0],[1966.0],[1966.0],[1966.0],[1966.0],[1966.0],[1965.5],[1965.0],[1965.0],[1965.0],[1965.0],[1965.0],[1965.0],[1965.0],[1965.0],[1965.0],[1965.0],[1965.0],[1965.0],[1965.0],[1965.0],[1964.6666666666667],[1964.5],[1964.0],[1964.0],[1964.0],[1964.0],[1964.0],[1964.0],[1964.0],[1964.0],[1964.0],[1964.0],[1964.0],[1964.0],[1964.0],[1964.0],[1963.5],[1963.5],[1963.0],[1963.0],[1963.0],[1963.0],[1963.0],[1963.0],[1963.0],[1963.0],[1963.0],[1963.0],[1963.0],[1963.0],[1963.0],[1963.0],[1962.5],[1962.0],[1962.0],[1962.0],[1962.0],[1962.0],[1962.0],[1962.0],[1962.0],[1962.0],[1962.0],[1962.0],[1962.0],[1962.0],[1961.5],[1961.0],[1961.0],[1961.0],[1961.0],[1961.0],[1961.0],[1961.0],[1961.0],[1961.0],[1961.0],[1961.0],[1960.0],[1960.0],[1960.0],[1960.0],[1960.0],[1960.0],[1960.0],[1960.0],[1960.0],[1960.0],[1960.0],[1960.0],[1959.0],[1959.0],[1959.0],[1959.0],[1959.0],[1959.0],[1959.0],[1959.0],[1959.0],[1959.0],[1959.0],[1959.0],[1959.0],[1959.0],[1959.0],[1958.3333333333333],[1958.0],[1958.0],[1958.0],[1958.0],[1958.0],[1958.0],[1958.0],[1958.0],[1958.0],[1957.0],[1957.0],[1957.0],[1957.0],[1957.0],[1957.0],[1957.0],[1957.0],[1957.0],[1956.0],[1956.0],[1956.0],[1956.0],[1956.0],[1955.0],[1955.0],[1955.0],[1955.0],[1955.0],[1955.0],[1955.0],[1955.0],[1955.0],[1955.0],[1954.0],[1954.0],[1954.0],[1954.0],[1954.0],[1953.5],[1953.0],[1953.0],[1953.0],[1953.0],[1953.0],[1953.0],[1953.0],[1953.0],[1953.0],[1952.0],[1952.0],[1952.0],[1952.0],[1952.0],[1952.0],[1952.0],[1951.5],[1951.0],[1951.0],[1951.0],[1951.0],[1951.0],[1951.0],[1951.0],[1951.0],[1951.0],[1951.0],[1951.0],[1950.0],[1950.0],[1950.0],[1950.0],[1950.0],[1950.0],[1950.0],[1949.0],[1949.0],[1949.0],[1948.3333333333333],[1948.0],[1948.0],[1948.0],[1948.0],[1948.0],[1948.0],[1947.0],[1947.0],[1947.0],[1947.0],[1947.0],[1947.0],[1947.0],[1947.0],[1947.0],[1947.0],[1946.0],[1946.0],[1946.0],[1946.0],[1946.0],[1946.0],[1946.0],[1946.0],[1946.0],[1946.0],[1945.0],[1945.0],[1945.0],[1945.0],[1945.0],[1945.0],[1945.0],[1944.0],[1944.0],[1944.0],[1944.0],[1943.0],[1943.0],[1943.0],[1943.0],[1943.0],[1943.0],[1942.0],[1942.0],[1942.0],[1942.0],[1941.0],[1941.0],[1941.0],[1941.0],[1940.0],[1940.0],[1939.0],[1938.0],[1938.0],[1938.0],[1938.0],[1938.0],[1937.0],[1937.0],[1937.0],[1937.0],[1937.0],[1937.0],[1936.0],[1936.0],[1936.0],[1936.0],[1936.0],[1935.0],[1935.0],[1935.0],[1934.0],[1931.0],[1930.0]],\"geo\":\"geo\",\"hovertemplate\":\"Location=%{location}<br>Year=%{z}<extra></extra>\",\"locationmode\":\"country names\",\"locations\":[\"Mount Gergaji, Indonesia\",\"Clarence Center, New York\",\"AtlantiOcean, 570 miles northeast of Natal, Brazil\",\"Madrid, Spain\",\"Billings, Montana\",\"Bishkek, Kyrgyzstan\",\"Merida, Venezuela\",\"Owatonna, Minnesota\",\"Khartoum, Sudan\",\"Saltillo, Mexico\",\"Tegucigalpa, Honduras\",\"Perm, Russia\",\"Sao Paulo, Brazil\",\"Near Isparta, Turkey\",\"Samara, Russia\",\"Phuket, Thailand\",\"Pau, France\",\"Yogyakarta, Indonesia\",\"Off Moorea, French Polynesia\",\"Off Parepare, Indonesia\",\"Near Sihanoukville, Cambodia\",\"Rio Bonito, Brazil\",\"Lexington, Kentucky\",\"Off Sochi, Russia\",\"Near Sao Felix do Araguaia , Brazil\",\"Stord, Norway\",\"Near Abuja, Nigeria\",\"Near Piacenza, Italy\",\"Multan, Pakistan\",\"Near Pownal, Vermont\",\"Irkutsk, Russia\",\"Near Donetsk, Ukraine\",\"Near Pucallpa, Peru\",\"Near Peshawar, Pakistan\",\"Near Port Harcourt, Nigeria\",\"Off Palermo, Italy\",\"Near Grammatikos, Greece\",\"Off Miami Beach, Florida\",\"Lisa, Nigeria\",\"Nardaran, Azerbaijan\",\"Winnipeg, Canada\",\"Khartoom, Sudan\",\"Medan, Indonesia\",\"Lake Erie, off Pelee Island, Ontario, Canada\",\"Near Kirksville, Missouri\",\"Tashkent, Uzbekistan\",\"Montrose, Colorado\",\"Near Rostov-on-Don, Russia\",\"Great Falls, Montana\",\"Near Manaus, Brazil\",\"Near Lukla, Nepal\",\"Near Bagram, Afghanstan\",\"Near Toula, Russia\",\"Solo, Indonesia\",\"Off Sharm el Sheikh, Egypt\",\"Halifax, Nova Scotia, Canada\",\"Off Libreville, Gabon\",\"Jefferson City, Missouri\",\"Port Sudan, Sudan\",\"Diyarbakir, Turkey\",\"Off Waikanae, New Zealand\",\"Del Rio, Texas\",\"Near Summer Beaver, Canada\",\"New Vienna, Iowa\",\"Cotonou, Benin\",\"Cap Haitien, Haiti\",\"Cody, Wyoming\",\"Mount Kenya, Kenya\",\"Christchurch, New Zealand\",\"Tamanrasset, Algeria\",\"Near Chachapoyas, Peru\",\"Tallinn, Estonia\",\"Near Macka, Turkey\",\"Near Brest, France\",\"Near Barki, Russia\",\"Near Kohat, Pakistan\",\"Near Niederanven, Luxembourg\",\"Near Tunis, Tunisia\",\"Busan, South Korea\",\"Kano, Nigeria\",\"Masai Mara Game Reserve, Kenya\",\"Near Ipiales, Colombia\",\"Off Penghu Island, Taiwan\",\"Off Dumaguete, Philippines\",\"Off Dalian, China\",\"Off Cromer, Norfork, England\",\"Near Isfanan, Iran\",\"Near Milford Sound, New Zealand\",\"Near Khorramabed, Iran\",\"Bilbao, Spain\",\"Uberlingen, Germany\",\"Near Solo, Indonesia\",\"Lakhta, Russia\",\"Eveleth, Minnesota\",\"Rockford, Illinois\",\"Palma de Mallorca, Spain\",\"Monte Rotondo, Italy\",\"Spanish Fort, Alabama\",\"Caguas, Puerto Rico\",\"Near Chichen Itza, Mexico\",\"Ciudad Bolivar, Venezuela\",\"Near Irkutsk, Russia\",\"Dillingham, Alaska\",\"Near Granton Harbour, Scotland\",\"Near Aspen, Colorado\",\"Gustavia, St. Barth\\u00e9l\\u00e9my, French West Indies\",\"Kalyazin, Russia\",\"Marsh Harbour, Bahamas\",\"Milan, Italy\",\"Near Novaya Inya , Russia\",\"110 miles SW of Sochi, Russia\",\"Terceira, Azores\",\"Sierra Blanca, Texas\",\"Belle Harbor, Queens, New York\",\"Birchwil, Switzerland\",\"San Jer\\u00f3nimo de Moravia , Costa Rica\",\"Arlington, Virginia.\",\"Off Valencia, Spain\",\"Shanksville, Pennsylvania\",\"Sharjah, United Arab Emirates\",\"Linneus, Maine\",\"Accra, Ghana\",\"Off Whyalla, Australia\",\"Near Sam Neua, Laos\",\"Patna, India\",\"Burbank, Calilfornia\",\"Sacramento, California\",\"Puerto Montt, Chile\",\"Gonesse, France\",\"Reynosa, Mexico\",\"Guatemala City, Guatemala\",\"Near La Fortuna, Costa Rica\",\"Samal Island, Philippines\",\"Hilo Bay, Hawaii\",\"Shitai, China\",\"Lummi Island, Washington\",\"Near Villahermosa, Mexico\",\"Off Abidjan, Ivory Coast\",\"Near Wilkes-Barre, Pennsylvania\",\"Nuiqsut, Alaska\",\"Niederhasli, Switzerland\",\"Off Point Mugu, California\",\"Liverpool, England\",\"Off Manama, Bahrain\",\"Buenos Aires, Argentina\",\"Near Pristina, Kosovo\",\"Glasgow, Scotland\",\"Santo Antao, Cape Verde Islands\",\"Near Bluefields, Nicaragua\",\"Hualian, Taiwan\",\"Seraing, Belgium\",\"Davis Inlet, Newfoundland, Canada\",\"Sept-\\u00celes, Canada\",\"Off Nantucket Island, Massachusetts\",\"Genoa, Italy\",\"Bejuma, Venezuela\",\"Little Rock, Arkansas\",\"Mt. Mauna Loa, Hawaii\",\"Taipei, Taiwan\",\"Shanghi, China\",\"Great Hallingbury, United Kingdom\",\"Rui'an, China\",\"Nasevou Village, Fiji\",\"Near Sundsvall, Sweden\",\"Marine City, Michigan\",\"Off Martha's Vineyard, Massachusetts\",\"Near Ceyhan, Turkey\",\"Johannesburg, South Africa\",\"Near Uruapan, Mexico\",\"Sao Jorge, Azores (Portugal)\",\"Charlotte, North Carolina\",\"Amsterdam, Netherlands\",\"Near Nador, Morroco\",\"Off Mannar, Sri Lanka\",\"Yangon (Rangoon), Myanmar\",\"Near Surat Thani, Thailand\",\"Vila Nova, Angola\",\"Off Hsinchu, Taiwan\",\"Kochi, India\",\"Pagalungan, Philippines\",\"Manibagi, Myanmar\",\"Near Clarksville, Tennesee\",\"Victoria, British Columbia\",\"Near Quiberon, France\",\"Kincolith, British Columbia, Canada\",\"Near Bogota, Colombia\",\"Piura, Peru\",\"Montreal, Canada\",\"Off Peggy's Cove, Nova Scotia, Canada\",\"Near Barrow, Alaska\",\"Bandung, Indonesia\",\"Huangtian, China\",\"Near Miri, Malaysia\",\"Nuevo Berlin, Uruguay\",\"Fotina, Greece\",\"Matsu Island, Taiwan\",\"Carajas, Brazil\",\"Off Santiago de Cuba, Cuba\",\"Little Grand Rapids, Canada\",\"Miami, Florida\",\"Phnom Penh, Cambodia\",\"Florence, Italy\",\"Buah Nabar, Indonesia\",\"Near Palembang, Indonesia\",\"Near Montrose, Colorado\",\"Near Monroe, Michigan\",\"Near Moamoa, Samoa\",\"Near Wainwright, Alaska\",\"Tanjung Pandan, Indonesia\",\"Cherkessk, Russia\",\"Suzano, Brazil\",\"Near Kathmandu, Nepal\",\"Paris, France\",\"Spitsbergen, Norway\",\"Lagos, Nigeria\",\"Manila, Philippines\",\"Narrows, Virginia\",\"Medellin, Colombia\",\"Markham Bay, Canada\",\"Arequipa, Peru\",\"Off Moroni, Comoros\",\"San Francesco al Campo, Italy\",\"Near Dubrovnik, Croatia\",\"Fukuoka, Japan\",\"Everglades, Miami, Florida\",\"Russian Mission, Alaska\",\"Sao Paolo, Brazil\",\"Eel River Crossing, New Brunswick, Canada\",\"Off Puerto Plata, Domincan Republic\",\"Off East Moriches, New York\",\"Near Charkhidadri, India\",\"Off Pasamayo, Peru\",\"Quincy, Illinois\",\"Near Tusayan, Arizona\",\"Cartagena, Colombia\",\"Campbell River, British Columbia, Canada\",\"Verona  - Villafranca, Italy\",\"Near Palmerston North, New Zealand\",\"Near Carrollton, GA\",\"Tawau,  Malaysia\",\"Near Buga, Valle del Cauca, Colombia\",\"Near Leeds, England\",\"Gunung Antara, Indonesia\",\"Kaduna, Nigeria\",\"Near Douala, Cameroon\",\"Kathmandu, Nepal\",\"Sioux Falls, Ontario, Canada\",\"Near Balotesti, Romania\",\"Near Grossevichi, Russia\",\"Mt. Chichontepec, San Vincente, El Salvador\",\"Bangkok, Thailand\",\"PacifiOcean\",\"Krakas Mountains, near Natanz , Iran\",\"Near Xi'an, China\",\"Coventry, England\",\"Near Van, Turkey\",\"Abidjan, Ivory Coast\",\"Near Nag\",\"Morrisville, North Carolina\",\"East Midlands, England\",\"Near Aliquippa, Pennsylvania\",\"Cheju, South Korea\",\"Near Komaki, Aichi, Japan\",\"Near Irrupts, Siberia, Russia\",\"Columbus, Ohio\",\"Roselawn, Indiana\",\"Algiers Airport, Algeria\",\"Toulouse-Blagnac, France\",\"Near Mezhdurechensk, Russia\",\"Near Ohrid, Macedonia\",\"Yinchuan, China\",\"Near Medellin, Colombia\",\"Urumqi, China\",\"Sandy Lake, Canada\",\"Skopje, Macedonia\",\"Zwingle, Iowa\",\"Fuzhou, China\",\"950 nm S of  Shemya, Alaska\",\"Hibbing, Minnesota\",\"Leeward Point Airfield, Guantanamo Bay, Cuba\",\"Haenam, South Korea\",\"Aurangabad, India\",\"Faro, Algarve, Portugal\",\"Nanjing, Jiangsu, China\",\"Near  Kathmandu, Nepal\",\"Near Ivanovo, Russia\",\"Near Liutang, Guangxi, China\",\"Gabriels, New York\",\"Near Nha Trang, Vietnam\",\"Mt. Haleakala, Hawaii\",\"Mt. Saint-Odile, near Strasbourg, France\",\"Anniston, Alabama\",\"Spokane, Washington\",\"Toledo, Ohio\",\"Near Malaga, Spain\",\"Stockholm, Sweden\",\"La Puerta, Venezuela\",\"Wanli, Taiwan\",\"Near Ban Nong Rong, Thailand\",\"Jeddah, Saudi Arabia\",\"Near Colorado Springs, Colorado\",\"Imphal, India\",\"Near Eagle Lake, Texas\",\"Brunswick, Georgia\",\"Quito, Ecuador\",\"Off Matthewtown, Great Inagua\",\"Tripoli, Libya\",\"La Guardia Airport, New York, New York\",\"Near Leadville, Colorado\",\"Guangzhou, China\",\"Oxfordshire, England\",\"Stadelberg, Switzerland\",\"Santiago de Cuba, Cuba\",\"Near Bangalore, India\",\"Cove Neck, New York\",\"Koh Samui, Thailand\",\"Warsaw, Poland\",\"Off Vaeroy, Norway\",\"Pico Blanco, Costa Rica\",\"Elkhorn, Wisconsin\",\"Marseille, France\",\"Near Bilma, Niger\",\"Halawa Point, Molokai, Hawaii\",\"Dryden, Ontario, Canada\",\"Near Sao Jose do Xingu, Brazil\",\"Pasco, Washington\",\"Col de Tourniol, France\",\"Near Paramaribo, Surinam\",\"Skagerrak, Denmark\",\"Hualein, China\",\"Leicestershire, England\",\"Grand Canyon National Park Airport, Tusayan, Arizona\",\"Waipio Valley, Hawaii\",\"Santa Maria, Azores, Portugal\",\"Near Tegucigalpa, Honduras\",\"Auckland, New Zealand\",\"Romulus, Michigan\",\"Near Ahmedabad, India\",\"Near Johannesburg, South Africa\",\"Bahar Dar, Ethiopia\",\"Izmir, Turkey\",\"Lockerbie, Scotland\",\"Near Chungking, Sichuan, China\",\"Kowloon Bay, Hong Kong\",\"Habsheim, France\",\"Near Cucuta, N of  Santander, Colombia\",\"Near Fontainebleau, France\",\"Bayfield, Colorado\",\"Over the Persian Gulf, near Bandar Abbas, Iran\",\"Cary, North Carolina\",\"Near Mulheim, Germany\",\"Maui, Hawaii\",\"Off Mauritius, Indian Ocean\",\"Medan-Polonia, Indonesia\",\"Over the Andaman Sea\",\"Tokyo, Japan\",\"Mayaguez, Puerto Rico\",\"Off Ko Phuket, Thiland\",\"Pensacola, Florida\",\"Agana, Guam\",\"Manhattan, New York\",\"Cerritos, California\",\"Karachi, Pakistan\",\"Tullamarine, VIC, Australia\",\"Port Ellen, Islay Island\",\"Maravatio, Mexico\",\"Alpena, Michigan\",\"San Antonio, Texas\",\"Cincinnati, Ohio\",\"San Luis Obispo, California\",\"AtlantiOcean, 110 miles West of Ireland\",\"Grottoes Grove, Virginia\",\"Near Durango, Vizcaya, Spain\",\"Auburn, Maine\",\"Mt. Osutaka, near Ueno Village, Japan\",\"Gander, Newfoundland, Canada\",\"Near La Paz, Bolivia\",\"Near Uchuduk, Uzbekistan, USSR\",\"Soldotna, Alaska\",\"Reno, Nevada\",\"Ft. Worth-Dallas, Texas\",\"Nashville, Tennessee\",\"Manchester, England\",\"300 nm NW of San Francisco, California\",\"Milwaukee, Wisconsin\",\"Detroit, Michigan\",\"Luqa, Malta\",\"LAX, Los Angeles, California\",\"Toronto, Canada\",\"Near Omsk, Russia\",\"JFK Airport, New York, New York\",\"Pinckneyville, Illinois\",\"Near Madrid, Spain\",\"Guayaquil, Ecuador\",\"Gimli, Manitoba, Canada\",\"Selawik, Alaska\",\"Near Mina Jebel Ali, UAE\",\"En route Miami, FL - Nassau, Bahamas\",\"Near Sakhalin Island, Russia\",\"Madrid-Barajas, Spain\",\"Anchorage, Alaska\",\"Bacolod, Philippines\",\"Mehamn, Norway\",\"Providence, Rhode Island\",\"Near Pacatuba, Brazil\",\"Southern Belarus, USSR\",\"Kenner, Louisiana\",\"La Serena, Chile\",\"Mount Galunggung, Indonesia\",\"Near Yangshuo, Guangxi, China\",\"Logan Airport,  Boston, Massachusett\",\"Mt. San Pietro, near Ajaccio, Corsica, France\",\"Loveland, Colorado\",\"Rio de la Plata, Argentina\",\"Moerdijk, Netherlands\",\"Near Sanyi, Miao-li, Taiwan\",\"Nar Alma-Ata, Kasakastan, USSR\",\"Tyrrhenian Sea,  off Ustica, Italy\",\"Valley, Nebraska\",\"Caracas, Venezuela\",\"Don Muang, Thailand\",\"Near Riyadh, Saudi Arabia\",\"Moscow, Russia\",\"Near Warsaw, Poland\",\"St. Croix, Virgin Islands\",\"Off Marina del Rey, California\",\"Clarksburg, West Virginia\",\"Dneprodzerzhinsk, Ukraine, USSR\",\"Near Klamath Falls, Oregon\",\"Near Probolinggo, Indonesia\",\"Rockland, Maine\",\"Near Mt. Erebus, Ross Ice Shelf, Antarctica\",\"Near Caracas, Venezuela\",\"Hyannis, Massachusetts\",\"Mexico City, Mexico\",\"Near At Ta'if, Jeddah, Saudi Arabia\",\"Chicago O'Hare, Illinois\",\"Tenerife, Canary Islands\",\"Portland, Oregon\",\"Near Cinisi, Sicily, Italy\",\"Richland, Washington\",\"Near Steamboat Springs, Coloado\",\"Cranbrook, British Columbia, Canada\",\"Near Kariba, Rhodesia (Zimbabwe)\",\"San Diego, California\",\"Mt. Iliamna, Alaska\",\"Straits of Johore, near Kampung Ladang, Malaysia\",\"Evansville, Indiana\",\"New Hope, Georgia\",\"Near Alma Ata,  Kazakastan, USSR\",\"Near Funchal, Island of Madeira, Portugal\",\"Over the PacifiOcean\",\"Near Cuneca, Spain\",\"Near Gaj, Hrvatska, Yugoslavia\",\"Cape May, New Jersey\",\"Off Bridgetown, Barbados\",\"Near Al Qaysumah, Saudi Arabia\",\"Off Adler, Russia\",\"Ketchikan, Alaska\",\"Honolulu, Hawaii\",\"Lebec, California\",\"Whittier, California\",\"Rome, Italy\",\"Near Gambell, Alaska\",\"New York City, New York\",\"Near Damascus, Syria\",\"Cincinnati International Airport, Covington/Hebron, Kentucky\",\"Bogota, Colombia\",\"New York, New York\",\"Denver, Colorado\",\"Pago Pago, American Samoa\",\"Phan Rang, Vietnam\",\"Bear Mountain,  Thiells, New York\",\"Monte San Isidro,  Colombia\",\"Near Charlotte, North Carolina\",\"Near Berryville, Virginia\",\"Ionian Sea , off Kefallinia, Greece\",\"Bishop, California\",\"Near Ermenonville, France\",\"Grogak, Bali, Indonesia\",\"Near Nairobi, Kenya\",\"Off Papeete, Tahiti\",\"Logan Airport, Boston, Massachusett\",\"Near Albuquerque,  New Mexico\",\"Rich Mountain, Arkansas\",\"Near  Domodedovo, Russia\",\"St. Louis, Missouri\",\"Paris, Orly, France\",\"Thirty-five miles west of Los Angeles, California\",\"St. Thomas, Virgin Islands\",\"Near Isma'iliya, Egypt\",\"Near Nantes, France\",\"Near La  Corunda, Spain\",\"Natchitoches, Louisiana\",\"Near Pleiku, Vietnam\",\"Near Noiretable, Loire, France\",\"Everglades National Park, Florida\",\"Chicago, Midway Airport, Illinois\",\"Dallas/Ft. Worth, Texas\",\"Near New Delhi, India\",\"London Heathrow,  Staines, Surrey, England\",\"Near Hermsdorf, Czechoslovakia\",\"Addis Ababa, Ethiopia\",\"Appleton, Wisconsin\",\"Ponce, Puerto Rico\",\"Near Al Fujayrah, United Arab Emirates\",\"Sierra de Atalayasa, Spain\",\"Near Carini, Sicily, Italy\",\"Hokkaido, Japan\",\"Near Rijeka, Yugoslavia\",\"Grand Canyon, Arizona\",\"Ontario, California\",\"Near Puerto Inca, Huanuco, Peru\",\"Edison, New Jersey\",\"Near Morioko, Japan\",\"Near Juneau, Alaska\",\"New Haven, Connecticut\",\"Near Duarte, California\",\"Near Aarsele, West Vlaanderen, Belgium\",\"Zurich, Switzerland\",\"Off Bandra, Maharashtra, India\",\"Sioux City, Iowa\",\"Mt. Trelease, near Silver Plume, Colorado\",\"Faleolo, Western Samoa\",\"Near Huntington, West Virginia\",\"Near St. Croix, US Virgin Islands\",\"Chamblee, Georgia\",\"Long Island Sound, Connecticut\",\"Pellston, Michigan\",\"San Francisco, California\",\"Jacksonville, Florida\",\"Near Lone Pine, California\",\"Near Bradford, Pennsylvania\",\"Near Monroe, Georgia\",\"Gatwick Airport, Horley, Surrey,  England\",\"Near Bangkok, Thailand\",\"Newton, Iowa\",\"Mt. Pilot Knob, Glen Falls, New York\",\"Off Los Angeles, California\",\"Campbell River, Canada\",\"Mt. Paku, Taiwan\",\"Near Ikeja, Nigeria\",\"Near Fairland, Indiana\",\"Maracaibo, Zulia, Venezuela\",\"Near Salinas Victoria, Nuevo Leon, Mexico\",\"Birmingham, Alabama\",\"Dallas, Texas\",\"Atlanta, Georgia\",\"Near Windhoek, South Africa (Namibia)\",\"Homer, Alaska\",\"Basse-Terre, Guadeloupe, West Indies\",\"Hanover, New Hampshire\",\"Santa Ana, California\",\"Off Panay Island, Philippines\",\"Near Dawson, Texas\",\"Off Cap d'Antibes, France\",\"Off Wexford Harbor, Ireland\",\"Pedro Bay, Alaska\",\"Bradford, Pennsylvania\",\"Port Hedland, WA, Australia\",\"Heathrow Airport, London, England\",\"Linkuo, Taiwan\",\"Urbana, Ohio\",\"Mactan, Philippines\",\"New Orleans, Louisiana\",\"Off East London, South Africa\",\"Blossburg, Pennsylvania\",\"Off Rhodes, Greece\",\"Chiang Mai, Thailand\",\"Monrovia, Liberia\",\"Near Madison, Wisconsin\",\"Near Gander, Newfoundland, Canada\",\"Hong Kong, China\",\"Near Hendersonville, North Carolina\",\"Near Marseille, Ohio\",\"Menado, Indonesia\",\"Boston, Massachusett\",\"Bremen, Germany\",\"Tokyo Bay, Japan\",\"Off Cartagena, Colombia\",\"Off Chatham, Massachusetts\",\"Off Matsuyama, Japan\",\"Off Nantucket, Massachusetts\",\"Near Ardmore, Oklahoma\",\"Near Bratislava, Czechoslovakia\",\"Cascubel River, Colombia\",\"Near Ljubljana, Slovenia, Yugoslavia\",\"Tomas, Peru\",\"Mont Blanc, French Alps, Switzerland\",\"Near Gotemba City, Mt. Fuji, Japan\",\"Near Tokyo, Japan\",\"Near Falls City, Nebraska\",\"Near Wemme, Oregon\",\"Winton, Australia\",\"Sagalyan, Philippines\",\"Washington, D.C.\",\"Off Jones Beach, New York, New York\",\"Sugar Loaf Mountain, Colombia\",\"Libmanan, Philippines\",\"Cincinnati Airport, near Covington, Kentucky\",\"Lake Michigan, near Chicago, Illinois\",\"Near Manila, Philippines\",\"San Jose Volcano, Chile\",\"Near La Carlota, Phillipines\",\"Carmel, New York\",\"Salt Lake City , Utah\",\"Musquodoboit, Canada\",\"Montserrat, Antigua\",\"Dog Creek, British Columbia, Canada\",\"Near Seattle, Washington\",\"Salt Lake City, Utah\",\"Near Moscow, Russia\",\"Near Innsbruck, Austria\",\"Cairo, Egypt\",\"Oita, Japan\",\"Marawi, Philippines\",\"Near Zephyr Cove, Nevada\",\"Gainsville, Florida\",\"San Ramon, California\",\"Mt. Vesuvius, Italy\",\"Lake Pontchartrain, New Orleans, Louisiana\",\"Las Vegas, Nevada\",\"Parrottsville, Tennesee\",\"Kansas City, Missouri\",\"North PacifiOcean\",\"Boston, Massachutes\",\"Charleston, West Virginia\",\"Chicago, Illinois\",\"Ste. Therese de Blainville, Canada\",\"Mariehamn, Aaland Island, Finland\",\"Great Salt Lake, Utah\",\"Jamaica, New York\",\"Durrenasch, Aargau, Switzerland\",\"Near Miami, Florida\",\"Rochester, New York\",\"PacifiOcean, 116 miles WSW of Annette Island, Alaska\",\"Near Davao City, Philippines\",\"Mt. Ngatamahinerua, New Zealand\",\"Lyon, France\",\"Near Charana, Bolivia\",\"Elkton, Maryland\",\"Camden, Tennesee\",\"Albany, New York\",\"Lima, Peru\",\"Near Junnar, Maharashtra, India\",\"Douala, Cameroon\",\"Windsor Locks, Connecticut\",\"Western PacifiOcean, Philippine Sea\",\"Le Bourget, France\",\"North AtlantiOcean\",\"Near Unionville, Missouri\",\"Barranca Bermeja, Colombia\",\"Adak, Alaska\",\"Basse-Terre, Guadaloupe, West Indies\",\"Jamaica Bay, New York, New York\",\"Ellicott, Maryland\",\"Ankara, Turkey\",\"Llico, Chile\",\"Near Hinsdale, Illinois\",\"Near Lisbon, Portugal\",\"Near Rabat, Morrocco\",\"Off Surabaya, Indonesia\",\"Near Brussels, Belgium\",\"Mt. Burangrang, Indonesia\",\"Koivulahti, Finland\",\"Near Richmond, Virginia\",\"New York, New York (Idlewild)\",\"Stah, Algeria\",\"Charles City, Virginia\",\"Near Missoula, Montana\",\"Mt. Gilbert, Alaska\",\"Off Dakar, Senegal\",\"Near Jima, Ethiopia\",\"Cordoba, Colombia\",\"Wilmington/Bolivia, North Carolina\",\"Staten Island / Brooklyn, New York\",\"Agana, Guam, Mariana Islands\",\"Off Manila, Philippines\",\"Cebu City, Philippines\",\"Near Cannelton, 10 mile SE of Tell City, Indiana\",\"St. Cleophas, Quebec, Canada\",\"Santa Maria, California\",\"Calverton, New York\",\"Mt. Holston, Tennessee\",\"La Guardia Airport, New York, NY\",\"Athens, Greece\",\"Willamsport, Pennsylvania\",\"Near Varese, Lombardia, 20 miles NW of Milan, Italy\",\"Gulf of Mexico\",\"Buffalo, Texas\",\"Great Sitkin Island, Alaska\",\"Dabouk, Jordan\",\"Mason City, Iowa\",\"Waynesborough, Virginia\",\"Chase, Maryland\",\"Cleveland, Ohio\",\"Freeland, Michigan\",\"Anzio, Italy\",\"Salisbury, Zimbabwe\",\"Nipe Bay, Cuba\",\"Brunswick, Maryland\",\"Munich, Germany\",\"North AtlantiOcean, 100 miles W of Galway Bay, Ireland\",\"Mt. Illiniza, Ecuador\",\"Near Sloan, 10 miles SW of Las Vegas, Nevada\",\"900 miles E of Honolulu, Hawaii, PacifiOcean\",\"Near Biak, Indonesia\",\"Daggett, California\",\"Off Elba, Italy\",\"Blyn, Washington\",\"Anchieta Island, Brazil\",\"Barajas, Madrid, Spain\",\"Owasso, Oklahoma\",\"New Bedford, Massachusett\",\"Skilak Lake, Alaska\",\"Cold Bay, Alaska\",\"Near Chilliwack, British Columbia, Canada\",\"Near Nome, Alaska\",\"Near Flat Rock, Michigan\",\"Salisbury,  Zimbabwe\",\"Longmont, Colorado\",\"Near Centennial, Wyoming\",\"Springfield, Mississippi\",\"Seattle, Washingon\",\"Albuquerque, New Mexico\",\"Des Moines, Iowa\",\"Near Petrich, Bulgaria\",\"Off the Oregon coast\",\"Pittsburgh, Pennsylvania\",\"Berlin, New Hampshire\",\"Wright, Wyoming\",\"Foynes, Ireland\",\"Off Stromboli, Italy\",\"Near Mason City, Iowa\",\"Burbank, California\",\"Near Marshall, Texas\",\"Near Jalalogori, West Bengal, India\",\"Alvarado, California\",\"Issaquah, Washington\",\"PacifiOcean, 325 miles east of Wake Island\",\"San Francisco Bay, California\",\"Fish Haven, Idaho\",\"Near Half Moon Bay, California\",\"Off Mobile, Alabama\",\"Near Whittier, California\",\"Near Carolina, Brazil\",\"Off Sandspit, BC, Canada\",\"Elizabeth, New Jersey\",\"Near Atar, Mauritania\",\"North of San Juan, Puerto Rico\",\"Off Rio de Janeiro, Brazil\",\"Seattle, Washington\",\"Near Reardon, Washington\",\"Key West, Florida\",\"Fort Wayne, Indiana\",\"Near Tucumcari, Arazona\",\"Near Little Valley, New York\",\"Rocky Mountain Nat. Park, near Ft. Collins, Colorado\",\"Refugio Pass, near Santa Barbara, California\",\"Philadelphia, Pennsylvania\",\"Near Fairbanks, Alaska\",\"Decoto, California\",\"Near Sanoyea, Liberia\",\"Lake Michigan, 18 NNW of Benton Harbor, Michigan\",\"Utica, New York\",\"Penticton, British Columbia, Canada\",\"Butte, Montana\",\"Near Wadi Natrun, Egypt\",\"Minneapolis, Minnesota\",\"Mont Blanc, France\",\"Arlington, Virginia\",\"Chatsworth, California\",\"Chesterfield, New Jersey\",\"Miles City, Montana\",\"Near Winona, Minnesota\",\"Shannon, Ireland\",\"Oxon Hill, Maryland\",\"Mt. Sanford, Alaska\",\"Mount Carmel, Pennsylvania\",\"Near Edmonton, Alberta, Canada\",\"Annette Island, Alaska\",\"Near Mt. Hymettus, Greece\",\"Al Mayadin, Syria\",\"La Guardia Airport, Queens, New York\",\"Near Vancouver, British Columbia, Canada\",\"Near Galax, Virginia\",\"Bryce Canyon, Utah\",\"Near El Paso, Texas\",\"Port Deposit, Maryland\",\"Leesburg, Virginia\",\"Cheshire, Connecticut\",\"Live Oak Springs, California\",\"Mt. Elk, Wyoming\",\"Moline, Illinois\",\"Near San Diego, California\",\"Laramie, Wyoming\",\"Cheyenne, Wyoming\",\"Near Shannon, Ireland\",\"Michigan City, Indiana\",\"Elko, Nevada\",\"Florence, South Carolina\",\"Port of Spain, Trinidad\",\"Near Florence, South Carolina\",\"Lakeland, Florida\",\"Fort de France, Martinique\",\"Morgantown, West Virginia\",\"Marion, Virginia\",\"Off Antilla, Cuba\",\"Van Nuys, California\",\"Hanford, California\",\"Memphis, Tennessee\",\"Near Centerville, Tennessee\",\"Off the coast of France\",\"Ukiah, California\",\"Lisbon, Portugal\",\"Near Chaparra, Peru\",\"Trammel, Kentucky\",\"Botwood, Newfoundland\",\"Near Las Vegas, Nevada\",\"Palm Springs, California\",\"Fairfield, Utah\",\"Near Robertson, Missouri\",\"St. Thomas, Ontario, Canada\",\"San Juan, Puerto Rico\",\"Near Moorhead, Minnesota\",\"Near Centerville, Utah\",\"Near Lovettsville, Virginia\",\"Oklahoma City, Oklahoma\",\"Pago Pago, U.S. Samoa\",\"PacifiOcean between Manila and Guam\",\"Near Wawona, Cailifornia\",\"Off Point Reyes, California\",\"Bozeman, Montana\",\"Haydens Peak, Wyoming\",\"Lakehurst, New Jersey\",\"Daytona Beach, Florida\",\"Clifton, Pennsylvania\",\"Near Newhall, California\",\"Off San Francisco, California\",\"Goodwin, Arkansas\",\"Near Milford, Pennsylvania\",\"Near Salt Lake City, Utah\",\"Newhall, California\",\"Uniontown, Pennsylvania\",\"Atlanta, Missouri\",\"Near Cheyenne, Wyoming\",\"Near Gilmer, Texas\",\"Amazonia, Missouri\",\"Bazaar, Kansas\",\"Oceanside, California\"],\"name\":\"\",\"z\":[2009.0,2009.0,2009.0,2008.0,2008.0,2008.0,2008.0,2008.0,2008.0,2008.0,2008.0,2008.0,2007.0,2007.0,2007.0,2007.0,2007.0,2007.0,2007.0,2007.0,2007.0,2006.0,2006.0,2006.0,2006.0,2006.0,2006.0,2006.0,2006.0,2006.0,2006.0,2006.0,2005.0,2005.0,2005.0,2005.0,2005.0,2005.0,2005.0,2005.0,2005.0,2005.0,2005.0,2004.0,2004.0,2004.0,2004.0,2004.0,2004.0,2004.0,2004.0,2004.0,2004.0,2004.0,2004.0,2004.0,2004.0,2004.0,2003.0,2003.0,2003.0,2003.0,2003.0,2003.0,2003.0,2003.0,2003.0,2003.0,2003.0,2003.0,2003.0,2003.0,2003.0,2003.0,2003.0,2003.0,2002.0,2002.0,2002.0,2002.0,2002.0,2002.0,2002.0,2002.0,2002.0,2002.0,2002.0,2002.0,2002.0,2002.0,2002.0,2002.0,2002.0,2002.0,2002.0,2002.0,2002.0,2002.0,2002.0,2001.0,2001.0,2001.0,2001.0,2001.0,2001.0,2001.0,2001.0,2001.0,2001.0,2001.0,2001.0,2001.0,2001.0,2001.0,2001.0,2001.0,2001.0,2001.0,2001.0,2000.5,2000.0,2000.0,2000.0,2000.0,2000.0,2000.0,2000.0,2000.0,2000.0,2000.0,2000.0,2000.0,2000.0,2000.0,2000.0,2000.0,2000.0,2000.0,2000.0,2000.0,2000.0,2000.0,2000.0,2000.0,1999.0,1999.0,1999.0,1999.0,1999.0,1999.0,1999.0,1999.0,1999.0,1999.0,1999.0,1999.0,1999.0,1999.0,1999.0,1999.0,1999.0,1999.0,1999.0,1999.0,1999.0,1999.0,1999.0,1999.0,1999.0,1999.0,1998.5,1998.3333333333333,1998.0,1998.0,1998.0,1998.0,1998.0,1998.0,1998.0,1998.0,1998.0,1998.0,1998.0,1998.0,1998.0,1998.0,1998.0,1998.0,1998.0,1997.0,1997.0,1997.0,1997.0,1997.0,1997.0,1997.0,1997.0,1997.0,1997.0,1997.0,1997.0,1997.0,1997.0,1997.0,1997.0,1997.0,1997.0,1997.0,1997.0,1997.0,1997.0,1996.6666666666667,1996.5,1996.0,1996.0,1996.0,1996.0,1996.0,1996.0,1996.0,1996.0,1996.0,1996.0,1996.0,1996.0,1996.0,1996.0,1996.0,1996.0,1996.0,1996.0,1996.0,1996.0,1995.0,1995.0,1995.0,1995.0,1995.0,1995.0,1995.0,1995.0,1995.0,1995.0,1995.0,1995.0,1995.0,1995.0,1995.0,1995.0,1995.0,1994.5,1994.0,1994.0,1994.0,1994.0,1994.0,1994.0,1994.0,1994.0,1994.0,1994.0,1994.0,1994.0,1994.0,1994.0,1994.0,1994.0,1994.0,1994.0,1993.0,1993.0,1993.0,1993.0,1993.0,1993.0,1993.0,1993.0,1993.0,1993.0,1993.0,1993.0,1993.0,1992.0,1992.0,1992.0,1992.0,1992.0,1992.0,1992.0,1992.0,1992.0,1992.0,1992.0,1992.0,1991.5,1991.0,1991.0,1991.0,1991.0,1991.0,1991.0,1991.0,1991.0,1991.0,1991.0,1991.0,1990.5,1990.5,1990.0,1990.0,1990.0,1990.0,1990.0,1990.0,1990.0,1990.0,1990.0,1990.0,1990.0,1990.0,1989.0,1989.0,1989.0,1989.0,1989.0,1989.0,1989.0,1989.0,1989.0,1989.0,1989.0,1989.0,1989.0,1989.0,1989.0,1989.0,1988.5,1988.0,1988.0,1988.0,1988.0,1988.0,1988.0,1988.0,1988.0,1988.0,1988.0,1988.0,1988.0,1988.0,1988.0,1988.0,1987.0,1987.0,1987.0,1987.0,1987.0,1987.0,1987.0,1986.5,1986.0,1986.0,1986.0,1986.0,1986.0,1986.0,1986.0,1986.0,1985.5,1985.5,1985.0,1985.0,1985.0,1985.0,1985.0,1985.0,1985.0,1985.0,1985.0,1985.0,1985.0,1985.0,1985.0,1985.0,1985.0,1985.0,1985.0,1984.5,1984.3333333333333,1984.0,1983.6666666666667,1983.0,1983.0,1983.0,1983.0,1983.0,1983.0,1983.0,1983.0,1983.0,1982.5,1982.5,1982.0,1982.0,1982.0,1982.0,1982.0,1982.0,1982.0,1982.0,1982.0,1981.0,1981.0,1981.0,1981.0,1981.0,1980.0,1980.0,1980.0,1980.0,1980.0,1980.0,1980.0,1980.0,1979.0,1979.0,1979.0,1979.0,1979.0,1979.0,1979.0,1979.0,1979.0,1979.0,1979.0,1979.0,1979.0,1978.5,1978.0,1978.0,1978.0,1978.0,1978.0,1978.0,1978.0,1977.0,1977.0,1977.0,1977.0,1977.0,1977.0,1976.5,1976.0,1976.0,1976.0,1976.0,1976.0,1976.0,1976.0,1975.5,1975.5,1975.0,1975.0,1975.0,1975.0,1975.0,1975.0,1974.5,1974.3333333333333,1974.3333333333333,1974.0,1974.0,1974.0,1974.0,1974.0,1974.0,1974.0,1974.0,1974.0,1974.0,1974.0,1973.0,1973.0,1973.0,1973.0,1973.0,1973.0,1973.0,1973.0,1973.0,1973.0,1973.0,1973.0,1973.0,1972.0,1972.0,1972.0,1972.0,1972.0,1972.0,1972.0,1972.0,1972.0,1972.0,1972.0,1972.0,1972.0,1972.0,1971.0,1971.0,1971.0,1971.0,1971.0,1971.0,1971.0,1971.0,1971.0,1971.0,1971.0,1970.5,1970.5,1970.0,1970.0,1970.0,1970.0,1970.0,1970.0,1970.0,1970.0,1969.5,1969.5,1969.0,1969.0,1969.0,1969.0,1969.0,1969.0,1969.0,1969.0,1969.0,1969.0,1969.0,1969.0,1969.0,1969.0,1968.5,1968.5,1968.0,1968.0,1968.0,1968.0,1968.0,1968.0,1968.0,1968.0,1968.0,1968.0,1968.0,1968.0,1968.0,1968.0,1968.0,1967.0,1967.0,1967.0,1967.0,1967.0,1967.0,1967.0,1967.0,1967.0,1967.0,1967.0,1967.0,1967.0,1967.0,1966.5,1966.0,1966.0,1966.0,1966.0,1966.0,1966.0,1966.0,1966.0,1966.0,1966.0,1966.0,1966.0,1966.0,1966.0,1966.0,1966.0,1966.0,1966.0,1965.5,1965.0,1965.0,1965.0,1965.0,1965.0,1965.0,1965.0,1965.0,1965.0,1965.0,1965.0,1965.0,1965.0,1965.0,1964.6666666666667,1964.5,1964.0,1964.0,1964.0,1964.0,1964.0,1964.0,1964.0,1964.0,1964.0,1964.0,1964.0,1964.0,1964.0,1964.0,1963.5,1963.5,1963.0,1963.0,1963.0,1963.0,1963.0,1963.0,1963.0,1963.0,1963.0,1963.0,1963.0,1963.0,1963.0,1963.0,1962.5,1962.0,1962.0,1962.0,1962.0,1962.0,1962.0,1962.0,1962.0,1962.0,1962.0,1962.0,1962.0,1962.0,1961.5,1961.0,1961.0,1961.0,1961.0,1961.0,1961.0,1961.0,1961.0,1961.0,1961.0,1961.0,1960.0,1960.0,1960.0,1960.0,1960.0,1960.0,1960.0,1960.0,1960.0,1960.0,1960.0,1960.0,1959.0,1959.0,1959.0,1959.0,1959.0,1959.0,1959.0,1959.0,1959.0,1959.0,1959.0,1959.0,1959.0,1959.0,1959.0,1958.3333333333333,1958.0,1958.0,1958.0,1958.0,1958.0,1958.0,1958.0,1958.0,1958.0,1957.0,1957.0,1957.0,1957.0,1957.0,1957.0,1957.0,1957.0,1957.0,1956.0,1956.0,1956.0,1956.0,1956.0,1955.0,1955.0,1955.0,1955.0,1955.0,1955.0,1955.0,1955.0,1955.0,1955.0,1954.0,1954.0,1954.0,1954.0,1954.0,1953.5,1953.0,1953.0,1953.0,1953.0,1953.0,1953.0,1953.0,1953.0,1953.0,1952.0,1952.0,1952.0,1952.0,1952.0,1952.0,1952.0,1951.5,1951.0,1951.0,1951.0,1951.0,1951.0,1951.0,1951.0,1951.0,1951.0,1951.0,1951.0,1950.0,1950.0,1950.0,1950.0,1950.0,1950.0,1950.0,1949.0,1949.0,1949.0,1948.3333333333333,1948.0,1948.0,1948.0,1948.0,1948.0,1948.0,1947.0,1947.0,1947.0,1947.0,1947.0,1947.0,1947.0,1947.0,1947.0,1947.0,1946.0,1946.0,1946.0,1946.0,1946.0,1946.0,1946.0,1946.0,1946.0,1946.0,1945.0,1945.0,1945.0,1945.0,1945.0,1945.0,1945.0,1944.0,1944.0,1944.0,1944.0,1943.0,1943.0,1943.0,1943.0,1943.0,1943.0,1942.0,1942.0,1942.0,1942.0,1941.0,1941.0,1941.0,1941.0,1940.0,1940.0,1939.0,1938.0,1938.0,1938.0,1938.0,1938.0,1937.0,1937.0,1937.0,1937.0,1937.0,1937.0,1936.0,1936.0,1936.0,1936.0,1936.0,1935.0,1935.0,1935.0,1934.0,1931.0,1930.0],\"type\":\"choropleth\"}],                        {\"template\":{\"data\":{\"bar\":[{\"error_x\":{\"color\":\"#2a3f5f\"},\"error_y\":{\"color\":\"#2a3f5f\"},\"marker\":{\"line\":{\"color\":\"#E5ECF6\",\"width\":0.5},\"pattern\":{\"fillmode\":\"overlay\",\"size\":10,\"solidity\":0.2}},\"type\":\"bar\"}],\"barpolar\":[{\"marker\":{\"line\":{\"color\":\"#E5ECF6\",\"width\":0.5},\"pattern\":{\"fillmode\":\"overlay\",\"size\":10,\"solidity\":0.2}},\"type\":\"barpolar\"}],\"carpet\":[{\"aaxis\":{\"endlinecolor\":\"#2a3f5f\",\"gridcolor\":\"white\",\"linecolor\":\"white\",\"minorgridcolor\":\"white\",\"startlinecolor\":\"#2a3f5f\"},\"baxis\":{\"endlinecolor\":\"#2a3f5f\",\"gridcolor\":\"white\",\"linecolor\":\"white\",\"minorgridcolor\":\"white\",\"startlinecolor\":\"#2a3f5f\"},\"type\":\"carpet\"}],\"choropleth\":[{\"colorbar\":{\"outlinewidth\":0,\"ticks\":\"\"},\"type\":\"choropleth\"}],\"contour\":[{\"colorbar\":{\"outlinewidth\":0,\"ticks\":\"\"},\"colorscale\":[[0.0,\"#0d0887\"],[0.1111111111111111,\"#46039f\"],[0.2222222222222222,\"#7201a8\"],[0.3333333333333333,\"#9c179e\"],[0.4444444444444444,\"#bd3786\"],[0.5555555555555556,\"#d8576b\"],[0.6666666666666666,\"#ed7953\"],[0.7777777777777778,\"#fb9f3a\"],[0.8888888888888888,\"#fdca26\"],[1.0,\"#f0f921\"]],\"type\":\"contour\"}],\"contourcarpet\":[{\"colorbar\":{\"outlinewidth\":0,\"ticks\":\"\"},\"type\":\"contourcarpet\"}],\"heatmap\":[{\"colorbar\":{\"outlinewidth\":0,\"ticks\":\"\"},\"colorscale\":[[0.0,\"#0d0887\"],[0.1111111111111111,\"#46039f\"],[0.2222222222222222,\"#7201a8\"],[0.3333333333333333,\"#9c179e\"],[0.4444444444444444,\"#bd3786\"],[0.5555555555555556,\"#d8576b\"],[0.6666666666666666,\"#ed7953\"],[0.7777777777777778,\"#fb9f3a\"],[0.8888888888888888,\"#fdca26\"],[1.0,\"#f0f921\"]],\"type\":\"heatmap\"}],\"heatmapgl\":[{\"colorbar\":{\"outlinewidth\":0,\"ticks\":\"\"},\"colorscale\":[[0.0,\"#0d0887\"],[0.1111111111111111,\"#46039f\"],[0.2222222222222222,\"#7201a8\"],[0.3333333333333333,\"#9c179e\"],[0.4444444444444444,\"#bd3786\"],[0.5555555555555556,\"#d8576b\"],[0.6666666666666666,\"#ed7953\"],[0.7777777777777778,\"#fb9f3a\"],[0.8888888888888888,\"#fdca26\"],[1.0,\"#f0f921\"]],\"type\":\"heatmapgl\"}],\"histogram\":[{\"marker\":{\"pattern\":{\"fillmode\":\"overlay\",\"size\":10,\"solidity\":0.2}},\"type\":\"histogram\"}],\"histogram2d\":[{\"colorbar\":{\"outlinewidth\":0,\"ticks\":\"\"},\"colorscale\":[[0.0,\"#0d0887\"],[0.1111111111111111,\"#46039f\"],[0.2222222222222222,\"#7201a8\"],[0.3333333333333333,\"#9c179e\"],[0.4444444444444444,\"#bd3786\"],[0.5555555555555556,\"#d8576b\"],[0.6666666666666666,\"#ed7953\"],[0.7777777777777778,\"#fb9f3a\"],[0.8888888888888888,\"#fdca26\"],[1.0,\"#f0f921\"]],\"type\":\"histogram2d\"}],\"histogram2dcontour\":[{\"colorbar\":{\"outlinewidth\":0,\"ticks\":\"\"},\"colorscale\":[[0.0,\"#0d0887\"],[0.1111111111111111,\"#46039f\"],[0.2222222222222222,\"#7201a8\"],[0.3333333333333333,\"#9c179e\"],[0.4444444444444444,\"#bd3786\"],[0.5555555555555556,\"#d8576b\"],[0.6666666666666666,\"#ed7953\"],[0.7777777777777778,\"#fb9f3a\"],[0.8888888888888888,\"#fdca26\"],[1.0,\"#f0f921\"]],\"type\":\"histogram2dcontour\"}],\"mesh3d\":[{\"colorbar\":{\"outlinewidth\":0,\"ticks\":\"\"},\"type\":\"mesh3d\"}],\"parcoords\":[{\"line\":{\"colorbar\":{\"outlinewidth\":0,\"ticks\":\"\"}},\"type\":\"parcoords\"}],\"pie\":[{\"automargin\":true,\"type\":\"pie\"}],\"scatter\":[{\"marker\":{\"colorbar\":{\"outlinewidth\":0,\"ticks\":\"\"}},\"type\":\"scatter\"}],\"scatter3d\":[{\"line\":{\"colorbar\":{\"outlinewidth\":0,\"ticks\":\"\"}},\"marker\":{\"colorbar\":{\"outlinewidth\":0,\"ticks\":\"\"}},\"type\":\"scatter3d\"}],\"scattercarpet\":[{\"marker\":{\"colorbar\":{\"outlinewidth\":0,\"ticks\":\"\"}},\"type\":\"scattercarpet\"}],\"scattergeo\":[{\"marker\":{\"colorbar\":{\"outlinewidth\":0,\"ticks\":\"\"}},\"type\":\"scattergeo\"}],\"scattergl\":[{\"marker\":{\"colorbar\":{\"outlinewidth\":0,\"ticks\":\"\"}},\"type\":\"scattergl\"}],\"scattermapbox\":[{\"marker\":{\"colorbar\":{\"outlinewidth\":0,\"ticks\":\"\"}},\"type\":\"scattermapbox\"}],\"scatterpolar\":[{\"marker\":{\"colorbar\":{\"outlinewidth\":0,\"ticks\":\"\"}},\"type\":\"scatterpolar\"}],\"scatterpolargl\":[{\"marker\":{\"colorbar\":{\"outlinewidth\":0,\"ticks\":\"\"}},\"type\":\"scatterpolargl\"}],\"scatterternary\":[{\"marker\":{\"colorbar\":{\"outlinewidth\":0,\"ticks\":\"\"}},\"type\":\"scatterternary\"}],\"surface\":[{\"colorbar\":{\"outlinewidth\":0,\"ticks\":\"\"},\"colorscale\":[[0.0,\"#0d0887\"],[0.1111111111111111,\"#46039f\"],[0.2222222222222222,\"#7201a8\"],[0.3333333333333333,\"#9c179e\"],[0.4444444444444444,\"#bd3786\"],[0.5555555555555556,\"#d8576b\"],[0.6666666666666666,\"#ed7953\"],[0.7777777777777778,\"#fb9f3a\"],[0.8888888888888888,\"#fdca26\"],[1.0,\"#f0f921\"]],\"type\":\"surface\"}],\"table\":[{\"cells\":{\"fill\":{\"color\":\"#EBF0F8\"},\"line\":{\"color\":\"white\"}},\"header\":{\"fill\":{\"color\":\"#C8D4E3\"},\"line\":{\"color\":\"white\"}},\"type\":\"table\"}]},\"layout\":{\"annotationdefaults\":{\"arrowcolor\":\"#2a3f5f\",\"arrowhead\":0,\"arrowwidth\":1},\"autotypenumbers\":\"strict\",\"coloraxis\":{\"colorbar\":{\"outlinewidth\":0,\"ticks\":\"\"}},\"colorscale\":{\"diverging\":[[0,\"#8e0152\"],[0.1,\"#c51b7d\"],[0.2,\"#de77ae\"],[0.3,\"#f1b6da\"],[0.4,\"#fde0ef\"],[0.5,\"#f7f7f7\"],[0.6,\"#e6f5d0\"],[0.7,\"#b8e186\"],[0.8,\"#7fbc41\"],[0.9,\"#4d9221\"],[1,\"#276419\"]],\"sequential\":[[0.0,\"#0d0887\"],[0.1111111111111111,\"#46039f\"],[0.2222222222222222,\"#7201a8\"],[0.3333333333333333,\"#9c179e\"],[0.4444444444444444,\"#bd3786\"],[0.5555555555555556,\"#d8576b\"],[0.6666666666666666,\"#ed7953\"],[0.7777777777777778,\"#fb9f3a\"],[0.8888888888888888,\"#fdca26\"],[1.0,\"#f0f921\"]],\"sequentialminus\":[[0.0,\"#0d0887\"],[0.1111111111111111,\"#46039f\"],[0.2222222222222222,\"#7201a8\"],[0.3333333333333333,\"#9c179e\"],[0.4444444444444444,\"#bd3786\"],[0.5555555555555556,\"#d8576b\"],[0.6666666666666666,\"#ed7953\"],[0.7777777777777778,\"#fb9f3a\"],[0.8888888888888888,\"#fdca26\"],[1.0,\"#f0f921\"]]},\"colorway\":[\"#636efa\",\"#EF553B\",\"#00cc96\",\"#ab63fa\",\"#FFA15A\",\"#19d3f3\",\"#FF6692\",\"#B6E880\",\"#FF97FF\",\"#FECB52\"],\"font\":{\"color\":\"#2a3f5f\"},\"geo\":{\"bgcolor\":\"white\",\"lakecolor\":\"white\",\"landcolor\":\"#E5ECF6\",\"showlakes\":true,\"showland\":true,\"subunitcolor\":\"white\"},\"hoverlabel\":{\"align\":\"left\"},\"hovermode\":\"closest\",\"mapbox\":{\"style\":\"light\"},\"paper_bgcolor\":\"white\",\"plot_bgcolor\":\"#E5ECF6\",\"polar\":{\"angularaxis\":{\"gridcolor\":\"white\",\"linecolor\":\"white\",\"ticks\":\"\"},\"bgcolor\":\"#E5ECF6\",\"radialaxis\":{\"gridcolor\":\"white\",\"linecolor\":\"white\",\"ticks\":\"\"}},\"scene\":{\"xaxis\":{\"backgroundcolor\":\"#E5ECF6\",\"gridcolor\":\"white\",\"gridwidth\":2,\"linecolor\":\"white\",\"showbackground\":true,\"ticks\":\"\",\"zerolinecolor\":\"white\"},\"yaxis\":{\"backgroundcolor\":\"#E5ECF6\",\"gridcolor\":\"white\",\"gridwidth\":2,\"linecolor\":\"white\",\"showbackground\":true,\"ticks\":\"\",\"zerolinecolor\":\"white\"},\"zaxis\":{\"backgroundcolor\":\"#E5ECF6\",\"gridcolor\":\"white\",\"gridwidth\":2,\"linecolor\":\"white\",\"showbackground\":true,\"ticks\":\"\",\"zerolinecolor\":\"white\"}},\"shapedefaults\":{\"line\":{\"color\":\"#2a3f5f\"}},\"ternary\":{\"aaxis\":{\"gridcolor\":\"white\",\"linecolor\":\"white\",\"ticks\":\"\"},\"baxis\":{\"gridcolor\":\"white\",\"linecolor\":\"white\",\"ticks\":\"\"},\"bgcolor\":\"#E5ECF6\",\"caxis\":{\"gridcolor\":\"white\",\"linecolor\":\"white\",\"ticks\":\"\"}},\"title\":{\"x\":0.05},\"xaxis\":{\"automargin\":true,\"gridcolor\":\"white\",\"linecolor\":\"white\",\"ticks\":\"\",\"title\":{\"standoff\":15},\"zerolinecolor\":\"white\",\"zerolinewidth\":2},\"yaxis\":{\"automargin\":true,\"gridcolor\":\"white\",\"linecolor\":\"white\",\"ticks\":\"\",\"title\":{\"standoff\":15},\"zerolinecolor\":\"white\",\"zerolinewidth\":2}}},\"geo\":{\"domain\":{\"x\":[0.0,1.0],\"y\":[0.0,1.0]},\"center\":{}},\"coloraxis\":{\"colorbar\":{\"title\":{\"text\":\"Year\"}},\"colorscale\":[[0.0,\"#0d0887\"],[0.1111111111111111,\"#46039f\"],[0.2222222222222222,\"#7201a8\"],[0.3333333333333333,\"#9c179e\"],[0.4444444444444444,\"#bd3786\"],[0.5555555555555556,\"#d8576b\"],[0.6666666666666666,\"#ed7953\"],[0.7777777777777778,\"#fb9f3a\"],[0.8888888888888888,\"#fdca26\"],[1.0,\"#f0f921\"]]},\"legend\":{\"tracegroupgap\":0},\"title\":{\"text\":\"Most Dangerous Locations per years\"}},                        {\"responsive\": true}                    ).then(function(){\n",
       "                            \n",
       "var gd = document.getElementById('ff36cc02-b194-4e22-80a6-430d6f6ce439');\n",
       "var x = new MutationObserver(function (mutations, observer) {{\n",
       "        var display = window.getComputedStyle(gd).display;\n",
       "        if (!display || display === 'none') {{\n",
       "            console.log([gd, 'removed!']);\n",
       "            Plotly.purge(gd);\n",
       "            observer.disconnect();\n",
       "        }}\n",
       "}});\n",
       "\n",
       "// Listen for the removal of the full notebook cells\n",
       "var notebookContainer = gd.closest('#notebook-container');\n",
       "if (notebookContainer) {{\n",
       "    x.observe(notebookContainer, {childList: true});\n",
       "}}\n",
       "\n",
       "// Listen for the clearing of the current output cell\n",
       "var outputEl = gd.closest('.output');\n",
       "if (outputEl) {{\n",
       "    x.observe(outputEl, {childList: true});\n",
       "}}\n",
       "\n",
       "                        })                };                });            </script>        </div>"
      ]
     },
     "metadata": {},
     "output_type": "display_data"
    }
   ],
   "source": [
    "fig = px.choropleth(Locations, \n",
    "                    locations = 'Location', \n",
    "                    locationmode = 'country names', \n",
    "                    color = 'Year',\n",
    "                    hover_data = ['Year'], \n",
    "                    title = 'Most Dangerous Locations per years')\n",
    "fig.show()"
   ]
  },
  {
   "cell_type": "code",
   "execution_count": 275,
   "id": "f9d89634",
   "metadata": {},
   "outputs": [
    {
     "data": {
      "text/html": [
       "<div>\n",
       "<style scoped>\n",
       "    .dataframe tbody tr th:only-of-type {\n",
       "        vertical-align: middle;\n",
       "    }\n",
       "\n",
       "    .dataframe tbody tr th {\n",
       "        vertical-align: top;\n",
       "    }\n",
       "\n",
       "    .dataframe thead th {\n",
       "        text-align: right;\n",
       "    }\n",
       "</style>\n",
       "<table border=\"1\" class=\"dataframe\">\n",
       "  <thead>\n",
       "    <tr style=\"text-align: right;\">\n",
       "      <th></th>\n",
       "      <th>Survivor</th>\n",
       "    </tr>\n",
       "    <tr>\n",
       "      <th>Type</th>\n",
       "      <th></th>\n",
       "    </tr>\n",
       "  </thead>\n",
       "  <tbody>\n",
       "    <tr>\n",
       "      <th>McDonnell Douglas DC-10-30</th>\n",
       "      <td>871.0</td>\n",
       "    </tr>\n",
       "    <tr>\n",
       "      <th>McDonnell Douglas DC-10-30CF</th>\n",
       "      <td>838.0</td>\n",
       "    </tr>\n",
       "    <tr>\n",
       "      <th>Boeing B-747-122</th>\n",
       "      <td>739.0</td>\n",
       "    </tr>\n",
       "    <tr>\n",
       "      <th>Boeing B-747-121</th>\n",
       "      <td>586.0</td>\n",
       "    </tr>\n",
       "    <tr>\n",
       "      <th>McDonnell Douglas DC-10-10</th>\n",
       "      <td>527.0</td>\n",
       "    </tr>\n",
       "  </tbody>\n",
       "</table>\n",
       "</div>"
      ],
      "text/plain": [
       "                              Survivor\n",
       "Type                                  \n",
       "McDonnell Douglas DC-10-30    871.0   \n",
       "McDonnell Douglas DC-10-30CF  838.0   \n",
       "Boeing B-747-122              739.0   \n",
       "Boeing B-747-121              586.0   \n",
       "McDonnell Douglas DC-10-10    527.0   "
      ]
     },
     "execution_count": 275,
     "metadata": {},
     "output_type": "execute_result"
    }
   ],
   "source": [
    "SurvivorByPlaneType=pd.DataFrame(airplane.Survivor.groupby(airplane.Type).sum())\n",
    "SurvivorByPlaneType = SurvivorByPlaneType.sort_values(by='Survivor', ascending=False)\n",
    "SurvivorByPlaneType.head(5)"
   ]
  },
  {
   "cell_type": "code",
   "execution_count": 276,
   "id": "77485de6",
   "metadata": {},
   "outputs": [
    {
     "data": {
      "text/plain": [
       "<AxesSubplot:title={'center':'Top 5 Airplane Type has number of Survivor'}, ylabel='Type'>"
      ]
     },
     "execution_count": 276,
     "metadata": {},
     "output_type": "execute_result"
    },
    {
     "data": {
      "image/png": "[encoded data removed]",
      "text/plain": [
       "<Figure size 1080x360 with 1 Axes>"
      ]
     },
     "metadata": {
      "needs_background": "light"
     },
     "output_type": "display_data"
    }
   ],
   "source": [
    "SurvivorByPlaneType[:5].plot(kind='barh'\n",
    "                                        ,  figsize=(15,5), rot=15, fontsize=15, title=\"Top 5 Airplane Type has number of Survivor\")"
   ]
  },
  {
   "cell_type": "code",
   "execution_count": 277,
   "id": "d1b87080",
   "metadata": {},
   "outputs": [
    {
     "data": {
      "text/html": [
       "<div>\n",
       "<style scoped>\n",
       "    .dataframe tbody tr th:only-of-type {\n",
       "        vertical-align: middle;\n",
       "    }\n",
       "\n",
       "    .dataframe tbody tr th {\n",
       "        vertical-align: top;\n",
       "    }\n",
       "\n",
       "    .dataframe thead th {\n",
       "        text-align: right;\n",
       "    }\n",
       "</style>\n",
       "<table border=\"1\" class=\"dataframe\">\n",
       "  <thead>\n",
       "    <tr style=\"text-align: right;\">\n",
       "      <th></th>\n",
       "      <th>Fatalities</th>\n",
       "    </tr>\n",
       "    <tr>\n",
       "      <th>Type</th>\n",
       "      <th></th>\n",
       "    </tr>\n",
       "  </thead>\n",
       "  <tbody>\n",
       "    <tr>\n",
       "      <th>Douglas DC-3</th>\n",
       "      <td>929.0</td>\n",
       "    </tr>\n",
       "    <tr>\n",
       "      <th>McDonnell Douglas DC-10-10</th>\n",
       "      <td>804.0</td>\n",
       "    </tr>\n",
       "    <tr>\n",
       "      <th>McDonnell Douglas DC-9-32</th>\n",
       "      <td>650.0</td>\n",
       "    </tr>\n",
       "    <tr>\n",
       "      <th>Tupolev TU-154M</th>\n",
       "      <td>640.0</td>\n",
       "    </tr>\n",
       "    <tr>\n",
       "      <th>Boeing B-747-121 / Boeing B-747-206B</th>\n",
       "      <td>583.0</td>\n",
       "    </tr>\n",
       "  </tbody>\n",
       "</table>\n",
       "</div>"
      ],
      "text/plain": [
       "                                      Fatalities\n",
       "Type                                            \n",
       "Douglas DC-3                          929.0     \n",
       "McDonnell Douglas DC-10-10            804.0     \n",
       "McDonnell Douglas DC-9-32             650.0     \n",
       "Tupolev TU-154M                       640.0     \n",
       "Boeing B-747-121 / Boeing B-747-206B  583.0     "
      ]
     },
     "execution_count": 277,
     "metadata": {},
     "output_type": "execute_result"
    }
   ],
   "source": [
    "CrashesByPlaneType=pd.DataFrame(airplane.Fatalities.groupby(airplane.Type).sum())\n",
    "CrashesByPlaneType = CrashesByPlaneType.sort_values(by='Fatalities', ascending=False)\n",
    "CrashesByPlaneType.head(5)"
   ]
  },
  {
   "cell_type": "code",
   "execution_count": 278,
   "id": "02175b9c",
   "metadata": {},
   "outputs": [
    {
     "data": {
      "text/plain": [
       "<AxesSubplot:title={'center':'Top 5 Airplane Type has number of Fatalities'}, ylabel='Type'>"
      ]
     },
     "execution_count": 278,
     "metadata": {},
     "output_type": "execute_result"
    },
    {
     "data": {
      "image/png": "[encoded data removed]",
      "text/plain": [
       "<Figure size 1080x360 with 1 Axes>"
      ]
     },
     "metadata": {
      "needs_background": "light"
     },
     "output_type": "display_data"
    }
   ],
   "source": [
    "CrashesByPlaneType[:5].plot(kind='barh'\n",
    "                                        ,  figsize=(15,5), rot=15, fontsize=15, title=\"Top 5 Airplane Type has number of Fatalities\")"
   ]
  },
  {
   "cell_type": "code",
   "execution_count": 279,
   "id": "ca456a17",
   "metadata": {},
   "outputs": [
    {
     "data": {
      "image/png": "[encoded data removed]",
      "text/plain": [
       "<Figure size 864x432 with 1 Axes>"
      ]
     },
     "metadata": {
      "needs_background": "light"
     },
     "output_type": "display_data"
    }
   ],
   "source": [
    "Opreator_total = airplane.groupby('Operator')[['Operator']].count()\n",
    "Opreator_total = Opreator_total.rename(columns={\"Operator\": \"Count\"}) \n",
    "Opreator_total = Opreator_total.sort_values(by='Count', ascending=False).head(10)\n",
    "\n",
    "plt.figure(figsize=(12,6))\n",
    "sns.barplot(y=Opreator_total.index, x=\"Count\", data=Opreator_total,palette=\"Blues_d\",orient='h')\n",
    "plt.xlabel('Count', fontsize=10)\n",
    "plt.ylabel('Operator', fontsize=10)\n",
    "plt.title('Total Count by Operator', loc='Center', fontsize=14)\n",
    "plt.show()"
   ]
  },
  {
   "cell_type": "markdown",
   "id": "2d90925d",
   "metadata": {},
   "source": [
    "# Data Pre-processing"
   ]
  },
  {
   "cell_type": "code",
   "execution_count": 280,
   "id": "d54647b2",
   "metadata": {
    "scrolled": false
   },
   "outputs": [
    {
     "data": {
      "text/html": [
       "<div>\n",
       "<style scoped>\n",
       "    .dataframe tbody tr th:only-of-type {\n",
       "        vertical-align: middle;\n",
       "    }\n",
       "\n",
       "    .dataframe tbody tr th {\n",
       "        vertical-align: top;\n",
       "    }\n",
       "\n",
       "    .dataframe thead th {\n",
       "        text-align: right;\n",
       "    }\n",
       "</style>\n",
       "<table border=\"1\" class=\"dataframe\">\n",
       "  <thead>\n",
       "    <tr style=\"text-align: right;\">\n",
       "      <th></th>\n",
       "      <th>Date</th>\n",
       "      <th>Time</th>\n",
       "      <th>Location</th>\n",
       "      <th>Operator</th>\n",
       "      <th>Flight #</th>\n",
       "      <th>Route</th>\n",
       "      <th>Type</th>\n",
       "      <th>Registration</th>\n",
       "      <th>cn/In</th>\n",
       "      <th>Aboard</th>\n",
       "      <th>Fatalities</th>\n",
       "      <th>Ground</th>\n",
       "      <th>Summary</th>\n",
       "      <th>Year</th>\n",
       "      <th>Survivor</th>\n",
       "      <th>Summary_clean</th>\n",
       "    </tr>\n",
       "  </thead>\n",
       "  <tbody>\n",
       "    <tr>\n",
       "      <th>208</th>\n",
       "      <td>01/19/1930</td>\n",
       "      <td>18:23</td>\n",
       "      <td>Oceanside, California</td>\n",
       "      <td>Maddux Airlines</td>\n",
       "      <td>7</td>\n",
       "      <td>Aqua Caliente, Mexico - Los Angeles</td>\n",
       "      <td>Ford 5-AT-C Tri Motor</td>\n",
       "      <td>NC9689</td>\n",
       "      <td>5-AT-046</td>\n",
       "      <td>16.0</td>\n",
       "      <td>16.0</td>\n",
       "      <td>0.0</td>\n",
       "      <td>While en route to Los Angeles, the pilot, flying a low altitude due to poor weather conditions tried to turn back. While in a left turn his left wing struck a hill, crashed and burned. Adverse weather conditions. The plane flew into a sudden squall which cause the pilot to lose control.</td>\n",
       "      <td>1930</td>\n",
       "      <td>0.0</td>\n",
       "      <td>en route los angeles pilot flying low altitude due poor weather conditions tried turn back left turn left wing struck hill crashed burned adverse weather conditions plane flew sudden squall cause pilot lose control</td>\n",
       "    </tr>\n",
       "    <tr>\n",
       "      <th>236</th>\n",
       "      <td>03/31/1931</td>\n",
       "      <td>10:45</td>\n",
       "      <td>Bazaar, Kansas</td>\n",
       "      <td>Trans Continental and Western Air</td>\n",
       "      <td>599</td>\n",
       "      <td>Kansas City - Wichita -  Los Angeles</td>\n",
       "      <td>Fokker F10A Trimotor</td>\n",
       "      <td>NC-999</td>\n",
       "      <td>1063</td>\n",
       "      <td>8.0</td>\n",
       "      <td>8.0</td>\n",
       "      <td>0.0</td>\n",
       "      <td>Shortly after taking off from Kansas City, one of the aircraft's wing's separated in flight after penetrating a thunderstorm and experiencing strong turbulence and icing. The plane crashed into a wheat field. Wing-aileron flutter, brought about by moisture leaking into the wing's interior, weakening the glue that bonded the wooden spars. Notre Dame football coach, Knute Rockne, 43, killed.</td>\n",
       "      <td>1931</td>\n",
       "      <td>0.0</td>\n",
       "      <td>shortly taking kansas city one aircrafts wings separated flight penetrating thunderstorm experiencing strong turbulence icing plane crashed wheat field wingaileron flutter brought moisture leaking wings interior weakening glue bonded wooden spars notre dame football coach knute rockne  killed</td>\n",
       "    </tr>\n",
       "  </tbody>\n",
       "</table>\n",
       "</div>"
      ],
      "text/plain": [
       "           Date   Time               Location  \\\n",
       "208  01/19/1930  18:23  Oceanside, California   \n",
       "236  03/31/1931  10:45  Bazaar, Kansas          \n",
       "\n",
       "                              Operator Flight #  \\\n",
       "208  Maddux Airlines                    7         \n",
       "236  Trans Continental and Western Air  599       \n",
       "\n",
       "                                    Route                   Type Registration  \\\n",
       "208  Aqua Caliente, Mexico - Los Angeles   Ford 5-AT-C Tri Motor  NC9689        \n",
       "236  Kansas City - Wichita -  Los Angeles  Fokker F10A Trimotor   NC-999        \n",
       "\n",
       "        cn/In  Aboard  Fatalities  Ground  \\\n",
       "208  5-AT-046  16.0    16.0        0.0      \n",
       "236  1063      8.0     8.0         0.0      \n",
       "\n",
       "                                                                                                                                                                                                                                                                                                                                                                                                      Summary  \\\n",
       "208  While en route to Los Angeles, the pilot, flying a low altitude due to poor weather conditions tried to turn back. While in a left turn his left wing struck a hill, crashed and burned. Adverse weather conditions. The plane flew into a sudden squall which cause the pilot to lose control.                                                                                                            \n",
       "236  Shortly after taking off from Kansas City, one of the aircraft's wing's separated in flight after penetrating a thunderstorm and experiencing strong turbulence and icing. The plane crashed into a wheat field. Wing-aileron flutter, brought about by moisture leaking into the wing's interior, weakening the glue that bonded the wooden spars. Notre Dame football coach, Knute Rockne, 43, killed.   \n",
       "\n",
       "     Year  Survivor  \\\n",
       "208  1930  0.0        \n",
       "236  1931  0.0        \n",
       "\n",
       "                                                                                                                                                                                                                                                                                             Summary_clean  \n",
       "208  en route los angeles pilot flying low altitude due poor weather conditions tried turn back left turn left wing struck hill crashed burned adverse weather conditions plane flew sudden squall cause pilot lose control                                                                                 \n",
       "236  shortly taking kansas city one aircrafts wings separated flight penetrating thunderstorm experiencing strong turbulence icing plane crashed wheat field wingaileron flutter brought moisture leaking wings interior weakening glue bonded wooden spars notre dame football coach knute rockne  killed  "
      ]
     },
     "execution_count": 280,
     "metadata": {},
     "output_type": "execute_result"
    }
   ],
   "source": [
    "import re\n",
    "import string\n",
    "\n",
    "def clean_text(text):\n",
    "    '''Make text lowercase, remove text in square brackets,remove links,remove punctuation\n",
    "    and remove words containing numbers.'''\n",
    "    text = str(text).lower()\n",
    "    text = re.sub('\\[.*?\\]', '', text)\n",
    "    text = re.sub('https?://\\S+|www\\.\\S+', '', text)\n",
    "    text = re.sub('<.*?>+', '', text)\n",
    "    text = re.sub('[%s]' % re.escape(string.punctuation), '', text)\n",
    "    text = re.sub('\\n', '', text)\n",
    "    text = re.sub('\\w*\\d\\w*', '', text)\n",
    "    \n",
    "    return text\n",
    "airplane['Summary_clean'] = airplane['Summary'].apply(clean_text)\n",
    "airplane.head()\n",
    "\n",
    "# StopWords\n",
    "\n",
    "from nltk.corpus import stopwords\n",
    "data_text = stopwords.words('english')\n",
    "more_stopwords = ['u', 'im', 'c']\n",
    "data_text = data_text + more_stopwords\n",
    "\n",
    "def remove_stopwords(text):\n",
    "    text = ' '.join(word for word in text.split(' ') if word not in data_text)\n",
    "    return text\n",
    "    \n",
    "airplane['Summary_clean'] = airplane['Summary_clean'].apply(remove_stopwords)\n",
    "airplane.head(2)"
   ]
  },
  {
   "cell_type": "code",
   "execution_count": 281,
   "id": "c3650ca4",
   "metadata": {
    "scrolled": false
   },
   "outputs": [
    {
     "data": {
      "text/html": [
       "<div>\n",
       "<style scoped>\n",
       "    .dataframe tbody tr th:only-of-type {\n",
       "        vertical-align: middle;\n",
       "    }\n",
       "\n",
       "    .dataframe tbody tr th {\n",
       "        vertical-align: top;\n",
       "    }\n",
       "\n",
       "    .dataframe thead th {\n",
       "        text-align: right;\n",
       "    }\n",
       "</style>\n",
       "<table border=\"1\" class=\"dataframe\">\n",
       "  <thead>\n",
       "    <tr style=\"text-align: right;\">\n",
       "      <th></th>\n",
       "      <th>Date</th>\n",
       "      <th>Time</th>\n",
       "      <th>Location</th>\n",
       "      <th>Operator</th>\n",
       "      <th>Flight #</th>\n",
       "      <th>Route</th>\n",
       "      <th>Type</th>\n",
       "      <th>Registration</th>\n",
       "      <th>cn/In</th>\n",
       "      <th>Aboard</th>\n",
       "      <th>Fatalities</th>\n",
       "      <th>Ground</th>\n",
       "      <th>Summary</th>\n",
       "      <th>Year</th>\n",
       "      <th>Survivor</th>\n",
       "      <th>Summary_clean</th>\n",
       "    </tr>\n",
       "  </thead>\n",
       "  <tbody>\n",
       "    <tr>\n",
       "      <th>208</th>\n",
       "      <td>01/19/1930</td>\n",
       "      <td>18:23</td>\n",
       "      <td>Oceanside, California</td>\n",
       "      <td>Maddux Airlines</td>\n",
       "      <td>7</td>\n",
       "      <td>Aqua Caliente, Mexico - Los Angeles</td>\n",
       "      <td>Ford 5-AT-C Tri Motor</td>\n",
       "      <td>NC9689</td>\n",
       "      <td>5-AT-046</td>\n",
       "      <td>16.0</td>\n",
       "      <td>16.0</td>\n",
       "      <td>0.0</td>\n",
       "      <td>While en route to Los Angeles, the pilot, flying a low altitude due to poor weather conditions tried to turn back. While in a left turn his left wing struck a hill, crashed and burned. Adverse weather conditions. The plane flew into a sudden squall which cause the pilot to lose control.</td>\n",
       "      <td>1930</td>\n",
       "      <td>0.0</td>\n",
       "      <td>en rout los angel pilot fli low altitud due poor weather condit tri turn back left turn left wing struck hill crash burn advers weather condit plane flew sudden squall caus pilot lose control</td>\n",
       "    </tr>\n",
       "    <tr>\n",
       "      <th>236</th>\n",
       "      <td>03/31/1931</td>\n",
       "      <td>10:45</td>\n",
       "      <td>Bazaar, Kansas</td>\n",
       "      <td>Trans Continental and Western Air</td>\n",
       "      <td>599</td>\n",
       "      <td>Kansas City - Wichita -  Los Angeles</td>\n",
       "      <td>Fokker F10A Trimotor</td>\n",
       "      <td>NC-999</td>\n",
       "      <td>1063</td>\n",
       "      <td>8.0</td>\n",
       "      <td>8.0</td>\n",
       "      <td>0.0</td>\n",
       "      <td>Shortly after taking off from Kansas City, one of the aircraft's wing's separated in flight after penetrating a thunderstorm and experiencing strong turbulence and icing. The plane crashed into a wheat field. Wing-aileron flutter, brought about by moisture leaking into the wing's interior, weakening the glue that bonded the wooden spars. Notre Dame football coach, Knute Rockne, 43, killed.</td>\n",
       "      <td>1931</td>\n",
       "      <td>0.0</td>\n",
       "      <td>short take kansa citi one aircraft wing separ flight penetr thunderstorm experienc strong turbul ice plane crash wheat field wingaileron flutter brought moistur leak wing interior weaken glue bond wooden spar notr dame footbal coach knute rockn  kill</td>\n",
       "    </tr>\n",
       "  </tbody>\n",
       "</table>\n",
       "</div>"
      ],
      "text/plain": [
       "           Date   Time               Location  \\\n",
       "208  01/19/1930  18:23  Oceanside, California   \n",
       "236  03/31/1931  10:45  Bazaar, Kansas          \n",
       "\n",
       "                              Operator Flight #  \\\n",
       "208  Maddux Airlines                    7         \n",
       "236  Trans Continental and Western Air  599       \n",
       "\n",
       "                                    Route                   Type Registration  \\\n",
       "208  Aqua Caliente, Mexico - Los Angeles   Ford 5-AT-C Tri Motor  NC9689        \n",
       "236  Kansas City - Wichita -  Los Angeles  Fokker F10A Trimotor   NC-999        \n",
       "\n",
       "        cn/In  Aboard  Fatalities  Ground  \\\n",
       "208  5-AT-046  16.0    16.0        0.0      \n",
       "236  1063      8.0     8.0         0.0      \n",
       "\n",
       "                                                                                                                                                                                                                                                                                                                                                                                                      Summary  \\\n",
       "208  While en route to Los Angeles, the pilot, flying a low altitude due to poor weather conditions tried to turn back. While in a left turn his left wing struck a hill, crashed and burned. Adverse weather conditions. The plane flew into a sudden squall which cause the pilot to lose control.                                                                                                            \n",
       "236  Shortly after taking off from Kansas City, one of the aircraft's wing's separated in flight after penetrating a thunderstorm and experiencing strong turbulence and icing. The plane crashed into a wheat field. Wing-aileron flutter, brought about by moisture leaking into the wing's interior, weakening the glue that bonded the wooden spars. Notre Dame football coach, Knute Rockne, 43, killed.   \n",
       "\n",
       "     Year  Survivor  \\\n",
       "208  1930  0.0        \n",
       "236  1931  0.0        \n",
       "\n",
       "                                                                                                                                                                                                                                                  Summary_clean  \n",
       "208  en rout los angel pilot fli low altitud due poor weather condit tri turn back left turn left wing struck hill crash burn advers weather condit plane flew sudden squall caus pilot lose control                                                             \n",
       "236  short take kansa citi one aircraft wing separ flight penetr thunderstorm experienc strong turbul ice plane crash wheat field wingaileron flutter brought moistur leak wing interior weaken glue bond wooden spar notr dame footbal coach knute rockn  kill  "
      ]
     },
     "execution_count": 281,
     "metadata": {},
     "output_type": "execute_result"
    }
   ],
   "source": [
    "#Stemmer\n",
    "\n",
    "import nltk\n",
    "\n",
    "stemmer = nltk.SnowballStemmer(\"english\")\n",
    "\n",
    "def stemm_text(text):\n",
    "    text = ' '.join(stemmer.stem(word) for word in text.split(' '))\n",
    "    return text\n",
    "airplane['Summary_clean'] = airplane['Summary_clean'].apply(stemm_text)\n",
    "airplane.head(2)"
   ]
  },
  {
   "cell_type": "code",
   "execution_count": 282,
   "id": "8eef6682",
   "metadata": {},
   "outputs": [
    {
     "data": {
      "image/png": "[encoded data removed]",
      "text/plain": [
       "<Figure size 1080x720 with 1 Axes>"
      ]
     },
     "metadata": {
      "needs_background": "light"
     },
     "output_type": "display_data"
    }
   ],
   "source": [
    "from wordcloud import WordCloud, STOPWORDS, ImageColorGenerator\n",
    "wc = WordCloud(\n",
    "    background_color='white', \n",
    "    max_words=200, \n",
    ")\n",
    "wc.generate(' '.join(text for text in airplane['Summary']))\n",
    "plt.figure(figsize=(15,10))\n",
    "plt.title('Top words for Crashed Airplanes Summary', \n",
    "          fontdict={'size': 20,  'verticalalignment': 'bottom'})\n",
    "plt.imshow(wc)\n",
    "plt.axis(\"off\")\n",
    "plt.show()"
   ]
  },
  {
   "cell_type": "code",
   "execution_count": 283,
   "id": "9d73d050",
   "metadata": {},
   "outputs": [
    {
     "data": {
      "text/plain": [
       "944"
      ]
     },
     "execution_count": 283,
     "metadata": {},
     "output_type": "execute_result"
    }
   ],
   "source": [
    "airplane['Summary_clean'].nunique() "
   ]
  },
  {
   "cell_type": "markdown",
   "id": "2cd075e4",
   "metadata": {},
   "source": [
    "# Kmeans Cluster"
   ]
  },
  {
   "cell_type": "code",
   "execution_count": 284,
   "id": "4eb12763",
   "metadata": {},
   "outputs": [],
   "source": [
    "from sklearn.feature_extraction.text import TfidfVectorizer\n",
    "from sklearn.cluster import KMeans\n",
    "from sklearn.cluster import MiniBatchKMeans\n",
    "from sklearn.metrics import adjusted_rand_score\n",
    "from sklearn.preprocessing import LabelEncoder\n",
    "from sklearn.preprocessing import MinMaxScaler\n",
    "import seaborn as sns\n",
    "import matplotlib.pyplot as plt\n",
    "from sklearn.decomposition import PCA"
   ]
  },
  {
   "cell_type": "code",
   "execution_count": 285,
   "id": "bfd27b57",
   "metadata": {},
   "outputs": [],
   "source": [
    "documents = list(airplane['Summary_clean'])\n",
    "vectorizer = TfidfVectorizer(stop_words='english') # Stop words are like \"a\", \"the\", or \"in\" which don't have significant meaning\n",
    "X = vectorizer.fit_transform(documents)"
   ]
  },
  {
   "cell_type": "code",
   "execution_count": 286,
   "id": "85da083b",
   "metadata": {},
   "outputs": [
    {
     "data": {
      "text/plain": [
       "MiniBatchKMeans(n_clusters=5, random_state=100)"
      ]
     },
     "execution_count": 286,
     "metadata": {},
     "output_type": "execute_result"
    }
   ],
   "source": [
    "model = MiniBatchKMeans(n_clusters=5, random_state=100)\n",
    "model.fit(X)"
   ]
  },
  {
   "cell_type": "code",
   "execution_count": 287,
   "id": "7d59759e",
   "metadata": {},
   "outputs": [
    {
     "data": {
      "text/plain": [
       "array([[0.        , 0.        , 0.00042574, ..., 0.        , 0.        ,\n",
       "        0.        ],\n",
       "       [0.00086522, 0.00038335, 0.00326747, ..., 0.        , 0.        ,\n",
       "        0.00185974],\n",
       "       [0.        , 0.        , 0.        , ..., 0.        , 0.        ,\n",
       "        0.        ],\n",
       "       [0.        , 0.        , 0.        , ..., 0.00371058, 0.        ,\n",
       "        0.        ],\n",
       "       [0.        , 0.        , 0.00138527, ..., 0.        , 0.00418625,\n",
       "        0.        ]])"
      ]
     },
     "execution_count": 287,
     "metadata": {},
     "output_type": "execute_result"
    }
   ],
   "source": [
    "model.cluster_centers_"
   ]
  },
  {
   "cell_type": "code",
   "execution_count": 288,
   "id": "4d7e8a1f",
   "metadata": {
    "scrolled": false
   },
   "outputs": [
    {
     "name": "stdout",
     "output_type": "stream",
     "text": [
      "Most Common Terms per Cluster:\n",
      "\n",
      "\n",
      "Cluster 0:\n",
      "aircraft\n",
      "plane\n",
      "crash\n",
      "hijack\n",
      "pilot\n",
      "kill\n",
      "fuel\n",
      "collis\n",
      "caus\n",
      "passeng\n",
      "\n",
      "\n",
      "Cluster 1:\n",
      "approach\n",
      "runway\n",
      "aircraft\n",
      "land\n",
      "crash\n",
      "crew\n",
      "pilot\n",
      "plane\n",
      "attempt\n",
      "airport\n",
      "\n",
      "\n",
      "Cluster 2:\n",
      "deton\n",
      "explos\n",
      "crash\n",
      "devic\n",
      "bomb\n",
      "plane\n",
      "aboard\n",
      "minut\n",
      "explod\n",
      "cabin\n",
      "\n",
      "\n",
      "Cluster 3:\n",
      "mountain\n",
      "flight\n",
      "ft\n",
      "aircraft\n",
      "terrain\n",
      "pilot\n",
      "crash\n",
      "navig\n",
      "error\n",
      "condit\n",
      "\n",
      "\n",
      "Cluster 4:\n",
      "engin\n",
      "failur\n",
      "aircraft\n",
      "takeoff\n",
      "crash\n",
      "plane\n",
      "power\n",
      "loss\n",
      "left\n",
      "lost\n"
     ]
    }
   ],
   "source": [
    "print ('Most Common Terms per Cluster:')\n",
    "\n",
    "order_centroids = model.cluster_centers_.argsort()[:,::-1] #sort cluster centers by proximity to centroid\n",
    "terms = vectorizer.get_feature_names()\n",
    "\n",
    "for i in range(5):\n",
    "    print(\"\\n\")\n",
    "    print('Cluster %d:' % i)\n",
    "    for j in order_centroids[i, :10]: #replace 10 with n words per cluster\n",
    "        print ('%s' % terms[j]),\n",
    "    print"
   ]
  },
  {
   "cell_type": "code",
   "execution_count": 289,
   "id": "998955ce",
   "metadata": {},
   "outputs": [],
   "source": [
    "pca = PCA(n_components=13, random_state=100)\n",
    "reduced_features = pca.fit_transform(X.toarray())\n",
    "\n",
    "reduced_cluster_centers = pca.transform(model.cluster_centers_)"
   ]
  },
  {
   "cell_type": "code",
   "execution_count": 290,
   "id": "f9225ff2",
   "metadata": {},
   "outputs": [
    {
     "data": {
      "text/plain": [
       "<matplotlib.collections.PathCollection at 0x214de553a60>"
      ]
     },
     "execution_count": 290,
     "metadata": {},
     "output_type": "execute_result"
    },
    {
     "data": {
      "image/png": "[encoded data removed]",
      "text/plain": [
       "<Figure size 432x288 with 1 Axes>"
      ]
     },
     "metadata": {
      "needs_background": "light"
     },
     "output_type": "display_data"
    }
   ],
   "source": [
    "plt.scatter(reduced_features[:,0], reduced_features[:,1], c=model.predict(X))\n",
    "plt.scatter(reduced_cluster_centers[:, 0], reduced_cluster_centers[:,1], marker='x', s=150, c='b')"
   ]
  },
  {
   "cell_type": "markdown",
   "id": "21c9cfc5",
   "metadata": {},
   "source": [
    "# Modeling"
   ]
  },
  {
   "cell_type": "code",
   "execution_count": 291,
   "id": "718ee4fa",
   "metadata": {},
   "outputs": [],
   "source": [
    "import pandas as pd\n",
    "from sklearn.feature_extraction.text import TfidfVectorizer, CountVectorizer\n",
    "from sklearn import decomposition\n",
    "import matplotlib.pyplot as plt\n",
    "import numpy as np\n",
    "import re\n",
    "import nltk\n",
    "from nltk.stem.porter import PorterStemmer\n",
    "from sklearn.model_selection import train_test_split"
   ]
  },
  {
   "cell_type": "markdown",
   "id": "bc443ee4",
   "metadata": {},
   "source": [
    "# NMF"
   ]
  },
  {
   "cell_type": "code",
   "execution_count": 292,
   "id": "ee69bebd",
   "metadata": {},
   "outputs": [
    {
     "name": "stderr",
     "output_type": "stream",
     "text": [
      "[nltk_data] Downloading package punkt to\n",
      "[nltk_data]     C:\\Users\\LENOVO\\AppData\\Roaming\\nltk_data...\n",
      "[nltk_data]   Package punkt is already up-to-date!\n"
     ]
    },
    {
     "data": {
      "text/plain": [
       "True"
      ]
     },
     "execution_count": 292,
     "metadata": {},
     "output_type": "execute_result"
    }
   ],
   "source": [
    "nltk.download('punkt')"
   ]
  },
  {
   "cell_type": "code",
   "execution_count": 293,
   "id": "3eca6636",
   "metadata": {},
   "outputs": [],
   "source": [
    "df=airplane[['Summary_clean','Operator','Location']]"
   ]
  },
  {
   "cell_type": "code",
   "execution_count": 294,
   "id": "a607deb0",
   "metadata": {},
   "outputs": [
    {
     "name": "stderr",
     "output_type": "stream",
     "text": [
      "<ipython-input-294-80fd2a1a75bd>:1: FutureWarning:\n",
      "\n",
      "Passing a negative integer is deprecated in version 1.0 and will not be supported in future version. Instead, use None to not limit the column width.\n",
      "\n"
     ]
    },
    {
     "data": {
      "text/html": [
       "<div>\n",
       "<style scoped>\n",
       "    .dataframe tbody tr th:only-of-type {\n",
       "        vertical-align: middle;\n",
       "    }\n",
       "\n",
       "    .dataframe tbody tr th {\n",
       "        vertical-align: top;\n",
       "    }\n",
       "\n",
       "    .dataframe thead th {\n",
       "        text-align: right;\n",
       "    }\n",
       "</style>\n",
       "<table border=\"1\" class=\"dataframe\">\n",
       "  <thead>\n",
       "    <tr style=\"text-align: right;\">\n",
       "      <th></th>\n",
       "      <th>Summary_clean</th>\n",
       "      <th>Operator</th>\n",
       "      <th>Location</th>\n",
       "    </tr>\n",
       "  </thead>\n",
       "  <tbody>\n",
       "    <tr>\n",
       "      <th>208</th>\n",
       "      <td>en rout los angel pilot fli low altitud due poor weather condit tri turn back left turn left wing struck hill crash burn advers weather condit plane flew sudden squall caus pilot lose control</td>\n",
       "      <td>Maddux Airlines</td>\n",
       "      <td>Oceanside, California</td>\n",
       "    </tr>\n",
       "    <tr>\n",
       "      <th>236</th>\n",
       "      <td>short take kansa citi one aircraft wing separ flight penetr thunderstorm experienc strong turbul ice plane crash wheat field wingaileron flutter brought moistur leak wing interior weaken glue bond wooden spar notr dame footbal coach knute rockn  kill</td>\n",
       "      <td>Trans Continental and Western Air</td>\n",
       "      <td>Bazaar, Kansas</td>\n",
       "    </tr>\n",
       "  </tbody>\n",
       "</table>\n",
       "</div>"
      ],
      "text/plain": [
       "                                                                                                                                                                                                                                                  Summary_clean  \\\n",
       "208  en rout los angel pilot fli low altitud due poor weather condit tri turn back left turn left wing struck hill crash burn advers weather condit plane flew sudden squall caus pilot lose control                                                              \n",
       "236  short take kansa citi one aircraft wing separ flight penetr thunderstorm experienc strong turbul ice plane crash wheat field wingaileron flutter brought moistur leak wing interior weaken glue bond wooden spar notr dame footbal coach knute rockn  kill   \n",
       "\n",
       "                              Operator               Location  \n",
       "208  Maddux Airlines                    Oceanside, California  \n",
       "236  Trans Continental and Western Air  Bazaar, Kansas         "
      ]
     },
     "execution_count": 294,
     "metadata": {},
     "output_type": "execute_result"
    }
   ],
   "source": [
    "pd.set_option('display.max_colwidth',-1)\n",
    "df.head(2)"
   ]
  },
  {
   "cell_type": "code",
   "execution_count": 295,
   "id": "d1297372",
   "metadata": {},
   "outputs": [],
   "source": [
    "X_train, X_test = train_test_split(df, test_size=0.3, random_state=100)"
   ]
  },
  {
   "cell_type": "code",
   "execution_count": 296,
   "id": "ebf01c5f",
   "metadata": {},
   "outputs": [
    {
     "name": "stderr",
     "output_type": "stream",
     "text": [
      "[nltk_data] Downloading package stopwords to\n",
      "[nltk_data]     C:\\Users\\LENOVO\\AppData\\Roaming\\nltk_data...\n",
      "[nltk_data]   Package stopwords is already up-to-date!\n"
     ]
    }
   ],
   "source": [
    "stemmer = nltk.stem.SnowballStemmer('english')\n",
    "nltk.download('stopwords')\n",
    "stop_words = set(nltk.corpus.stopwords.words('english'))"
   ]
  },
  {
   "cell_type": "code",
   "execution_count": 297,
   "id": "fe893b0d",
   "metadata": {},
   "outputs": [],
   "source": [
    "def tokenize(text):\n",
    "    tokens = [word for word in nltk.word_tokenize(text) if (len(word) > 3 and len(word.strip('Xx/')) > 2 and len(re.sub('\\d+', '', word.strip('Xx/'))) > 3) ] \n",
    "    tokens = map(str.lower, tokens)\n",
    "    stems = [stemmer.stem(item) for item in tokens if (item not in stop_words)]\n",
    "    return stems"
   ]
  },
  {
   "cell_type": "code",
   "execution_count": 298,
   "id": "d408be63",
   "metadata": {},
   "outputs": [],
   "source": [
    "# Instatiate\n",
    "vectorizer = TfidfVectorizer(tokenizer=tokenize, stop_words=None, max_df=0.75, max_features=1000, lowercase=False, ngram_range=(1,2))\n",
    "# Fit & Transform\n",
    "tfidf_vectors = vectorizer.fit_transform(X_train['Summary_clean'].values.astype('U')) ## Even astype(str) would work"
   ]
  },
  {
   "cell_type": "code",
   "execution_count": 299,
   "id": "6c4366e4",
   "metadata": {},
   "outputs": [
    {
     "name": "stderr",
     "output_type": "stream",
     "text": [
      "C:\\Users\\LENOVO\\anaconda3\\lib\\site-packages\\sklearn\\decomposition\\_nmf.py:312: FutureWarning:\n",
      "\n",
      "The 'init' value, when 'init=None' and n_components is less than n_samples and n_features, will be changed from 'nndsvd' to 'nndsvda' in 1.1 (renaming of 0.26).\n",
      "\n"
     ]
    }
   ],
   "source": [
    "clf = decomposition.NMF(n_components=5, random_state=111) \n",
    "\n",
    "W1 = clf.fit_transform(tfidf_vectors)\n",
    "H1 = clf.components_"
   ]
  },
  {
   "cell_type": "code",
   "execution_count": 300,
   "id": "461a67a1",
   "metadata": {},
   "outputs": [],
   "source": [
    "num_words=15 # \n",
    "\n",
    "vocab = np.array(vectorizer.get_feature_names())\n",
    "\n",
    "top_words = lambda t: [vocab[i] for i in np.argsort(t)[:-num_words-1:-1]]\n",
    "topic_words = ([top_words(t) for t in H1])\n",
    "topics = [' '.join(t) for t in topic_words]"
   ]
  },
  {
   "cell_type": "code",
   "execution_count": 301,
   "id": "1e55298c",
   "metadata": {},
   "outputs": [
    {
     "data": {
      "text/plain": [
       "['approach descent crew altitud aircraft visual instrument short runway descend short final crash minimum captain aircraft crash',\n",
       " 'engin failur takeoff engin failur left power fire ditch left engin right engin emerg loss aircraft fail flight',\n",
       " 'runway land attempt attempt land plane overran overran runway airport gear pilot land gear flame touch burst burst flame',\n",
       " 'aircraft control crash plane caus minut take fire loss aircraft crash plane crash aboard kill passeng thunderstorm',\n",
       " 'mountain condit weather pilot weather condit flight terrain poor poor weather plane error crash area mile mountain terrain']"
      ]
     },
     "execution_count": 301,
     "metadata": {},
     "output_type": "execute_result"
    }
   ],
   "source": [
    "topics"
   ]
  },
  {
   "cell_type": "code",
   "execution_count": 302,
   "id": "96ecdbf7",
   "metadata": {},
   "outputs": [
    {
     "data": {
      "text/html": [
       "<div>\n",
       "<style scoped>\n",
       "    .dataframe tbody tr th:only-of-type {\n",
       "        vertical-align: middle;\n",
       "    }\n",
       "\n",
       "    .dataframe tbody tr th {\n",
       "        vertical-align: top;\n",
       "    }\n",
       "\n",
       "    .dataframe thead th {\n",
       "        text-align: right;\n",
       "    }\n",
       "</style>\n",
       "<table border=\"1\" class=\"dataframe\">\n",
       "  <thead>\n",
       "    <tr style=\"text-align: right;\">\n",
       "      <th></th>\n",
       "      <th>pilot error</th>\n",
       "      <th>On Fire</th>\n",
       "      <th>shot down</th>\n",
       "      <th>poor weather</th>\n",
       "      <th>crash</th>\n",
       "      <th>dominant_topic</th>\n",
       "    </tr>\n",
       "  </thead>\n",
       "  <tbody>\n",
       "    <tr>\n",
       "      <th>Doc0</th>\n",
       "      <td>0.04</td>\n",
       "      <td>0.01</td>\n",
       "      <td>0.00</td>\n",
       "      <td>0.02</td>\n",
       "      <td>0.11</td>\n",
       "      <td>4</td>\n",
       "    </tr>\n",
       "    <tr>\n",
       "      <th>Doc1</th>\n",
       "      <td>0.04</td>\n",
       "      <td>0.01</td>\n",
       "      <td>0.08</td>\n",
       "      <td>0.10</td>\n",
       "      <td>0.01</td>\n",
       "      <td>3</td>\n",
       "    </tr>\n",
       "    <tr>\n",
       "      <th>Doc2</th>\n",
       "      <td>0.00</td>\n",
       "      <td>0.01</td>\n",
       "      <td>0.01</td>\n",
       "      <td>0.18</td>\n",
       "      <td>0.00</td>\n",
       "      <td>3</td>\n",
       "    </tr>\n",
       "    <tr>\n",
       "      <th>Doc3</th>\n",
       "      <td>0.00</td>\n",
       "      <td>0.15</td>\n",
       "      <td>0.00</td>\n",
       "      <td>0.00</td>\n",
       "      <td>0.00</td>\n",
       "      <td>1</td>\n",
       "    </tr>\n",
       "    <tr>\n",
       "      <th>Doc4</th>\n",
       "      <td>0.16</td>\n",
       "      <td>0.00</td>\n",
       "      <td>0.04</td>\n",
       "      <td>0.02</td>\n",
       "      <td>0.01</td>\n",
       "      <td>0</td>\n",
       "    </tr>\n",
       "    <tr>\n",
       "      <th>...</th>\n",
       "      <td>...</td>\n",
       "      <td>...</td>\n",
       "      <td>...</td>\n",
       "      <td>...</td>\n",
       "      <td>...</td>\n",
       "      <td>...</td>\n",
       "    </tr>\n",
       "    <tr>\n",
       "      <th>Doc655</th>\n",
       "      <td>0.00</td>\n",
       "      <td>0.00</td>\n",
       "      <td>0.05</td>\n",
       "      <td>0.09</td>\n",
       "      <td>0.11</td>\n",
       "      <td>4</td>\n",
       "    </tr>\n",
       "    <tr>\n",
       "      <th>Doc656</th>\n",
       "      <td>0.02</td>\n",
       "      <td>0.02</td>\n",
       "      <td>0.22</td>\n",
       "      <td>0.00</td>\n",
       "      <td>0.03</td>\n",
       "      <td>2</td>\n",
       "    </tr>\n",
       "    <tr>\n",
       "      <th>Doc657</th>\n",
       "      <td>0.00</td>\n",
       "      <td>0.00</td>\n",
       "      <td>0.01</td>\n",
       "      <td>0.03</td>\n",
       "      <td>0.10</td>\n",
       "      <td>4</td>\n",
       "    </tr>\n",
       "    <tr>\n",
       "      <th>Doc658</th>\n",
       "      <td>0.06</td>\n",
       "      <td>0.00</td>\n",
       "      <td>0.03</td>\n",
       "      <td>0.08</td>\n",
       "      <td>0.04</td>\n",
       "      <td>3</td>\n",
       "    </tr>\n",
       "    <tr>\n",
       "      <th>Doc659</th>\n",
       "      <td>0.00</td>\n",
       "      <td>0.23</td>\n",
       "      <td>0.00</td>\n",
       "      <td>0.00</td>\n",
       "      <td>0.04</td>\n",
       "      <td>1</td>\n",
       "    </tr>\n",
       "  </tbody>\n",
       "</table>\n",
       "<p>660 rows × 6 columns</p>\n",
       "</div>"
      ],
      "text/plain": [
       "        pilot error  On Fire  shot down  poor weather  crash  dominant_topic\n",
       "Doc0    0.04         0.01     0.00       0.02          0.11   4             \n",
       "Doc1    0.04         0.01     0.08       0.10          0.01   3             \n",
       "Doc2    0.00         0.01     0.01       0.18          0.00   3             \n",
       "Doc3    0.00         0.15     0.00       0.00          0.00   1             \n",
       "Doc4    0.16         0.00     0.04       0.02          0.01   0             \n",
       "...      ...          ...      ...        ...           ...  ..             \n",
       "Doc655  0.00         0.00     0.05       0.09          0.11   4             \n",
       "Doc656  0.02         0.02     0.22       0.00          0.03   2             \n",
       "Doc657  0.00         0.00     0.01       0.03          0.10   4             \n",
       "Doc658  0.06         0.00     0.03       0.08          0.04   3             \n",
       "Doc659  0.00         0.23     0.00       0.00          0.04   1             \n",
       "\n",
       "[660 rows x 6 columns]"
      ]
     },
     "execution_count": 302,
     "metadata": {},
     "output_type": "execute_result"
    }
   ],
   "source": [
    "colnames = [\"pilot error\",\"On Fire\",\"shot down\",\"poor weather\"\n",
    "                               ,\"crash\"]\n",
    "docnames = [\"Doc\" + str(i) for i in range(len(X_train.Summary_clean))]\n",
    "df_doc_topic = pd.DataFrame(np.round(W1, 2), columns=colnames, index=docnames)\n",
    "significant_topic = np.argmax(df_doc_topic.values, axis=1)\n",
    "df_doc_topic['dominant_topic'] = significant_topic\n",
    "df_doc_topic"
   ]
  },
  {
   "cell_type": "code",
   "execution_count": 303,
   "id": "3342a3d3",
   "metadata": {},
   "outputs": [
    {
     "data": {
      "text/html": [
       "<div>\n",
       "<style scoped>\n",
       "    .dataframe tbody tr th:only-of-type {\n",
       "        vertical-align: middle;\n",
       "    }\n",
       "\n",
       "    .dataframe tbody tr th {\n",
       "        vertical-align: top;\n",
       "    }\n",
       "\n",
       "    .dataframe thead th {\n",
       "        text-align: right;\n",
       "    }\n",
       "</style>\n",
       "<table border=\"1\" class=\"dataframe\">\n",
       "  <thead>\n",
       "    <tr style=\"text-align: right;\">\n",
       "      <th></th>\n",
       "      <th>Summary_clean</th>\n",
       "      <th>Operator</th>\n",
       "      <th>Location</th>\n",
       "    </tr>\n",
       "  </thead>\n",
       "  <tbody>\n",
       "    <tr>\n",
       "      <th>1121</th>\n",
       "      <td>plane crash north slope santa ynez peak  mile northwest santa barbara poor weather failur crew maintain minimum altitud rout flown reason unknown</td>\n",
       "      <td>Southwest Airways</td>\n",
       "      <td>Refugio Pass, near Santa Barbara, California</td>\n",
       "    </tr>\n",
       "    <tr>\n",
       "      <th>3529</th>\n",
       "      <td>aircraft crash return airport report sever vibrat attempt land aircraft crash  field bounc slid mobil home ground handler forgot close air start access door crew failur control monitor flight path air speed aircraft detect vibrat</td>\n",
       "      <td>Galaxy Airlines</td>\n",
       "      <td>Reno, Nevada</td>\n",
       "    </tr>\n",
       "    <tr>\n",
       "      <th>4773</th>\n",
       "      <td>aircraft explod caught fire  minut schedul takeoff five member cabin crew peopl aboard plane time wit said heard explos flame erupt aboard aircraft ntsb investig report center fuel tank explod follow right tank  minut later caus explos unclear center fuel tank locat near air condit pack generat heat run nonstop prior explos</td>\n",
       "      <td>Thai Airways</td>\n",
       "      <td>Bangkok, Thailand</td>\n",
       "    </tr>\n",
       "    <tr>\n",
       "      <th>833</th>\n",
       "      <td>crash loos power engin due fuel starvat accumul carburetor ice follow loss power engin result fuel starvat reason fuel starvat could determin</td>\n",
       "      <td>American Airlines</td>\n",
       "      <td>Michigan City, Indiana</td>\n",
       "    </tr>\n",
       "    <tr>\n",
       "      <th>938</th>\n",
       "      <td>execut second instrument approach shannon airport aircraft struck ground  feet approach end intend runway broke apart burn continu instrument approach altitud insuffici clear terrain failur fluoresc light may contribut caus plane name clipper empress sky</td>\n",
       "      <td>Pan American World Airways</td>\n",
       "      <td>Shannon, Ireland</td>\n",
       "    </tr>\n",
       "  </tbody>\n",
       "</table>\n",
       "</div>"
      ],
      "text/plain": [
       "                                                                                                                                                                                                                                                                                                                              Summary_clean  \\\n",
       "1121  plane crash north slope santa ynez peak  mile northwest santa barbara poor weather failur crew maintain minimum altitud rout flown reason unknown                                                                                                                                                                                       \n",
       "3529  aircraft crash return airport report sever vibrat attempt land aircraft crash  field bounc slid mobil home ground handler forgot close air start access door crew failur control monitor flight path air speed aircraft detect vibrat                                                                                                   \n",
       "4773  aircraft explod caught fire  minut schedul takeoff five member cabin crew peopl aboard plane time wit said heard explos flame erupt aboard aircraft ntsb investig report center fuel tank explod follow right tank  minut later caus explos unclear center fuel tank locat near air condit pack generat heat run nonstop prior explos   \n",
       "833   crash loos power engin due fuel starvat accumul carburetor ice follow loss power engin result fuel starvat reason fuel starvat could determin                                                                                                                                                                                           \n",
       "938   execut second instrument approach shannon airport aircraft struck ground  feet approach end intend runway broke apart burn continu instrument approach altitud insuffici clear terrain failur fluoresc light may contribut caus plane name clipper empress sky                                                                          \n",
       "\n",
       "                        Operator                                      Location  \n",
       "1121  Southwest Airways           Refugio Pass, near Santa Barbara, California  \n",
       "3529  Galaxy Airlines             Reno, Nevada                                  \n",
       "4773  Thai Airways                Bangkok, Thailand                             \n",
       "833   American Airlines           Michigan City, Indiana                        \n",
       "938   Pan American World Airways  Shannon, Ireland                              "
      ]
     },
     "execution_count": 303,
     "metadata": {},
     "output_type": "execute_result"
    }
   ],
   "source": [
    "X_train.head()"
   ]
  },
  {
   "cell_type": "code",
   "execution_count": 304,
   "id": "39f34bf4",
   "metadata": {},
   "outputs": [],
   "source": [
    "Wtest = clf.transform(vectorizer.transform(X_test.Summary_clean[:10]))"
   ]
  },
  {
   "cell_type": "code",
   "execution_count": 305,
   "id": "7dff12aa",
   "metadata": {},
   "outputs": [
    {
     "data": {
      "text/html": [
       "<div>\n",
       "<style scoped>\n",
       "    .dataframe tbody tr th:only-of-type {\n",
       "        vertical-align: middle;\n",
       "    }\n",
       "\n",
       "    .dataframe tbody tr th {\n",
       "        vertical-align: top;\n",
       "    }\n",
       "\n",
       "    .dataframe thead th {\n",
       "        text-align: right;\n",
       "    }\n",
       "</style>\n",
       "<table border=\"1\" class=\"dataframe\">\n",
       "  <thead>\n",
       "    <tr style=\"text-align: right;\">\n",
       "      <th></th>\n",
       "      <th>pilot error</th>\n",
       "      <th>On Fire</th>\n",
       "      <th>crash</th>\n",
       "      <th>poor weather</th>\n",
       "      <th>shot down</th>\n",
       "      <th>dominant_topic</th>\n",
       "    </tr>\n",
       "  </thead>\n",
       "  <tbody>\n",
       "    <tr>\n",
       "      <th>Doc0</th>\n",
       "      <td>0.126</td>\n",
       "      <td>0.000</td>\n",
       "      <td>0.145</td>\n",
       "      <td>0.004</td>\n",
       "      <td>0.045</td>\n",
       "      <td>2</td>\n",
       "    </tr>\n",
       "    <tr>\n",
       "      <th>Doc1</th>\n",
       "      <td>0.041</td>\n",
       "      <td>0.025</td>\n",
       "      <td>0.075</td>\n",
       "      <td>0.094</td>\n",
       "      <td>0.000</td>\n",
       "      <td>3</td>\n",
       "    </tr>\n",
       "    <tr>\n",
       "      <th>Doc2</th>\n",
       "      <td>0.153</td>\n",
       "      <td>0.000</td>\n",
       "      <td>0.000</td>\n",
       "      <td>0.000</td>\n",
       "      <td>0.023</td>\n",
       "      <td>0</td>\n",
       "    </tr>\n",
       "    <tr>\n",
       "      <th>Doc3</th>\n",
       "      <td>0.007</td>\n",
       "      <td>0.000</td>\n",
       "      <td>0.004</td>\n",
       "      <td>0.155</td>\n",
       "      <td>0.000</td>\n",
       "      <td>3</td>\n",
       "    </tr>\n",
       "    <tr>\n",
       "      <th>Doc4</th>\n",
       "      <td>0.000</td>\n",
       "      <td>0.042</td>\n",
       "      <td>0.199</td>\n",
       "      <td>0.000</td>\n",
       "      <td>0.000</td>\n",
       "      <td>2</td>\n",
       "    </tr>\n",
       "    <tr>\n",
       "      <th>Doc5</th>\n",
       "      <td>0.091</td>\n",
       "      <td>0.248</td>\n",
       "      <td>0.031</td>\n",
       "      <td>0.000</td>\n",
       "      <td>0.003</td>\n",
       "      <td>1</td>\n",
       "    </tr>\n",
       "    <tr>\n",
       "      <th>Doc6</th>\n",
       "      <td>0.045</td>\n",
       "      <td>0.113</td>\n",
       "      <td>0.000</td>\n",
       "      <td>0.033</td>\n",
       "      <td>0.064</td>\n",
       "      <td>1</td>\n",
       "    </tr>\n",
       "    <tr>\n",
       "      <th>Doc7</th>\n",
       "      <td>0.052</td>\n",
       "      <td>0.000</td>\n",
       "      <td>0.048</td>\n",
       "      <td>0.000</td>\n",
       "      <td>0.054</td>\n",
       "      <td>4</td>\n",
       "    </tr>\n",
       "    <tr>\n",
       "      <th>Doc8</th>\n",
       "      <td>0.037</td>\n",
       "      <td>0.012</td>\n",
       "      <td>0.178</td>\n",
       "      <td>0.072</td>\n",
       "      <td>0.000</td>\n",
       "      <td>2</td>\n",
       "    </tr>\n",
       "    <tr>\n",
       "      <th>Doc9</th>\n",
       "      <td>0.001</td>\n",
       "      <td>0.006</td>\n",
       "      <td>0.000</td>\n",
       "      <td>0.204</td>\n",
       "      <td>0.000</td>\n",
       "      <td>3</td>\n",
       "    </tr>\n",
       "  </tbody>\n",
       "</table>\n",
       "</div>"
      ],
      "text/plain": [
       "      pilot error  On Fire  crash  poor weather  shot down  dominant_topic\n",
       "Doc0  0.126        0.000    0.145  0.004         0.045      2             \n",
       "Doc1  0.041        0.025    0.075  0.094         0.000      3             \n",
       "Doc2  0.153        0.000    0.000  0.000         0.023      0             \n",
       "Doc3  0.007        0.000    0.004  0.155         0.000      3             \n",
       "Doc4  0.000        0.042    0.199  0.000         0.000      2             \n",
       "Doc5  0.091        0.248    0.031  0.000         0.003      1             \n",
       "Doc6  0.045        0.113    0.000  0.033         0.064      1             \n",
       "Doc7  0.052        0.000    0.048  0.000         0.054      4             \n",
       "Doc8  0.037        0.012    0.178  0.072         0.000      2             \n",
       "Doc9  0.001        0.006    0.000  0.204         0.000      3             "
      ]
     },
     "execution_count": 305,
     "metadata": {},
     "output_type": "execute_result"
    }
   ],
   "source": [
    "colnames = [\"pilot error\",\"On Fire\",\"crash\",\"poor weather\",\"shot down\"]\n",
    "docnames = [\"Doc\" + str(i) for i in range(len(X_test[:10].Summary_clean))]\n",
    "df_doc_topic = pd.DataFrame(np.round(Wtest, 3), columns=colnames, index=docnames)\n",
    "significant_topic = np.argmax(df_doc_topic.values, axis=1)\n",
    "df_doc_topic['dominant_topic'] = significant_topic\n",
    "df_doc_topic.head(10)"
   ]
  },
  {
   "cell_type": "markdown",
   "id": "375453f6",
   "metadata": {},
   "source": [
    "# LDA"
   ]
  },
  {
   "cell_type": "code",
   "execution_count": 306,
   "id": "2c6b5302",
   "metadata": {},
   "outputs": [],
   "source": [
    "vectorizer = TfidfVectorizer(tokenizer=tokenize, stop_words=None, max_df=0.75, max_features=1000, lowercase=False, ngram_range=(1,2))\n",
    "\n",
    "tf_vectors = vectorizer.fit_transform(X_train['Summary_clean'].values.astype('U'))"
   ]
  },
  {
   "cell_type": "code",
   "execution_count": 307,
   "id": "d6bbe945",
   "metadata": {},
   "outputs": [],
   "source": [
    "lda = decomposition.LatentDirichletAllocation(n_components=3, max_iter=3, learning_method='online', learning_offset=50, n_jobs=-1, random_state=100)\n",
    "\n",
    "W1 = lda.fit_transform(tf_vectors)\n",
    "H1 = lda.components_"
   ]
  },
  {
   "cell_type": "code",
   "execution_count": 308,
   "id": "ef439563",
   "metadata": {},
   "outputs": [],
   "source": [
    "num_words=10\n",
    "\n",
    "vocab = np.array(vectorizer.get_feature_names())\n",
    "\n",
    "top_words = lambda t: [vocab[i] for i in np.argsort(t)[:-num_words-1:-1]]\n",
    "topic_words = ([top_words(t) for t in H1])\n",
    "topics = [' '.join(t) for t in topic_words]"
   ]
  },
  {
   "cell_type": "code",
   "execution_count": 309,
   "id": "76e427b0",
   "metadata": {},
   "outputs": [
    {
     "data": {
      "text/plain": [
       "['shot rout deton explo compart devic crew forc aircraft deton crash',\n",
       " 'mountain approach crash aircraft prematur navig flight mile prematur descent error',\n",
       " 'aircraft crash plane land engin pilot approach crew runway failur']"
      ]
     },
     "execution_count": 309,
     "metadata": {},
     "output_type": "execute_result"
    }
   ],
   "source": [
    "topics"
   ]
  },
  {
   "cell_type": "code",
   "execution_count": 310,
   "id": "f37b7c3a",
   "metadata": {},
   "outputs": [
    {
     "data": {
      "text/html": [
       "<div>\n",
       "<style scoped>\n",
       "    .dataframe tbody tr th:only-of-type {\n",
       "        vertical-align: middle;\n",
       "    }\n",
       "\n",
       "    .dataframe tbody tr th {\n",
       "        vertical-align: top;\n",
       "    }\n",
       "\n",
       "    .dataframe thead th {\n",
       "        text-align: right;\n",
       "    }\n",
       "</style>\n",
       "<table border=\"1\" class=\"dataframe\">\n",
       "  <thead>\n",
       "    <tr style=\"text-align: right;\">\n",
       "      <th></th>\n",
       "      <th>pilot error</th>\n",
       "      <th>On Fire</th>\n",
       "      <th>crash</th>\n",
       "      <th>dominant_topic</th>\n",
       "    </tr>\n",
       "  </thead>\n",
       "  <tbody>\n",
       "    <tr>\n",
       "      <th>Doc0</th>\n",
       "      <td>0.07</td>\n",
       "      <td>0.07</td>\n",
       "      <td>0.87</td>\n",
       "      <td>2</td>\n",
       "    </tr>\n",
       "    <tr>\n",
       "      <th>Doc1</th>\n",
       "      <td>0.06</td>\n",
       "      <td>0.06</td>\n",
       "      <td>0.88</td>\n",
       "      <td>2</td>\n",
       "    </tr>\n",
       "    <tr>\n",
       "      <th>Doc2</th>\n",
       "      <td>0.06</td>\n",
       "      <td>0.06</td>\n",
       "      <td>0.89</td>\n",
       "      <td>2</td>\n",
       "    </tr>\n",
       "    <tr>\n",
       "      <th>Doc3</th>\n",
       "      <td>0.08</td>\n",
       "      <td>0.09</td>\n",
       "      <td>0.83</td>\n",
       "      <td>2</td>\n",
       "    </tr>\n",
       "    <tr>\n",
       "      <th>Doc4</th>\n",
       "      <td>0.06</td>\n",
       "      <td>0.06</td>\n",
       "      <td>0.89</td>\n",
       "      <td>2</td>\n",
       "    </tr>\n",
       "    <tr>\n",
       "      <th>Doc5</th>\n",
       "      <td>0.08</td>\n",
       "      <td>0.08</td>\n",
       "      <td>0.84</td>\n",
       "      <td>2</td>\n",
       "    </tr>\n",
       "    <tr>\n",
       "      <th>Doc6</th>\n",
       "      <td>0.06</td>\n",
       "      <td>0.06</td>\n",
       "      <td>0.88</td>\n",
       "      <td>2</td>\n",
       "    </tr>\n",
       "    <tr>\n",
       "      <th>Doc7</th>\n",
       "      <td>0.06</td>\n",
       "      <td>0.06</td>\n",
       "      <td>0.89</td>\n",
       "      <td>2</td>\n",
       "    </tr>\n",
       "    <tr>\n",
       "      <th>Doc8</th>\n",
       "      <td>0.05</td>\n",
       "      <td>0.05</td>\n",
       "      <td>0.90</td>\n",
       "      <td>2</td>\n",
       "    </tr>\n",
       "    <tr>\n",
       "      <th>Doc9</th>\n",
       "      <td>0.06</td>\n",
       "      <td>0.06</td>\n",
       "      <td>0.87</td>\n",
       "      <td>2</td>\n",
       "    </tr>\n",
       "  </tbody>\n",
       "</table>\n",
       "</div>"
      ],
      "text/plain": [
       "      pilot error  On Fire  crash  dominant_topic\n",
       "Doc0  0.07         0.07     0.87   2             \n",
       "Doc1  0.06         0.06     0.88   2             \n",
       "Doc2  0.06         0.06     0.89   2             \n",
       "Doc3  0.08         0.09     0.83   2             \n",
       "Doc4  0.06         0.06     0.89   2             \n",
       "Doc5  0.08         0.08     0.84   2             \n",
       "Doc6  0.06         0.06     0.88   2             \n",
       "Doc7  0.06         0.06     0.89   2             \n",
       "Doc8  0.05         0.05     0.90   2             \n",
       "Doc9  0.06         0.06     0.87   2             "
      ]
     },
     "execution_count": 310,
     "metadata": {},
     "output_type": "execute_result"
    }
   ],
   "source": [
    "colnames = [\"pilot error\",\"On Fire\",\"crash\"]\n",
    "docnames = [\"Doc\" + str(i) for i in range(len(X_train.Summary_clean))]\n",
    "df_doc_topic = pd.DataFrame(np.round(W1, 2), columns=colnames, index=docnames)\n",
    "significant_topic = np.argmax(df_doc_topic.values, axis=1)\n",
    "df_doc_topic['dominant_topic'] = significant_topic\n",
    "df_doc_topic.head(10)"
   ]
  },
  {
   "cell_type": "code",
   "execution_count": 311,
   "id": "29b8c010",
   "metadata": {},
   "outputs": [
    {
     "data": {
      "text/html": [
       "<div>\n",
       "<style scoped>\n",
       "    .dataframe tbody tr th:only-of-type {\n",
       "        vertical-align: middle;\n",
       "    }\n",
       "\n",
       "    .dataframe tbody tr th {\n",
       "        vertical-align: top;\n",
       "    }\n",
       "\n",
       "    .dataframe thead th {\n",
       "        text-align: right;\n",
       "    }\n",
       "</style>\n",
       "<table border=\"1\" class=\"dataframe\">\n",
       "  <thead>\n",
       "    <tr style=\"text-align: right;\">\n",
       "      <th></th>\n",
       "      <th>Summary_clean</th>\n",
       "      <th>Operator</th>\n",
       "      <th>Location</th>\n",
       "    </tr>\n",
       "  </thead>\n",
       "  <tbody>\n",
       "    <tr>\n",
       "      <th>1121</th>\n",
       "      <td>plane crash north slope santa ynez peak  mile northwest santa barbara poor weather failur crew maintain minimum altitud rout flown reason unknown</td>\n",
       "      <td>Southwest Airways</td>\n",
       "      <td>Refugio Pass, near Santa Barbara, California</td>\n",
       "    </tr>\n",
       "    <tr>\n",
       "      <th>3529</th>\n",
       "      <td>aircraft crash return airport report sever vibrat attempt land aircraft crash  field bounc slid mobil home ground handler forgot close air start access door crew failur control monitor flight path air speed aircraft detect vibrat</td>\n",
       "      <td>Galaxy Airlines</td>\n",
       "      <td>Reno, Nevada</td>\n",
       "    </tr>\n",
       "    <tr>\n",
       "      <th>4773</th>\n",
       "      <td>aircraft explod caught fire  minut schedul takeoff five member cabin crew peopl aboard plane time wit said heard explos flame erupt aboard aircraft ntsb investig report center fuel tank explod follow right tank  minut later caus explos unclear center fuel tank locat near air condit pack generat heat run nonstop prior explos</td>\n",
       "      <td>Thai Airways</td>\n",
       "      <td>Bangkok, Thailand</td>\n",
       "    </tr>\n",
       "    <tr>\n",
       "      <th>833</th>\n",
       "      <td>crash loos power engin due fuel starvat accumul carburetor ice follow loss power engin result fuel starvat reason fuel starvat could determin</td>\n",
       "      <td>American Airlines</td>\n",
       "      <td>Michigan City, Indiana</td>\n",
       "    </tr>\n",
       "    <tr>\n",
       "      <th>938</th>\n",
       "      <td>execut second instrument approach shannon airport aircraft struck ground  feet approach end intend runway broke apart burn continu instrument approach altitud insuffici clear terrain failur fluoresc light may contribut caus plane name clipper empress sky</td>\n",
       "      <td>Pan American World Airways</td>\n",
       "      <td>Shannon, Ireland</td>\n",
       "    </tr>\n",
       "  </tbody>\n",
       "</table>\n",
       "</div>"
      ],
      "text/plain": [
       "                                                                                                                                                                                                                                                                                                                              Summary_clean  \\\n",
       "1121  plane crash north slope santa ynez peak  mile northwest santa barbara poor weather failur crew maintain minimum altitud rout flown reason unknown                                                                                                                                                                                       \n",
       "3529  aircraft crash return airport report sever vibrat attempt land aircraft crash  field bounc slid mobil home ground handler forgot close air start access door crew failur control monitor flight path air speed aircraft detect vibrat                                                                                                   \n",
       "4773  aircraft explod caught fire  minut schedul takeoff five member cabin crew peopl aboard plane time wit said heard explos flame erupt aboard aircraft ntsb investig report center fuel tank explod follow right tank  minut later caus explos unclear center fuel tank locat near air condit pack generat heat run nonstop prior explos   \n",
       "833   crash loos power engin due fuel starvat accumul carburetor ice follow loss power engin result fuel starvat reason fuel starvat could determin                                                                                                                                                                                           \n",
       "938   execut second instrument approach shannon airport aircraft struck ground  feet approach end intend runway broke apart burn continu instrument approach altitud insuffici clear terrain failur fluoresc light may contribut caus plane name clipper empress sky                                                                          \n",
       "\n",
       "                        Operator                                      Location  \n",
       "1121  Southwest Airways           Refugio Pass, near Santa Barbara, California  \n",
       "3529  Galaxy Airlines             Reno, Nevada                                  \n",
       "4773  Thai Airways                Bangkok, Thailand                             \n",
       "833   American Airlines           Michigan City, Indiana                        \n",
       "938   Pan American World Airways  Shannon, Ireland                              "
      ]
     },
     "execution_count": 311,
     "metadata": {},
     "output_type": "execute_result"
    }
   ],
   "source": [
    "X_train.head()"
   ]
  },
  {
   "cell_type": "code",
   "execution_count": 312,
   "id": "23db8c1b",
   "metadata": {},
   "outputs": [],
   "source": [
    "Wtest = lda.transform(vectorizer.transform(X_test.Summary_clean[:5]))"
   ]
  },
  {
   "cell_type": "code",
   "execution_count": 313,
   "id": "a99c2fab",
   "metadata": {},
   "outputs": [
    {
     "data": {
      "text/html": [
       "<div>\n",
       "<style scoped>\n",
       "    .dataframe tbody tr th:only-of-type {\n",
       "        vertical-align: middle;\n",
       "    }\n",
       "\n",
       "    .dataframe tbody tr th {\n",
       "        vertical-align: top;\n",
       "    }\n",
       "\n",
       "    .dataframe thead th {\n",
       "        text-align: right;\n",
       "    }\n",
       "</style>\n",
       "<table border=\"1\" class=\"dataframe\">\n",
       "  <thead>\n",
       "    <tr style=\"text-align: right;\">\n",
       "      <th></th>\n",
       "      <th>pilot error</th>\n",
       "      <th>On Fire</th>\n",
       "      <th>crash</th>\n",
       "      <th>dominant_topic</th>\n",
       "    </tr>\n",
       "  </thead>\n",
       "  <tbody>\n",
       "    <tr>\n",
       "      <th>Doc0</th>\n",
       "      <td>0.07</td>\n",
       "      <td>0.07</td>\n",
       "      <td>0.87</td>\n",
       "      <td>2</td>\n",
       "    </tr>\n",
       "    <tr>\n",
       "      <th>Doc1</th>\n",
       "      <td>0.06</td>\n",
       "      <td>0.06</td>\n",
       "      <td>0.88</td>\n",
       "      <td>2</td>\n",
       "    </tr>\n",
       "    <tr>\n",
       "      <th>Doc2</th>\n",
       "      <td>0.09</td>\n",
       "      <td>0.09</td>\n",
       "      <td>0.82</td>\n",
       "      <td>2</td>\n",
       "    </tr>\n",
       "    <tr>\n",
       "      <th>Doc3</th>\n",
       "      <td>0.09</td>\n",
       "      <td>0.09</td>\n",
       "      <td>0.83</td>\n",
       "      <td>2</td>\n",
       "    </tr>\n",
       "    <tr>\n",
       "      <th>Doc4</th>\n",
       "      <td>0.06</td>\n",
       "      <td>0.06</td>\n",
       "      <td>0.88</td>\n",
       "      <td>2</td>\n",
       "    </tr>\n",
       "  </tbody>\n",
       "</table>\n",
       "</div>"
      ],
      "text/plain": [
       "      pilot error  On Fire  crash  dominant_topic\n",
       "Doc0  0.07         0.07     0.87   2             \n",
       "Doc1  0.06         0.06     0.88   2             \n",
       "Doc2  0.09         0.09     0.82   2             \n",
       "Doc3  0.09         0.09     0.83   2             \n",
       "Doc4  0.06         0.06     0.88   2             "
      ]
     },
     "execution_count": 313,
     "metadata": {},
     "output_type": "execute_result"
    }
   ],
   "source": [
    "colnames = [\"pilot error\",\"On Fire\",\"crash\"]\n",
    "docnames = [\"Doc\" + str(i) for i in range(len(X_test.Summary_clean[:5]))]\n",
    "df_doc_topic = pd.DataFrame(np.round(Wtest, 2), columns=colnames, index=docnames)\n",
    "significant_topic = np.argmax(df_doc_topic.values, axis=1)\n",
    "df_doc_topic['dominant_topic'] = significant_topic\n",
    "df_doc_topic.head(10)"
   ]
  },
  {
   "cell_type": "code",
   "execution_count": null,
   "id": "8a6ef03a",
   "metadata": {},
   "outputs": [],
   "source": []
  },
  {
   "cell_type": "code",
   "execution_count": null,
   "id": "982674c0",
   "metadata": {},
   "outputs": [],
   "source": []
  }
 ],
 "metadata": {
  "kernelspec": {
   "display_name": "Python 3",
   "language": "python",
   "name": "python3"
  },
  "language_info": {
   "codemirror_mode": {
    "name": "ipython",
    "version": 3
   },
   "file_extension": ".py",
   "mimetype": "text/x-python",
   "name": "python",
   "nbconvert_exporter": "python",
   "pygments_lexer": "ipython3",
   "version": "3.8.8"
  }
 },
 "nbformat": 4,
 "nbformat_minor": 5
}
