{
 "cells": [
  {
   "cell_type": "markdown",
   "id": "ee114f3e",
   "metadata": {},
   "source": [
    "# Importing Required Librarires"
   ]
  },
  {
   "cell_type": "code",
   "execution_count": 1,
   "id": "32169050",
   "metadata": {},
   "outputs": [
    {
     "data": {
      "text/html": [
       "        <script type=\"text/javascript\">\n",
       "        window.PlotlyConfig = {MathJaxConfig: 'local'};\n",
       "        if (window.MathJax) {MathJax.Hub.Config({SVG: {font: \"STIX-Web\"}});}\n",
       "        if (typeof require !== 'undefined') {\n",
       "        require.undef(\"plotly\");\n",
       "        requirejs.config({\n",
       "            paths: {\n",
       "                'plotly': ['https://cdn.plot.ly/plotly-2.6.3.min']\n",
       "            }\n",
       "        });\n",
       "        require(['plotly'], function(Plotly) {\n",
       "            window._Plotly = Plotly;\n",
       "        });\n",
       "        }\n",
       "        </script>\n",
       "        "
      ]
     },
     "metadata": {},
     "output_type": "display_data"
    },
    {
     "data": {
      "text/html": [
       "        <script type=\"text/javascript\">\n",
       "        window.PlotlyConfig = {MathJaxConfig: 'local'};\n",
       "        if (window.MathJax) {MathJax.Hub.Config({SVG: {font: \"STIX-Web\"}});}\n",
       "        if (typeof require !== 'undefined') {\n",
       "        require.undef(\"plotly\");\n",
       "        requirejs.config({\n",
       "            paths: {\n",
       "                'plotly': ['https://cdn.plot.ly/plotly-2.6.3.min']\n",
       "            }\n",
       "        });\n",
       "        require(['plotly'], function(Plotly) {\n",
       "            window._Plotly = Plotly;\n",
       "        });\n",
       "        }\n",
       "        </script>\n",
       "        "
      ]
     },
     "metadata": {},
     "output_type": "display_data"
    }
   ],
   "source": [
    "#Importing python librarires\n",
    "import pandas as pd\n",
    "import numpy as np\n",
    "import seaborn as sns\n",
    "import matplotlib.pyplot as plt\n",
    "%matplotlib inline\n",
    "import warnings\n",
    "warnings.filterwarnings('ignore',category=DeprecationWarning)\n",
    "import cufflinks as cf\n",
    "import plotly.graph_objs as go\n",
    "import nltk\n",
    "import string\n",
    "import nltk.corpus\n",
    "import nltk.stem.snowball\n",
    "import gensim\n",
    "import gensim.corpora as corpora\n",
    "import spacy\n",
    "import pyLDAvis\n",
    "import pyLDAvis.gensim_models\n",
    "import re\n",
    "import en_core_web_sm\n",
    "nlp = spacy.load('en_core_web_sm')\n",
    "import requests\n",
    "import logging\n",
    "logging.basicConfig(format='%(asctime)s : %(levelname)s : %(message)s', level=logging.ERROR)\n",
    "\n",
    "from plotly.offline import download_plotlyjs, init_notebook_mode, plot, iplot\n",
    "init_notebook_mode(connected=True)\n",
    "cf.go_offline()\n",
    "\n",
    "from sklearn.feature_extraction.text import CountVectorizer\n",
    "from sklearn.feature_extraction.text import TfidfVectorizer\n",
    "from sklearn.model_selection import train_test_split\n",
    "from sklearn import preprocessing\n",
    "from sklearn.pipeline import Pipeline\n",
    "from nltk.corpus import wordnet\n",
    "stopwords = nltk.corpus.stopwords.words('english')\n",
    "stopwords.extend(string.punctuation)\n",
    "stopwords.append('')\n",
    "\n",
    "from sklearn.feature_extraction.text import CountVectorizer\n",
    "from wordcloud import WordCloud, ImageColorGenerator\n",
    "from gensim.utils import simple_preprocess\n",
    "from gensim.models import CoherenceModel\n",
    "from nltk.corpus import stopwords\n",
    "from sklearn.feature_extraction.text import CountVectorizer\n",
    "from wordcloud import WordCloud, STOPWORDS \n",
    "from PIL import Image\n",
    "from sklearn.metrics.pairwise import cosine_similarity\n",
    "from pprint import pprint"
   ]
  },
  {
   "cell_type": "markdown",
   "id": "5a24eff2",
   "metadata": {},
   "source": [
    "# Loading Datasets"
   ]
  },
  {
   "cell_type": "code",
   "execution_count": 2,
   "id": "5c397ce9",
   "metadata": {},
   "outputs": [
    {
     "name": "stderr",
     "output_type": "stream",
     "text": [
      "C:\\Users\\Manal\\anaconda3\\lib\\site-packages\\ipykernel\\ipkernel.py:287: DeprecationWarning:\n",
      "\n",
      "`should_run_async` will not call `transform_cell` automatically in the future. Please pass the result to `transformed_cell` argument and any exception that happen during thetransform in `preprocessing_exc_tuple` in IPython 7.17 and above.\n",
      "\n"
     ]
    },
    {
     "data": {
      "text/html": [
       "<div>\n",
       "<style scoped>\n",
       "    .dataframe tbody tr th:only-of-type {\n",
       "        vertical-align: middle;\n",
       "    }\n",
       "\n",
       "    .dataframe tbody tr th {\n",
       "        vertical-align: top;\n",
       "    }\n",
       "\n",
       "    .dataframe thead th {\n",
       "        text-align: right;\n",
       "    }\n",
       "</style>\n",
       "<table border=\"1\" class=\"dataframe\">\n",
       "  <thead>\n",
       "    <tr style=\"text-align: right;\">\n",
       "      <th></th>\n",
       "      <th>hmid</th>\n",
       "      <th>wid</th>\n",
       "      <th>reflection_period</th>\n",
       "      <th>original_hm</th>\n",
       "      <th>cleaned_hm</th>\n",
       "      <th>modified</th>\n",
       "      <th>num_sentence</th>\n",
       "      <th>ground_truth_category</th>\n",
       "      <th>predicted_category</th>\n",
       "    </tr>\n",
       "  </thead>\n",
       "  <tbody>\n",
       "    <tr>\n",
       "      <th>0</th>\n",
       "      <td>27673</td>\n",
       "      <td>2053</td>\n",
       "      <td>24h</td>\n",
       "      <td>I went on a successful date with someone I fel...</td>\n",
       "      <td>I went on a successful date with someone I fel...</td>\n",
       "      <td>True</td>\n",
       "      <td>1</td>\n",
       "      <td>NaN</td>\n",
       "      <td>affection</td>\n",
       "    </tr>\n",
       "    <tr>\n",
       "      <th>1</th>\n",
       "      <td>27674</td>\n",
       "      <td>2</td>\n",
       "      <td>24h</td>\n",
       "      <td>I was happy when my son got 90% marks in his e...</td>\n",
       "      <td>I was happy when my son got 90% marks in his e...</td>\n",
       "      <td>True</td>\n",
       "      <td>1</td>\n",
       "      <td>NaN</td>\n",
       "      <td>affection</td>\n",
       "    </tr>\n",
       "  </tbody>\n",
       "</table>\n",
       "</div>"
      ],
      "text/plain": [
       "    hmid   wid reflection_period  \\\n",
       "0  27673  2053               24h   \n",
       "1  27674     2               24h   \n",
       "\n",
       "                                         original_hm  \\\n",
       "0  I went on a successful date with someone I fel...   \n",
       "1  I was happy when my son got 90% marks in his e...   \n",
       "\n",
       "                                          cleaned_hm  modified  num_sentence  \\\n",
       "0  I went on a successful date with someone I fel...      True             1   \n",
       "1  I was happy when my son got 90% marks in his e...      True             1   \n",
       "\n",
       "  ground_truth_category predicted_category  \n",
       "0                   NaN          affection  \n",
       "1                   NaN          affection  "
      ]
     },
     "execution_count": 2,
     "metadata": {},
     "output_type": "execute_result"
    }
   ],
   "source": [
    "#Uploading cleaned_hm dataset\n",
    "\n",
    "data1 = pd.read_csv(\"cleaned_hm.csv\", encoding=\"utf-8\")\n",
    "data1.head(2)"
   ]
  },
  {
   "cell_type": "code",
   "execution_count": 3,
   "id": "7bdbccc0",
   "metadata": {},
   "outputs": [
    {
     "name": "stderr",
     "output_type": "stream",
     "text": [
      "C:\\Users\\Manal\\anaconda3\\lib\\site-packages\\ipykernel\\ipkernel.py:287: DeprecationWarning:\n",
      "\n",
      "`should_run_async` will not call `transform_cell` automatically in the future. Please pass the result to `transformed_cell` argument and any exception that happen during thetransform in `preprocessing_exc_tuple` in IPython 7.17 and above.\n",
      "\n"
     ]
    },
    {
     "data": {
      "text/html": [
       "<div>\n",
       "<style scoped>\n",
       "    .dataframe tbody tr th:only-of-type {\n",
       "        vertical-align: middle;\n",
       "    }\n",
       "\n",
       "    .dataframe tbody tr th {\n",
       "        vertical-align: top;\n",
       "    }\n",
       "\n",
       "    .dataframe thead th {\n",
       "        text-align: right;\n",
       "    }\n",
       "</style>\n",
       "<table border=\"1\" class=\"dataframe\">\n",
       "  <thead>\n",
       "    <tr style=\"text-align: right;\">\n",
       "      <th></th>\n",
       "      <th>wid</th>\n",
       "      <th>age</th>\n",
       "      <th>country</th>\n",
       "      <th>gender</th>\n",
       "      <th>marital</th>\n",
       "      <th>parenthood</th>\n",
       "    </tr>\n",
       "  </thead>\n",
       "  <tbody>\n",
       "    <tr>\n",
       "      <th>0</th>\n",
       "      <td>1</td>\n",
       "      <td>37.0</td>\n",
       "      <td>USA</td>\n",
       "      <td>m</td>\n",
       "      <td>married</td>\n",
       "      <td>y</td>\n",
       "    </tr>\n",
       "    <tr>\n",
       "      <th>1</th>\n",
       "      <td>2</td>\n",
       "      <td>29.0</td>\n",
       "      <td>IND</td>\n",
       "      <td>m</td>\n",
       "      <td>married</td>\n",
       "      <td>y</td>\n",
       "    </tr>\n",
       "  </tbody>\n",
       "</table>\n",
       "</div>"
      ],
      "text/plain": [
       "   wid   age country gender  marital parenthood\n",
       "0    1  37.0     USA      m  married          y\n",
       "1    2  29.0     IND      m  married          y"
      ]
     },
     "execution_count": 3,
     "metadata": {},
     "output_type": "execute_result"
    }
   ],
   "source": [
    "#Uploading demographic dataset\n",
    "\n",
    "data2 = pd.read_csv(\"demographic.csv\", encoding=\"utf-8\")\n",
    "data2.head(2)"
   ]
  },
  {
   "cell_type": "markdown",
   "id": "c7a77e9e",
   "metadata": {},
   "source": [
    "# Merging Datasets"
   ]
  },
  {
   "cell_type": "code",
   "execution_count": 4,
   "id": "7333bc77",
   "metadata": {},
   "outputs": [
    {
     "name": "stderr",
     "output_type": "stream",
     "text": [
      "C:\\Users\\Manal\\anaconda3\\lib\\site-packages\\ipykernel\\ipkernel.py:287: DeprecationWarning:\n",
      "\n",
      "`should_run_async` will not call `transform_cell` automatically in the future. Please pass the result to `transformed_cell` argument and any exception that happen during thetransform in `preprocessing_exc_tuple` in IPython 7.17 and above.\n",
      "\n"
     ]
    },
    {
     "data": {
      "text/html": [
       "<div>\n",
       "<style scoped>\n",
       "    .dataframe tbody tr th:only-of-type {\n",
       "        vertical-align: middle;\n",
       "    }\n",
       "\n",
       "    .dataframe tbody tr th {\n",
       "        vertical-align: top;\n",
       "    }\n",
       "\n",
       "    .dataframe thead th {\n",
       "        text-align: right;\n",
       "    }\n",
       "</style>\n",
       "<table border=\"1\" class=\"dataframe\">\n",
       "  <thead>\n",
       "    <tr style=\"text-align: right;\">\n",
       "      <th></th>\n",
       "      <th>hmid</th>\n",
       "      <th>wid</th>\n",
       "      <th>reflection_period</th>\n",
       "      <th>original_hm</th>\n",
       "      <th>cleaned_hm</th>\n",
       "      <th>modified</th>\n",
       "      <th>num_sentence</th>\n",
       "      <th>ground_truth_category</th>\n",
       "      <th>predicted_category</th>\n",
       "      <th>age</th>\n",
       "      <th>country</th>\n",
       "      <th>gender</th>\n",
       "      <th>marital</th>\n",
       "      <th>parenthood</th>\n",
       "    </tr>\n",
       "  </thead>\n",
       "  <tbody>\n",
       "    <tr>\n",
       "      <th>0</th>\n",
       "      <td>27673</td>\n",
       "      <td>2053</td>\n",
       "      <td>24h</td>\n",
       "      <td>I went on a successful date with someone I fel...</td>\n",
       "      <td>I went on a successful date with someone I fel...</td>\n",
       "      <td>True</td>\n",
       "      <td>1</td>\n",
       "      <td>NaN</td>\n",
       "      <td>affection</td>\n",
       "      <td>35</td>\n",
       "      <td>USA</td>\n",
       "      <td>m</td>\n",
       "      <td>single</td>\n",
       "      <td>n</td>\n",
       "    </tr>\n",
       "    <tr>\n",
       "      <th>1</th>\n",
       "      <td>27873</td>\n",
       "      <td>2053</td>\n",
       "      <td>24h</td>\n",
       "      <td>I played a new game that was fun and got to en...</td>\n",
       "      <td>I played a new game that was fun and got to en...</td>\n",
       "      <td>True</td>\n",
       "      <td>1</td>\n",
       "      <td>NaN</td>\n",
       "      <td>leisure</td>\n",
       "      <td>35</td>\n",
       "      <td>USA</td>\n",
       "      <td>m</td>\n",
       "      <td>single</td>\n",
       "      <td>n</td>\n",
       "    </tr>\n",
       "  </tbody>\n",
       "</table>\n",
       "</div>"
      ],
      "text/plain": [
       "    hmid   wid reflection_period  \\\n",
       "0  27673  2053               24h   \n",
       "1  27873  2053               24h   \n",
       "\n",
       "                                         original_hm  \\\n",
       "0  I went on a successful date with someone I fel...   \n",
       "1  I played a new game that was fun and got to en...   \n",
       "\n",
       "                                          cleaned_hm  modified  num_sentence  \\\n",
       "0  I went on a successful date with someone I fel...      True             1   \n",
       "1  I played a new game that was fun and got to en...      True             1   \n",
       "\n",
       "  ground_truth_category predicted_category age country gender marital  \\\n",
       "0                   NaN          affection  35     USA      m  single   \n",
       "1                   NaN            leisure  35     USA      m  single   \n",
       "\n",
       "  parenthood  \n",
       "0          n  \n",
       "1          n  "
      ]
     },
     "execution_count": 4,
     "metadata": {},
     "output_type": "execute_result"
    }
   ],
   "source": [
    "data3 = pd.merge(data1, data2, on = 'wid', validate = 'm:1')\n",
    "data3.head(2)"
   ]
  },
  {
   "cell_type": "markdown",
   "id": "36a1f328",
   "metadata": {},
   "source": [
    "# EDA"
   ]
  },
  {
   "cell_type": "code",
   "execution_count": 5,
   "id": "fc34bda3",
   "metadata": {},
   "outputs": [
    {
     "name": "stderr",
     "output_type": "stream",
     "text": [
      "C:\\Users\\Manal\\anaconda3\\lib\\site-packages\\ipykernel\\ipkernel.py:287: DeprecationWarning:\n",
      "\n",
      "`should_run_async` will not call `transform_cell` automatically in the future. Please pass the result to `transformed_cell` argument and any exception that happen during thetransform in `preprocessing_exc_tuple` in IPython 7.17 and above.\n",
      "\n"
     ]
    },
    {
     "data": {
      "image/png": "[encoded data removed]",
      "text/plain": [
       "<Figure size 720x360 with 2 Axes>"
      ]
     },
     "metadata": {
      "needs_background": "light"
     },
     "output_type": "display_data"
    }
   ],
   "source": [
    "#Check for nulls visually\n",
    "plt.figure(figsize = (10, 5))\n",
    "sns.heatmap(data3.isnull(), cbar = True);"
   ]
  },
  {
   "cell_type": "code",
   "execution_count": 6,
   "id": "7021744c",
   "metadata": {},
   "outputs": [
    {
     "name": "stderr",
     "output_type": "stream",
     "text": [
      "C:\\Users\\Manal\\anaconda3\\lib\\site-packages\\ipykernel\\ipkernel.py:287: DeprecationWarning:\n",
      "\n",
      "`should_run_async` will not call `transform_cell` automatically in the future. Please pass the result to `transformed_cell` argument and any exception that happen during thetransform in `preprocessing_exc_tuple` in IPython 7.17 and above.\n",
      "\n"
     ]
    },
    {
     "data": {
      "text/plain": [
       "hmid                         0\n",
       "wid                          0\n",
       "reflection_period            0\n",
       "original_hm                  0\n",
       "cleaned_hm                   0\n",
       "modified                     0\n",
       "num_sentence                 0\n",
       "ground_truth_category    86410\n",
       "predicted_category           0\n",
       "age                         93\n",
       "country                    203\n",
       "gender                      79\n",
       "marital                    157\n",
       "parenthood                  78\n",
       "dtype: int64"
      ]
     },
     "execution_count": 6,
     "metadata": {},
     "output_type": "execute_result"
    }
   ],
   "source": [
    "#Checking for null values\n",
    "data3.isnull().sum()"
   ]
  },
  {
   "cell_type": "code",
   "execution_count": 7,
   "id": "938a4cab",
   "metadata": {},
   "outputs": [
    {
     "name": "stderr",
     "output_type": "stream",
     "text": [
      "C:\\Users\\Manal\\anaconda3\\lib\\site-packages\\ipykernel\\ipkernel.py:287: DeprecationWarning:\n",
      "\n",
      "`should_run_async` will not call `transform_cell` automatically in the future. Please pass the result to `transformed_cell` argument and any exception that happen during thetransform in `preprocessing_exc_tuple` in IPython 7.17 and above.\n",
      "\n"
     ]
    }
   ],
   "source": [
    "#Droping the ground_truth_category\n",
    "data3.drop('ground_truth_category', inplace=True, axis=1)"
   ]
  },
  {
   "cell_type": "code",
   "execution_count": 8,
   "id": "33d875af",
   "metadata": {},
   "outputs": [
    {
     "name": "stderr",
     "output_type": "stream",
     "text": [
      "C:\\Users\\Manal\\anaconda3\\lib\\site-packages\\ipykernel\\ipkernel.py:287: DeprecationWarning:\n",
      "\n",
      "`should_run_async` will not call `transform_cell` automatically in the future. Please pass the result to `transformed_cell` argument and any exception that happen during thetransform in `preprocessing_exc_tuple` in IPython 7.17 and above.\n",
      "\n"
     ]
    }
   ],
   "source": [
    "#Drop nulls\n",
    "data3.dropna(inplace = True, axis=0)"
   ]
  },
  {
   "cell_type": "code",
   "execution_count": 9,
   "id": "f280691b",
   "metadata": {},
   "outputs": [
    {
     "name": "stderr",
     "output_type": "stream",
     "text": [
      "C:\\Users\\Manal\\anaconda3\\lib\\site-packages\\ipykernel\\ipkernel.py:287: DeprecationWarning:\n",
      "\n",
      "`should_run_async` will not call `transform_cell` automatically in the future. Please pass the result to `transformed_cell` argument and any exception that happen during thetransform in `preprocessing_exc_tuple` in IPython 7.17 and above.\n",
      "\n"
     ]
    },
    {
     "data": {
      "text/plain": [
       "Index(['hmid', 'wid', 'reflection_period', 'original_hm', 'cleaned_hm',\n",
       "       'modified', 'num_sentence', 'predicted_category', 'age', 'country',\n",
       "       'gender', 'marital', 'parenthood'],\n",
       "      dtype='object')"
      ]
     },
     "execution_count": 9,
     "metadata": {},
     "output_type": "execute_result"
    }
   ],
   "source": [
    "data3.columns"
   ]
  },
  {
   "cell_type": "code",
   "execution_count": 10,
   "id": "5f406ba6",
   "metadata": {},
   "outputs": [
    {
     "name": "stderr",
     "output_type": "stream",
     "text": [
      "C:\\Users\\Manal\\anaconda3\\lib\\site-packages\\ipykernel\\ipkernel.py:287: DeprecationWarning:\n",
      "\n",
      "`should_run_async` will not call `transform_cell` automatically in the future. Please pass the result to `transformed_cell` argument and any exception that happen during thetransform in `preprocessing_exc_tuple` in IPython 7.17 and above.\n",
      "\n"
     ]
    }
   ],
   "source": [
    "data3.drop(index = data3[data3['age'] == 'čá'].index, inplace=True)"
   ]
  },
  {
   "cell_type": "code",
   "execution_count": 11,
   "id": "d899f006",
   "metadata": {},
   "outputs": [
    {
     "name": "stderr",
     "output_type": "stream",
     "text": [
      "C:\\Users\\Manal\\anaconda3\\lib\\site-packages\\ipykernel\\ipkernel.py:287: DeprecationWarning:\n",
      "\n",
      "`should_run_async` will not call `transform_cell` automatically in the future. Please pass the result to `transformed_cell` argument and any exception that happen during thetransform in `preprocessing_exc_tuple` in IPython 7.17 and above.\n",
      "\n"
     ]
    }
   ],
   "source": [
    "data3.drop(index = data3[data3['age'] == 'prefer not to say'].index, inplace=True)"
   ]
  },
  {
   "cell_type": "code",
   "execution_count": 12,
   "id": "28f723d0",
   "metadata": {},
   "outputs": [
    {
     "name": "stderr",
     "output_type": "stream",
     "text": [
      "C:\\Users\\Manal\\anaconda3\\lib\\site-packages\\ipykernel\\ipkernel.py:287: DeprecationWarning:\n",
      "\n",
      "`should_run_async` will not call `transform_cell` automatically in the future. Please pass the result to `transformed_cell` argument and any exception that happen during thetransform in `preprocessing_exc_tuple` in IPython 7.17 and above.\n",
      "\n"
     ]
    }
   ],
   "source": [
    "data3.drop(index = data3[data3['gender'] == 'o'].index, inplace=True)"
   ]
  },
  {
   "cell_type": "markdown",
   "id": "e98cb173",
   "metadata": {},
   "source": [
    "## Encoding categorical "
   ]
  },
  {
   "cell_type": "code",
   "execution_count": 13,
   "id": "61654b06",
   "metadata": {},
   "outputs": [
    {
     "name": "stderr",
     "output_type": "stream",
     "text": [
      "C:\\Users\\Manal\\anaconda3\\lib\\site-packages\\ipykernel\\ipkernel.py:287: DeprecationWarning:\n",
      "\n",
      "`should_run_async` will not call `transform_cell` automatically in the future. Please pass the result to `transformed_cell` argument and any exception that happen during thetransform in `preprocessing_exc_tuple` in IPython 7.17 and above.\n",
      "\n"
     ]
    },
    {
     "data": {
      "text/html": [
       "<div>\n",
       "<style scoped>\n",
       "    .dataframe tbody tr th:only-of-type {\n",
       "        vertical-align: middle;\n",
       "    }\n",
       "\n",
       "    .dataframe tbody tr th {\n",
       "        vertical-align: top;\n",
       "    }\n",
       "\n",
       "    .dataframe thead th {\n",
       "        text-align: right;\n",
       "    }\n",
       "</style>\n",
       "<table border=\"1\" class=\"dataframe\">\n",
       "  <thead>\n",
       "    <tr style=\"text-align: right;\">\n",
       "      <th></th>\n",
       "      <th>hmid</th>\n",
       "    </tr>\n",
       "    <tr>\n",
       "      <th>reflection_period</th>\n",
       "      <th></th>\n",
       "    </tr>\n",
       "  </thead>\n",
       "  <tbody>\n",
       "    <tr>\n",
       "      <th>24h</th>\n",
       "      <td>49252</td>\n",
       "    </tr>\n",
       "    <tr>\n",
       "      <th>3m</th>\n",
       "      <td>50091</td>\n",
       "    </tr>\n",
       "  </tbody>\n",
       "</table>\n",
       "</div>"
      ],
      "text/plain": [
       "                    hmid\n",
       "reflection_period       \n",
       "24h                49252\n",
       "3m                 50091"
      ]
     },
     "execution_count": 13,
     "metadata": {},
     "output_type": "execute_result"
    }
   ],
   "source": [
    "pd.pivot_table(data3, values='hmid',index='reflection_period', aggfunc='count')"
   ]
  },
  {
   "cell_type": "code",
   "execution_count": 14,
   "id": "c3f3eb46",
   "metadata": {
    "scrolled": true
   },
   "outputs": [
    {
     "name": "stderr",
     "output_type": "stream",
     "text": [
      "C:\\Users\\Manal\\anaconda3\\lib\\site-packages\\ipykernel\\ipkernel.py:287: DeprecationWarning:\n",
      "\n",
      "`should_run_async` will not call `transform_cell` automatically in the future. Please pass the result to `transformed_cell` argument and any exception that happen during thetransform in `preprocessing_exc_tuple` in IPython 7.17 and above.\n",
      "\n"
     ]
    }
   ],
   "source": [
    "#Replacing reflection_period values\n",
    "\n",
    "data3.loc[data3['reflection_period']=='24h', 'reflection_period']=0\n",
    "data3.loc[data3['reflection_period']=='3m', 'reflection_period']=1\n",
    "data3.rename(columns={'3m': '3m or 24h'}, inplace=True)"
   ]
  },
  {
   "cell_type": "code",
   "execution_count": 15,
   "id": "dde1da20",
   "metadata": {},
   "outputs": [
    {
     "name": "stderr",
     "output_type": "stream",
     "text": [
      "C:\\Users\\Manal\\anaconda3\\lib\\site-packages\\ipykernel\\ipkernel.py:287: DeprecationWarning:\n",
      "\n",
      "`should_run_async` will not call `transform_cell` automatically in the future. Please pass the result to `transformed_cell` argument and any exception that happen during thetransform in `preprocessing_exc_tuple` in IPython 7.17 and above.\n",
      "\n"
     ]
    },
    {
     "data": {
      "text/html": [
       "<div>\n",
       "<style scoped>\n",
       "    .dataframe tbody tr th:only-of-type {\n",
       "        vertical-align: middle;\n",
       "    }\n",
       "\n",
       "    .dataframe tbody tr th {\n",
       "        vertical-align: top;\n",
       "    }\n",
       "\n",
       "    .dataframe thead th {\n",
       "        text-align: right;\n",
       "    }\n",
       "</style>\n",
       "<table border=\"1\" class=\"dataframe\">\n",
       "  <thead>\n",
       "    <tr style=\"text-align: right;\">\n",
       "      <th></th>\n",
       "      <th>hmid</th>\n",
       "    </tr>\n",
       "    <tr>\n",
       "      <th>reflection_period</th>\n",
       "      <th></th>\n",
       "    </tr>\n",
       "  </thead>\n",
       "  <tbody>\n",
       "    <tr>\n",
       "      <th>0</th>\n",
       "      <td>49252</td>\n",
       "    </tr>\n",
       "    <tr>\n",
       "      <th>1</th>\n",
       "      <td>50091</td>\n",
       "    </tr>\n",
       "  </tbody>\n",
       "</table>\n",
       "</div>"
      ],
      "text/plain": [
       "                    hmid\n",
       "reflection_period       \n",
       "0                  49252\n",
       "1                  50091"
      ]
     },
     "execution_count": 15,
     "metadata": {},
     "output_type": "execute_result"
    }
   ],
   "source": [
    "pd.pivot_table(data3, values='hmid',index='reflection_period', aggfunc='count')"
   ]
  },
  {
   "cell_type": "code",
   "execution_count": 16,
   "id": "388dac5b",
   "metadata": {},
   "outputs": [
    {
     "name": "stderr",
     "output_type": "stream",
     "text": [
      "C:\\Users\\Manal\\anaconda3\\lib\\site-packages\\ipykernel\\ipkernel.py:287: DeprecationWarning:\n",
      "\n",
      "`should_run_async` will not call `transform_cell` automatically in the future. Please pass the result to `transformed_cell` argument and any exception that happen during thetransform in `preprocessing_exc_tuple` in IPython 7.17 and above.\n",
      "\n"
     ]
    },
    {
     "data": {
      "text/html": [
       "<div>\n",
       "<style scoped>\n",
       "    .dataframe tbody tr th:only-of-type {\n",
       "        vertical-align: middle;\n",
       "    }\n",
       "\n",
       "    .dataframe tbody tr th {\n",
       "        vertical-align: top;\n",
       "    }\n",
       "\n",
       "    .dataframe thead th {\n",
       "        text-align: right;\n",
       "    }\n",
       "</style>\n",
       "<table border=\"1\" class=\"dataframe\">\n",
       "  <thead>\n",
       "    <tr style=\"text-align: right;\">\n",
       "      <th></th>\n",
       "      <th>hmid</th>\n",
       "    </tr>\n",
       "    <tr>\n",
       "      <th>marital</th>\n",
       "      <th></th>\n",
       "    </tr>\n",
       "  </thead>\n",
       "  <tbody>\n",
       "    <tr>\n",
       "      <th>divorced</th>\n",
       "      <td>3761</td>\n",
       "    </tr>\n",
       "    <tr>\n",
       "      <th>married</th>\n",
       "      <td>40933</td>\n",
       "    </tr>\n",
       "    <tr>\n",
       "      <th>separated</th>\n",
       "      <td>628</td>\n",
       "    </tr>\n",
       "    <tr>\n",
       "      <th>single</th>\n",
       "      <td>53553</td>\n",
       "    </tr>\n",
       "    <tr>\n",
       "      <th>widowed</th>\n",
       "      <td>468</td>\n",
       "    </tr>\n",
       "  </tbody>\n",
       "</table>\n",
       "</div>"
      ],
      "text/plain": [
       "            hmid\n",
       "marital         \n",
       "divorced    3761\n",
       "married    40933\n",
       "separated    628\n",
       "single     53553\n",
       "widowed      468"
      ]
     },
     "execution_count": 16,
     "metadata": {},
     "output_type": "execute_result"
    }
   ],
   "source": [
    "pd.pivot_table(data3, values='hmid',index='marital', aggfunc='count')"
   ]
  },
  {
   "cell_type": "code",
   "execution_count": 17,
   "id": "a032dd1b",
   "metadata": {},
   "outputs": [
    {
     "name": "stderr",
     "output_type": "stream",
     "text": [
      "C:\\Users\\Manal\\anaconda3\\lib\\site-packages\\ipykernel\\ipkernel.py:287: DeprecationWarning:\n",
      "\n",
      "`should_run_async` will not call `transform_cell` automatically in the future. Please pass the result to `transformed_cell` argument and any exception that happen during thetransform in `preprocessing_exc_tuple` in IPython 7.17 and above.\n",
      "\n"
     ]
    }
   ],
   "source": [
    "#Replacing  marital with numerical values (married=1) or (not-married=0)\n",
    "data3.loc[data3['marital']=='single', 'marital']=0\n",
    "data3.loc[data3['marital']=='married', 'marital']=1\n",
    "data3.loc[data3['marital']=='separated', 'marital']=0\n",
    "data3.loc[data3['marital']=='divorced', 'marital']=0\n",
    "data3.loc[data3['marital']=='widowed', 'marital']=0"
   ]
  },
  {
   "cell_type": "code",
   "execution_count": 18,
   "id": "51bd50f3",
   "metadata": {},
   "outputs": [
    {
     "name": "stderr",
     "output_type": "stream",
     "text": [
      "C:\\Users\\Manal\\anaconda3\\lib\\site-packages\\ipykernel\\ipkernel.py:287: DeprecationWarning:\n",
      "\n",
      "`should_run_async` will not call `transform_cell` automatically in the future. Please pass the result to `transformed_cell` argument and any exception that happen during thetransform in `preprocessing_exc_tuple` in IPython 7.17 and above.\n",
      "\n"
     ]
    },
    {
     "data": {
      "text/html": [
       "<div>\n",
       "<style scoped>\n",
       "    .dataframe tbody tr th:only-of-type {\n",
       "        vertical-align: middle;\n",
       "    }\n",
       "\n",
       "    .dataframe tbody tr th {\n",
       "        vertical-align: top;\n",
       "    }\n",
       "\n",
       "    .dataframe thead th {\n",
       "        text-align: right;\n",
       "    }\n",
       "</style>\n",
       "<table border=\"1\" class=\"dataframe\">\n",
       "  <thead>\n",
       "    <tr style=\"text-align: right;\">\n",
       "      <th></th>\n",
       "      <th>hmid</th>\n",
       "    </tr>\n",
       "    <tr>\n",
       "      <th>marital</th>\n",
       "      <th></th>\n",
       "    </tr>\n",
       "  </thead>\n",
       "  <tbody>\n",
       "    <tr>\n",
       "      <th>0</th>\n",
       "      <td>58410</td>\n",
       "    </tr>\n",
       "    <tr>\n",
       "      <th>1</th>\n",
       "      <td>40933</td>\n",
       "    </tr>\n",
       "  </tbody>\n",
       "</table>\n",
       "</div>"
      ],
      "text/plain": [
       "          hmid\n",
       "marital       \n",
       "0        58410\n",
       "1        40933"
      ]
     },
     "execution_count": 18,
     "metadata": {},
     "output_type": "execute_result"
    }
   ],
   "source": [
    "pd.pivot_table(data3, values='hmid',index='marital', aggfunc='count')"
   ]
  },
  {
   "cell_type": "code",
   "execution_count": 19,
   "id": "5e9c2543",
   "metadata": {},
   "outputs": [
    {
     "name": "stderr",
     "output_type": "stream",
     "text": [
      "C:\\Users\\Manal\\anaconda3\\lib\\site-packages\\ipykernel\\ipkernel.py:287: DeprecationWarning:\n",
      "\n",
      "`should_run_async` will not call `transform_cell` automatically in the future. Please pass the result to `transformed_cell` argument and any exception that happen during thetransform in `preprocessing_exc_tuple` in IPython 7.17 and above.\n",
      "\n"
     ]
    },
    {
     "data": {
      "text/html": [
       "<div>\n",
       "<style scoped>\n",
       "    .dataframe tbody tr th:only-of-type {\n",
       "        vertical-align: middle;\n",
       "    }\n",
       "\n",
       "    .dataframe tbody tr th {\n",
       "        vertical-align: top;\n",
       "    }\n",
       "\n",
       "    .dataframe thead th {\n",
       "        text-align: right;\n",
       "    }\n",
       "</style>\n",
       "<table border=\"1\" class=\"dataframe\">\n",
       "  <thead>\n",
       "    <tr style=\"text-align: right;\">\n",
       "      <th></th>\n",
       "      <th>hmid</th>\n",
       "    </tr>\n",
       "    <tr>\n",
       "      <th>gender</th>\n",
       "      <th></th>\n",
       "    </tr>\n",
       "  </thead>\n",
       "  <tbody>\n",
       "    <tr>\n",
       "      <th>f</th>\n",
       "      <td>41847</td>\n",
       "    </tr>\n",
       "    <tr>\n",
       "      <th>m</th>\n",
       "      <td>57496</td>\n",
       "    </tr>\n",
       "  </tbody>\n",
       "</table>\n",
       "</div>"
      ],
      "text/plain": [
       "         hmid\n",
       "gender       \n",
       "f       41847\n",
       "m       57496"
      ]
     },
     "execution_count": 19,
     "metadata": {},
     "output_type": "execute_result"
    }
   ],
   "source": [
    "pd.pivot_table(data3, values='hmid',index='gender', aggfunc='count')"
   ]
  },
  {
   "cell_type": "code",
   "execution_count": 20,
   "id": "3e9a282b",
   "metadata": {},
   "outputs": [
    {
     "name": "stderr",
     "output_type": "stream",
     "text": [
      "C:\\Users\\Manal\\anaconda3\\lib\\site-packages\\ipykernel\\ipkernel.py:287: DeprecationWarning:\n",
      "\n",
      "`should_run_async` will not call `transform_cell` automatically in the future. Please pass the result to `transformed_cell` argument and any exception that happen during thetransform in `preprocessing_exc_tuple` in IPython 7.17 and above.\n",
      "\n"
     ]
    }
   ],
   "source": [
    "#Replacing  marital with numerical values: (f=1) or (m and o =0)\n",
    "data3.loc[data3['gender']=='m', 'gender']=0\n",
    "data3.loc[data3['gender']=='f', 'gender']=1"
   ]
  },
  {
   "cell_type": "code",
   "execution_count": 21,
   "id": "a9cde2de",
   "metadata": {},
   "outputs": [
    {
     "name": "stderr",
     "output_type": "stream",
     "text": [
      "C:\\Users\\Manal\\anaconda3\\lib\\site-packages\\ipykernel\\ipkernel.py:287: DeprecationWarning:\n",
      "\n",
      "`should_run_async` will not call `transform_cell` automatically in the future. Please pass the result to `transformed_cell` argument and any exception that happen during thetransform in `preprocessing_exc_tuple` in IPython 7.17 and above.\n",
      "\n"
     ]
    },
    {
     "data": {
      "text/html": [
       "<div>\n",
       "<style scoped>\n",
       "    .dataframe tbody tr th:only-of-type {\n",
       "        vertical-align: middle;\n",
       "    }\n",
       "\n",
       "    .dataframe tbody tr th {\n",
       "        vertical-align: top;\n",
       "    }\n",
       "\n",
       "    .dataframe thead th {\n",
       "        text-align: right;\n",
       "    }\n",
       "</style>\n",
       "<table border=\"1\" class=\"dataframe\">\n",
       "  <thead>\n",
       "    <tr style=\"text-align: right;\">\n",
       "      <th></th>\n",
       "      <th>hmid</th>\n",
       "    </tr>\n",
       "    <tr>\n",
       "      <th>predicted_category</th>\n",
       "      <th></th>\n",
       "    </tr>\n",
       "  </thead>\n",
       "  <tbody>\n",
       "    <tr>\n",
       "      <th>achievement</th>\n",
       "      <td>33600</td>\n",
       "    </tr>\n",
       "    <tr>\n",
       "      <th>affection</th>\n",
       "      <td>33744</td>\n",
       "    </tr>\n",
       "    <tr>\n",
       "      <th>bonding</th>\n",
       "      <td>10601</td>\n",
       "    </tr>\n",
       "    <tr>\n",
       "      <th>enjoy_the_moment</th>\n",
       "      <td>11002</td>\n",
       "    </tr>\n",
       "    <tr>\n",
       "      <th>exercise</th>\n",
       "      <td>1188</td>\n",
       "    </tr>\n",
       "    <tr>\n",
       "      <th>leisure</th>\n",
       "      <td>7385</td>\n",
       "    </tr>\n",
       "    <tr>\n",
       "      <th>nature</th>\n",
       "      <td>1823</td>\n",
       "    </tr>\n",
       "  </tbody>\n",
       "</table>\n",
       "</div>"
      ],
      "text/plain": [
       "                     hmid\n",
       "predicted_category       \n",
       "achievement         33600\n",
       "affection           33744\n",
       "bonding             10601\n",
       "enjoy_the_moment    11002\n",
       "exercise             1188\n",
       "leisure              7385\n",
       "nature               1823"
      ]
     },
     "execution_count": 21,
     "metadata": {},
     "output_type": "execute_result"
    }
   ],
   "source": [
    "#Predicted_category\n",
    "pd.pivot_table(data3, values='hmid',index='predicted_category', aggfunc='count')"
   ]
  },
  {
   "cell_type": "code",
   "execution_count": 22,
   "id": "c2fa5654",
   "metadata": {},
   "outputs": [
    {
     "name": "stderr",
     "output_type": "stream",
     "text": [
      "C:\\Users\\Manal\\anaconda3\\lib\\site-packages\\ipykernel\\ipkernel.py:287: DeprecationWarning:\n",
      "\n",
      "`should_run_async` will not call `transform_cell` automatically in the future. Please pass the result to `transformed_cell` argument and any exception that happen during thetransform in `preprocessing_exc_tuple` in IPython 7.17 and above.\n",
      "\n"
     ]
    }
   ],
   "source": [
    "#Replacing predicted_category by numerical values aligned to 360 Living categories\n",
    "data3.loc[data3['predicted_category']=='achievement', 'predicted_category']=3\n",
    "data3.loc[data3['predicted_category']=='affection', 'predicted_category']=6\n",
    "data3.loc[data3['predicted_category']=='bonding', 'predicted_category']=5\n",
    "data3.loc[data3['predicted_category']=='enjoy_the_moment', 'predicted_category']=2\n",
    "data3.loc[data3['predicted_category']=='exercise', 'predicted_category']=1\n",
    "data3.loc[data3['predicted_category']=='leisure', 'predicted_category']=7\n",
    "data3.loc[data3['predicted_category']=='nature', 'predicted_category']=4"
   ]
  },
  {
   "cell_type": "code",
   "execution_count": 23,
   "id": "93c95557",
   "metadata": {},
   "outputs": [
    {
     "name": "stderr",
     "output_type": "stream",
     "text": [
      "C:\\Users\\Manal\\anaconda3\\lib\\site-packages\\ipykernel\\ipkernel.py:287: DeprecationWarning:\n",
      "\n",
      "`should_run_async` will not call `transform_cell` automatically in the future. Please pass the result to `transformed_cell` argument and any exception that happen during thetransform in `preprocessing_exc_tuple` in IPython 7.17 and above.\n",
      "\n"
     ]
    },
    {
     "data": {
      "text/html": [
       "<div>\n",
       "<style scoped>\n",
       "    .dataframe tbody tr th:only-of-type {\n",
       "        vertical-align: middle;\n",
       "    }\n",
       "\n",
       "    .dataframe tbody tr th {\n",
       "        vertical-align: top;\n",
       "    }\n",
       "\n",
       "    .dataframe thead th {\n",
       "        text-align: right;\n",
       "    }\n",
       "</style>\n",
       "<table border=\"1\" class=\"dataframe\">\n",
       "  <thead>\n",
       "    <tr style=\"text-align: right;\">\n",
       "      <th></th>\n",
       "      <th>hmid</th>\n",
       "    </tr>\n",
       "    <tr>\n",
       "      <th>predicted_category</th>\n",
       "      <th></th>\n",
       "    </tr>\n",
       "  </thead>\n",
       "  <tbody>\n",
       "    <tr>\n",
       "      <th>1</th>\n",
       "      <td>1188</td>\n",
       "    </tr>\n",
       "    <tr>\n",
       "      <th>2</th>\n",
       "      <td>11002</td>\n",
       "    </tr>\n",
       "    <tr>\n",
       "      <th>3</th>\n",
       "      <td>33600</td>\n",
       "    </tr>\n",
       "    <tr>\n",
       "      <th>4</th>\n",
       "      <td>1823</td>\n",
       "    </tr>\n",
       "    <tr>\n",
       "      <th>5</th>\n",
       "      <td>10601</td>\n",
       "    </tr>\n",
       "    <tr>\n",
       "      <th>6</th>\n",
       "      <td>33744</td>\n",
       "    </tr>\n",
       "    <tr>\n",
       "      <th>7</th>\n",
       "      <td>7385</td>\n",
       "    </tr>\n",
       "  </tbody>\n",
       "</table>\n",
       "</div>"
      ],
      "text/plain": [
       "                     hmid\n",
       "predicted_category       \n",
       "1                    1188\n",
       "2                   11002\n",
       "3                   33600\n",
       "4                    1823\n",
       "5                   10601\n",
       "6                   33744\n",
       "7                    7385"
      ]
     },
     "execution_count": 23,
     "metadata": {},
     "output_type": "execute_result"
    }
   ],
   "source": [
    "pd.pivot_table(data3, values='hmid',index='predicted_category', aggfunc='count')"
   ]
  },
  {
   "cell_type": "code",
   "execution_count": 24,
   "id": "64b05786",
   "metadata": {},
   "outputs": [
    {
     "name": "stderr",
     "output_type": "stream",
     "text": [
      "C:\\Users\\Manal\\anaconda3\\lib\\site-packages\\ipykernel\\ipkernel.py:287: DeprecationWarning:\n",
      "\n",
      "`should_run_async` will not call `transform_cell` automatically in the future. Please pass the result to `transformed_cell` argument and any exception that happen during thetransform in `preprocessing_exc_tuple` in IPython 7.17 and above.\n",
      "\n"
     ]
    },
    {
     "data": {
      "text/html": [
       "<div>\n",
       "<style scoped>\n",
       "    .dataframe tbody tr th:only-of-type {\n",
       "        vertical-align: middle;\n",
       "    }\n",
       "\n",
       "    .dataframe tbody tr th {\n",
       "        vertical-align: top;\n",
       "    }\n",
       "\n",
       "    .dataframe thead th {\n",
       "        text-align: right;\n",
       "    }\n",
       "</style>\n",
       "<table border=\"1\" class=\"dataframe\">\n",
       "  <thead>\n",
       "    <tr style=\"text-align: right;\">\n",
       "      <th></th>\n",
       "      <th>hmid</th>\n",
       "    </tr>\n",
       "    <tr>\n",
       "      <th>parenthood</th>\n",
       "      <th></th>\n",
       "    </tr>\n",
       "  </thead>\n",
       "  <tbody>\n",
       "    <tr>\n",
       "      <th>n</th>\n",
       "      <td>60313</td>\n",
       "    </tr>\n",
       "    <tr>\n",
       "      <th>y</th>\n",
       "      <td>39030</td>\n",
       "    </tr>\n",
       "  </tbody>\n",
       "</table>\n",
       "</div>"
      ],
      "text/plain": [
       "             hmid\n",
       "parenthood       \n",
       "n           60313\n",
       "y           39030"
      ]
     },
     "execution_count": 24,
     "metadata": {},
     "output_type": "execute_result"
    }
   ],
   "source": [
    "#Parenthood column\n",
    "pd.pivot_table(data3, values='hmid',index='parenthood', aggfunc='count')"
   ]
  },
  {
   "cell_type": "code",
   "execution_count": 25,
   "id": "df8b830c",
   "metadata": {},
   "outputs": [
    {
     "name": "stderr",
     "output_type": "stream",
     "text": [
      "C:\\Users\\Manal\\anaconda3\\lib\\site-packages\\ipykernel\\ipkernel.py:287: DeprecationWarning:\n",
      "\n",
      "`should_run_async` will not call `transform_cell` automatically in the future. Please pass the result to `transformed_cell` argument and any exception that happen during thetransform in `preprocessing_exc_tuple` in IPython 7.17 and above.\n",
      "\n"
     ]
    }
   ],
   "source": [
    "#Replace parenthood\n",
    "data3.loc[data3['parenthood']=='n', 'parenthood']=0\n",
    "data3.loc[data3['parenthood']=='y', 'parenthood']=1"
   ]
  },
  {
   "cell_type": "code",
   "execution_count": 26,
   "id": "293f4828",
   "metadata": {},
   "outputs": [
    {
     "name": "stderr",
     "output_type": "stream",
     "text": [
      "C:\\Users\\Manal\\anaconda3\\lib\\site-packages\\ipykernel\\ipkernel.py:287: DeprecationWarning:\n",
      "\n",
      "`should_run_async` will not call `transform_cell` automatically in the future. Please pass the result to `transformed_cell` argument and any exception that happen during thetransform in `preprocessing_exc_tuple` in IPython 7.17 and above.\n",
      "\n"
     ]
    },
    {
     "data": {
      "text/html": [
       "<div>\n",
       "<style scoped>\n",
       "    .dataframe tbody tr th:only-of-type {\n",
       "        vertical-align: middle;\n",
       "    }\n",
       "\n",
       "    .dataframe tbody tr th {\n",
       "        vertical-align: top;\n",
       "    }\n",
       "\n",
       "    .dataframe thead th {\n",
       "        text-align: right;\n",
       "    }\n",
       "</style>\n",
       "<table border=\"1\" class=\"dataframe\">\n",
       "  <thead>\n",
       "    <tr style=\"text-align: right;\">\n",
       "      <th></th>\n",
       "      <th>hmid</th>\n",
       "    </tr>\n",
       "    <tr>\n",
       "      <th>parenthood</th>\n",
       "      <th></th>\n",
       "    </tr>\n",
       "  </thead>\n",
       "  <tbody>\n",
       "    <tr>\n",
       "      <th>0</th>\n",
       "      <td>60313</td>\n",
       "    </tr>\n",
       "    <tr>\n",
       "      <th>1</th>\n",
       "      <td>39030</td>\n",
       "    </tr>\n",
       "  </tbody>\n",
       "</table>\n",
       "</div>"
      ],
      "text/plain": [
       "             hmid\n",
       "parenthood       \n",
       "0           60313\n",
       "1           39030"
      ]
     },
     "execution_count": 26,
     "metadata": {},
     "output_type": "execute_result"
    }
   ],
   "source": [
    "pd.pivot_table(data3, values='hmid',index='parenthood', aggfunc='count')"
   ]
  },
  {
   "cell_type": "code",
   "execution_count": 27,
   "id": "12f16d39",
   "metadata": {},
   "outputs": [
    {
     "name": "stderr",
     "output_type": "stream",
     "text": [
      "C:\\Users\\Manal\\anaconda3\\lib\\site-packages\\ipykernel\\ipkernel.py:287: DeprecationWarning:\n",
      "\n",
      "`should_run_async` will not call `transform_cell` automatically in the future. Please pass the result to `transformed_cell` argument and any exception that happen during thetransform in `preprocessing_exc_tuple` in IPython 7.17 and above.\n",
      "\n"
     ]
    },
    {
     "data": {
      "text/plain": [
       "array(['USA', 'IND', 'DNK', 'VNM', 'KWT', 'PHL', 'GBR', 'FIN', 'AUS',\n",
       "       'VEN', 'LTU', 'BGR', 'BGD', 'IDN', 'BEL', 'CAN', 'SGP', 'IRL',\n",
       "       'PER', 'PRT', 'URY', 'SRB', 'JAM', 'ITA', 'KEN', 'DOM', 'EGY',\n",
       "       'ESP', 'NGA', 'BRA', 'MEX', 'ARM', 'PAK', 'TUR', 'MKD', 'FRA',\n",
       "       'COL', 'GRC', 'MDA', 'POL', 'DZA', 'THA', 'ARE', 'UGA', 'MYS',\n",
       "       'ZAF', 'AUT', 'DEU', 'LKA', 'NZL', 'ROU', 'ETH', 'PRI', 'RUS',\n",
       "       'NIC', 'NLD', 'UMI', 'ALB', 'ISR', 'MUS', 'MAR', 'SWE', 'KAZ',\n",
       "       'ASM', 'TTO', 'JPN', 'AFG', 'KNA', 'CYP', 'TUN', 'HRV', 'ECU',\n",
       "       'KOR', 'HKG', 'SAU', 'CRI', 'BRB', 'CZE', 'EST', 'GMB', 'BHS',\n",
       "       'ISL', 'SUR', 'GTM', 'GHA', 'MLT', 'TCA', 'IRQ', 'ARG', 'ZMB',\n",
       "       'TWN', 'CHL', 'SVN', 'UKR', 'VIR', 'NPL', 'SLV', 'NOR', 'LVA'],\n",
       "      dtype=object)"
      ]
     },
     "execution_count": 27,
     "metadata": {},
     "output_type": "execute_result"
    }
   ],
   "source": [
    "#Checking for unige values\n",
    "data3.country.unique()"
   ]
  },
  {
   "cell_type": "code",
   "execution_count": 28,
   "id": "622da44a",
   "metadata": {},
   "outputs": [
    {
     "name": "stderr",
     "output_type": "stream",
     "text": [
      "C:\\Users\\Manal\\anaconda3\\lib\\site-packages\\ipykernel\\ipkernel.py:287: DeprecationWarning:\n",
      "\n",
      "`should_run_async` will not call `transform_cell` automatically in the future. Please pass the result to `transformed_cell` argument and any exception that happen during thetransform in `preprocessing_exc_tuple` in IPython 7.17 and above.\n",
      "\n"
     ]
    },
    {
     "data": {
      "text/html": [
       "<div>\n",
       "<style scoped>\n",
       "    .dataframe tbody tr th:only-of-type {\n",
       "        vertical-align: middle;\n",
       "    }\n",
       "\n",
       "    .dataframe tbody tr th {\n",
       "        vertical-align: top;\n",
       "    }\n",
       "\n",
       "    .dataframe thead th {\n",
       "        text-align: right;\n",
       "    }\n",
       "</style>\n",
       "<table border=\"1\" class=\"dataframe\">\n",
       "  <thead>\n",
       "    <tr style=\"text-align: right;\">\n",
       "      <th></th>\n",
       "      <th>hmid</th>\n",
       "    </tr>\n",
       "    <tr>\n",
       "      <th>country</th>\n",
       "      <th></th>\n",
       "    </tr>\n",
       "  </thead>\n",
       "  <tbody>\n",
       "    <tr>\n",
       "      <th>USA</th>\n",
       "      <td>78151</td>\n",
       "    </tr>\n",
       "    <tr>\n",
       "      <th>IND</th>\n",
       "      <td>16708</td>\n",
       "    </tr>\n",
       "    <tr>\n",
       "      <th>VEN</th>\n",
       "      <td>588</td>\n",
       "    </tr>\n",
       "    <tr>\n",
       "      <th>CAN</th>\n",
       "      <td>549</td>\n",
       "    </tr>\n",
       "    <tr>\n",
       "      <th>GBR</th>\n",
       "      <td>361</td>\n",
       "    </tr>\n",
       "    <tr>\n",
       "      <th>PHL</th>\n",
       "      <td>279</td>\n",
       "    </tr>\n",
       "    <tr>\n",
       "      <th>MEX</th>\n",
       "      <td>126</td>\n",
       "    </tr>\n",
       "    <tr>\n",
       "      <th>VNM</th>\n",
       "      <td>126</td>\n",
       "    </tr>\n",
       "    <tr>\n",
       "      <th>BRA</th>\n",
       "      <td>123</td>\n",
       "    </tr>\n",
       "    <tr>\n",
       "      <th>AUS</th>\n",
       "      <td>117</td>\n",
       "    </tr>\n",
       "  </tbody>\n",
       "</table>\n",
       "</div>"
      ],
      "text/plain": [
       "          hmid\n",
       "country       \n",
       "USA      78151\n",
       "IND      16708\n",
       "VEN        588\n",
       "CAN        549\n",
       "GBR        361\n",
       "PHL        279\n",
       "MEX        126\n",
       "VNM        126\n",
       "BRA        123\n",
       "AUS        117"
      ]
     },
     "execution_count": 28,
     "metadata": {},
     "output_type": "execute_result"
    }
   ],
   "source": [
    "pd.pivot_table(data3, values='hmid',index='country', dropna=True,aggfunc='count').sort_values('hmid', ascending=False).head(10)"
   ]
  },
  {
   "cell_type": "code",
   "execution_count": 29,
   "id": "65b8a444",
   "metadata": {},
   "outputs": [
    {
     "name": "stderr",
     "output_type": "stream",
     "text": [
      "C:\\Users\\Manal\\anaconda3\\lib\\site-packages\\ipykernel\\ipkernel.py:287: DeprecationWarning:\n",
      "\n",
      "`should_run_async` will not call `transform_cell` automatically in the future. Please pass the result to `transformed_cell` argument and any exception that happen during thetransform in `preprocessing_exc_tuple` in IPython 7.17 and above.\n",
      "\n"
     ]
    },
    {
     "data": {
      "text/html": [
       "<div>\n",
       "<style scoped>\n",
       "    .dataframe tbody tr th:only-of-type {\n",
       "        vertical-align: middle;\n",
       "    }\n",
       "\n",
       "    .dataframe tbody tr th {\n",
       "        vertical-align: top;\n",
       "    }\n",
       "\n",
       "    .dataframe thead th {\n",
       "        text-align: right;\n",
       "    }\n",
       "</style>\n",
       "<table border=\"1\" class=\"dataframe\">\n",
       "  <thead>\n",
       "    <tr style=\"text-align: right;\">\n",
       "      <th></th>\n",
       "      <th>hmid</th>\n",
       "    </tr>\n",
       "    <tr>\n",
       "      <th>country</th>\n",
       "      <th></th>\n",
       "    </tr>\n",
       "  </thead>\n",
       "  <tbody>\n",
       "    <tr>\n",
       "      <th>1</th>\n",
       "      <td>78151</td>\n",
       "    </tr>\n",
       "    <tr>\n",
       "      <th>0</th>\n",
       "      <td>18206</td>\n",
       "    </tr>\n",
       "    <tr>\n",
       "      <th>PHL</th>\n",
       "      <td>279</td>\n",
       "    </tr>\n",
       "    <tr>\n",
       "      <th>VNM</th>\n",
       "      <td>126</td>\n",
       "    </tr>\n",
       "    <tr>\n",
       "      <th>MEX</th>\n",
       "      <td>126</td>\n",
       "    </tr>\n",
       "    <tr>\n",
       "      <th>BRA</th>\n",
       "      <td>123</td>\n",
       "    </tr>\n",
       "    <tr>\n",
       "      <th>AUS</th>\n",
       "      <td>117</td>\n",
       "    </tr>\n",
       "    <tr>\n",
       "      <th>MKD</th>\n",
       "      <td>102</td>\n",
       "    </tr>\n",
       "    <tr>\n",
       "      <th>SRB</th>\n",
       "      <td>96</td>\n",
       "    </tr>\n",
       "    <tr>\n",
       "      <th>IDN</th>\n",
       "      <td>90</td>\n",
       "    </tr>\n",
       "  </tbody>\n",
       "</table>\n",
       "</div>"
      ],
      "text/plain": [
       "          hmid\n",
       "country       \n",
       "1        78151\n",
       "0        18206\n",
       "PHL        279\n",
       "VNM        126\n",
       "MEX        126\n",
       "BRA        123\n",
       "AUS        117\n",
       "MKD        102\n",
       "SRB         96\n",
       "IDN         90"
      ]
     },
     "execution_count": 29,
     "metadata": {},
     "output_type": "execute_result"
    }
   ],
   "source": [
    "#Replacing country by numerical values only for top5 countries, all others are 5\n",
    "data3.loc[data3['country']=='USA', 'country']=1\n",
    "data3.loc[data3['country']=='IND', 'country']=0\n",
    "data3.loc[data3['country']=='VEN', 'country']=0\n",
    "data3.loc[data3['country']=='CAN', 'country']=0\n",
    "data3.loc[data3['country']=='GBR', 'country']=0\n",
    "pd.pivot_table(data3, values='hmid',index='country', dropna=True,aggfunc='count').sort_values('hmid', ascending=False).head(10)"
   ]
  },
  {
   "cell_type": "code",
   "execution_count": 30,
   "id": "4b43c027",
   "metadata": {},
   "outputs": [
    {
     "name": "stderr",
     "output_type": "stream",
     "text": [
      "C:\\Users\\Manal\\anaconda3\\lib\\site-packages\\ipykernel\\ipkernel.py:287: DeprecationWarning:\n",
      "\n",
      "`should_run_async` will not call `transform_cell` automatically in the future. Please pass the result to `transformed_cell` argument and any exception that happen during thetransform in `preprocessing_exc_tuple` in IPython 7.17 and above.\n",
      "\n"
     ]
    }
   ],
   "source": [
    "#Defining function to convert sting values\n",
    "def convert_string(x):\n",
    "    if isinstance(x, str) == True:\n",
    "        return 0\n",
    "    else: return x\n",
    "data3['country']=data3['country'].apply(lambda x: convert_string(x))"
   ]
  },
  {
   "cell_type": "code",
   "execution_count": 31,
   "id": "937c63e1",
   "metadata": {},
   "outputs": [
    {
     "name": "stderr",
     "output_type": "stream",
     "text": [
      "C:\\Users\\Manal\\anaconda3\\lib\\site-packages\\ipykernel\\ipkernel.py:287: DeprecationWarning:\n",
      "\n",
      "`should_run_async` will not call `transform_cell` automatically in the future. Please pass the result to `transformed_cell` argument and any exception that happen during thetransform in `preprocessing_exc_tuple` in IPython 7.17 and above.\n",
      "\n"
     ]
    },
    {
     "data": {
      "text/html": [
       "<div>\n",
       "<style scoped>\n",
       "    .dataframe tbody tr th:only-of-type {\n",
       "        vertical-align: middle;\n",
       "    }\n",
       "\n",
       "    .dataframe tbody tr th {\n",
       "        vertical-align: top;\n",
       "    }\n",
       "\n",
       "    .dataframe thead th {\n",
       "        text-align: right;\n",
       "    }\n",
       "</style>\n",
       "<table border=\"1\" class=\"dataframe\">\n",
       "  <thead>\n",
       "    <tr style=\"text-align: right;\">\n",
       "      <th></th>\n",
       "      <th>hmid</th>\n",
       "    </tr>\n",
       "    <tr>\n",
       "      <th>country</th>\n",
       "      <th></th>\n",
       "    </tr>\n",
       "  </thead>\n",
       "  <tbody>\n",
       "    <tr>\n",
       "      <th>1</th>\n",
       "      <td>78151</td>\n",
       "    </tr>\n",
       "    <tr>\n",
       "      <th>0</th>\n",
       "      <td>21192</td>\n",
       "    </tr>\n",
       "  </tbody>\n",
       "</table>\n",
       "</div>"
      ],
      "text/plain": [
       "          hmid\n",
       "country       \n",
       "1        78151\n",
       "0        21192"
      ]
     },
     "execution_count": 31,
     "metadata": {},
     "output_type": "execute_result"
    }
   ],
   "source": [
    "pd.pivot_table(data3, values='hmid',index='country', dropna=True,aggfunc='count').sort_values('hmid', ascending=False)"
   ]
  },
  {
   "cell_type": "code",
   "execution_count": 32,
   "id": "46845370",
   "metadata": {},
   "outputs": [
    {
     "name": "stderr",
     "output_type": "stream",
     "text": [
      "C:\\Users\\Manal\\anaconda3\\lib\\site-packages\\ipykernel\\ipkernel.py:287: DeprecationWarning:\n",
      "\n",
      "`should_run_async` will not call `transform_cell` automatically in the future. Please pass the result to `transformed_cell` argument and any exception that happen during thetransform in `preprocessing_exc_tuple` in IPython 7.17 and above.\n",
      "\n"
     ]
    },
    {
     "data": {
      "text/plain": [
       "array(['35', '29.0', '30', '28', '55', '23', '25', '41', '37', '29', '39',\n",
       "       '25.0', '32.0', '38', '42', '27', '22', '47.0', '26', '79', '64',\n",
       "       '32', '34', '33', '48', '40', '61', '31', '66', '36', '18', '56',\n",
       "       '30.0', '37.0', '51', '42.0', '24', '62', '28.0', '23.0', '44',\n",
       "       '21', '45.0', '45', '46', '41.0', '33.0', '49', '22.0', '52', '3',\n",
       "       '65', '31.0', '19.0', '53', '35.0', '24.0', '26.0', '63', '34.0',\n",
       "       '36.0', '61.0', '57', '43.0', '20.0', '38.0', '48.0', '53.0',\n",
       "       '27.0', '39.0', '51.0', '50.0', '21.0', '44.0', '58.0', '58', '43',\n",
       "       '52.0', '60.0', '49.0', '50', '54.0', '19', '40.0', '55.0', '20',\n",
       "       '54', '56.0', '71.0', '98', '18.0', '73.0', '69', '57.0', '70',\n",
       "       '60', '59', '70.0', '227', '68', '47', '71', '72', '46.0', '65.0',\n",
       "       '83', '67', '2', '64.0', '62.0', '78.0', '59.0', '63.0', '68.0',\n",
       "       '88.0', '72.0', '66.0', '76.0', '69.0', '77', '74', '81.0', '2.0',\n",
       "       '233.0', '67.0', '75', '79.0', '95', '80', '60yrs', '84', '17.0',\n",
       "       '74.0', '3.0', '75.0', '73'], dtype=object)"
      ]
     },
     "execution_count": 32,
     "metadata": {},
     "output_type": "execute_result"
    }
   ],
   "source": [
    "#Checking for unige values\n",
    "data3.age.unique()"
   ]
  },
  {
   "cell_type": "code",
   "execution_count": 33,
   "id": "fb51061f",
   "metadata": {},
   "outputs": [
    {
     "name": "stderr",
     "output_type": "stream",
     "text": [
      "C:\\Users\\Manal\\anaconda3\\lib\\site-packages\\ipykernel\\ipkernel.py:287: DeprecationWarning:\n",
      "\n",
      "`should_run_async` will not call `transform_cell` automatically in the future. Please pass the result to `transformed_cell` argument and any exception that happen during thetransform in `preprocessing_exc_tuple` in IPython 7.17 and above.\n",
      "\n"
     ]
    }
   ],
   "source": [
    "#Converting values to numeric\n",
    "data3[['age']] = data3[['age']].apply(pd.to_numeric, errors='coerce')"
   ]
  },
  {
   "cell_type": "code",
   "execution_count": 34,
   "id": "97372c31",
   "metadata": {},
   "outputs": [
    {
     "name": "stderr",
     "output_type": "stream",
     "text": [
      "C:\\Users\\Manal\\anaconda3\\lib\\site-packages\\ipykernel\\ipkernel.py:287: DeprecationWarning:\n",
      "\n",
      "`should_run_async` will not call `transform_cell` automatically in the future. Please pass the result to `transformed_cell` argument and any exception that happen during thetransform in `preprocessing_exc_tuple` in IPython 7.17 and above.\n",
      "\n"
     ]
    }
   ],
   "source": [
    "#Create age-groups\n",
    "age18_25 = data3.age[(data3.age <= 25) & (data3.age >= 18)]\n",
    "age26_35 = data3.age[(data3.age <= 35) & (data3.age >= 26)]\n",
    "age36_45 = data3.age[(data3.age <= 45) & (data3.age >= 36)]\n",
    "age46_55 = data3.age[(data3.age <= 55) & (data3.age >= 46)]\n",
    "age55above = data3.age[data3.age >= 56]"
   ]
  },
  {
   "cell_type": "code",
   "execution_count": 35,
   "id": "2de0557b",
   "metadata": {},
   "outputs": [
    {
     "name": "stderr",
     "output_type": "stream",
     "text": [
      "C:\\Users\\Manal\\anaconda3\\lib\\site-packages\\ipykernel\\ipkernel.py:287: DeprecationWarning:\n",
      "\n",
      "`should_run_async` will not call `transform_cell` automatically in the future. Please pass the result to `transformed_cell` argument and any exception that happen during thetransform in `preprocessing_exc_tuple` in IPython 7.17 and above.\n",
      "\n"
     ]
    }
   ],
   "source": [
    "data_age = {'Ages': [\"18-25\", \"26-35\", \"36-45\", \"46-55\", \"55+\"],\n",
    "        'Number of People': [len(age18_25.values), len(age26_35.values), len(age36_45.values),\n",
    "                             len(age46_55.values), len(age55above.values)]} "
   ]
  },
  {
   "cell_type": "code",
   "execution_count": 36,
   "id": "0e2f3b30",
   "metadata": {},
   "outputs": [
    {
     "name": "stderr",
     "output_type": "stream",
     "text": [
      "C:\\Users\\Manal\\anaconda3\\lib\\site-packages\\ipykernel\\ipkernel.py:287: DeprecationWarning:\n",
      "\n",
      "`should_run_async` will not call `transform_cell` automatically in the future. Please pass the result to `transformed_cell` argument and any exception that happen during thetransform in `preprocessing_exc_tuple` in IPython 7.17 and above.\n",
      "\n"
     ]
    },
    {
     "data": {
      "text/html": [
       "<div>\n",
       "<style scoped>\n",
       "    .dataframe tbody tr th:only-of-type {\n",
       "        vertical-align: middle;\n",
       "    }\n",
       "\n",
       "    .dataframe tbody tr th {\n",
       "        vertical-align: top;\n",
       "    }\n",
       "\n",
       "    .dataframe thead th {\n",
       "        text-align: right;\n",
       "    }\n",
       "</style>\n",
       "<table border=\"1\" class=\"dataframe\">\n",
       "  <thead>\n",
       "    <tr style=\"text-align: right;\">\n",
       "      <th></th>\n",
       "      <th>Ages</th>\n",
       "      <th>Number of People</th>\n",
       "    </tr>\n",
       "  </thead>\n",
       "  <tbody>\n",
       "    <tr>\n",
       "      <th>0</th>\n",
       "      <td>18-25</td>\n",
       "      <td>23868</td>\n",
       "    </tr>\n",
       "    <tr>\n",
       "      <th>1</th>\n",
       "      <td>26-35</td>\n",
       "      <td>48596</td>\n",
       "    </tr>\n",
       "    <tr>\n",
       "      <th>2</th>\n",
       "      <td>36-45</td>\n",
       "      <td>16426</td>\n",
       "    </tr>\n",
       "    <tr>\n",
       "      <th>3</th>\n",
       "      <td>46-55</td>\n",
       "      <td>6220</td>\n",
       "    </tr>\n",
       "    <tr>\n",
       "      <th>4</th>\n",
       "      <td>55+</td>\n",
       "      <td>4128</td>\n",
       "    </tr>\n",
       "  </tbody>\n",
       "</table>\n",
       "</div>"
      ],
      "text/plain": [
       "    Ages  Number of People\n",
       "0  18-25             23868\n",
       "1  26-35             48596\n",
       "2  36-45             16426\n",
       "3  46-55              6220\n",
       "4    55+              4128"
      ]
     },
     "execution_count": 36,
     "metadata": {},
     "output_type": "execute_result"
    }
   ],
   "source": [
    "df_age = pd.DataFrame(data_age)\n",
    "df_age"
   ]
  },
  {
   "cell_type": "code",
   "execution_count": 37,
   "id": "227b07df",
   "metadata": {},
   "outputs": [
    {
     "name": "stderr",
     "output_type": "stream",
     "text": [
      "C:\\Users\\Manal\\anaconda3\\lib\\site-packages\\ipykernel\\ipkernel.py:287: DeprecationWarning:\n",
      "\n",
      "`should_run_async` will not call `transform_cell` automatically in the future. Please pass the result to `transformed_cell` argument and any exception that happen during thetransform in `preprocessing_exc_tuple` in IPython 7.17 and above.\n",
      "\n"
     ]
    },
    {
     "data": {
      "image/png": "[encoded data removed]",
      "text/plain": [
       "<Figure size 1296x720 with 1 Axes>"
      ]
     },
     "metadata": {
      "needs_background": "light"
     },
     "output_type": "display_data"
    }
   ],
   "source": [
    "plt.figure(figsize = (18, 10))\n",
    "\n",
    "sns.barplot(x = 'Ages', y = 'Number of People', data = df_age, palette = 'Set3')\n",
    "\n",
    "plt.title('Number of People by Age', fontsize = 18)\n",
    "plt.ylabel('Number of People', fontsize = 15)\n",
    "plt.xlabel('Ages', fontsize = 15);"
   ]
  },
  {
   "cell_type": "code",
   "execution_count": 38,
   "id": "e94eb0f6",
   "metadata": {},
   "outputs": [
    {
     "name": "stderr",
     "output_type": "stream",
     "text": [
      "C:\\Users\\Manal\\anaconda3\\lib\\site-packages\\ipykernel\\ipkernel.py:287: DeprecationWarning:\n",
      "\n",
      "`should_run_async` will not call `transform_cell` automatically in the future. Please pass the result to `transformed_cell` argument and any exception that happen during thetransform in `preprocessing_exc_tuple` in IPython 7.17 and above.\n",
      "\n",
      "C:\\Users\\Manal\\anaconda3\\lib\\site-packages\\seaborn\\_decorators.py:36: FutureWarning:\n",
      "\n",
      "Pass the following variable as a keyword arg: x. From version 0.12, the only valid positional argument will be `data`, and passing other arguments without an explicit keyword will result in an error or misinterpretation.\n",
      "\n",
      "C:\\Users\\Manal\\anaconda3\\lib\\site-packages\\seaborn\\_decorators.py:36: FutureWarning:\n",
      "\n",
      "Pass the following variable as a keyword arg: x. From version 0.12, the only valid positional argument will be `data`, and passing other arguments without an explicit keyword will result in an error or misinterpretation.\n",
      "\n",
      "C:\\Users\\Manal\\anaconda3\\lib\\site-packages\\seaborn\\_decorators.py:36: FutureWarning:\n",
      "\n",
      "Pass the following variable as a keyword arg: x. From version 0.12, the only valid positional argument will be `data`, and passing other arguments without an explicit keyword will result in an error or misinterpretation.\n",
      "\n",
      "C:\\Users\\Manal\\anaconda3\\lib\\site-packages\\seaborn\\_decorators.py:36: FutureWarning:\n",
      "\n",
      "Pass the following variable as a keyword arg: x. From version 0.12, the only valid positional argument will be `data`, and passing other arguments without an explicit keyword will result in an error or misinterpretation.\n",
      "\n",
      "C:\\Users\\Manal\\anaconda3\\lib\\site-packages\\seaborn\\_decorators.py:36: FutureWarning:\n",
      "\n",
      "Pass the following variable as a keyword arg: x. From version 0.12, the only valid positional argument will be `data`, and passing other arguments without an explicit keyword will result in an error or misinterpretation.\n",
      "\n",
      "C:\\Users\\Manal\\anaconda3\\lib\\site-packages\\seaborn\\_decorators.py:36: FutureWarning:\n",
      "\n",
      "Pass the following variable as a keyword arg: x. From version 0.12, the only valid positional argument will be `data`, and passing other arguments without an explicit keyword will result in an error or misinterpretation.\n",
      "\n"
     ]
    },
    {
     "data": {
      "image/png": "[encoded data removed]",
      "text/plain": [
       "<Figure size 1440x1296 with 6 Axes>"
      ]
     },
     "metadata": {},
     "output_type": "display_data"
    }
   ],
   "source": [
    "# feature selections\n",
    "cols = [ 'reflection_period', 'marital', 'predicted_category',\n",
    "        'gender', 'parenthood','country']\n",
    "\n",
    "fig = plt.figure(figsize = (20, 18), facecolor='#fbe7dd')\n",
    "\n",
    "\n",
    "\n",
    "for i in range(len(cols)):\n",
    "    fig.add_subplot(3, 3, i+1)\n",
    "    sns.countplot(data3[cols[i]], palette='Set3')\n",
    "\n",
    "plt.show()"
   ]
  },
  {
   "cell_type": "code",
   "execution_count": 39,
   "id": "4de9920d",
   "metadata": {},
   "outputs": [
    {
     "name": "stderr",
     "output_type": "stream",
     "text": [
      "C:\\Users\\Manal\\anaconda3\\lib\\site-packages\\ipykernel\\ipkernel.py:287: DeprecationWarning:\n",
      "\n",
      "`should_run_async` will not call `transform_cell` automatically in the future. Please pass the result to `transformed_cell` argument and any exception that happen during thetransform in `preprocessing_exc_tuple` in IPython 7.17 and above.\n",
      "\n"
     ]
    },
    {
     "data": {
      "text/plain": [
       "['reflection_period',\n",
       " 'marital',\n",
       " 'predicted_category',\n",
       " 'gender',\n",
       " 'parenthood',\n",
       " 'country']"
      ]
     },
     "execution_count": 39,
     "metadata": {},
     "output_type": "execute_result"
    }
   ],
   "source": [
    "cols"
   ]
  },
  {
   "cell_type": "markdown",
   "id": "1c95ce1e",
   "metadata": {},
   "source": [
    "# Preprocessing"
   ]
  },
  {
   "cell_type": "markdown",
   "id": "23fa466f",
   "metadata": {},
   "source": [
    "## Feature Extraction"
   ]
  },
  {
   "cell_type": "code",
   "execution_count": 40,
   "id": "34b1eeb9",
   "metadata": {},
   "outputs": [
    {
     "name": "stderr",
     "output_type": "stream",
     "text": [
      "C:\\Users\\Manal\\anaconda3\\lib\\site-packages\\ipykernel\\ipkernel.py:287: DeprecationWarning:\n",
      "\n",
      "`should_run_async` will not call `transform_cell` automatically in the future. Please pass the result to `transformed_cell` argument and any exception that happen during thetransform in `preprocessing_exc_tuple` in IPython 7.17 and above.\n",
      "\n"
     ]
    }
   ],
   "source": [
    "df = data3['cleaned_hm']"
   ]
  },
  {
   "cell_type": "code",
   "execution_count": 41,
   "id": "430cf610",
   "metadata": {},
   "outputs": [
    {
     "name": "stderr",
     "output_type": "stream",
     "text": [
      "C:\\Users\\Manal\\anaconda3\\lib\\site-packages\\ipykernel\\ipkernel.py:287: DeprecationWarning:\n",
      "\n",
      "`should_run_async` will not call `transform_cell` automatically in the future. Please pass the result to `transformed_cell` argument and any exception that happen during thetransform in `preprocessing_exc_tuple` in IPython 7.17 and above.\n",
      "\n"
     ]
    },
    {
     "data": {
      "text/plain": [
       "0    I went on a successful date with someone I fel...\n",
       "1    I played a new game that was fun and got to en...\n",
       "2    I listened to some music and heard an entire a...\n",
       "3                   Went to see a movie with my friend\n",
       "4                 Played guitar, learning a song on it\n",
       "Name: cleaned_hm, dtype: object"
      ]
     },
     "execution_count": 41,
     "metadata": {},
     "output_type": "execute_result"
    }
   ],
   "source": [
    "df.head()"
   ]
  },
  {
   "cell_type": "code",
   "execution_count": 42,
   "id": "2de98abd",
   "metadata": {},
   "outputs": [
    {
     "name": "stderr",
     "output_type": "stream",
     "text": [
      "C:\\Users\\Manal\\anaconda3\\lib\\site-packages\\ipykernel\\ipkernel.py:287: DeprecationWarning:\n",
      "\n",
      "`should_run_async` will not call `transform_cell` automatically in the future. Please pass the result to `transformed_cell` argument and any exception that happen during thetransform in `preprocessing_exc_tuple` in IPython 7.17 and above.\n",
      "\n"
     ]
    }
   ],
   "source": [
    "stop_words = stopwords.words('english')"
   ]
  },
  {
   "cell_type": "code",
   "execution_count": 43,
   "id": "f255c2df",
   "metadata": {},
   "outputs": [
    {
     "name": "stdout",
     "output_type": "stream",
     "text": [
      "['i', 'me', 'my', 'myself', 'we', 'our', 'ours', 'ourselves', 'you', \"you're\", \"you've\", \"you'll\", \"you'd\", 'your', 'yours', 'yourself', 'yourselves', 'he', 'him', 'his', 'himself', 'she', \"she's\", 'her', 'hers', 'herself', 'it', \"it's\", 'its', 'itself', 'they', 'them', 'their', 'theirs', 'themselves', 'what', 'which', 'who', 'whom', 'this', 'that', \"that'll\", 'these', 'those', 'am', 'is', 'are', 'was', 'were', 'be', 'been', 'being', 'have', 'has', 'had', 'having', 'do', 'does', 'did', 'doing', 'a', 'an', 'the', 'and', 'but', 'if', 'or', 'because', 'as', 'until', 'while', 'of', 'at', 'by', 'for', 'with', 'about', 'against', 'between', 'into', 'through', 'during', 'before', 'after', 'above', 'below', 'to', 'from', 'up', 'down', 'in', 'out', 'on', 'off', 'over', 'under', 'again', 'further', 'then', 'once', 'here', 'there', 'when', 'where', 'why', 'how', 'all', 'any', 'both', 'each', 'few', 'more', 'most', 'other', 'some', 'such', 'no', 'nor', 'not', 'only', 'own', 'same', 'so', 'than', 'too', 'very', 's', 't', 'can', 'will', 'just', 'don', \"don't\", 'should', \"should've\", 'now', 'd', 'll', 'm', 'o', 're', 've', 'y', 'ain', 'aren', \"aren't\", 'couldn', \"couldn't\", 'didn', \"didn't\", 'doesn', \"doesn't\", 'hadn', \"hadn't\", 'hasn', \"hasn't\", 'haven', \"haven't\", 'isn', \"isn't\", 'ma', 'mightn', \"mightn't\", 'mustn', \"mustn't\", 'needn', \"needn't\", 'shan', \"shan't\", 'shouldn', \"shouldn't\", 'wasn', \"wasn't\", 'weren', \"weren't\", 'won', \"won't\", 'wouldn', \"wouldn't\"]\n"
     ]
    },
    {
     "name": "stderr",
     "output_type": "stream",
     "text": [
      "C:\\Users\\Manal\\anaconda3\\lib\\site-packages\\ipykernel\\ipkernel.py:287: DeprecationWarning:\n",
      "\n",
      "`should_run_async` will not call `transform_cell` automatically in the future. Please pass the result to `transformed_cell` argument and any exception that happen during thetransform in `preprocessing_exc_tuple` in IPython 7.17 and above.\n",
      "\n"
     ]
    }
   ],
   "source": [
    "print(stop_words)"
   ]
  },
  {
   "cell_type": "code",
   "execution_count": 44,
   "id": "fd78b47f",
   "metadata": {},
   "outputs": [
    {
     "name": "stdout",
     "output_type": "stream",
     "text": [
      "['I went on a successful date with someone I felt sympathy and connection with.'\n",
      " 'I played a new game that was fun and got to enjoy the mechanics of it.'\n",
      " \"I listened to some music and heard an entire album I hadn't heard more than once before.\"\n",
      " ...\n",
      " 'Four year back I lost my job. Now I am living with my savings and needs some earning with easy work. Though I am 65 years old, but with god grace enjoying good health. Today I received a call from a employer for a job description which suits to me. This made me happy.\\r\\n\"HOPE FOR THE BEST\".'\n",
      " 'Yesterday evening I received a call from unknown number. He asked me to recognize him, but I could not. He told me that he is my school days friend, Madan. I asked how he get my contact number. He told that he went to our native place and take my number from younger brother. We refreshed our old early days of our life, which make me happy.\\r\\n\"REFRESHING THE OLD MEMORIES\".'\n",
      " 'I am fond of seeing cricket match. Yesterday there was semi final of champions trophy between India and Bangladesh in England. I had seen the whole commentary on TV for this match. At end India defeated Bangladesh. Being Indian myself I enjoyed a lot.\\r\\n\"HAPPY FOR OUR COUNTRY WIN\".']\n"
     ]
    },
    {
     "name": "stderr",
     "output_type": "stream",
     "text": [
      "C:\\Users\\Manal\\anaconda3\\lib\\site-packages\\ipykernel\\ipkernel.py:287: DeprecationWarning:\n",
      "\n",
      "`should_run_async` will not call `transform_cell` automatically in the future. Please pass the result to `transformed_cell` argument and any exception that happen during thetransform in `preprocessing_exc_tuple` in IPython 7.17 and above.\n",
      "\n"
     ]
    }
   ],
   "source": [
    "print(df.unique())"
   ]
  },
  {
   "cell_type": "code",
   "execution_count": 45,
   "id": "eabe99f0",
   "metadata": {},
   "outputs": [
    {
     "name": "stderr",
     "output_type": "stream",
     "text": [
      "C:\\Users\\Manal\\anaconda3\\lib\\site-packages\\ipykernel\\ipkernel.py:287: DeprecationWarning:\n",
      "\n",
      "`should_run_async` will not call `transform_cell` automatically in the future. Please pass the result to `transformed_cell` argument and any exception that happen during thetransform in `preprocessing_exc_tuple` in IPython 7.17 and above.\n",
      "\n",
      "<>:5: DeprecationWarning:\n",
      "\n",
      "invalid escape sequence \\S\n",
      "\n",
      "<>:8: DeprecationWarning:\n",
      "\n",
      "invalid escape sequence \\s\n",
      "\n",
      "<>:5: DeprecationWarning:\n",
      "\n",
      "invalid escape sequence \\S\n",
      "\n",
      "<>:8: DeprecationWarning:\n",
      "\n",
      "invalid escape sequence \\s\n",
      "\n",
      "<ipython-input-45-1341c7212117>:5: DeprecationWarning:\n",
      "\n",
      "invalid escape sequence \\S\n",
      "\n",
      "<ipython-input-45-1341c7212117>:8: DeprecationWarning:\n",
      "\n",
      "invalid escape sequence \\s\n",
      "\n"
     ]
    },
    {
     "name": "stdout",
     "output_type": "stream",
     "text": [
      "['I went on a successful date with someone I felt sympathy and connection with.']\n"
     ]
    }
   ],
   "source": [
    "# Convert to list\n",
    "data = df.values.tolist()\n",
    " \n",
    "# Remove Emails\n",
    "data = [re.sub('\\S*@\\S*\\s?', '', sent) for sent in data]\n",
    " \n",
    "# Remove new line characters\n",
    "data = [re.sub('\\s+', ' ', sent) for sent in data]\n",
    " \n",
    "# Remove distracting single quotes\n",
    "data = [re.sub(\"\\'\", \"\", sent) for sent in data]\n",
    " \n",
    "print(data[:1])"
   ]
  },
  {
   "cell_type": "code",
   "execution_count": 46,
   "id": "8fd2e14f",
   "metadata": {},
   "outputs": [
    {
     "name": "stderr",
     "output_type": "stream",
     "text": [
      "C:\\Users\\Manal\\anaconda3\\lib\\site-packages\\ipykernel\\ipkernel.py:287: DeprecationWarning:\n",
      "\n",
      "`should_run_async` will not call `transform_cell` automatically in the future. Please pass the result to `transformed_cell` argument and any exception that happen during thetransform in `preprocessing_exc_tuple` in IPython 7.17 and above.\n",
      "\n"
     ]
    },
    {
     "name": "stdout",
     "output_type": "stream",
     "text": [
      "[['went', 'on', 'successful', 'date', 'with', 'someone', 'felt', 'sympathy', 'and', 'connection', 'with']]\n"
     ]
    }
   ],
   "source": [
    "def sent_to_words(sentences):\n",
    "    for sentence in sentences:\n",
    "        yield(gensim.utils.simple_preprocess(str(sentence), deacc=True))  # deacc=True removes punctuations\n",
    " \n",
    "data_words = list(sent_to_words(data))\n",
    " \n",
    "print(data_words[:1])"
   ]
  },
  {
   "cell_type": "code",
   "execution_count": 47,
   "id": "673caba1",
   "metadata": {},
   "outputs": [
    {
     "name": "stderr",
     "output_type": "stream",
     "text": [
      "C:\\Users\\Manal\\anaconda3\\lib\\site-packages\\ipykernel\\ipkernel.py:287: DeprecationWarning:\n",
      "\n",
      "`should_run_async` will not call `transform_cell` automatically in the future. Please pass the result to `transformed_cell` argument and any exception that happen during thetransform in `preprocessing_exc_tuple` in IPython 7.17 and above.\n",
      "\n"
     ]
    },
    {
     "name": "stdout",
     "output_type": "stream",
     "text": [
      "['went', 'on', 'successful', 'date', 'with', 'someone', 'felt', 'sympathy', 'and', 'connection', 'with']\n"
     ]
    }
   ],
   "source": [
    "bigram = gensim.models.Phrases(data_words, min_count=5, threshold=100) # higher threshold fewer phrases.\n",
    "trigram = gensim.models.Phrases(bigram[data_words], threshold=100)  \n",
    " \n",
    "# Faster way to get a sentence clubbed as a trigram/bigram\n",
    "bigram_mod = gensim.models.phrases.Phraser(bigram)\n",
    "trigram_mod = gensim.models.phrases.Phraser(trigram)\n",
    " \n",
    "# See trigram example\n",
    "print(trigram_mod[bigram_mod[data_words[0]]])"
   ]
  },
  {
   "cell_type": "code",
   "execution_count": 48,
   "id": "fa7da872",
   "metadata": {},
   "outputs": [
    {
     "name": "stderr",
     "output_type": "stream",
     "text": [
      "C:\\Users\\Manal\\anaconda3\\lib\\site-packages\\ipykernel\\ipkernel.py:287: DeprecationWarning:\n",
      "\n",
      "`should_run_async` will not call `transform_cell` automatically in the future. Please pass the result to `transformed_cell` argument and any exception that happen during thetransform in `preprocessing_exc_tuple` in IPython 7.17 and above.\n",
      "\n"
     ]
    }
   ],
   "source": [
    "def remove_stopwords(texts):\n",
    "    return [[word for word in simple_preprocess(str(doc)) if word not in stop_words] for doc in texts]\n",
    " \n",
    "def make_bigrams(texts):\n",
    "    return [bigram_mod[doc] for doc in texts]\n",
    " \n",
    "def make_trigrams(texts):\n",
    "    return [trigram_mod[bigram_mod[doc]] for doc in texts]\n",
    " \n",
    "def lemmatization(texts, allowed_postags=['NOUN', 'ADJ', 'VERB', 'ADV']):\n",
    "    \n",
    "    texts_out = []\n",
    "    for sent in texts:\n",
    "        doc = nlp(\" \".join(sent)) \n",
    "        texts_out.append([token.lemma_ for token in doc if token.pos_ in allowed_postags])\n",
    "    return texts_out"
   ]
  },
  {
   "cell_type": "code",
   "execution_count": 49,
   "id": "66c08d11",
   "metadata": {},
   "outputs": [
    {
     "name": "stderr",
     "output_type": "stream",
     "text": [
      "C:\\Users\\Manal\\anaconda3\\lib\\site-packages\\ipykernel\\ipkernel.py:287: DeprecationWarning:\n",
      "\n",
      "`should_run_async` will not call `transform_cell` automatically in the future. Please pass the result to `transformed_cell` argument and any exception that happen during thetransform in `preprocessing_exc_tuple` in IPython 7.17 and above.\n",
      "\n"
     ]
    },
    {
     "name": "stdout",
     "output_type": "stream",
     "text": [
      "[['date', 'connection']]\n"
     ]
    }
   ],
   "source": [
    "# Remove Stop Words\n",
    "data_words_nostops = remove_stopwords(data_words)\n",
    " \n",
    "# Form Bigrams\n",
    "data_words_bigrams = make_bigrams(data_words_nostops)\n",
    " \n",
    "data_lemmatized = lemmatization(data_words_bigrams, allowed_postags=['NOUN'])\n",
    " \n",
    "print(data_lemmatized[:1])"
   ]
  },
  {
   "cell_type": "code",
   "execution_count": 50,
   "id": "5f3ce75f",
   "metadata": {},
   "outputs": [
    {
     "name": "stderr",
     "output_type": "stream",
     "text": [
      "C:\\Users\\Manal\\anaconda3\\lib\\site-packages\\ipykernel\\ipkernel.py:287: DeprecationWarning:\n",
      "\n",
      "`should_run_async` will not call `transform_cell` automatically in the future. Please pass the result to `transformed_cell` argument and any exception that happen during thetransform in `preprocessing_exc_tuple` in IPython 7.17 and above.\n",
      "\n"
     ]
    },
    {
     "name": "stdout",
     "output_type": "stream",
     "text": [
      "[[(0, 1), (1, 1)]]\n"
     ]
    }
   ],
   "source": [
    "# Create Dictionary\n",
    "id2word = corpora.Dictionary(data_lemmatized)\n",
    " \n",
    "# Create Corpus\n",
    "texts = data_lemmatized\n",
    " \n",
    "# Term Document Frequency\n",
    "corpus = [id2word.doc2bow(text) for text in texts]\n",
    " \n",
    "# View\n",
    "print(corpus[:1])"
   ]
  },
  {
   "cell_type": "code",
   "execution_count": 51,
   "id": "a8229df3",
   "metadata": {},
   "outputs": [
    {
     "name": "stderr",
     "output_type": "stream",
     "text": [
      "C:\\Users\\Manal\\anaconda3\\lib\\site-packages\\ipykernel\\ipkernel.py:287: DeprecationWarning:\n",
      "\n",
      "`should_run_async` will not call `transform_cell` automatically in the future. Please pass the result to `transformed_cell` argument and any exception that happen during thetransform in `preprocessing_exc_tuple` in IPython 7.17 and above.\n",
      "\n"
     ]
    },
    {
     "data": {
      "text/plain": [
       "'connection'"
      ]
     },
     "execution_count": 51,
     "metadata": {},
     "output_type": "execute_result"
    }
   ],
   "source": [
    "id2word[0]"
   ]
  },
  {
   "cell_type": "code",
   "execution_count": 52,
   "id": "4cffd495",
   "metadata": {},
   "outputs": [
    {
     "name": "stderr",
     "output_type": "stream",
     "text": [
      "C:\\Users\\Manal\\anaconda3\\lib\\site-packages\\ipykernel\\ipkernel.py:287: DeprecationWarning:\n",
      "\n",
      "`should_run_async` will not call `transform_cell` automatically in the future. Please pass the result to `transformed_cell` argument and any exception that happen during thetransform in `preprocessing_exc_tuple` in IPython 7.17 and above.\n",
      "\n"
     ]
    },
    {
     "data": {
      "text/plain": [
       "[[('connection', 1), ('date', 1)]]"
      ]
     },
     "execution_count": 52,
     "metadata": {},
     "output_type": "execute_result"
    }
   ],
   "source": [
    "[[(id2word[id], freq) for id, freq in cp] for cp in corpus[:1]]"
   ]
  },
  {
   "cell_type": "markdown",
   "id": "fae7e48e",
   "metadata": {},
   "source": [
    "# Topic Modeling "
   ]
  },
  {
   "cell_type": "markdown",
   "id": "f2d26b3f",
   "metadata": {},
   "source": [
    "## LDA"
   ]
  },
  {
   "cell_type": "code",
   "execution_count": 53,
   "id": "48d6013b",
   "metadata": {},
   "outputs": [
    {
     "name": "stderr",
     "output_type": "stream",
     "text": [
      "C:\\Users\\Manal\\anaconda3\\lib\\site-packages\\ipykernel\\ipkernel.py:287: DeprecationWarning:\n",
      "\n",
      "`should_run_async` will not call `transform_cell` automatically in the future. Please pass the result to `transformed_cell` argument and any exception that happen during thetransform in `preprocessing_exc_tuple` in IPython 7.17 and above.\n",
      "\n"
     ]
    }
   ],
   "source": [
    "lda_model = gensim.models.ldamodel.LdaModel(corpus=corpus,\n",
    "                                           id2word=id2word,\n",
    "                                           num_topics=10, \n",
    "                                           random_state=100,\n",
    "                                           update_every=1,\n",
    "                                           chunksize=100,\n",
    "                                           passes=10,\n",
    "                                           alpha='auto',\n",
    "                                           per_word_topics=True)"
   ]
  },
  {
   "cell_type": "code",
   "execution_count": 54,
   "id": "25b95476",
   "metadata": {},
   "outputs": [
    {
     "name": "stdout",
     "output_type": "stream",
     "text": [
      "[(0,\n",
      "  '0.125*\"year\" + 0.124*\"yesterday\" + 0.103*\"morning\" + 0.097*\"home\" + '\n",
      "  '0.034*\"sister\" + 0.034*\"phone\" + 0.025*\"summer\" + 0.021*\"breakfast\" + '\n",
      "  '0.020*\"book\" + 0.015*\"father\"'),\n",
      " (1,\n",
      "  '0.210*\"work\" + 0.185*\"friend\" + 0.099*\"dinner\" + 0.024*\"coffee\" + '\n",
      "  '0.021*\"talk\" + 0.020*\"evening\" + 0.018*\"mail\" + 0.016*\"team\" + '\n",
      "  '0.016*\"visit\" + 0.013*\"person\"'),\n",
      " (2,\n",
      "  '0.181*\"month\" + 0.057*\"child\" + 0.052*\"baby\" + 0.038*\"class\" + 0.036*\"gift\" '\n",
      "  '+ 0.024*\"state\" + 0.022*\"bonus\" + 0.021*\"gym\" + 0.021*\"head\" + '\n",
      "  '0.020*\"song\"'),\n",
      " (3,\n",
      "  '0.100*\"wife\" + 0.055*\"food\" + 0.033*\"college\" + 0.025*\"smile\" + '\n",
      "  '0.023*\"student\" + 0.023*\"exam\" + 0.022*\"music\" + 0.020*\"grade\" + '\n",
      "  '0.017*\"door\" + 0.017*\"meeting\"'),\n",
      " (4,\n",
      "  '0.215*\"day\" + 0.098*\"son\" + 0.075*\"job\" + 0.065*\"school\" + 0.036*\"mother\" + '\n",
      "  '0.029*\"video\" + 0.018*\"couple\" + 0.017*\"afternoon\" + 0.016*\"help\" + '\n",
      "  '0.014*\"interview\"'),\n",
      " (5,\n",
      "  '0.075*\"money\" + 0.057*\"house\" + 0.053*\"movie\" + 0.051*\"vacation\" + '\n",
      "  '0.043*\"call\" + 0.041*\"girl\" + 0.037*\"tv\" + 0.034*\"boss\" + 0.029*\"mturk\" + '\n",
      "  '0.027*\"part\"'),\n",
      " (6,\n",
      "  '0.091*\"life\" + 0.082*\"girlfriend\" + 0.082*\"thing\" + 0.061*\"brother\" + '\n",
      "  '0.048*\"cat\" + 0.045*\"trip\" + 0.038*\"pizza\" + 0.033*\"goal\" + 0.025*\"flower\" '\n",
      "  '+ 0.022*\"card\"'),\n",
      " (7,\n",
      "  '0.116*\"night\" + 0.099*\"hour\" + 0.091*\"week\" + 0.087*\"husband\" + 0.052*\"lot\" '\n",
      "  '+ 0.025*\"company\" + 0.025*\"sleep\" + 0.024*\"project\" + 0.021*\"meal\" + '\n",
      "  '0.019*\"happiness\"'),\n",
      " (8,\n",
      "  '0.127*\"time\" + 0.078*\"today\" + 0.056*\"daughter\" + 0.048*\"event\" + '\n",
      "  '0.044*\"dog\" + 0.035*\"moment\" + 0.030*\"lunch\" + 0.028*\"boyfriend\" + '\n",
      "  '0.025*\"car\" + 0.019*\"kid\"'),\n",
      " (9,\n",
      "  '0.126*\"family\" + 0.110*\"game\" + 0.058*\"birthday\" + 0.050*\"mom\" + '\n",
      "  '0.041*\"love\" + 0.040*\"restaurant\" + 0.038*\"place\" + 0.032*\"way\" + '\n",
      "  '0.031*\"fun\" + 0.031*\"minute\"')]\n"
     ]
    },
    {
     "name": "stderr",
     "output_type": "stream",
     "text": [
      "C:\\Users\\Manal\\anaconda3\\lib\\site-packages\\ipykernel\\ipkernel.py:287: DeprecationWarning:\n",
      "\n",
      "`should_run_async` will not call `transform_cell` automatically in the future. Please pass the result to `transformed_cell` argument and any exception that happen during thetransform in `preprocessing_exc_tuple` in IPython 7.17 and above.\n",
      "\n"
     ]
    }
   ],
   "source": [
    "pprint(lda_model.print_topics())\n",
    "doc_lda = lda_model[corpus]"
   ]
  },
  {
   "cell_type": "code",
   "execution_count": 55,
   "id": "192ef191",
   "metadata": {},
   "outputs": [
    {
     "name": "stderr",
     "output_type": "stream",
     "text": [
      "C:\\Users\\Manal\\anaconda3\\lib\\site-packages\\ipykernel\\ipkernel.py:287: DeprecationWarning:\n",
      "\n",
      "`should_run_async` will not call `transform_cell` automatically in the future. Please pass the result to `transformed_cell` argument and any exception that happen during thetransform in `preprocessing_exc_tuple` in IPython 7.17 and above.\n",
      "\n"
     ]
    },
    {
     "name": "stdout",
     "output_type": "stream",
     "text": [
      "\n",
      "Perplexity:  -7.578415474572545\n",
      "\n",
      "Coherence Score:  0.3190302762591635\n"
     ]
    }
   ],
   "source": [
    "# Compute Perplexity\n",
    "print('\\nPerplexity: ', lda_model.log_perplexity(corpus))  # a measure of how good the model is. lower the better.\n",
    " \n",
    "# Compute Coherence Score\n",
    "coherence_model_lda = CoherenceModel(model=lda_model, texts=data_lemmatized, dictionary=id2word, coherence='c_v')\n",
    "coherence_lda = coherence_model_lda.get_coherence()\n",
    "print('\\nCoherence Score: ', coherence_lda)"
   ]
  },
  {
   "cell_type": "code",
   "execution_count": 56,
   "id": "a9582ff9",
   "metadata": {},
   "outputs": [
    {
     "name": "stderr",
     "output_type": "stream",
     "text": [
      "C:\\Users\\Manal\\anaconda3\\lib\\site-packages\\ipykernel\\ipkernel.py:287: DeprecationWarning:\n",
      "\n",
      "`should_run_async` will not call `transform_cell` automatically in the future. Please pass the result to `transformed_cell` argument and any exception that happen during thetransform in `preprocessing_exc_tuple` in IPython 7.17 and above.\n",
      "\n"
     ]
    },
    {
     "data": {
      "text/html": [
       "\n",
       "<link rel=\"stylesheet\" type=\"text/css\" href=\"https://cdn.jsdelivr.net/gh/bmabey/pyLDAvis@3.3.1/pyLDAvis/js/ldavis.v1.0.0.css\">\n",
       "\n",
       "\n",
       "<div id=\"ldavis_el1210424481635698406560180343\"></div>\n",
       "<script type=\"text/javascript\">\n",
       "\n",
       "var ldavis_el1210424481635698406560180343_data = {\"mdsDat\": {\"x\": [0.45210819511310335, -0.026653631797312987, -0.019677650467953302, -0.03718082589236842, -0.0451758986106327, -0.06751993902998094, -0.0675766456287324, -0.057675184238027734, -0.06242628811456913, -0.06822213133352596], \"y\": [-0.024568627050117593, 0.439576540435063, 0.019185348449040636, -0.10393152392155587, -0.10428090831070343, -0.04692808432879447, -0.04559654317762843, -0.04438657227505095, -0.04487676913497616, -0.04419286068527711], \"topics\": [1, 2, 3, 4, 5, 6, 7, 8, 9, 10], \"cluster\": [1, 1, 1, 1, 1, 1, 1, 1, 1, 1], \"Freq\": [19.53580966870132, 12.774060741784222, 11.61449009524793, 10.509683595784988, 9.9385431048977, 8.265812387274748, 7.579520304125026, 6.88038835744351, 6.68083738386169, 6.220854360878867]}, \"tinfo\": {\"Term\": [\"day\", \"work\", \"friend\", \"time\", \"month\", \"year\", \"yesterday\", \"night\", \"family\", \"son\", \"today\", \"dinner\", \"morning\", \"hour\", \"game\", \"home\", \"week\", \"husband\", \"job\", \"wife\", \"daughter\", \"school\", \"life\", \"event\", \"girlfriend\", \"thing\", \"dog\", \"money\", \"lot\", \"birthday\", \"time\", \"today\", \"daughter\", \"event\", \"dog\", \"moment\", \"lunch\", \"boyfriend\", \"car\", \"kid\", \"show\", \"people\", \"weekend\", \"bed\", \"walk\", \"sale\", \"store\", \"coworker\", \"park\", \"parent\", \"promotion\", \"hand\", \"weather\", \"item\", \"beach\", \"playing\", \"cooking\", \"bar\", \"piece\", \"pound\", \"day\", \"son\", \"job\", \"school\", \"mother\", \"video\", \"couple\", \"afternoon\", \"help\", \"interview\", \"face\", \"office\", \"computer\", \"task\", \"bit\", \"problem\", \"rain\", \"date\", \"yard\", \"opportunity\", \"position\", \"dream\", \"puppy\", \"workout\", \"test\", \"bill\", \"pay\", \"law\", \"see\", \"offer\", \"work\", \"friend\", \"dinner\", \"coffee\", \"talk\", \"evening\", \"mail\", \"team\", \"visit\", \"person\", \"tonight\", \"laugh\", \"dish\", \"email\", \"mine\", \"baseball\", \"catch\", \"issue\", \"road\", \"group\", \"joke\", \"treat\", \"award\", \"client\", \"turn\", \"nap\", \"basketball\", \"manager\", \"need\", \"situation\", \"night\", \"hour\", \"week\", \"husband\", \"lot\", \"company\", \"sleep\", \"project\", \"meal\", \"happiness\", \"film\", \"play\", \"package\", \"deal\", \"drink\", \"reason\", \"season\", \"heart\", \"doctor\", \"stress\", \"level\", \"reading\", \"health\", \"pool\", \"text\", \"working\", \"account\", \"pm\", \"hit\", \"sense\", \"year\", \"yesterday\", \"morning\", \"home\", \"sister\", \"phone\", \"summer\", \"breakfast\", \"book\", \"father\", \"dollar\", \"ice_cream\", \"picture\", \"garden\", \"niece\", \"cousin\", \"chicken\", \"step\", \"thought\", \"use\", \"toddler\", \"weight\", \"marriage\", \"check\", \"relief\", \"radio\", \"title\", \"childhood\", \"paper\", \"plant\", \"family\", \"game\", \"birthday\", \"mom\", \"love\", \"restaurant\", \"place\", \"way\", \"fun\", \"minute\", \"surprise\", \"town\", \"dad\", \"party\", \"member\", \"memory\", \"fiance\", \"run\", \"table\", \"mile\", \"hospital\", \"box\", \"change\", \"church\", \"video_game\", \"graduation\", \"ground\", \"celebrate\", \"occasion\", \"sport\", \"wife\", \"food\", \"college\", \"smile\", \"student\", \"exam\", \"music\", \"grade\", \"door\", \"meeting\", \"grandmother\", \"water\", \"apartment\", \"word\", \"room\", \"mood\", \"episode\", \"result\", \"mind\", \"kitchen\", \"hug\", \"bike\", \"progress\", \"ball\", \"match\", \"nephew\", \"drive\", \"semester\", \"name\", \"activity\", \"month\", \"child\", \"baby\", \"class\", \"gift\", \"state\", \"bonus\", \"gym\", \"head\", \"song\", \"neighbor\", \"number\", \"boy\", \"joy\", \"birth\", \"function\", \"exercise\", \"business\", \"course\", \"service\", \"toy\", \"yoga\", \"buy\", \"self\", \"employer\", \"fan\", \"pet\", \"payment\", \"peace\", \"training\", \"life\", \"girlfriend\", \"thing\", \"brother\", \"cat\", \"trip\", \"pizza\", \"goal\", \"flower\", \"card\", \"care\", \"city\", \"partner\", \"ticket\", \"dress\", \"amazon\", \"band\", \"bag\", \"surgery\", \"stuff\", \"career\", \"crush\", \"kiss\", \"website\", \"eye\", \"grandson\", \"d\", \"kitten\", \"hope\", \"hike\", \"money\", \"house\", \"movie\", \"vacation\", \"call\", \"girl\", \"tv\", \"boss\", \"mturk\", \"part\", \"watch\", \"shopping\", \"plan\", \"conversation\", \"feeling\", \"end\", \"amount\", \"program\", \"chance\", \"story\", \"wedding\", \"teacher\", \"price\", \"lap\", \"chore\", \"graduate\", \"tomorrow\", \"holiday\", \"question\", \"practice\"], \"Freq\": [10497.0, 9336.0, 8229.0, 9501.0, 4758.0, 4734.0, 4723.0, 4650.0, 3994.0, 4790.0, 5794.0, 4374.0, 3926.0, 3978.0, 3468.0, 3669.0, 3637.0, 3491.0, 3656.0, 2902.0, 4198.0, 3164.0, 2326.0, 3585.0, 2095.0, 2086.0, 3266.0, 1792.0, 2080.0, 1837.0, 9500.164287922116, 5793.968030398178, 4197.256340598057, 3584.3496197123077, 3266.0403530902504, 2583.1863717624633, 2241.948188010305, 2104.3717655351875, 1881.0180551096546, 1403.3845348287653, 1256.8283833343116, 1102.9998984608517, 1005.702191133918, 959.2823851968126, 788.4527277332347, 759.3033319301172, 739.626120287254, 729.9865403083477, 685.2469490460015, 616.121999708131, 514.904880565823, 488.1062559435768, 469.35385753719106, 428.33534741305397, 417.152152752599, 404.95161834627055, 384.4618279142778, 381.09583724188053, 376.7869590336497, 360.55929693943784, 10496.25963155539, 4789.954808677345, 3655.6285958594585, 3163.854032479766, 1751.3715527764505, 1395.654155559251, 862.1322425952936, 826.9872020016643, 760.9795214830325, 684.2132700984367, 678.9058951414901, 659.0794223385503, 604.13895499453, 557.7512433011965, 556.7832246554005, 531.2218686609297, 526.8263294494126, 509.76459171846983, 448.94146560921985, 430.10237546142565, 387.74805964043503, 373.3002586222937, 371.5500658194949, 366.84642976438244, 343.07460823959326, 299.20112679307925, 283.5850078164682, 274.7769517936873, 244.84689801380483, 232.26340563290407, 9335.940502325673, 8228.824176894737, 4373.916396486855, 1064.2420061010075, 927.6524341468553, 868.2470188781909, 793.9854969359282, 706.345965341345, 691.3745502377789, 563.2330359399971, 526.4818008872863, 505.39755114472126, 493.51871639872684, 411.92262773923005, 397.579416268463, 394.5890429887802, 342.45843243386116, 339.20975173937614, 333.76454877697176, 309.7734520403744, 285.9869554408936, 264.8586074564736, 264.2227579241963, 255.33082480622974, 221.02439710854622, 215.87475982245522, 215.45161094782276, 208.6804230345691, 208.2733718780271, 207.71077832858776, 4650.065049724706, 3978.0787844914344, 3636.734771025059, 3490.1649147674093, 2079.5798265780163, 1021.7439666491343, 994.2039836813329, 981.818048315464, 847.0498238005606, 760.6410264162452, 617.5786000038179, 548.2374969441157, 465.86325175319945, 421.70348821488966, 412.73575148298085, 359.52878083391346, 313.0873946704837, 303.0803536734458, 275.7958165516336, 267.212735152266, 265.30030385890893, 249.51673866301732, 247.63065413761268, 245.5335897805488, 244.17266421749014, 242.42138015352586, 238.27139957221272, 236.0617116641355, 221.89909911089606, 218.12777151115694, 4733.446054939427, 4722.714473820199, 3925.6330834328487, 3668.9937900182667, 1301.1536380844138, 1291.8389391524493, 934.4548095894645, 800.9392680401019, 755.5423118339003, 582.594872525909, 577.5848939592577, 508.4913399921293, 396.8178309605799, 362.0003843529087, 350.43364766129065, 332.33879887534897, 332.17968962613526, 321.0106376438767, 309.71384558423205, 300.3371863489506, 280.25722068764986, 266.11584241967955, 264.8330307289195, 238.38031348269624, 234.282357337327, 223.90413031090148, 229.00197438759315, 218.00448029996357, 210.45218419647577, 201.51563055173452, 3993.5457072180725, 3467.9659724229746, 1836.5928110202453, 1574.87064272197, 1310.1443279993584, 1275.278628619182, 1203.3747710303896, 1018.8855435938092, 979.8982903848504, 974.7132141309571, 939.1318916354824, 799.0161799383113, 732.4947023377906, 710.1275533227458, 518.3502059518848, 494.8636494349076, 453.77082301050547, 406.8077398771804, 378.75843155651444, 334.86343914068846, 323.5714475841324, 272.0386123059168, 261.464773399715, 246.96389014526807, 220.83201351694615, 201.439215356332, 181.26305548467238, 172.51524675701324, 158.28681795867016, 151.4938986314246, 2901.838956654351, 1587.9977556123442, 952.4106365406975, 713.5090129350787, 678.2654637685077, 665.4144427007374, 631.3033015365997, 576.0008704866941, 502.28295974476174, 500.93742622345957, 483.9454264902865, 458.1524917960785, 453.35277133456685, 408.17868419743616, 402.14746396478404, 368.03740164407276, 367.79984032159786, 362.5928834377373, 357.588857002367, 354.13378001633083, 347.49498213706283, 341.4872537200187, 341.53477677294796, 331.05087303794465, 319.9987154992147, 314.4969376780275, 314.18277847228404, 310.55886249002936, 298.125785365614, 279.99800624430037, 4757.883082021532, 1488.4628800196833, 1363.9782130998115, 999.5371944968387, 940.3187913713706, 633.4557469385586, 577.3249306844348, 556.4263427281801, 542.2983619672434, 523.9961282839138, 479.7234965519781, 478.6069608951643, 459.9611288124021, 398.82600287829916, 373.1242109320284, 371.06435884855523, 339.3882785000081, 323.05430493689977, 321.31466971719874, 287.91246892139515, 276.0808242784279, 251.42973243987055, 238.05103808453705, 218.88263480058563, 207.1874844626516, 206.34185633681417, 194.006345721186, 192.63919917534614, 169.85741826709227, 164.1292603129772, 2325.451822288832, 2095.026581713966, 2085.2888896053296, 1552.3196544668258, 1225.0676997013659, 1148.1616892739983, 967.6943029256227, 846.9062971376969, 628.3828228903526, 560.963221868187, 447.31525838389757, 436.26262314448036, 423.83718081021806, 373.0168111851186, 357.1561655052043, 353.87553549330147, 336.6685898343726, 297.54304084773185, 295.0421004124168, 291.0109505379389, 288.4994548026877, 270.5485744570448, 267.5311612939995, 259.42043554060706, 258.23938306126814, 214.12381602982634, 196.4142098712368, 189.70813541148325, 184.46171153906727, 183.5208396796712, 1791.869348843497, 1354.2908837568623, 1249.6857404808754, 1218.3617786683233, 1029.755155816313, 966.7000997588206, 890.430860212877, 817.9171915645665, 685.4924536523283, 643.1305808444175, 604.6095925702003, 594.3266651948413, 555.99131266323, 527.1007596168579, 466.6583727886533, 452.7509662003395, 412.13640697540706, 401.20523763886604, 388.2595685264951, 369.131560666455, 363.6157263993632, 356.9500617747494, 340.8825422559596, 246.83109864290097, 244.36915607369, 230.92811888976703, 226.6920777091311, 217.31056615474225, 196.49020936100723, 178.91409505822102], \"Total\": [10497.0, 9336.0, 8229.0, 9501.0, 4758.0, 4734.0, 4723.0, 4650.0, 3994.0, 4790.0, 5794.0, 4374.0, 3926.0, 3978.0, 3468.0, 3669.0, 3637.0, 3491.0, 3656.0, 2902.0, 4198.0, 3164.0, 2326.0, 3585.0, 2095.0, 2086.0, 3266.0, 1792.0, 2080.0, 1837.0, 9501.060915852942, 5794.864705347343, 4198.152965220468, 3585.2462545706753, 3266.936964348396, 2584.0829804073437, 2242.844842983074, 2105.2683911191625, 1881.9146468273195, 1404.2812008858812, 1257.725072527873, 1103.8965011643113, 1006.5987870492435, 960.179039213529, 789.3493764215508, 760.2000373179718, 740.5227547379759, 730.8832314218268, 686.1435528366118, 617.0185968622837, 515.8014532982143, 489.00291438322415, 470.2504344541856, 429.23197523512533, 418.0487221882937, 405.84841180032174, 385.35852941370194, 381.9924967902707, 377.683635290387, 361.4559632096289, 10497.153713674075, 4790.848926592713, 3656.522654860957, 3164.7481194410257, 1752.2656109394936, 1396.5483079833757, 863.0263491388342, 827.8813955947726, 761.8736429037235, 685.1073205208584, 679.8000487842745, 659.9735727192267, 605.0330344781274, 558.6453947278159, 557.6773599655081, 532.1159724526116, 527.7204591970499, 510.6586775324333, 449.83565129519974, 430.99650771357346, 388.64212462791045, 374.1943342927507, 372.44421020500846, 367.7405306305124, 343.9686414346566, 300.09520601767105, 284.4790553626915, 275.6710836836883, 245.74102040073686, 233.15742775698712, 9336.840238129902, 8229.723882891487, 4374.816154104564, 1065.1417354361756, 928.5522188986714, 869.1467954268901, 794.8852583720635, 707.2456434011266, 692.2742809179963, 564.1327492370823, 527.381631020886, 506.29733254127444, 494.4185170565709, 412.82241726717564, 398.4791296394441, 395.4887908936701, 343.3582176299245, 340.1095060602935, 334.66426562481104, 310.6731542668291, 286.8866983792846, 265.7584732066996, 265.12244133530044, 256.23050707577215, 221.92426795111822, 216.7744592170581, 216.35129780388291, 209.58014141513183, 209.173406534076, 208.61050166141436, 4650.967286510566, 3978.981023675151, 3637.636927085582, 3491.067109034219, 2080.482033539652, 1022.6461706368422, 995.1061916865114, 982.7202322167428, 847.9520323056489, 761.5431683849015, 618.4811905384073, 549.1396895008172, 466.76550351975055, 422.6057475764384, 413.63798179635745, 360.4309749252374, 313.989569370309, 303.98254787140723, 276.69801373971484, 268.11493854015345, 266.2024633931213, 250.41896697995213, 248.53293529823188, 246.43579729866212, 245.0748947357036, 243.32358056231593, 239.1736932299437, 236.96425191165628, 222.80131428691226, 219.0299638630772, 4734.351590520888, 4723.620119293788, 3926.538713305074, 3669.8993614186265, 1302.0591498015945, 1292.7445536697883, 935.3603907204462, 801.8448360870833, 756.4478334892432, 583.500447712311, 578.4904880132678, 509.3969312943906, 397.7233958254369, 362.9059142397203, 351.33917294734823, 333.2442963161866, 333.0852674601255, 321.9162652097647, 310.61939880001137, 301.2427593436059, 281.16279447828333, 267.0213544902691, 265.7385231690322, 239.28586312498155, 235.18798444190438, 224.80981203391866, 229.94793370355018, 218.90994236527652, 211.3576909342712, 202.4211903667446, 3994.430431549074, 3468.8507199753863, 1837.477499362477, 1575.75540239776, 1311.0290801375556, 1276.1633680687537, 1204.2595063151857, 1019.7702969465631, 980.7830413462418, 975.5979933841403, 940.0166427579064, 799.9009575283051, 733.3794592419177, 711.012254167512, 519.2349265759657, 495.74850458215565, 454.6555714918558, 407.6925452196156, 379.6432690167214, 335.74817746511053, 324.45619532339055, 272.92357733660975, 262.34950758317774, 247.84865250388424, 221.71679539581112, 202.3239430518188, 182.14778827804702, 173.40005504620217, 159.17162631835626, 152.37865016721912, 2902.733037960309, 1588.891844244208, 953.3046314771765, 714.4031141024714, 679.1595186787176, 666.3084719033054, 632.1974036517162, 576.894889693353, 503.1770687158817, 501.8315406911629, 484.8395997878522, 459.0466398936766, 454.24678760661186, 409.0727863376322, 403.04150828776136, 368.93153372075767, 368.6940018552305, 363.4869237903304, 358.4830708227752, 355.0278790944931, 348.3891093245468, 342.38126671773324, 342.4289195262859, 331.9449749032847, 320.8928601758019, 315.3910342852856, 315.0768741665575, 311.45281865511953, 299.0198422405338, 280.89223595182443, 4758.772962181286, 1489.3528251163837, 1364.8681294401476, 1000.4270796392088, 941.2087081713025, 634.3456653491362, 578.2148380941649, 557.3162499217552, 543.188376903891, 524.8860673917396, 480.6134891349573, 479.4969581294863, 460.85107979185324, 399.7159093202923, 374.01408150546035, 371.9544283532732, 340.2782124967111, 323.9442116576962, 322.20458665910905, 288.8024156610531, 276.9708079861703, 252.31970322585767, 238.94103620704684, 219.77281435756373, 208.07757130438736, 207.23194180071113, 194.89630781456404, 193.52910191626594, 170.74745950207415, 165.01920243872544, 2326.3389748185496, 2095.9137572629306, 2086.176088649323, 1553.2068483304622, 1225.9548501965417, 1149.0488400335091, 968.5815118188062, 847.7934935044708, 629.270009309958, 561.8503818201367, 448.2024741749934, 437.14981346130656, 424.72433539025167, 373.9039659416355, 358.0433667820052, 354.76275270928613, 337.55575569955636, 298.43024890150286, 295.92932770000306, 291.89828113253134, 289.3866511215956, 271.43590428446396, 268.41839351112066, 260.3077196239065, 259.1265675755743, 215.0110640015783, 197.30136284530897, 190.59528445883745, 185.34919210211785, 184.40799033913245, 1792.7616653302096, 1355.1832030801625, 1250.5780666751616, 1219.2541173486466, 1030.647589215362, 967.5924150208622, 891.3232263398555, 818.8095338037907, 686.3848142439518, 644.0229231296948, 605.5019373833808, 595.2190244266794, 556.883650456514, 527.9931192961296, 467.5507644524246, 453.64328792969695, 413.0287369131527, 402.09752205844103, 389.1518771021773, 370.02398636539857, 364.5080045699578, 357.8423942699542, 341.77499075171534, 247.72343124082684, 245.26169959205487, 231.82041217697054, 227.58445506729885, 218.20287554635894, 197.3825622001805, 179.8064777821823], \"Category\": [\"Default\", \"Default\", \"Default\", \"Default\", \"Default\", \"Default\", \"Default\", \"Default\", \"Default\", \"Default\", \"Default\", \"Default\", \"Default\", \"Default\", \"Default\", \"Default\", \"Default\", \"Default\", \"Default\", \"Default\", \"Default\", \"Default\", \"Default\", \"Default\", \"Default\", \"Default\", \"Default\", \"Default\", \"Default\", \"Default\", \"Topic1\", \"Topic1\", \"Topic1\", \"Topic1\", \"Topic1\", \"Topic1\", \"Topic1\", \"Topic1\", \"Topic1\", \"Topic1\", \"Topic1\", \"Topic1\", \"Topic1\", \"Topic1\", \"Topic1\", \"Topic1\", \"Topic1\", \"Topic1\", \"Topic1\", \"Topic1\", \"Topic1\", \"Topic1\", \"Topic1\", \"Topic1\", \"Topic1\", \"Topic1\", \"Topic1\", \"Topic1\", \"Topic1\", \"Topic1\", \"Topic2\", \"Topic2\", \"Topic2\", \"Topic2\", \"Topic2\", \"Topic2\", \"Topic2\", \"Topic2\", \"Topic2\", \"Topic2\", \"Topic2\", \"Topic2\", \"Topic2\", \"Topic2\", \"Topic2\", \"Topic2\", \"Topic2\", \"Topic2\", \"Topic2\", \"Topic2\", \"Topic2\", \"Topic2\", \"Topic2\", \"Topic2\", \"Topic2\", \"Topic2\", \"Topic2\", \"Topic2\", \"Topic2\", \"Topic2\", \"Topic3\", \"Topic3\", \"Topic3\", \"Topic3\", \"Topic3\", \"Topic3\", \"Topic3\", \"Topic3\", \"Topic3\", \"Topic3\", \"Topic3\", \"Topic3\", \"Topic3\", \"Topic3\", \"Topic3\", \"Topic3\", \"Topic3\", \"Topic3\", \"Topic3\", \"Topic3\", \"Topic3\", \"Topic3\", \"Topic3\", \"Topic3\", \"Topic3\", \"Topic3\", \"Topic3\", \"Topic3\", \"Topic3\", \"Topic3\", \"Topic4\", \"Topic4\", \"Topic4\", \"Topic4\", \"Topic4\", \"Topic4\", \"Topic4\", \"Topic4\", \"Topic4\", \"Topic4\", \"Topic4\", \"Topic4\", \"Topic4\", \"Topic4\", \"Topic4\", \"Topic4\", \"Topic4\", \"Topic4\", \"Topic4\", \"Topic4\", \"Topic4\", \"Topic4\", \"Topic4\", \"Topic4\", \"Topic4\", \"Topic4\", \"Topic4\", \"Topic4\", \"Topic4\", \"Topic4\", \"Topic5\", \"Topic5\", \"Topic5\", \"Topic5\", \"Topic5\", \"Topic5\", \"Topic5\", \"Topic5\", \"Topic5\", \"Topic5\", \"Topic5\", \"Topic5\", \"Topic5\", \"Topic5\", \"Topic5\", \"Topic5\", \"Topic5\", \"Topic5\", \"Topic5\", \"Topic5\", \"Topic5\", \"Topic5\", \"Topic5\", \"Topic5\", \"Topic5\", \"Topic5\", \"Topic5\", \"Topic5\", \"Topic5\", \"Topic5\", \"Topic6\", \"Topic6\", \"Topic6\", \"Topic6\", \"Topic6\", \"Topic6\", \"Topic6\", \"Topic6\", \"Topic6\", \"Topic6\", \"Topic6\", \"Topic6\", \"Topic6\", \"Topic6\", \"Topic6\", \"Topic6\", \"Topic6\", \"Topic6\", \"Topic6\", \"Topic6\", \"Topic6\", \"Topic6\", \"Topic6\", \"Topic6\", \"Topic6\", \"Topic6\", \"Topic6\", \"Topic6\", \"Topic6\", \"Topic6\", \"Topic7\", \"Topic7\", \"Topic7\", \"Topic7\", \"Topic7\", \"Topic7\", \"Topic7\", \"Topic7\", \"Topic7\", \"Topic7\", \"Topic7\", \"Topic7\", \"Topic7\", \"Topic7\", \"Topic7\", \"Topic7\", \"Topic7\", \"Topic7\", \"Topic7\", \"Topic7\", \"Topic7\", \"Topic7\", \"Topic7\", \"Topic7\", \"Topic7\", \"Topic7\", \"Topic7\", \"Topic7\", \"Topic7\", \"Topic7\", \"Topic8\", \"Topic8\", \"Topic8\", \"Topic8\", \"Topic8\", \"Topic8\", \"Topic8\", \"Topic8\", \"Topic8\", \"Topic8\", \"Topic8\", \"Topic8\", \"Topic8\", \"Topic8\", \"Topic8\", \"Topic8\", \"Topic8\", \"Topic8\", \"Topic8\", \"Topic8\", \"Topic8\", \"Topic8\", \"Topic8\", \"Topic8\", \"Topic8\", \"Topic8\", \"Topic8\", \"Topic8\", \"Topic8\", \"Topic8\", \"Topic9\", \"Topic9\", \"Topic9\", \"Topic9\", \"Topic9\", \"Topic9\", \"Topic9\", \"Topic9\", \"Topic9\", \"Topic9\", \"Topic9\", \"Topic9\", \"Topic9\", \"Topic9\", \"Topic9\", \"Topic9\", \"Topic9\", \"Topic9\", \"Topic9\", \"Topic9\", \"Topic9\", \"Topic9\", \"Topic9\", \"Topic9\", \"Topic9\", \"Topic9\", \"Topic9\", \"Topic9\", \"Topic9\", \"Topic9\", \"Topic10\", \"Topic10\", \"Topic10\", \"Topic10\", \"Topic10\", \"Topic10\", \"Topic10\", \"Topic10\", \"Topic10\", \"Topic10\", \"Topic10\", \"Topic10\", \"Topic10\", \"Topic10\", \"Topic10\", \"Topic10\", \"Topic10\", \"Topic10\", \"Topic10\", \"Topic10\", \"Topic10\", \"Topic10\", \"Topic10\", \"Topic10\", \"Topic10\", \"Topic10\", \"Topic10\", \"Topic10\", \"Topic10\", \"Topic10\"], \"logprob\": [30.0, 29.0, 28.0, 27.0, 26.0, 25.0, 24.0, 23.0, 22.0, 21.0, 20.0, 19.0, 18.0, 17.0, 16.0, 15.0, 14.0, 13.0, 12.0, 11.0, 10.0, 9.0, 8.0, 7.0, 6.0, 5.0, 4.0, 3.0, 2.0, 1.0, -2.0614, -2.5559, -2.8783, -3.0361, -3.1291, -3.3637, -3.5054, -3.5687, -3.6809, -3.9738, -4.0841, -4.2147, -4.307, -4.3543, -4.5504, -4.5881, -4.6143, -4.6274, -4.6907, -4.797, -4.9765, -5.0299, -5.0691, -5.1606, -5.187, -5.2167, -5.2686, -5.2774, -5.2888, -5.3328, -1.5369, -2.3214, -2.5916, -2.7361, -3.3275, -3.5545, -4.0362, -4.0778, -4.161, -4.2674, -4.2752, -4.3048, -4.3918, -4.4717, -4.4735, -4.5205, -4.5288, -4.5617, -4.6887, -4.7316, -4.8353, -4.8733, -4.878, -4.8907, -4.9577, -5.0945, -5.1481, -5.1797, -5.295, -5.3478, -1.5588, -1.6851, -2.3171, -3.7305, -3.8678, -3.934, -4.0234, -4.1404, -4.1618, -4.3668, -4.4343, -4.4751, -4.4989, -4.6796, -4.7151, -4.7226, -4.8643, -4.8739, -4.89, -4.9646, -5.0445, -5.1213, -5.1237, -5.1579, -5.3022, -5.3258, -5.3277, -5.3597, -5.3616, -5.3643, -2.1559, -2.312, -2.4017, -2.4428, -2.9606, -3.6713, -3.6986, -3.7111, -3.8588, -3.9664, -4.1747, -4.2938, -4.4566, -4.5562, -4.5777, -4.7157, -4.854, -4.8865, -4.9809, -5.0125, -5.0197, -5.081, -5.0886, -5.0971, -5.1026, -5.1098, -5.1271, -5.1364, -5.1983, -5.2154, -2.0822, -2.0845, -2.2694, -2.337, -3.3736, -3.3808, -3.7047, -3.8589, -3.9172, -4.1771, -4.1858, -4.3132, -4.5612, -4.653, -4.6855, -4.7385, -4.739, -4.7732, -4.809, -4.8397, -4.9089, -4.9607, -4.9655, -5.0708, -5.0881, -5.1334, -5.1109, -5.1601, -5.1954, -5.2388, -2.0679, -2.209, -2.8447, -2.9984, -3.1825, -3.2094, -3.2675, -3.4339, -3.4729, -3.4782, -3.5154, -3.677, -3.7639, -3.7949, -4.1097, -4.1561, -4.2428, -4.352, -4.4234, -4.5466, -4.5809, -4.7544, -4.794, -4.8511, -4.9629, -5.0549, -5.1604, -5.2099, -5.2959, -5.3398, -2.3006, -2.9034, -3.4147, -3.7035, -3.7541, -3.7733, -3.8259, -3.9176, -4.0545, -4.0572, -4.0917, -4.1465, -4.157, -4.262, -4.2769, -4.3655, -4.3661, -4.3804, -4.3943, -4.404, -4.4229, -4.4404, -4.4402, -4.4714, -4.5054, -4.5227, -4.5237, -4.5353, -4.5762, -4.6389, -1.7093, -2.8714, -2.9587, -3.2696, -3.3307, -3.7257, -3.8185, -3.8554, -3.8811, -3.9154, -4.0037, -4.006, -4.0458, -4.1884, -4.255, -4.2605, -4.3498, -4.3991, -4.4045, -4.5142, -4.5562, -4.6497, -4.7044, -4.7884, -4.8433, -4.8474, -4.909, -4.9161, -5.0419, -5.0762, -2.3958, -2.5001, -2.5048, -2.8, -3.0367, -3.1015, -3.2725, -3.4059, -3.7043, -3.8178, -4.0442, -4.0692, -4.0981, -4.2258, -4.2693, -4.2785, -4.3284, -4.4519, -4.4603, -4.4741, -4.4828, -4.547, -4.5582, -4.589, -4.5936, -4.7809, -4.8672, -4.902, -4.93, -4.9351, -2.5851, -2.8651, -2.9455, -2.9709, -3.1391, -3.2022, -3.2844, -3.3694, -3.546, -3.6098, -3.6715, -3.6887, -3.7554, -3.8087, -3.9305, -3.9608, -4.0548, -4.0817, -4.1145, -4.165, -4.18, -4.1985, -4.2446, -4.5674, -4.5774, -4.634, -4.6525, -4.6948, -4.7955, -4.8892], \"loglift\": [30.0, 29.0, 28.0, 27.0, 26.0, 25.0, 24.0, 23.0, 22.0, 21.0, 20.0, 19.0, 18.0, 17.0, 16.0, 15.0, 14.0, 13.0, 12.0, 11.0, 10.0, 9.0, 8.0, 7.0, 6.0, 5.0, 4.0, 3.0, 2.0, 1.0, 1.6328, 1.6328, 1.6327, 1.6327, 1.6326, 1.6326, 1.6325, 1.6325, 1.6324, 1.6323, 1.6322, 1.6321, 1.632, 1.632, 1.6318, 1.6317, 1.6317, 1.6317, 1.6316, 1.6315, 1.6312, 1.6311, 1.631, 1.6308, 1.6308, 1.6307, 1.6306, 1.6306, 1.6305, 1.6304, 2.0577, 2.0576, 2.0575, 2.0575, 2.0572, 2.0571, 2.0567, 2.0567, 2.0566, 2.0564, 2.0564, 2.0564, 2.0563, 2.0562, 2.0561, 2.0561, 2.0561, 2.056, 2.0558, 2.0557, 2.0555, 2.0554, 2.0553, 2.0553, 2.0552, 2.0548, 2.0546, 2.0545, 2.0541, 2.0539, 2.1528, 2.1528, 2.1527, 2.1521, 2.1519, 2.1519, 2.1518, 2.1516, 2.1516, 2.1513, 2.1512, 2.1511, 2.1511, 2.1507, 2.1507, 2.1506, 2.1503, 2.1503, 2.1502, 2.15, 2.1498, 2.1495, 2.1495, 2.1494, 2.1489, 2.1488, 2.1487, 2.1486, 2.1486, 2.1486, 2.2527, 2.2526, 2.2526, 2.2526, 2.2524, 2.252, 2.252, 2.252, 2.2518, 2.2517, 2.2514, 2.2512, 2.2509, 2.2507, 2.2507, 2.2504, 2.25, 2.2499, 2.2496, 2.2495, 2.2495, 2.2493, 2.2492, 2.2492, 2.2492, 2.2492, 2.2491, 2.2491, 2.2488, 2.2487, 2.3086, 2.3086, 2.3085, 2.3085, 2.3081, 2.308, 2.3078, 2.3076, 2.3076, 2.3072, 2.3072, 2.307, 2.3065, 2.3063, 2.3062, 2.306, 2.306, 2.3059, 2.3058, 2.3057, 2.3055, 2.3054, 2.3053, 2.305, 2.3049, 2.3047, 2.3046, 2.3046, 2.3045, 2.3043, 2.4928, 2.4928, 2.4926, 2.4925, 2.4924, 2.4923, 2.4923, 2.4922, 2.4921, 2.4921, 2.4921, 2.4919, 2.4918, 2.4918, 2.4913, 2.4913, 2.4911, 2.4909, 2.4907, 2.4904, 2.4903, 2.4898, 2.4897, 2.4895, 2.489, 2.4887, 2.4882, 2.4879, 2.4875, 2.4872, 2.5794, 2.5792, 2.5788, 2.5785, 2.5784, 2.5784, 2.5783, 2.5782, 2.5779, 2.5779, 2.5779, 2.5778, 2.5778, 2.5775, 2.5775, 2.5773, 2.5773, 2.5773, 2.5772, 2.5772, 2.5772, 2.5771, 2.5771, 2.577, 2.5769, 2.5769, 2.5769, 2.5768, 2.5767, 2.5765, 2.6763, 2.6759, 2.6758, 2.6756, 2.6755, 2.6751, 2.675, 2.6749, 2.6749, 2.6748, 2.6746, 2.6746, 2.6746, 2.6743, 2.6741, 2.6741, 2.6739, 2.6737, 2.6737, 2.6734, 2.6733, 2.673, 2.6728, 2.6724, 2.6722, 2.6722, 2.6719, 2.6719, 2.6713, 2.6711, 2.7055, 2.7055, 2.7055, 2.7054, 2.7052, 2.7052, 2.705, 2.7049, 2.7045, 2.7043, 2.7039, 2.7039, 2.7038, 2.7036, 2.7034, 2.7034, 2.7033, 2.7029, 2.7029, 2.7029, 2.7029, 2.7027, 2.7026, 2.7025, 2.7025, 2.7018, 2.7014, 2.7013, 2.7011, 2.7011, 2.7768, 2.7766, 2.7765, 2.7765, 2.7764, 2.7763, 2.7763, 2.7762, 2.776, 2.7759, 2.7758, 2.7758, 2.7757, 2.7756, 2.7754, 2.7753, 2.7751, 2.775, 2.775, 2.7748, 2.7748, 2.7748, 2.7746, 2.7737, 2.7736, 2.7734, 2.7733, 2.7732, 2.7727, 2.7723]}, \"token.table\": {\"Topic\": [4, 7, 2, 9, 10, 7, 3, 8, 9, 7, 9, 1, 3, 3, 1, 1, 7, 2, 8, 6, 2, 8, 5, 10, 6, 8, 1, 5, 9, 8, 8, 10, 1, 9, 9, 9, 9, 3, 6, 10, 6, 5, 5, 8, 5, 10, 6, 9, 8, 3, 3, 7, 4, 2, 10, 1, 2, 8, 5, 1, 9, 9, 6, 2, 1, 2, 4, 3, 3, 4, 1, 5, 7, 2, 9, 4, 7, 3, 8, 10, 7, 3, 1, 7, 8, 9, 2, 6, 8, 5, 10, 6, 4, 9, 7, 3, 6, 8, 6, 5, 8, 10, 9, 9, 7, 10, 6, 7, 9, 6, 3, 8, 1, 4, 8, 4, 4, 2, 9, 4, 10, 5, 9, 6, 4, 10, 7, 4, 5, 2, 3, 1, 2, 3, 8, 1, 9, 7, 9, 10, 3, 2, 4, 9, 4, 6, 1, 3, 3, 5, 7, 4, 7, 6, 6, 6, 7, 3, 6, 6, 1, 10, 8, 7, 5, 2, 10, 10, 7, 7, 3, 3, 8, 7, 5, 4, 8, 6, 2, 2, 2, 4, 5, 1, 1, 10, 9, 6, 2, 8, 8, 1, 3, 8, 5, 5, 1, 9, 6, 10, 5, 4, 1, 4, 4, 2, 1, 10, 10, 2, 10, 7, 4, 1, 2, 10, 5, 2, 4, 4, 5, 6, 7, 3, 7, 6, 1, 2, 4, 2, 8, 7, 4, 8, 10, 1, 5, 3, 4, 7, 2, 8, 6, 8, 5, 1, 10, 4, 7, 9, 5, 9, 6, 6, 3, 2, 10, 3, 2, 4, 9, 5, 9, 1, 5, 1, 5, 10, 3, 6, 8, 8, 3, 9, 3, 10, 5, 10, 2, 6, 3, 1, 10, 7, 6, 1, 9, 10, 4, 1, 5, 7, 7, 3, 4, 2, 2, 5, 5, 8], \"Freq\": [0.9950927160337183, 0.9968235649205432, 0.9989353600655086, 0.9978499639450279, 0.9975092848966365, 0.9972552637891374, 0.995766328456968, 0.9993639462879804, 0.9985582932591901, 0.9971532182297382, 0.9983535884363619, 0.9974017898293546, 0.9987640840779188, 0.9937541497666086, 0.9974913876478222, 0.9987720631617883, 0.9959657059190917, 0.9963504714646906, 0.9972886542095459, 0.9997401332192407, 0.9987853909551752, 0.9978989849202607, 0.9994079783569774, 0.9990113283121778, 0.9966159855237766, 0.9981532433595737, 0.9993975157160422, 0.9989463845758414, 0.9992229957447333, 0.9970852646112599, 0.996061638377464, 0.9993716676562016, 0.9995139807063719, 0.9984864621478375, 0.9973171183911762, 0.9952083100024784, 0.9992211375513637, 0.9960443130230003, 0.9976928782052833, 0.9970400320030453, 0.9948560696926413, 0.9946262469993477, 0.9967417728547378, 0.9990916691508085, 0.9958433027050083, 0.9948557006896982, 0.9965759244792709, 0.9973697496238133, 0.9995731026799446, 0.9951976558536479, 0.9989280906022258, 0.9986314642412312, 0.9993681386041472, 0.9982925982231392, 0.9981190677305538, 0.9964746351514034, 0.998810755732014, 0.9962614229933868, 0.9962661136891418, 0.9987915560463624, 0.9983940802318947, 0.9934041872466473, 0.9981190375261618, 0.9987101413107947, 0.9997253636944581, 0.9998900927141257, 0.998566636682269, 0.9998134426508876, 0.9991535166217833, 0.9974773445957171, 0.9997131979102686, 0.9991521243245461, 0.9976607266327029, 0.9968082512659951, 0.9970859206487117, 0.9984576324601846, 0.996582185952536, 0.9980078182948011, 0.9948213000678914, 0.9985819520605436, 0.9981176752218958, 0.9986805503593592, 0.9996523935924662, 0.9980362370306237, 0.9962436252167528, 0.9956524427961415, 0.9988231116109726, 0.9998922420714417, 0.99405525137676, 0.999142335341347, 0.9988220221325708, 0.9985580920306228, 0.9992219803192585, 0.9979817736565092, 0.9994387004707471, 0.9999120404400211, 0.9992016161442117, 0.9974340180395252, 0.9997547545155266, 0.9975037214766308, 0.9987157915552535, 0.9993877432153606, 0.9995640291687746, 0.9990640486031678, 0.9984487820756591, 0.9964610011289936, 0.9934563204342073, 0.9982682937032793, 0.9952976187236073, 0.9936985878944907, 0.9978332396681725, 0.9976382351637153, 0.9979490625644039, 0.9992867529938539, 0.9978122195642981, 0.9978556753550898, 0.9967677490754407, 0.9988532968532763, 0.9977875669140901, 0.9964034579891196, 0.9944873524542376, 0.9997549356726014, 0.9927208093716723, 0.9985939694480611, 0.9997534485162624, 0.9991269054416605, 0.9960127647869361, 0.9996943315608406, 0.9972576762666376, 0.9983837269173879, 0.9967377975607162, 0.9971298148642107, 0.9998570623211476, 0.9969092384404928, 0.9982089546510428, 0.9990876464877028, 0.998441263634553, 0.9971047932992905, 0.9968767094079601, 0.9970796818161155, 0.997437607394132, 0.9975656362839335, 0.9954828990769122, 0.9994244283257757, 0.999768306800116, 0.9992150592590611, 0.9996233163494491, 0.998886306718184, 0.9972318874717109, 0.9972208652316381, 0.9972175754383792, 0.9988772568855573, 0.9983429883860675, 0.9976216419336248, 0.9984901526172297, 0.9977716112392352, 0.9986524584782582, 0.9987976041809827, 0.9993870493910448, 0.9995206093556077, 0.9995809033937552, 0.9995751441226465, 0.9998375711160359, 0.9974750498788679, 0.9998628019881102, 0.9992777288262736, 0.9995377604241066, 0.9979824520950726, 0.998105965565819, 0.9965893827215873, 0.9964273502521687, 0.99439026904271, 0.9987235290959862, 0.9955894932510118, 0.9961883756481976, 0.9997920246583176, 0.9989635843959784, 0.9926392263152924, 0.9950358529508506, 0.9985248307516081, 0.997687898403493, 0.9983599826594337, 0.9935763353191939, 0.9983491634328956, 0.9983333621195096, 0.9984116665836615, 0.9982945752576524, 0.9985763196603451, 0.9983160258948388, 0.9972660343533508, 0.9956224268035738, 0.9991878757081251, 0.9979920519795843, 0.9954011041839907, 0.9994240519771097, 0.9981811584809197, 0.9981899261008189, 0.9993996253162893, 0.9989541238341231, 0.9984132224823091, 0.9979192377735676, 0.9979245909144662, 0.9979095352460338, 0.995930812753918, 0.9982315990475443, 0.9983477739873792, 0.9987385373156384, 0.99551474567474, 0.9977324533020664, 0.9979027646032351, 0.9972705077792509, 0.9987474202620525, 0.9992671035019619, 0.9984461980611155, 0.9988073107519541, 0.9929955200461004, 0.996397790529728, 0.9986347711473115, 0.99832693591462, 0.9988042788904954, 0.9949487876911594, 0.9990883862537802, 0.9986604090588653, 0.9980151283150268, 0.9974158783491408, 0.998301305167985, 0.9984214190225436, 0.999763608536038, 0.9968484004984829, 0.9969845473925011, 0.9964835761883343, 0.9985461083413056, 0.9952976120485457, 0.9972215756602437, 0.9979519733465281, 0.9994235047517852, 0.9991865578443531, 0.9970734854834622, 0.9988883682005469, 0.9994357329993195, 0.9998228024707687, 0.9983118862420131, 0.9909524715850534, 0.9978786560346471, 0.9971537157056428, 0.9992940733628626, 0.997232648684598, 0.9958415650160184, 0.9982927152652246, 0.9969226227402022, 0.9985455972543392, 0.9968596296040481, 0.9989184842994655, 0.9983055961498081, 0.9994052904215486, 0.9988447148514841, 0.9976459070153698, 0.998238740085925, 0.9971839251665021, 0.9956140153120833, 0.9994362467024132, 0.9980059236402998, 0.9975823579743025, 0.9998883371170506, 0.9958776159094682, 0.9998507807530786, 0.9958643373123355, 0.9974319200881887, 0.9973802064015551, 0.9988736636456981, 0.9964949086395459, 0.9938237343068974, 0.9971460055532841, 0.9990872102238243, 0.9958352100937343, 0.9985154360385186, 0.9958745586240353, 0.9989714060991866, 0.9996073834465723, 0.9967670676705773, 0.9981592831726949, 0.9982905206973519, 0.9991710391785865, 0.9977199704720221, 0.9992446368080443, 0.9973409180245905, 0.994976254927069, 0.998606328081719, 0.9998249063613689, 0.9994051383163308, 0.9961750082040486, 0.9997474662841113, 0.9973775172207453, 0.9999100082995455, 0.9945604098079719, 0.997986268662737, 0.9981423186606182, 0.9997145141219351, 0.9998687194824887, 0.9947697179055558], \"Term\": [\"account\", \"activity\", \"afternoon\", \"amazon\", \"amount\", \"apartment\", \"award\", \"baby\", \"bag\", \"ball\", \"band\", \"bar\", \"baseball\", \"basketball\", \"beach\", \"bed\", \"bike\", \"bill\", \"birth\", \"birthday\", \"bit\", \"bonus\", \"book\", \"boss\", \"box\", \"boy\", \"boyfriend\", \"breakfast\", \"brother\", \"business\", \"buy\", \"call\", \"car\", \"card\", \"care\", \"career\", \"cat\", \"catch\", \"celebrate\", \"chance\", \"change\", \"check\", \"chicken\", \"child\", \"childhood\", \"chore\", \"church\", \"city\", \"class\", \"client\", \"coffee\", \"college\", \"company\", \"computer\", \"conversation\", \"cooking\", \"couple\", \"course\", \"cousin\", \"coworker\", \"crush\", \"d\", \"dad\", \"date\", \"daughter\", \"day\", \"deal\", \"dinner\", \"dish\", \"doctor\", \"dog\", \"dollar\", \"door\", \"dream\", \"dress\", \"drink\", \"drive\", \"email\", \"employer\", \"end\", \"episode\", \"evening\", \"event\", \"exam\", \"exercise\", \"eye\", \"face\", \"family\", \"fan\", \"father\", \"feeling\", \"fiance\", \"film\", \"flower\", \"food\", \"friend\", \"fun\", \"function\", \"game\", \"garden\", \"gift\", \"girl\", \"girlfriend\", \"goal\", \"grade\", \"graduate\", \"graduation\", \"grandmother\", \"grandson\", \"ground\", \"group\", \"gym\", \"hand\", \"happiness\", \"head\", \"health\", \"heart\", \"help\", \"hike\", \"hit\", \"holiday\", \"home\", \"hope\", \"hospital\", \"hour\", \"house\", \"hug\", \"husband\", \"ice_cream\", \"interview\", \"issue\", \"item\", \"job\", \"joke\", \"joy\", \"kid\", \"kiss\", \"kitchen\", \"kitten\", \"lap\", \"laugh\", \"law\", \"level\", \"life\", \"lot\", \"love\", \"lunch\", \"mail\", \"manager\", \"marriage\", \"match\", \"meal\", \"meeting\", \"member\", \"memory\", \"mile\", \"mind\", \"mine\", \"minute\", \"mom\", \"moment\", \"money\", \"month\", \"mood\", \"morning\", \"mother\", \"movie\", \"mturk\", \"music\", \"name\", \"nap\", \"need\", \"neighbor\", \"nephew\", \"niece\", \"night\", \"number\", \"occasion\", \"offer\", \"office\", \"opportunity\", \"package\", \"paper\", \"parent\", \"park\", \"part\", \"partner\", \"party\", \"pay\", \"payment\", \"peace\", \"people\", \"person\", \"pet\", \"phone\", \"picture\", \"piece\", \"pizza\", \"place\", \"plan\", \"plant\", \"play\", \"playing\", \"pm\", \"pool\", \"position\", \"pound\", \"practice\", \"price\", \"problem\", \"program\", \"progress\", \"project\", \"promotion\", \"puppy\", \"question\", \"radio\", \"rain\", \"reading\", \"reason\", \"relief\", \"restaurant\", \"result\", \"road\", \"room\", \"run\", \"sale\", \"school\", \"season\", \"see\", \"self\", \"semester\", \"sense\", \"service\", \"shopping\", \"show\", \"sister\", \"situation\", \"sleep\", \"smile\", \"son\", \"song\", \"sport\", \"state\", \"step\", \"store\", \"story\", \"stress\", \"student\", \"stuff\", \"summer\", \"surgery\", \"surprise\", \"table\", \"talk\", \"task\", \"teacher\", \"team\", \"test\", \"text\", \"thing\", \"thought\", \"ticket\", \"time\", \"title\", \"today\", \"toddler\", \"tomorrow\", \"tonight\", \"town\", \"toy\", \"training\", \"treat\", \"trip\", \"turn\", \"tv\", \"use\", \"vacation\", \"video\", \"video_game\", \"visit\", \"walk\", \"watch\", \"water\", \"way\", \"weather\", \"website\", \"wedding\", \"week\", \"weekend\", \"weight\", \"wife\", \"word\", \"work\", \"working\", \"workout\", \"yard\", \"year\", \"yesterday\", \"yoga\"]}, \"R\": 30, \"lambda.step\": 0.01, \"plot.opts\": {\"xlab\": \"PC1\", \"ylab\": \"PC2\"}, \"topic.order\": [9, 5, 2, 8, 1, 10, 4, 3, 7, 6]};\n",
       "\n",
       "function LDAvis_load_lib(url, callback){\n",
       "  var s = document.createElement('script');\n",
       "  s.src = url;\n",
       "  s.async = true;\n",
       "  s.onreadystatechange = s.onload = callback;\n",
       "  s.onerror = function(){console.warn(\"failed to load library \" + url);};\n",
       "  document.getElementsByTagName(\"head\")[0].appendChild(s);\n",
       "}\n",
       "\n",
       "if(typeof(LDAvis) !== \"undefined\"){\n",
       "   // already loaded: just create the visualization\n",
       "   !function(LDAvis){\n",
       "       new LDAvis(\"#\" + \"ldavis_el1210424481635698406560180343\", ldavis_el1210424481635698406560180343_data);\n",
       "   }(LDAvis);\n",
       "}else if(typeof define === \"function\" && define.amd){\n",
       "   // require.js is available: use it to load d3/LDAvis\n",
       "   require.config({paths: {d3: \"https://d3js.org/d3.v5\"}});\n",
       "   require([\"d3\"], function(d3){\n",
       "      window.d3 = d3;\n",
       "      LDAvis_load_lib(\"https://cdn.jsdelivr.net/gh/bmabey/pyLDAvis@3.3.1/pyLDAvis/js/ldavis.v3.0.0.js\", function(){\n",
       "        new LDAvis(\"#\" + \"ldavis_el1210424481635698406560180343\", ldavis_el1210424481635698406560180343_data);\n",
       "      });\n",
       "    });\n",
       "}else{\n",
       "    // require.js not available: dynamically load d3 & LDAvis\n",
       "    LDAvis_load_lib(\"https://d3js.org/d3.v5.js\", function(){\n",
       "         LDAvis_load_lib(\"https://cdn.jsdelivr.net/gh/bmabey/pyLDAvis@3.3.1/pyLDAvis/js/ldavis.v3.0.0.js\", function(){\n",
       "                 new LDAvis(\"#\" + \"ldavis_el1210424481635698406560180343\", ldavis_el1210424481635698406560180343_data);\n",
       "            })\n",
       "         });\n",
       "}\n",
       "</script>"
      ],
      "text/plain": [
       "PreparedData(topic_coordinates=              x         y  topics  cluster       Freq\n",
       "topic                                                \n",
       "8      0.452108 -0.024569       1        1  19.535810\n",
       "4     -0.026654  0.439577       2        1  12.774061\n",
       "1     -0.019678  0.019185       3        1  11.614490\n",
       "7     -0.037181 -0.103932       4        1  10.509684\n",
       "0     -0.045176 -0.104281       5        1   9.938543\n",
       "9     -0.067520 -0.046928       6        1   8.265812\n",
       "3     -0.067577 -0.045597       7        1   7.579520\n",
       "2     -0.057675 -0.044387       8        1   6.880388\n",
       "6     -0.062426 -0.044877       9        1   6.680837\n",
       "5     -0.068222 -0.044193      10        1   6.220854, topic_info=          Term          Freq         Total Category  logprob  loglift\n",
       "44         day  10497.000000  10497.000000  Default  30.0000  30.0000\n",
       "21        work   9336.000000   9336.000000  Default  29.0000  29.0000\n",
       "7       friend   8229.000000   8229.000000  Default  28.0000  28.0000\n",
       "105       time   9501.000000   9501.000000  Default  27.0000  27.0000\n",
       "68       month   4758.000000   4758.000000  Default  26.0000  26.0000\n",
       "...        ...           ...           ...      ...      ...      ...\n",
       "1971  graduate    230.928119    231.820412  Topic10  -4.6340   2.7734\n",
       "1304  tomorrow    226.692078    227.584455  Topic10  -4.6525   2.7733\n",
       "56     holiday    217.310566    218.202876  Topic10  -4.6948   2.7732\n",
       "2536  question    196.490209    197.382562  Topic10  -4.7955   2.7727\n",
       "753   practice    178.914095    179.806478  Topic10  -4.8892   2.7723\n",
       "\n",
       "[330 rows x 6 columns], token_table=      Topic      Freq       Term\n",
       "term                            \n",
       "549       4  0.995093    account\n",
       "950       7  0.996824   activity\n",
       "378       2  0.998935  afternoon\n",
       "262       9  0.997850     amazon\n",
       "766      10  0.997509     amount\n",
       "...     ...       ...        ...\n",
       "517       2  0.997986    workout\n",
       "675       2  0.998142       yard\n",
       "177       5  0.999715       year\n",
       "38        5  0.999869  yesterday\n",
       "95        8  0.994770       yoga\n",
       "\n",
       "[300 rows x 3 columns], R=30, lambda_step=0.01, plot_opts={'xlab': 'PC1', 'ylab': 'PC2'}, topic_order=[9, 5, 2, 8, 1, 10, 4, 3, 7, 6])"
      ]
     },
     "execution_count": 56,
     "metadata": {},
     "output_type": "execute_result"
    }
   ],
   "source": [
    "# Visualize the topics\n",
    "pyLDAvis.enable_notebook()\n",
    "vis = pyLDAvis.gensim_models.prepare(lda_model, corpus, id2word)\n",
    "vis"
   ]
  },
  {
   "cell_type": "code",
   "execution_count": 57,
   "id": "8d2027d6",
   "metadata": {},
   "outputs": [
    {
     "name": "stdout",
     "output_type": "stream",
     "text": [
      "Topic: 0 \n",
      "Words: year|yesterday|morning|home|sister|phone|summer|breakfast|book|father|dollar|ice_cream|picture|garden|niece|cousin|chicken|step|thought|use|toddler|weight|marriage|check|relief|title|radio|childhood|paper|plant\n",
      "Topic: 1 \n",
      "Words: work|friend|dinner|coffee|talk|evening|mail|team|visit|person|tonight|laugh|dish|email|mine|baseball|catch|issue|road|group|joke|treat|award|client|turn|nap|basketball|manager|need|situation\n",
      "Topic: 2 \n",
      "Words: month|child|baby|class|gift|state|bonus|gym|head|song|neighbor|number|boy|joy|birth|function|exercise|business|course|service|toy|yoga|buy|self|employer|fan|pet|payment|peace|training\n",
      "Topic: 3 \n",
      "Words: wife|food|college|smile|student|exam|music|grade|door|meeting|grandmother|water|apartment|word|room|mood|episode|result|mind|kitchen|hug|progress|bike|ball|match|nephew|drive|semester|name|activity\n",
      "Topic: 4 \n",
      "Words: day|son|job|school|mother|video|couple|afternoon|help|interview|face|office|computer|task|bit|problem|rain|date|yard|opportunity|position|dream|puppy|workout|test|bill|pay|law|see|offer\n",
      "Topic: 5 \n",
      "Words: money|house|movie|vacation|call|girl|tv|boss|mturk|part|watch|shopping|plan|conversation|feeling|end|amount|program|chance|story|wedding|teacher|price|lap|chore|graduate|tomorrow|holiday|question|practice\n",
      "Topic: 6 \n",
      "Words: life|girlfriend|thing|brother|cat|trip|pizza|goal|flower|card|care|city|partner|ticket|dress|amazon|band|bag|surgery|stuff|career|crush|kiss|website|eye|grandson|d|kitten|hope|hike\n",
      "Topic: 7 \n",
      "Words: night|hour|week|husband|lot|company|sleep|project|meal|happiness|film|play|package|deal|drink|reason|season|heart|doctor|stress|level|reading|health|pool|text|working|account|pm|hit|sense\n",
      "Topic: 8 \n",
      "Words: time|today|daughter|event|dog|moment|lunch|boyfriend|car|kid|show|people|weekend|bed|walk|sale|store|coworker|park|parent|promotion|hand|weather|item|beach|playing|cooking|bar|piece|pound\n",
      "Topic: 9 \n",
      "Words: family|game|birthday|mom|love|restaurant|place|way|fun|minute|surprise|town|dad|party|member|memory|fiance|run|table|mile|hospital|box|change|church|video_game|graduation|ground|celebrate|occasion|sport\n"
     ]
    },
    {
     "name": "stderr",
     "output_type": "stream",
     "text": [
      "C:\\Users\\Manal\\anaconda3\\lib\\site-packages\\ipykernel\\ipkernel.py:287: DeprecationWarning:\n",
      "\n",
      "`should_run_async` will not call `transform_cell` automatically in the future. Please pass the result to `transformed_cell` argument and any exception that happen during thetransform in `preprocessing_exc_tuple` in IPython 7.17 and above.\n",
      "\n"
     ]
    }
   ],
   "source": [
    "for idx, topic in lda_model.show_topics(formatted=False, num_words= 30):\n",
    "    print('Topic: {} \\nWords: {}'.format(idx, '|'.join([w[0] for w in topic])))"
   ]
  },
  {
   "cell_type": "code",
   "execution_count": 58,
   "id": "e35ad468",
   "metadata": {},
   "outputs": [
    {
     "name": "stderr",
     "output_type": "stream",
     "text": [
      "C:\\Users\\Manal\\anaconda3\\lib\\site-packages\\ipykernel\\ipkernel.py:287: DeprecationWarning:\n",
      "\n",
      "`should_run_async` will not call `transform_cell` automatically in the future. Please pass the result to `transformed_cell` argument and any exception that happen during thetransform in `preprocessing_exc_tuple` in IPython 7.17 and above.\n",
      "\n"
     ]
    }
   ],
   "source": [
    "pic = np.array(Image.open(requests.get('http://clipart-library.com/images/rijrpLo8T.jpg',stream=True).raw))\n",
    "wordcloud = WordCloud(width = 800, height = 800,background_color ='white')"
   ]
  },
  {
   "cell_type": "code",
   "execution_count": 59,
   "id": "31c2aaa1",
   "metadata": {},
   "outputs": [
    {
     "name": "stderr",
     "output_type": "stream",
     "text": [
      "C:\\Users\\Manal\\anaconda3\\lib\\site-packages\\ipykernel\\ipkernel.py:287: DeprecationWarning:\n",
      "\n",
      "`should_run_async` will not call `transform_cell` automatically in the future. Please pass the result to `transformed_cell` argument and any exception that happen during thetransform in `preprocessing_exc_tuple` in IPython 7.17 and above.\n",
      "\n"
     ]
    },
    {
     "name": "stdout",
     "output_type": "stream",
     "text": [
      "Topic 0:\n"
     ]
    },
    {
     "data": {
      "image/png": "[encoded data removed]",
      "text/plain": [
       "<Figure size 432x288 with 1 Axes>"
      ]
     },
     "metadata": {
      "needs_background": "light"
     },
     "output_type": "display_data"
    }
   ],
   "source": [
    "print('Topic 0:')\n",
    "plt.figure() \n",
    "plt.imshow(WordCloud(width = 400, height = 400, \n",
    "                background_color ='white', \n",
    "                stopwords = stopwords, mask = pic, \n",
    "                min_font_size = 10).fit_words(dict(lda_model.show_topic(0, 10))))\n",
    "\n",
    "plt.axis(\"off\")\n",
    "plt.show()"
   ]
  },
  {
   "cell_type": "code",
   "execution_count": 60,
   "id": "acef9a23",
   "metadata": {},
   "outputs": [
    {
     "name": "stderr",
     "output_type": "stream",
     "text": [
      "C:\\Users\\Manal\\anaconda3\\lib\\site-packages\\ipykernel\\ipkernel.py:287: DeprecationWarning:\n",
      "\n",
      "`should_run_async` will not call `transform_cell` automatically in the future. Please pass the result to `transformed_cell` argument and any exception that happen during thetransform in `preprocessing_exc_tuple` in IPython 7.17 and above.\n",
      "\n"
     ]
    },
    {
     "name": "stdout",
     "output_type": "stream",
     "text": [
      "Topic 1:\n"
     ]
    },
    {
     "data": {
      "image/png": "[encoded data removed]",
      "text/plain": [
       "<Figure size 432x288 with 1 Axes>"
      ]
     },
     "metadata": {
      "needs_background": "light"
     },
     "output_type": "display_data"
    }
   ],
   "source": [
    "print('Topic 1:')\n",
    "plt.figure() \n",
    "plt.imshow(WordCloud(width = 400, height = 400, \n",
    "                background_color ='white', \n",
    "                stopwords = stopwords, mask = pic, \n",
    "                min_font_size = 10).fit_words(dict(lda_model.show_topic(1, 10))))\n",
    "\n",
    "plt.axis(\"off\")\n",
    "plt.show()"
   ]
  },
  {
   "cell_type": "code",
   "execution_count": 61,
   "id": "3c2fc59f",
   "metadata": {},
   "outputs": [
    {
     "name": "stderr",
     "output_type": "stream",
     "text": [
      "C:\\Users\\Manal\\anaconda3\\lib\\site-packages\\ipykernel\\ipkernel.py:287: DeprecationWarning:\n",
      "\n",
      "`should_run_async` will not call `transform_cell` automatically in the future. Please pass the result to `transformed_cell` argument and any exception that happen during thetransform in `preprocessing_exc_tuple` in IPython 7.17 and above.\n",
      "\n"
     ]
    },
    {
     "name": "stdout",
     "output_type": "stream",
     "text": [
      "Topic 2:\n"
     ]
    },
    {
     "data": {
      "image/png": "[encoded data removed]",
      "text/plain": [
       "<Figure size 432x288 with 1 Axes>"
      ]
     },
     "metadata": {
      "needs_background": "light"
     },
     "output_type": "display_data"
    }
   ],
   "source": [
    "print('Topic 2:')\n",
    "plt.figure() \n",
    "plt.imshow(WordCloud(width = 400, height = 400, \n",
    "                background_color ='white', \n",
    "                stopwords = stopwords, mask = pic, \n",
    "                min_font_size = 10).fit_words(dict(lda_model.show_topic(2, 10))))\n",
    "\n",
    "plt.axis(\"off\")\n",
    "plt.show()"
   ]
  },
  {
   "cell_type": "code",
   "execution_count": 62,
   "id": "16b00000",
   "metadata": {},
   "outputs": [
    {
     "name": "stderr",
     "output_type": "stream",
     "text": [
      "C:\\Users\\Manal\\anaconda3\\lib\\site-packages\\ipykernel\\ipkernel.py:287: DeprecationWarning:\n",
      "\n",
      "`should_run_async` will not call `transform_cell` automatically in the future. Please pass the result to `transformed_cell` argument and any exception that happen during thetransform in `preprocessing_exc_tuple` in IPython 7.17 and above.\n",
      "\n"
     ]
    },
    {
     "name": "stdout",
     "output_type": "stream",
     "text": [
      "Topic 3:\n"
     ]
    },
    {
     "data": {
      "image/png": "[encoded data removed]",
      "text/plain": [
       "<Figure size 432x288 with 1 Axes>"
      ]
     },
     "metadata": {
      "needs_background": "light"
     },
     "output_type": "display_data"
    }
   ],
   "source": [
    "print('Topic 3:')\n",
    "plt.figure() \n",
    "plt.imshow(WordCloud(width = 400, height = 400, \n",
    "                background_color ='white', \n",
    "                stopwords = stopwords, mask = pic, \n",
    "                min_font_size = 10).fit_words(dict(lda_model.show_topic(3, 10))))\n",
    "\n",
    "plt.axis(\"off\")\n",
    "plt.show()"
   ]
  },
  {
   "cell_type": "code",
   "execution_count": 63,
   "id": "9ca05494",
   "metadata": {},
   "outputs": [
    {
     "name": "stderr",
     "output_type": "stream",
     "text": [
      "C:\\Users\\Manal\\anaconda3\\lib\\site-packages\\ipykernel\\ipkernel.py:287: DeprecationWarning:\n",
      "\n",
      "`should_run_async` will not call `transform_cell` automatically in the future. Please pass the result to `transformed_cell` argument and any exception that happen during thetransform in `preprocessing_exc_tuple` in IPython 7.17 and above.\n",
      "\n"
     ]
    },
    {
     "name": "stdout",
     "output_type": "stream",
     "text": [
      "Topic 4:\n"
     ]
    },
    {
     "data": {
      "image/png": "[encoded data removed]",
      "text/plain": [
       "<Figure size 432x288 with 1 Axes>"
      ]
     },
     "metadata": {
      "needs_background": "light"
     },
     "output_type": "display_data"
    }
   ],
   "source": [
    "print('Topic 4:')\n",
    "plt.figure() \n",
    "plt.imshow(WordCloud(width = 400, height = 400, \n",
    "                background_color ='white', \n",
    "                stopwords = stopwords, mask = pic, \n",
    "                min_font_size = 10).fit_words(dict(lda_model.show_topic(4, 10))))\n",
    "\n",
    "plt.axis(\"off\")\n",
    "plt.show()"
   ]
  },
  {
   "cell_type": "code",
   "execution_count": 64,
   "id": "3d212293",
   "metadata": {},
   "outputs": [
    {
     "name": "stderr",
     "output_type": "stream",
     "text": [
      "C:\\Users\\Manal\\anaconda3\\lib\\site-packages\\ipykernel\\ipkernel.py:287: DeprecationWarning:\n",
      "\n",
      "`should_run_async` will not call `transform_cell` automatically in the future. Please pass the result to `transformed_cell` argument and any exception that happen during thetransform in `preprocessing_exc_tuple` in IPython 7.17 and above.\n",
      "\n"
     ]
    },
    {
     "name": "stdout",
     "output_type": "stream",
     "text": [
      "Topic 5:\n"
     ]
    },
    {
     "data": {
      "image/png": "[encoded data removed]",
      "text/plain": [
       "<Figure size 432x288 with 1 Axes>"
      ]
     },
     "metadata": {
      "needs_background": "light"
     },
     "output_type": "display_data"
    }
   ],
   "source": [
    "print('Topic 5:')\n",
    "plt.figure() \n",
    "plt.imshow(WordCloud(width = 400, height = 400, \n",
    "                background_color ='white', \n",
    "                stopwords = stopwords, mask = pic, \n",
    "                min_font_size = 10).fit_words(dict(lda_model.show_topic(5, 10))))\n",
    "\n",
    "plt.axis(\"off\")\n",
    "plt.show()"
   ]
  },
  {
   "cell_type": "code",
   "execution_count": 65,
   "id": "7621269c",
   "metadata": {},
   "outputs": [
    {
     "name": "stderr",
     "output_type": "stream",
     "text": [
      "C:\\Users\\Manal\\anaconda3\\lib\\site-packages\\ipykernel\\ipkernel.py:287: DeprecationWarning:\n",
      "\n",
      "`should_run_async` will not call `transform_cell` automatically in the future. Please pass the result to `transformed_cell` argument and any exception that happen during thetransform in `preprocessing_exc_tuple` in IPython 7.17 and above.\n",
      "\n"
     ]
    },
    {
     "name": "stdout",
     "output_type": "stream",
     "text": [
      "Topic 6:\n"
     ]
    },
    {
     "data": {
      "image/png": "[encoded data removed]",
      "text/plain": [
       "<Figure size 432x288 with 1 Axes>"
      ]
     },
     "metadata": {
      "needs_background": "light"
     },
     "output_type": "display_data"
    }
   ],
   "source": [
    "print('Topic 6:')\n",
    "plt.figure() \n",
    "plt.imshow(WordCloud(width = 400, height = 400, \n",
    "                background_color ='white', \n",
    "                stopwords = stopwords, mask = pic, \n",
    "                min_font_size = 10).fit_words(dict(lda_model.show_topic(6, 10))))\n",
    "\n",
    "plt.axis(\"off\")\n",
    "plt.show()"
   ]
  },
  {
   "cell_type": "code",
   "execution_count": 66,
   "id": "e088ed14",
   "metadata": {},
   "outputs": [
    {
     "name": "stderr",
     "output_type": "stream",
     "text": [
      "C:\\Users\\Manal\\anaconda3\\lib\\site-packages\\ipykernel\\ipkernel.py:287: DeprecationWarning:\n",
      "\n",
      "`should_run_async` will not call `transform_cell` automatically in the future. Please pass the result to `transformed_cell` argument and any exception that happen during thetransform in `preprocessing_exc_tuple` in IPython 7.17 and above.\n",
      "\n"
     ]
    },
    {
     "name": "stdout",
     "output_type": "stream",
     "text": [
      "Topic 7:\n"
     ]
    },
    {
     "data": {
      "image/png": "[encoded data removed]",
      "text/plain": [
       "<Figure size 432x288 with 1 Axes>"
      ]
     },
     "metadata": {
      "needs_background": "light"
     },
     "output_type": "display_data"
    }
   ],
   "source": [
    "print('Topic 7:')\n",
    "plt.figure() \n",
    "plt.imshow(WordCloud(width = 400, height = 400, \n",
    "                background_color ='white', \n",
    "                stopwords = stopwords, mask = pic, \n",
    "                min_font_size = 10).fit_words(dict(lda_model.show_topic(7, 10))))\n",
    "\n",
    "plt.axis(\"off\")\n",
    "plt.show()"
   ]
  },
  {
   "cell_type": "code",
   "execution_count": 67,
   "id": "cb677dde",
   "metadata": {},
   "outputs": [
    {
     "name": "stderr",
     "output_type": "stream",
     "text": [
      "C:\\Users\\Manal\\anaconda3\\lib\\site-packages\\ipykernel\\ipkernel.py:287: DeprecationWarning:\n",
      "\n",
      "`should_run_async` will not call `transform_cell` automatically in the future. Please pass the result to `transformed_cell` argument and any exception that happen during thetransform in `preprocessing_exc_tuple` in IPython 7.17 and above.\n",
      "\n"
     ]
    },
    {
     "name": "stdout",
     "output_type": "stream",
     "text": [
      "Topic 8:\n"
     ]
    },
    {
     "data": {
      "image/png": "[encoded data removed]",
      "text/plain": [
       "<Figure size 432x288 with 1 Axes>"
      ]
     },
     "metadata": {
      "needs_background": "light"
     },
     "output_type": "display_data"
    }
   ],
   "source": [
    "print('Topic 8:')\n",
    "plt.figure() \n",
    "plt.imshow(WordCloud(width = 400, height = 400, \n",
    "                background_color ='white', \n",
    "                stopwords = stopwords, mask = pic, \n",
    "                min_font_size = 10).fit_words(dict(lda_model.show_topic(8, 10))))\n",
    "\n",
    "plt.axis(\"off\")\n",
    "plt.show()"
   ]
  },
  {
   "cell_type": "code",
   "execution_count": 68,
   "id": "92fa4758",
   "metadata": {},
   "outputs": [
    {
     "name": "stderr",
     "output_type": "stream",
     "text": [
      "C:\\Users\\Manal\\anaconda3\\lib\\site-packages\\ipykernel\\ipkernel.py:287: DeprecationWarning:\n",
      "\n",
      "`should_run_async` will not call `transform_cell` automatically in the future. Please pass the result to `transformed_cell` argument and any exception that happen during thetransform in `preprocessing_exc_tuple` in IPython 7.17 and above.\n",
      "\n"
     ]
    },
    {
     "name": "stdout",
     "output_type": "stream",
     "text": [
      "Topic 9:\n"
     ]
    },
    {
     "data": {
      "image/png": "[encoded data removed]",
      "text/plain": [
       "<Figure size 432x288 with 1 Axes>"
      ]
     },
     "metadata": {
      "needs_background": "light"
     },
     "output_type": "display_data"
    }
   ],
   "source": [
    "print('Topic 9:')\n",
    "plt.figure() \n",
    "plt.imshow(WordCloud(width = 400, height = 400, \n",
    "                background_color ='white', \n",
    "                stopwords = stopwords, mask = pic, \n",
    "                min_font_size = 10).fit_words(dict(lda_model.show_topic(9, 10))))\n",
    "\n",
    "plt.axis(\"off\")\n",
    "plt.show()"
   ]
  },
  {
   "cell_type": "code",
   "execution_count": 69,
   "id": "6d627892",
   "metadata": {},
   "outputs": [
    {
     "name": "stdout",
     "output_type": "stream",
     "text": [
      "Topic: 0 \n",
      "Words: 0.125*\"year\" + 0.124*\"yesterday\" + 0.103*\"morning\" + 0.097*\"home\" + 0.034*\"sister\" + 0.034*\"phone\" + 0.025*\"summer\" + 0.021*\"breakfast\" + 0.020*\"book\" + 0.015*\"father\"\n",
      "\n",
      "\n",
      "Topic: 1 \n",
      "Words: 0.210*\"work\" + 0.185*\"friend\" + 0.099*\"dinner\" + 0.024*\"coffee\" + 0.021*\"talk\" + 0.020*\"evening\" + 0.018*\"mail\" + 0.016*\"team\" + 0.016*\"visit\" + 0.013*\"person\"\n",
      "\n",
      "\n",
      "Topic: 2 \n",
      "Words: 0.181*\"month\" + 0.057*\"child\" + 0.052*\"baby\" + 0.038*\"class\" + 0.036*\"gift\" + 0.024*\"state\" + 0.022*\"bonus\" + 0.021*\"gym\" + 0.021*\"head\" + 0.020*\"song\"\n",
      "\n",
      "\n",
      "Topic: 3 \n",
      "Words: 0.100*\"wife\" + 0.055*\"food\" + 0.033*\"college\" + 0.025*\"smile\" + 0.023*\"student\" + 0.023*\"exam\" + 0.022*\"music\" + 0.020*\"grade\" + 0.017*\"door\" + 0.017*\"meeting\"\n",
      "\n",
      "\n",
      "Topic: 4 \n",
      "Words: 0.215*\"day\" + 0.098*\"son\" + 0.075*\"job\" + 0.065*\"school\" + 0.036*\"mother\" + 0.029*\"video\" + 0.018*\"couple\" + 0.017*\"afternoon\" + 0.016*\"help\" + 0.014*\"interview\"\n",
      "\n",
      "\n",
      "Topic: 5 \n",
      "Words: 0.075*\"money\" + 0.057*\"house\" + 0.053*\"movie\" + 0.051*\"vacation\" + 0.043*\"call\" + 0.041*\"girl\" + 0.037*\"tv\" + 0.034*\"boss\" + 0.029*\"mturk\" + 0.027*\"part\"\n",
      "\n",
      "\n",
      "Topic: 6 \n",
      "Words: 0.091*\"life\" + 0.082*\"girlfriend\" + 0.082*\"thing\" + 0.061*\"brother\" + 0.048*\"cat\" + 0.045*\"trip\" + 0.038*\"pizza\" + 0.033*\"goal\" + 0.025*\"flower\" + 0.022*\"card\"\n",
      "\n",
      "\n",
      "Topic: 7 \n",
      "Words: 0.116*\"night\" + 0.099*\"hour\" + 0.091*\"week\" + 0.087*\"husband\" + 0.052*\"lot\" + 0.025*\"company\" + 0.025*\"sleep\" + 0.024*\"project\" + 0.021*\"meal\" + 0.019*\"happiness\"\n",
      "\n",
      "\n",
      "Topic: 8 \n",
      "Words: 0.127*\"time\" + 0.078*\"today\" + 0.056*\"daughter\" + 0.048*\"event\" + 0.044*\"dog\" + 0.035*\"moment\" + 0.030*\"lunch\" + 0.028*\"boyfriend\" + 0.025*\"car\" + 0.019*\"kid\"\n",
      "\n",
      "\n",
      "Topic: 9 \n",
      "Words: 0.126*\"family\" + 0.110*\"game\" + 0.058*\"birthday\" + 0.050*\"mom\" + 0.041*\"love\" + 0.040*\"restaurant\" + 0.038*\"place\" + 0.032*\"way\" + 0.031*\"fun\" + 0.031*\"minute\"\n",
      "\n",
      "\n"
     ]
    },
    {
     "name": "stderr",
     "output_type": "stream",
     "text": [
      "C:\\Users\\Manal\\anaconda3\\lib\\site-packages\\ipykernel\\ipkernel.py:287: DeprecationWarning:\n",
      "\n",
      "`should_run_async` will not call `transform_cell` automatically in the future. Please pass the result to `transformed_cell` argument and any exception that happen during thetransform in `preprocessing_exc_tuple` in IPython 7.17 and above.\n",
      "\n"
     ]
    }
   ],
   "source": [
    "for idx, topic in lda_model.print_topics(-1):\n",
    "    print(\"Topic: {} \\nWords: {}\".format(idx, topic ))\n",
    "    print(\"\\n\")"
   ]
  },
  {
   "cell_type": "markdown",
   "id": "3abe338a",
   "metadata": {},
   "source": [
    "## Compute Cosine Similarity"
   ]
  },
  {
   "cell_type": "code",
   "execution_count": 70,
   "id": "64e25ec6",
   "metadata": {},
   "outputs": [
    {
     "name": "stderr",
     "output_type": "stream",
     "text": [
      "C:\\Users\\Manal\\anaconda3\\lib\\site-packages\\ipykernel\\ipkernel.py:287: DeprecationWarning:\n",
      "\n",
      "`should_run_async` will not call `transform_cell` automatically in the future. Please pass the result to `transformed_cell` argument and any exception that happen during thetransform in `preprocessing_exc_tuple` in IPython 7.17 and above.\n",
      "\n"
     ]
    }
   ],
   "source": [
    "#vectorizer = TfidfVectorizer()\n",
    "#data_vectorized = vectorizer.fit_transform(data_lemmatized)"
   ]
  },
  {
   "cell_type": "code",
   "execution_count": 71,
   "id": "a2e7e50a",
   "metadata": {},
   "outputs": [
    {
     "name": "stderr",
     "output_type": "stream",
     "text": [
      "C:\\Users\\Manal\\anaconda3\\lib\\site-packages\\ipykernel\\ipkernel.py:287: DeprecationWarning:\n",
      "\n",
      "`should_run_async` will not call `transform_cell` automatically in the future. Please pass the result to `transformed_cell` argument and any exception that happen during thetransform in `preprocessing_exc_tuple` in IPython 7.17 and above.\n",
      "\n"
     ]
    }
   ],
   "source": [
    "#doc_term_matrix = data_vectorized.todense()\n",
    "#df = pd.DataFrame(doc_term_matrix,columns=vectorizer.get_feature_names())\n",
    "#df.sample(10)"
   ]
  },
  {
   "cell_type": "code",
   "execution_count": 72,
   "id": "a1c63472",
   "metadata": {},
   "outputs": [
    {
     "name": "stderr",
     "output_type": "stream",
     "text": [
      "C:\\Users\\Manal\\anaconda3\\lib\\site-packages\\ipykernel\\ipkernel.py:287: DeprecationWarning:\n",
      "\n",
      "`should_run_async` will not call `transform_cell` automatically in the future. Please pass the result to `transformed_cell` argument and any exception that happen during thetransform in `preprocessing_exc_tuple` in IPython 7.17 and above.\n",
      "\n"
     ]
    }
   ],
   "source": [
    "def compute_coherence_values(dictionary, corpus, texts, limit, start=2, step=3):\n",
    "    \n",
    "    coherence_values = []\n",
    "    model_list = []\n",
    "    for num_topics in range(start, limit, step):\n",
    "        model = gensim.models.ldamodel.LdaModel(corpus=corpus, num_topics=num_topics, id2word=dictionary)\n",
    "        model_list.append(model)\n",
    "        coherencemodel = CoherenceModel(model=model, texts=texts, dictionary=dictionary, coherence='c_v')\n",
    "        coherence_values.append(coherencemodel.get_coherence())\n",
    "\n",
    "    return model_list, coherence_values"
   ]
  },
  {
   "cell_type": "code",
   "execution_count": 73,
   "id": "f4515147",
   "metadata": {},
   "outputs": [
    {
     "name": "stderr",
     "output_type": "stream",
     "text": [
      "C:\\Users\\Manal\\anaconda3\\lib\\site-packages\\ipykernel\\ipkernel.py:287: DeprecationWarning:\n",
      "\n",
      "`should_run_async` will not call `transform_cell` automatically in the future. Please pass the result to `transformed_cell` argument and any exception that happen during thetransform in `preprocessing_exc_tuple` in IPython 7.17 and above.\n",
      "\n"
     ]
    }
   ],
   "source": [
    "model_list, coherence_values = compute_coherence_values(dictionary=id2word, corpus=corpus, texts=data_lemmatized, start=2, limit=40, step=6)"
   ]
  },
  {
   "cell_type": "code",
   "execution_count": 74,
   "id": "72c9359c",
   "metadata": {},
   "outputs": [
    {
     "name": "stderr",
     "output_type": "stream",
     "text": [
      "C:\\Users\\Manal\\anaconda3\\lib\\site-packages\\ipykernel\\ipkernel.py:287: DeprecationWarning:\n",
      "\n",
      "`should_run_async` will not call `transform_cell` automatically in the future. Please pass the result to `transformed_cell` argument and any exception that happen during thetransform in `preprocessing_exc_tuple` in IPython 7.17 and above.\n",
      "\n"
     ]
    },
    {
     "data": {
      "image/png": "[encoded data removed]",
      "text/plain": [
       "<Figure size 432x288 with 1 Axes>"
      ]
     },
     "metadata": {
      "needs_background": "light"
     },
     "output_type": "display_data"
    }
   ],
   "source": [
    "# ploting the graph  for coherenc values\n",
    "limit=40; start=2; step=6;\n",
    "x = range(start, limit, step)\n",
    "plt.plot(x, coherence_values)\n",
    "plt.xlabel(\"Num Topics\")\n",
    "plt.ylabel(\"Coherence score\")\n",
    "plt.legend((\"coherence_values\"), loc='best')\n",
    "plt.show()"
   ]
  },
  {
   "cell_type": "code",
   "execution_count": 75,
   "id": "dc8db43f",
   "metadata": {},
   "outputs": [
    {
     "name": "stdout",
     "output_type": "stream",
     "text": [
      "Num Topics = 2  has Coherence Value of 0.1887\n",
      "Num Topics = 8  has Coherence Value of 0.3065\n",
      "Num Topics = 14  has Coherence Value of 0.3226\n",
      "Num Topics = 20  has Coherence Value of 0.3935\n",
      "Num Topics = 26  has Coherence Value of 0.4026\n",
      "Num Topics = 32  has Coherence Value of 0.4488\n",
      "Num Topics = 38  has Coherence Value of 0.479\n"
     ]
    },
    {
     "name": "stderr",
     "output_type": "stream",
     "text": [
      "C:\\Users\\Manal\\anaconda3\\lib\\site-packages\\ipykernel\\ipkernel.py:287: DeprecationWarning:\n",
      "\n",
      "`should_run_async` will not call `transform_cell` automatically in the future. Please pass the result to `transformed_cell` argument and any exception that happen during thetransform in `preprocessing_exc_tuple` in IPython 7.17 and above.\n",
      "\n"
     ]
    }
   ],
   "source": [
    "for m, cv in zip(x, coherence_values):\n",
    "    print(\"Num Topics =\", m, \" has Coherence Value of\", round(cv, 4))"
   ]
  },
  {
   "cell_type": "code",
   "execution_count": null,
   "id": "120c36e5",
   "metadata": {},
   "outputs": [],
   "source": []
  }
 ],
 "metadata": {
  "kernelspec": {
   "display_name": "Python 3",
   "language": "python",
   "name": "python3"
  },
  "language_info": {
   "codemirror_mode": {
    "name": "ipython",
    "version": 3
   },
   "file_extension": ".py",
   "mimetype": "text/x-python",
   "name": "python",
   "nbconvert_exporter": "python",
   "pygments_lexer": "ipython3",
   "version": "3.8.8"
  }
 },
 "nbformat": 4,
 "nbformat_minor": 5
}
