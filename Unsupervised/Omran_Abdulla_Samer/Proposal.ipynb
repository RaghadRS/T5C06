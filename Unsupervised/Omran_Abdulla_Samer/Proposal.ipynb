{
 "cells": [
  {
   "cell_type": "markdown",
   "id": "3d975377",
   "metadata": {},
   "source": [
    "# Natural Language Processing"
   ]
  },
  {
   "cell_type": "markdown",
   "id": "dd5e5c64",
   "metadata": {},
   "source": [
    "### Project Description"
   ]
  },
  {
   "cell_type": "markdown",
   "id": "e2d72a88",
   "metadata": {},
   "source": [
    "Our goal for this project ( Natural Languauge processing) is to predict whether the tweet is a disaster tweet or not."
   ]
  },
  {
   "cell_type": "markdown",
   "id": "7d5768e2",
   "metadata": {},
   "source": [
    "### Data Description"
   ]
  },
  {
   "cell_type": "markdown",
   "id": "47e71bfc",
   "metadata": {},
   "source": [
    "The data is obtained from Kaggle with around 8000 data points.\n",
    "\n",
    "###### Modeling\n",
    "\n",
    "We will use random forest calssifier to predict whether a tweet is a disaster tweet or not.\n"
   ]
  },
  {
   "cell_type": "markdown",
   "id": "87edfd57",
   "metadata": {},
   "source": [
    "### Tools"
   ]
  },
  {
   "cell_type": "markdown",
   "id": "19ab0381",
   "metadata": {},
   "source": [
    "The tools used in this projet are:\n",
    "\n",
    "-   Numpy, Pandas and Regular Expression for data cleaning and manipulation.\n",
    "-   Seaborn for plotting.\n",
    "-   NLTK for Natural Language Processing ( Stop words, Vectorization, Lemmatization etc...)\n",
    "-   Scikit-learn for modeling."
   ]
  },
  {
   "cell_type": "markdown",
   "id": "9873d1e9",
   "metadata": {},
   "source": [
    "### Minimum Viable Product (MVP)"
   ]
  },
  {
   "cell_type": "markdown",
   "id": "e97aefd5",
   "metadata": {},
   "source": [
    "The MVPl of this project is to predict whether the tweet is a disaster tweet or not. To start exploring this goal, we used Random forest classifier.\n",
    "\n",
    "The result suggests the model is better at predicting (not disaster) tweets since we have about 60/40 proportion in the data."
   ]
  }
 ],
 "metadata": {
  "kernelspec": {
   "display_name": "Python 3",
   "language": "python",
   "name": "python3"
  },
  "language_info": {
   "codemirror_mode": {
    "name": "ipython",
    "version": 3
   },
   "file_extension": ".py",
   "mimetype": "text/x-python",
   "name": "python",
   "nbconvert_exporter": "python",
   "pygments_lexer": "ipython3",
   "version": "3.8.8"
  }
 },
 "nbformat": 4,
 "nbformat_minor": 5
}
